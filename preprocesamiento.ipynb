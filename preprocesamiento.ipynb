{
  "nbformat": 4,
  "nbformat_minor": 0,
  "metadata": {
    "kernelspec": {
      "display_name": "Python 3",
      "language": "python",
      "name": "python3"
    },
    "language_info": {
      "codemirror_mode": {
        "name": "ipython",
        "version": 3
      },
      "file_extension": ".py",
      "mimetype": "text/x-python",
      "name": "python",
      "nbconvert_exporter": "python",
      "pygments_lexer": "ipython3",
      "version": "3.7.7"
    },
    "colab": {
      "name": "tp2.ipynb",
      "provenance": [],
      "collapsed_sections": []
    }
  },
  "cells": [
    {
      "cell_type": "code",
      "metadata": {
        "id": "aLAZqIbUYaYn",
        "colab_type": "code",
        "colab": {}
      },
      "source": [
        "import pandas as pd\n",
        "import numpy as np\n",
        "import seaborn as sns\n",
        "import matplotlib.pyplot as plt\n",
        "%matplotlib inline\n",
        "from wordcloud import WordCloud\n",
        "import re\n",
        "from sklearn.neighbors import KNeighborsClassifier\n",
        "from sklearn.metrics import mean_squared_error\n",
        "\n",
        "from sklearn.feature_extraction.text import CountVectorizer\n",
        "from sklearn.metrics.pairwise import euclidean_distances\n",
        "\n",
        "import xgboost as xgb\n",
        "from sklearn.ensemble import RandomForestRegressor\n",
        "from sklearn.metrics import mean_squared_error\n",
        "import pandas as pd\n",
        "import numpy as np\n",
        "%matplotlib inline\n",
        "import matplotlib.pyplot as plt\n",
        "from sklearn import tree\n",
        "#from catboost import CatBoostRegressor\n",
        "#!pip install catboost"
      ],
      "execution_count": 8,
      "outputs": []
    },
    {
      "cell_type": "code",
      "metadata": {
        "id": "13ibuJ53YaY0",
        "colab_type": "code",
        "colab": {}
      },
      "source": [
        "#ESTO NO LO EJECUTEN SI UTILIZAN UNA VERSION DE PC , YO LO HAGO PARA PODER USAR EL TRAIN DE MI DRIVE,Y USAR EL GITHUB ONLINE\n",
        "# Import PyDrive and associated libraries.\n",
        "# This only needs to be done once per notebook.\n",
        "from pydrive.auth import GoogleAuth\n",
        "from pydrive.drive import GoogleDrive\n",
        "from google.colab import auth\n",
        "from oauth2client.client import GoogleCredentials\n",
        "\n",
        "# Authenticate and create the PyDrive client.\n",
        "# This only needs to be done once per notebook.\n",
        "auth.authenticate_user()\n",
        "gauth = GoogleAuth()\n",
        "gauth.credentials = GoogleCredentials.get_application_default()\n",
        "drive = GoogleDrive(gauth)\n",
        "\n",
        "\n"
      ],
      "execution_count": 9,
      "outputs": []
    },
    {
      "cell_type": "code",
      "metadata": {
        "id": "P1ioYJugVeHG",
        "colab_type": "code",
        "colab": {}
      },
      "source": [
        "# Download a file based on its file ID.\n",
        "#\n",
        "# A file ID looks like: laggVyWshwcyP6kEI-y_W3P8D26sz\n",
        "file_id = '1PFclWqu_bzIwLYdV12S3d8pS5XenxPeG'\n",
        "downloaded = drive.CreateFile({'id': file_id})\n",
        "downloaded.GetContentFile('train.csv')"
      ],
      "execution_count": 10,
      "outputs": []
    },
    {
      "cell_type": "code",
      "metadata": {
        "id": "trXuVVLIjT9u",
        "colab_type": "code",
        "colab": {}
      },
      "source": [
        "# Download a file based on its file ID.\n",
        "#\n",
        "# A file ID looks like: laggVyWshwcyP6kEI-y_W3P8D26sz\n",
        "test_id = '1uPd0roB5CyXnjXHm3R_0QqKcoaCZyrpX'\n",
        "downloaded = drive.CreateFile({'id': test_id})\n",
        "downloaded.GetContentFile('test.csv')"
      ],
      "execution_count": 11,
      "outputs": []
    },
    {
      "cell_type": "code",
      "metadata": {
        "id": "8TC0vM8rYaZA",
        "colab_type": "code",
        "colab": {}
      },
      "source": [
        "data = pd.read_csv('train.csv')\n",
        "test= pd.read_csv('test.csv')\n",
        "data2=pd.read_csv('train.csv')"
      ],
      "execution_count": 12,
      "outputs": []
    },
    {
      "cell_type": "code",
      "metadata": {
        "id": "xvvaIE8bUDu0",
        "colab_type": "code",
        "colab": {}
      },
      "source": [
        "\n",
        "# Download a file based on its file ID.\n",
        "#\n",
        "# A file ID looks like: laggVyWshwcyP6kEI-y_W3P8D26sz\n",
        "test_id = '18Ab39T1hPgTBv58oXdVk0NfBE36Fp21D'\n",
        "downloaded = drive.CreateFile({'id': test_id})\n",
        "downloaded.GetContentFile('test_3.csv')"
      ],
      "execution_count": 6,
      "outputs": []
    },
    {
      "cell_type": "code",
      "metadata": {
        "id": "j2zMehyiKq5c",
        "colab_type": "code",
        "colab": {}
      },
      "source": [
        "#esta linea se cambia para cuando formamos el test, sino lo comentamos para\n",
        "#que forme el train\n",
        "#data=test"
      ],
      "execution_count": 7,
      "outputs": []
    },
    {
      "cell_type": "markdown",
      "metadata": {
        "id": "6R4kV8nzZAWl",
        "colab_type": "text"
      },
      "source": [
        "# funciones a usar"
      ]
    },
    {
      "cell_type": "code",
      "metadata": {
        "id": "LsXg6gIOZV52",
        "colab_type": "code",
        "colab": {}
      },
      "source": [
        "#unificamos locationes"
      ],
      "execution_count": null,
      "outputs": []
    },
    {
      "cell_type": "code",
      "metadata": {
        "id": "B33Eofo-almy",
        "colab_type": "code",
        "colab": {}
      },
      "source": [
        "#hallamos paises and ciudades en los tweet\n",
        "def find_location(tweet):\n",
        "    \n",
        "    for location in locations_list:\n",
        "        if str(location) in tweet:\n",
        "            return str(location)\n",
        "    return 'not_location'"
      ],
      "execution_count": null,
      "outputs": []
    },
    {
      "cell_type": "code",
      "metadata": {
        "id": "AZW-RJDd1KTo",
        "colab_type": "code",
        "colab": {
          "base_uri": "https://localhost:8080/",
          "height": 121
        },
        "outputId": "f7320542-94ae-41e4-db58-d9b32f6331c1"
      },
      "source": [
        "import nltk\n",
        "nltk.download('stopwords') \n",
        "nltk.download('punkt')\n",
        "nltk.download('wordnet')\n",
        "from nltk.tokenize import word_tokenize\n",
        "from nltk.corpus import stopwords\n",
        "from nltk.stem.wordnet import WordNetLemmatizer\n",
        "\n",
        "  #FUNCIONES UTILES\n",
        "\n",
        "def only_letters(tweet):\n",
        "      tweet = re.sub(r'http\\S*', '', tweet)\n",
        "      tweet = re.sub(r'[^a-z\\s]', '', tweet)\n",
        "      return tweet\n",
        "\n",
        "stop_words=set(stopwords.words(\"english\"))\n",
        "\n",
        "def filter_stopwords(tokenized_text):\n",
        "      filtered_words=[]\n",
        "      for w in tokenized_text:\n",
        "          if w not in stop_words:\n",
        "              filtered_words.append(w)\n",
        "      return filtered_words\n",
        "\n",
        "lemmatizer = WordNetLemmatizer()\n",
        "\n",
        "def lemmatize_tweet(tweet):\n",
        "      lemmatized_words = []\n",
        "      for word in tweet:\n",
        "          lemmatized_words.append(lemmatizer.lemmatize(word))\n",
        "      return lemmatized_words\n",
        "\n",
        "def transform_to_text(tweet_words):\n",
        "      return \" \".join(tweet_words)\n"
      ],
      "execution_count": 13,
      "outputs": [
        {
          "output_type": "stream",
          "text": [
            "[nltk_data] Downloading package stopwords to /root/nltk_data...\n",
            "[nltk_data]   Unzipping corpora/stopwords.zip.\n",
            "[nltk_data] Downloading package punkt to /root/nltk_data...\n",
            "[nltk_data]   Unzipping tokenizers/punkt.zip.\n",
            "[nltk_data] Downloading package wordnet to /root/nltk_data...\n",
            "[nltk_data]   Unzipping corpora/wordnet.zip.\n"
          ],
          "name": "stdout"
        }
      ]
    },
    {
      "cell_type": "code",
      "metadata": {
        "id": "h3ca7xtsLCJ1",
        "colab_type": "code",
        "colab": {}
      },
      "source": [
        "#limpiando el texto\n",
        "\n",
        "def clean_text(train):\n",
        "\n",
        "  import nltk\n",
        "  nltk.download('stopwords') \n",
        "  nltk.download('punkt')\n",
        "  nltk.download('wordnet')\n",
        "  from nltk.tokenize import word_tokenize\n",
        "  from nltk.corpus import stopwords\n",
        "  from nltk.stem.wordnet import WordNetLemmatizer\n",
        "\n",
        "  #FUNCIONES UTILES\n",
        "\n",
        "  def only_letters(tweet):\n",
        "      tweet = re.sub(r'http\\S*', '', tweet)\n",
        "      tweet = re.sub(r'[^a-z\\s]', '', tweet)\n",
        "      return tweet\n",
        "\n",
        "  stop_words=set(stopwords.words(\"english\"))\n",
        "\n",
        "  def filter_stopwords(tokenized_text):\n",
        "      filtered_words=[]\n",
        "      for w in tokenized_text:\n",
        "          if w not in stop_words:\n",
        "              filtered_words.append(w)\n",
        "      return filtered_words\n",
        "\n",
        "  lemmatizer = WordNetLemmatizer()\n",
        "\n",
        "  def lemmatize_tweet(tweet):\n",
        "      lemmatized_words = []\n",
        "      for word in tweet:\n",
        "          lemmatized_words.append(lemmatizer.lemmatize(word))\n",
        "      return lemmatized_words\n",
        "\n",
        "  def transform_to_text(tweet_words):\n",
        "      return \" \".join(tweet_words)\n",
        "\n",
        "  #Cleaning text\n",
        "\n",
        "  train['clean_text'] = train['text'].str.lower()\n",
        "\n",
        "  train['clean_text'] = train['clean_text'].apply(only_letters)    \n",
        "\n",
        "  #Tokenización\n",
        "\n",
        "  train['clean_text'] = train['clean_text'].apply(word_tokenize)\n",
        "\n",
        "  #Remove stopwords\n",
        "\n",
        "  train['clean_text'] = train['clean_text'].apply(filter_stopwords) \n",
        "\n",
        "  #Lemmatization                                                                       \n",
        "\n",
        "  train['clean_text'] = train['clean_text'].apply(lemmatize_tweet)  \n",
        "\n",
        "  train['clean_text'] = train['clean_text'].apply(transform_to_text)"
      ],
      "execution_count": 14,
      "outputs": []
    },
    {
      "cell_type": "code",
      "metadata": {
        "id": "qcb0Gb5tCwIm",
        "colab_type": "code",
        "colab": {}
      },
      "source": [
        "#descubriendo nuevos features"
      ],
      "execution_count": null,
      "outputs": []
    },
    {
      "cell_type": "code",
      "metadata": {
        "id": "Ab4H4dTZB6tA",
        "colab_type": "code",
        "colab": {
          "base_uri": "https://localhost:8080/",
          "height": 144
        },
        "outputId": "c76b10fb-1eeb-4aaf-ac66-bfbac91b3071"
      },
      "source": [
        "data.head(3)"
      ],
      "execution_count": 15,
      "outputs": [
        {
          "output_type": "execute_result",
          "data": {
            "text/html": [
              "<div>\n",
              "<style scoped>\n",
              "    .dataframe tbody tr th:only-of-type {\n",
              "        vertical-align: middle;\n",
              "    }\n",
              "\n",
              "    .dataframe tbody tr th {\n",
              "        vertical-align: top;\n",
              "    }\n",
              "\n",
              "    .dataframe thead th {\n",
              "        text-align: right;\n",
              "    }\n",
              "</style>\n",
              "<table border=\"1\" class=\"dataframe\">\n",
              "  <thead>\n",
              "    <tr style=\"text-align: right;\">\n",
              "      <th></th>\n",
              "      <th>id</th>\n",
              "      <th>keyword</th>\n",
              "      <th>location</th>\n",
              "      <th>text</th>\n",
              "      <th>target</th>\n",
              "    </tr>\n",
              "  </thead>\n",
              "  <tbody>\n",
              "    <tr>\n",
              "      <th>0</th>\n",
              "      <td>1</td>\n",
              "      <td>NaN</td>\n",
              "      <td>NaN</td>\n",
              "      <td>Our Deeds are the Reason of this #earthquake M...</td>\n",
              "      <td>1</td>\n",
              "    </tr>\n",
              "    <tr>\n",
              "      <th>1</th>\n",
              "      <td>4</td>\n",
              "      <td>NaN</td>\n",
              "      <td>NaN</td>\n",
              "      <td>Forest fire near La Ronge Sask. Canada</td>\n",
              "      <td>1</td>\n",
              "    </tr>\n",
              "    <tr>\n",
              "      <th>2</th>\n",
              "      <td>5</td>\n",
              "      <td>NaN</td>\n",
              "      <td>NaN</td>\n",
              "      <td>All residents asked to 'shelter in place' are ...</td>\n",
              "      <td>1</td>\n",
              "    </tr>\n",
              "  </tbody>\n",
              "</table>\n",
              "</div>"
            ],
            "text/plain": [
              "   id keyword  ...                                               text target\n",
              "0   1     NaN  ...  Our Deeds are the Reason of this #earthquake M...      1\n",
              "1   4     NaN  ...             Forest fire near La Ronge Sask. Canada      1\n",
              "2   5     NaN  ...  All residents asked to 'shelter in place' are ...      1\n",
              "\n",
              "[3 rows x 5 columns]"
            ]
          },
          "metadata": {
            "tags": []
          },
          "execution_count": 15
        }
      ]
    },
    {
      "cell_type": "code",
      "metadata": {
        "id": "abNqtKvmCDIS",
        "colab_type": "code",
        "colab": {
          "base_uri": "https://localhost:8080/",
          "height": 1000
        },
        "outputId": "588a58d2-e52f-4c58-a9ef-1c4b9e757739"
      },
      "source": [
        "data.groupby('location').agg(cantidad=('location','count')).nlargest(30,'cantidad')[:50]"
      ],
      "execution_count": 16,
      "outputs": [
        {
          "output_type": "execute_result",
          "data": {
            "text/html": [
              "<div>\n",
              "<style scoped>\n",
              "    .dataframe tbody tr th:only-of-type {\n",
              "        vertical-align: middle;\n",
              "    }\n",
              "\n",
              "    .dataframe tbody tr th {\n",
              "        vertical-align: top;\n",
              "    }\n",
              "\n",
              "    .dataframe thead th {\n",
              "        text-align: right;\n",
              "    }\n",
              "</style>\n",
              "<table border=\"1\" class=\"dataframe\">\n",
              "  <thead>\n",
              "    <tr style=\"text-align: right;\">\n",
              "      <th></th>\n",
              "      <th>cantidad</th>\n",
              "    </tr>\n",
              "    <tr>\n",
              "      <th>location</th>\n",
              "      <th></th>\n",
              "    </tr>\n",
              "  </thead>\n",
              "  <tbody>\n",
              "    <tr>\n",
              "      <th>USA</th>\n",
              "      <td>104</td>\n",
              "    </tr>\n",
              "    <tr>\n",
              "      <th>New York</th>\n",
              "      <td>71</td>\n",
              "    </tr>\n",
              "    <tr>\n",
              "      <th>United States</th>\n",
              "      <td>50</td>\n",
              "    </tr>\n",
              "    <tr>\n",
              "      <th>London</th>\n",
              "      <td>45</td>\n",
              "    </tr>\n",
              "    <tr>\n",
              "      <th>Canada</th>\n",
              "      <td>29</td>\n",
              "    </tr>\n",
              "    <tr>\n",
              "      <th>Nigeria</th>\n",
              "      <td>28</td>\n",
              "    </tr>\n",
              "    <tr>\n",
              "      <th>UK</th>\n",
              "      <td>27</td>\n",
              "    </tr>\n",
              "    <tr>\n",
              "      <th>Los Angeles, CA</th>\n",
              "      <td>26</td>\n",
              "    </tr>\n",
              "    <tr>\n",
              "      <th>India</th>\n",
              "      <td>24</td>\n",
              "    </tr>\n",
              "    <tr>\n",
              "      <th>Mumbai</th>\n",
              "      <td>22</td>\n",
              "    </tr>\n",
              "    <tr>\n",
              "      <th>Washington, DC</th>\n",
              "      <td>21</td>\n",
              "    </tr>\n",
              "    <tr>\n",
              "      <th>Kenya</th>\n",
              "      <td>20</td>\n",
              "    </tr>\n",
              "    <tr>\n",
              "      <th>Worldwide</th>\n",
              "      <td>19</td>\n",
              "    </tr>\n",
              "    <tr>\n",
              "      <th>Australia</th>\n",
              "      <td>18</td>\n",
              "    </tr>\n",
              "    <tr>\n",
              "      <th>Chicago, IL</th>\n",
              "      <td>18</td>\n",
              "    </tr>\n",
              "    <tr>\n",
              "      <th>California</th>\n",
              "      <td>17</td>\n",
              "    </tr>\n",
              "    <tr>\n",
              "      <th>California, USA</th>\n",
              "      <td>15</td>\n",
              "    </tr>\n",
              "    <tr>\n",
              "      <th>Everywhere</th>\n",
              "      <td>15</td>\n",
              "    </tr>\n",
              "    <tr>\n",
              "      <th>New York, NY</th>\n",
              "      <td>15</td>\n",
              "    </tr>\n",
              "    <tr>\n",
              "      <th>Florida</th>\n",
              "      <td>14</td>\n",
              "    </tr>\n",
              "    <tr>\n",
              "      <th>San Francisco</th>\n",
              "      <td>14</td>\n",
              "    </tr>\n",
              "    <tr>\n",
              "      <th>United Kingdom</th>\n",
              "      <td>14</td>\n",
              "    </tr>\n",
              "    <tr>\n",
              "      <th>Indonesia</th>\n",
              "      <td>13</td>\n",
              "    </tr>\n",
              "    <tr>\n",
              "      <th>Los Angeles</th>\n",
              "      <td>13</td>\n",
              "    </tr>\n",
              "    <tr>\n",
              "      <th>Washington, D.C.</th>\n",
              "      <td>13</td>\n",
              "    </tr>\n",
              "    <tr>\n",
              "      <th>Ireland</th>\n",
              "      <td>12</td>\n",
              "    </tr>\n",
              "    <tr>\n",
              "      <th>NYC</th>\n",
              "      <td>12</td>\n",
              "    </tr>\n",
              "    <tr>\n",
              "      <th>Toronto</th>\n",
              "      <td>12</td>\n",
              "    </tr>\n",
              "    <tr>\n",
              "      <th>Chicago</th>\n",
              "      <td>11</td>\n",
              "    </tr>\n",
              "    <tr>\n",
              "      <th>Earth</th>\n",
              "      <td>11</td>\n",
              "    </tr>\n",
              "  </tbody>\n",
              "</table>\n",
              "</div>"
            ],
            "text/plain": [
              "                  cantidad\n",
              "location                  \n",
              "USA                    104\n",
              "New York                71\n",
              "United States           50\n",
              "London                  45\n",
              "Canada                  29\n",
              "Nigeria                 28\n",
              "UK                      27\n",
              "Los Angeles, CA         26\n",
              "India                   24\n",
              "Mumbai                  22\n",
              "Washington, DC          21\n",
              "Kenya                   20\n",
              "Worldwide               19\n",
              "Australia               18\n",
              "Chicago, IL             18\n",
              "California              17\n",
              "California, USA         15\n",
              "Everywhere              15\n",
              "New York, NY            15\n",
              "Florida                 14\n",
              "San Francisco           14\n",
              "United Kingdom          14\n",
              "Indonesia               13\n",
              "Los Angeles             13\n",
              "Washington, D.C.        13\n",
              "Ireland                 12\n",
              "NYC                     12\n",
              "Toronto                 12\n",
              "Chicago                 11\n",
              "Earth                   11"
            ]
          },
          "metadata": {
            "tags": []
          },
          "execution_count": 16
        }
      ]
    },
    {
      "cell_type": "code",
      "metadata": {
        "id": "6jKtAfUr50lR",
        "colab_type": "code",
        "colab": {}
      },
      "source": [
        "#ahora vimos arriba que por lo menos las primeras 50 son relevantes osea mayor a 10 tweet, \n",
        "#seguramente dentro de location debe haber las mismas ciudades/paises escritos de otra forma\n",
        "#unificamos con esos 50 de arriba\n"
      ],
      "execution_count": null,
      "outputs": []
    },
    {
      "cell_type": "code",
      "metadata": {
        "id": "88VhruCznaal",
        "colab_type": "code",
        "colab": {}
      },
      "source": [
        "def unificar_cuidades_paies(data2):\n",
        "      data2.loc[data2['location'].str.contains('(?i)flori')==True,'location' ]='Florida'\n",
        "      data2.loc[data2['location'].str.contains('(?i)florida')==True,'location' ]='Florida'\n",
        "      data2.loc[data2['location'].str.contains('(?i), fl')==True,'location' ]='Florida'\n",
        "      data2.loc[data2['location'].str.contains('(?i)toronto')==True,'location' ]='toronto'\n",
        "      data2.loc[data2['location'].str.contains('(?i)carolina')==True,'location' ]='carolina'\n",
        "      data2.loc[data2['location'].str.contains('(?i)colorado')==True,'location' ]='colorado'\n",
        "      data2.loc[data2['location'].str.contains('(?i)ny')==True,'location' ]='New York, NY'\n",
        "      data2.loc[data2['location'].str.contains('(?i)new yo')==True,'location' ]='New York, NY'\n",
        "      data2.loc[data2['location'].str.contains('(?i)california')==True,'location' ]='California'\n",
        "      data2.loc[data2['location'].str.contains('(?i), pa')==True,'location' ]='Philadelphia'\n",
        "      data2.loc[data2['location'].str.contains('(?i),phila')==True,'location' ]='Philadelphia'\n",
        "      data2.loc[data2['location'].str.contains('(?i),phili')==True,'location' ]='Philippines'  \n",
        "      data2.loc[data2['location'].str.contains('(?i)Massa')==True,'location' ]='Massachusetts'\n",
        "      data2.loc[data2['location'].str.contains('(?i)Michi')==True,'location' ]='Michigan'\n",
        "      data2.loc[data2['location'].str.contains('(?i)Ariz')==True,'location' ]='Arizona'  \n",
        "      data2.loc[data2['location'].str.contains('(?i), nc')==True,'location' ]='New Jersey'\n",
        "      data2.loc[data2['location'].str.contains('(?i)jerse')==True,'location' ]='New Jersey'  \n",
        "      data2.loc[data2['location'].str.contains('(?i)canad')==True,'location' ]='Canada'\n",
        "      data2.loc[data2['location'].str.contains('(?i)niger')==True,'location' ]='Nigeria'\n",
        "      data2.loc[data2['location'].str.contains('(?i)indi')==True,'location' ]='India'\n",
        "      data2.loc[data2['location'].str.contains('(?i)flori')==True,'location' ]='Florida'\n",
        "      data2.loc[data2['location'].str.contains('(?i)london')==True,'location' ]='Florida'\n",
        "      data2.loc[data2['location'].str.contains('USA')==True,'location' ]='USA'   \n",
        "      data2.loc[data2['location'].str.contains('United States')==True,'location' ]='USA' \n",
        "      "
      ],
      "execution_count": 17,
      "outputs": []
    },
    {
      "cell_type": "code",
      "metadata": {
        "id": "wdbouF8bn3Sc",
        "colab_type": "code",
        "colab": {
          "base_uri": "https://localhost:8080/",
          "height": 225
        },
        "outputId": "479558e5-316c-49b4-941e-ce3ff8ee9ed2"
      },
      "source": [
        "data.info()"
      ],
      "execution_count": 18,
      "outputs": [
        {
          "output_type": "stream",
          "text": [
            "<class 'pandas.core.frame.DataFrame'>\n",
            "RangeIndex: 7613 entries, 0 to 7612\n",
            "Data columns (total 5 columns):\n",
            " #   Column    Non-Null Count  Dtype \n",
            "---  ------    --------------  ----- \n",
            " 0   id        7613 non-null   int64 \n",
            " 1   keyword   7552 non-null   object\n",
            " 2   location  5080 non-null   object\n",
            " 3   text      7613 non-null   object\n",
            " 4   target    7613 non-null   int64 \n",
            "dtypes: int64(2), object(3)\n",
            "memory usage: 297.5+ KB\n"
          ],
          "name": "stdout"
        }
      ]
    },
    {
      "cell_type": "code",
      "metadata": {
        "id": "lzFQGdljnafb",
        "colab_type": "code",
        "colab": {}
      },
      "source": [
        "#ahi seleccionamos, ahora aplicamos\n",
        "unificar_cuidades_paies(data)"
      ],
      "execution_count": 19,
      "outputs": []
    },
    {
      "cell_type": "code",
      "metadata": {
        "id": "cxwwOyUiPjYI",
        "colab_type": "code",
        "colab": {
          "base_uri": "https://localhost:8080/",
          "height": 238
        },
        "outputId": "417e23c7-52f3-4385-bec6-2394d2c9fec8"
      },
      "source": [
        "#vemos que aumento su cantidad respecto al anterior de las localitaciones\n",
        "data.groupby('location').agg(cantidad=('location','count')).nlargest(30,'cantidad')[:5]"
      ],
      "execution_count": 20,
      "outputs": [
        {
          "output_type": "execute_result",
          "data": {
            "text/html": [
              "<div>\n",
              "<style scoped>\n",
              "    .dataframe tbody tr th:only-of-type {\n",
              "        vertical-align: middle;\n",
              "    }\n",
              "\n",
              "    .dataframe tbody tr th {\n",
              "        vertical-align: top;\n",
              "    }\n",
              "\n",
              "    .dataframe thead th {\n",
              "        text-align: right;\n",
              "    }\n",
              "</style>\n",
              "<table border=\"1\" class=\"dataframe\">\n",
              "  <thead>\n",
              "    <tr style=\"text-align: right;\">\n",
              "      <th></th>\n",
              "      <th>cantidad</th>\n",
              "    </tr>\n",
              "    <tr>\n",
              "      <th>location</th>\n",
              "      <th></th>\n",
              "    </tr>\n",
              "  </thead>\n",
              "  <tbody>\n",
              "    <tr>\n",
              "      <th>New York, NY</th>\n",
              "      <td>295</td>\n",
              "    </tr>\n",
              "    <tr>\n",
              "      <th>USA</th>\n",
              "      <td>265</td>\n",
              "    </tr>\n",
              "    <tr>\n",
              "      <th>Florida</th>\n",
              "      <td>204</td>\n",
              "    </tr>\n",
              "    <tr>\n",
              "      <th>Canada</th>\n",
              "      <td>84</td>\n",
              "    </tr>\n",
              "    <tr>\n",
              "      <th>California</th>\n",
              "      <td>82</td>\n",
              "    </tr>\n",
              "  </tbody>\n",
              "</table>\n",
              "</div>"
            ],
            "text/plain": [
              "              cantidad\n",
              "location              \n",
              "New York, NY       295\n",
              "USA                265\n",
              "Florida            204\n",
              "Canada              84\n",
              "California          82"
            ]
          },
          "metadata": {
            "tags": []
          },
          "execution_count": 20
        }
      ]
    },
    {
      "cell_type": "code",
      "metadata": {
        "id": "KPp-CtRGoKRT",
        "colab_type": "code",
        "colab": {}
      },
      "source": [
        "#ahora la idea es agarrar las localitaciones que no utilizamos en \n",
        "# nuestras primer analisis y splitearlo en n-gramas\n",
        "#y luego ordenarlo de mayor a menor frecuencia"
      ],
      "execution_count": null,
      "outputs": []
    },
    {
      "cell_type": "code",
      "metadata": {
        "id": "Beovj9iCXefD",
        "colab_type": "code",
        "colab": {}
      },
      "source": [
        "#datashit=data[data['location'].notnull()]\n",
        "sacar_columnas_usuales=data.groupby('location').agg(cantidad=('location','count')).nlargest(30,'cantidad')[:50]"
      ],
      "execution_count": 21,
      "outputs": []
    },
    {
      "cell_type": "code",
      "metadata": {
        "id": "gLFMkCE36P7s",
        "colab_type": "code",
        "colab": {}
      },
      "source": [
        "sacar_columnas_usuales=list(sacar_columnas_usuales.index)"
      ],
      "execution_count": 22,
      "outputs": []
    },
    {
      "cell_type": "code",
      "metadata": {
        "id": "GIRXiNv1OTzQ",
        "colab_type": "code",
        "colab": {
          "base_uri": "https://localhost:8080/",
          "height": 34
        },
        "outputId": "397b116f-0fa1-476b-a186-4a073561549f"
      },
      "source": [
        "sacar_columnas_usuales[:3]"
      ],
      "execution_count": 23,
      "outputs": [
        {
          "output_type": "execute_result",
          "data": {
            "text/plain": [
              "['New York, NY', 'USA', 'Florida']"
            ]
          },
          "metadata": {
            "tags": []
          },
          "execution_count": 23
        }
      ]
    },
    {
      "cell_type": "code",
      "metadata": {
        "id": "x6w2uhCnhCtb",
        "colab_type": "code",
        "colab": {}
      },
      "source": [
        "#filtramos las locaciones que ya utilizamos\n",
        "data_find_new_location=data[data['location'].notnull()]\n",
        "\n",
        "data_find_new_location=data_find_new_location[data_find_new_location['location'].isin(sacar_columnas_usuales)==False]"
      ],
      "execution_count": 24,
      "outputs": []
    },
    {
      "cell_type": "code",
      "metadata": {
        "id": "ksVDIYfHp4wS",
        "colab_type": "code",
        "colab": {
          "base_uri": "https://localhost:8080/",
          "height": 144
        },
        "outputId": "946dd8ef-3f4a-4adc-eb28-df56cb8c8b0e"
      },
      "source": [
        "data_find_new_location.head(3)"
      ],
      "execution_count": 25,
      "outputs": [
        {
          "output_type": "execute_result",
          "data": {
            "text/html": [
              "<div>\n",
              "<style scoped>\n",
              "    .dataframe tbody tr th:only-of-type {\n",
              "        vertical-align: middle;\n",
              "    }\n",
              "\n",
              "    .dataframe tbody tr th {\n",
              "        vertical-align: top;\n",
              "    }\n",
              "\n",
              "    .dataframe thead th {\n",
              "        text-align: right;\n",
              "    }\n",
              "</style>\n",
              "<table border=\"1\" class=\"dataframe\">\n",
              "  <thead>\n",
              "    <tr style=\"text-align: right;\">\n",
              "      <th></th>\n",
              "      <th>id</th>\n",
              "      <th>keyword</th>\n",
              "      <th>location</th>\n",
              "      <th>text</th>\n",
              "      <th>target</th>\n",
              "    </tr>\n",
              "  </thead>\n",
              "  <tbody>\n",
              "    <tr>\n",
              "      <th>31</th>\n",
              "      <td>48</td>\n",
              "      <td>ablaze</td>\n",
              "      <td>Birmingham</td>\n",
              "      <td>@bbcmtd Wholesale Markets ablaze http://t.co/l...</td>\n",
              "      <td>1</td>\n",
              "    </tr>\n",
              "    <tr>\n",
              "      <th>32</th>\n",
              "      <td>49</td>\n",
              "      <td>ablaze</td>\n",
              "      <td>Est. September 2012 - Bristol</td>\n",
              "      <td>We always try to bring the heavy. #metal #RT h...</td>\n",
              "      <td>0</td>\n",
              "    </tr>\n",
              "    <tr>\n",
              "      <th>33</th>\n",
              "      <td>50</td>\n",
              "      <td>ablaze</td>\n",
              "      <td>AFRICA</td>\n",
              "      <td>#AFRICANBAZE: Breaking news:Nigeria flag set a...</td>\n",
              "      <td>1</td>\n",
              "    </tr>\n",
              "  </tbody>\n",
              "</table>\n",
              "</div>"
            ],
            "text/plain": [
              "    id keyword  ...                                               text target\n",
              "31  48  ablaze  ...  @bbcmtd Wholesale Markets ablaze http://t.co/l...      1\n",
              "32  49  ablaze  ...  We always try to bring the heavy. #metal #RT h...      0\n",
              "33  50  ablaze  ...  #AFRICANBAZE: Breaking news:Nigeria flag set a...      1\n",
              "\n",
              "[3 rows x 5 columns]"
            ]
          },
          "metadata": {
            "tags": []
          },
          "execution_count": 25
        }
      ]
    },
    {
      "cell_type": "code",
      "metadata": {
        "id": "WmK9WOSBPqm_",
        "colab_type": "code",
        "colab": {}
      },
      "source": [
        "#guardo todas esas locaciones en una lista para filtrarla y sacarle stop word"
      ],
      "execution_count": null,
      "outputs": []
    },
    {
      "cell_type": "code",
      "metadata": {
        "id": "vErnYgZu-IEq",
        "colab_type": "code",
        "colab": {
          "base_uri": "https://localhost:8080/",
          "height": 141
        },
        "outputId": "266960fb-2426-4973-9dc2-2037e0cb913f"
      },
      "source": [
        "locacionesx=list(data_find_new_location['location'])\n",
        "texto=''\n",
        "for loca in locacionesx:\n",
        "  texto= texto + ' ' + loca\n",
        "texto"
      ],
      "execution_count": 26,
      "outputs": [
        {
          "output_type": "execute_result",
          "data": {
            "application/vnd.google.colaboratory.intrinsic+json": {
              "type": "string"
            },
            "text/plain": [
              "\" Birmingham Est. September 2012 - Bristol AFRICA Pretoria World Wide!! Paranaque City Live On Webcam milky way Live On Webcam England. Sheffield Township, Ohio Barbados Anaheim Abuja South Africa Sao Paulo, Brazil hollywoodland  Edmonton, Alberta - Treaty 6 Inang Pamantasan Twitter Lockout in progress Concord, CA Calgary, AB Birmingham CLVLND Nashville, TN Santa Clara, CA St. Louis, MO Walker County, Alabama San Mateo County, CA Your Sister's Bedroom Arlington, TX South Bloomfield, OH Maldives Manchester, NH global Alberta | Sask. | Montana Charlotte Baton Rouge, LA Hagerstown, MD Gloucestershire , UK Instagram - @heyimginog  304 Switzerland 304 US 304 Instagram - @heyimginog  304 Somewhere Only We Know ? Belgium Switzerland US dope show Switzerland Switzerland Baker City Oregon 304 304 marysville ca  304 Hermosa Beach, CA 304 304 19.600858, -99.047821 Pennsylvania Salt Lake City, Utah Palo Alto, CA Eagle Pass, Texas bangalore Financial News and Views y(our) boyfriends legs  Somewhere Out There sri lanka Not a U.S resident Thrissur Havenford 92 Israel Fashion Heaven. IG: TMId_ San Francisco, CA italy Jackson New Orleans, LA West Wales Happily Married with 2 kids  Cambridge, MA Arizona Amsterdam Swindon,England  Happily Married with 2 kids  Williamstown, VT Karachi Happily Married with 2 kids  Happily Married with 2 kids  || c h i c a g o || L. A. VISIT MY YOUTUBE CHANNEL. Lexington Playa Higher Places Horsemind, MI Boksburg V-RP @OZRP_ ?MV, AU, R18+? Greater Manchester, UK Boston The Canopy Kingdom the own zone layer  Trancy Manor South 37 West Lancashire, UK. PA \\x89Û¢ Views From The Six \\x89Û¢ Swaning Around Wild Wild Web Subconscious LA Spain CA physically- Boston Strong? Yeezy Taught Me , NV CA physically- Boston Strong? Rock Hill, SC Coolidge, AZ Republic of Texas Phoenix, AZ Ljubljana, Slovenia Connecticut Tacoma,Washington Subconscious LA BIG D  HOUSTON/BOSTON/DENVER Chandler, AZ sindria Texas Texas The Shire Austin, TX Oakland Albuquerque Buenos Aires, Argentina San Antonio-ish, TX Harlingen, TX Las Vegas Tokyo #FLIGHTCITY UK   Alphen aan den Rijn, Holland Wrigley Field probably the strip club England Here And There Rotterdam, Zuid-Holland Derry, 17  Nowhere. Everywhere. Nowhere. Everywhere. East Coast The Orwellion police-state Castaic, CA Helsinki, Finland East Kilbride #FLIGHTCITY UK   middle eastern palace Kent Nowhere. Everywhere. #FLIGHTCITY UK   Perthshire  twitch.tv/naturalemblem26 cyprus Memphis, TN Studio Hollywood, CA Pakistan Mexico! ^_^ Campinas Sp Burbank,CA ?  Spokane, Washington Our Empire State Jerusalem Kingston, Pennsylvania Milwaukee, WI Zero Branco Republic of Texas bajaur \\x89ÛÊ\\x89ÛÊ\\x89ÛÊ Jerusalem Miami,FL North-East Region, Singapore EARTH  Jerusalem, Israel Menasha, WI ss Atlanta ss Bleak House heccfidmss@gmail.com ss [ Blonde Bi Fry. ] America SF Bay Area ss ss Adelaide, South Australia ss WASHINGTON,DC ss  snapchat // fvck_casper  ss ss ss Dallas, TX Location Selena | Britney | Hilary Dubai Tucson, Az Seattle WA Bellevue NE West Bank, Gaza Strip \\x89Û¢FLG\\x89Û¢ Scotland, United Kingdom Online 24/7. Not even kidding. rowyso dallas  Halton, Ontario portland, oregon FIMAK A.S Ist Bolge Muduru #UNITE THE BLUE   Dayton, Ohio Global ph City Of Joy 1/3 of the blam squad  CCH  atx MAURITIUS Peshawar San Francisco, CA #GDJB #ASOT Groningen, Netherlands, Europe Livingston, IL  U.S.A. Arundel  America israel ?????????????????? SÌ£o Paulo SP,  Brasil in Dimitri's arms Oslo, Norway Loughton, Essex, UK guaravitas Score More Goals Buying @ Score Team Goals Buying @ South Central Wales Denver, CO Brasil Buy Give Me My Money  505 W. Maple, Suite 100 Buy Give Me My Money  Buy Give Me My Money  Philippines Freeport il  World Danville, VA UK Great Britain  Jerusalem! San Jose, CA Dallas, TX Baton Rouge, LA Use #TMW in tweets get #RT Utah Wisconsin West Richland, WA CHICAGO (312) Washington D.C. NC British girl in Texas Silver Spring, MD Phoenix, AZ Atlanta, GA Wilmington, DE Memphis iTunes Oxford, MS US Atlanta, GA Pelham, AL Atlanta, GA Arkansas, Jonesboro Across the Atlantic Over the Moon... Extraterrestrial Highway Espoo, Finland Washington, D.C., area OES 4th Point. sisSTAR & TI Sydney, New South Wales San Francisco, CA Netherlands,Amsterdam-Virtual  timeline kamu Budapest, Hungary Searching for Bae  Sydney, New South Wales Eagle Mountain, Texas  Columbus Temecula, CA Atlanta,Ga Fresno, CA ducked off . . .  Rio de Janeiro 302 Columbus, OH PA Mo.City Tripsburg, ms. Durham N.C  Delhi Arizona Karachi  seattle wa Mo.City Gotham City My contac 27B80F7E 08170156520 Dallas, TX Pig Symbol, Alabama Intramuros, Manila THE WORLD T.G.G / M.M.M  Between the worlds  State of Georgia Your screen Lima-Peru worldwide Saltillo, Coahuila de Zaragoza Suitland Konoha Swag Francisco Saint Marys, GA Essex/Brighton Rockford, IL AZ IN In the middle of no where Baltimore, MD dmv ?? fashion school @ KSU.  Nice places  Quantico, VA Island Lake, IL Live Oak, TX Gages Lake, IL Madisonville TN AEP Alberta Pack #expelcl*y My heart is a ghost town! The Great State of Texas Alicante, Valencia Atlanta the local dump Seattle #SOUTHAMPTON ENGLAND ?205?478? Waterford MI va H / pez & sophia  Vancouver, BC. wherever the $$$ at Calgary, Alberta Kama | 18 | France  Sydney Daruka (near Tamworth) NSW IJmuiden, The Netherlands University Heights, Ohio Central Illinois Baton Rouge PSN: Pipbois  Colombo,Sri Lanka. Johannesburg, South Africa  Me mammy's belly UK & Ibiza Laventillemoorings  Scotland Vancouver, BC Cleveland, OH Kama | 18 | France  Kama | 18 | France  Waterfront columbus ohio Waukesha, WI Sydney Himalayan Mountains Houston,  TX THE 6IX The ?? below ??? Ideally under a big tree Conversing In Janet's CafÌ¬ ???????, ??'?????? Dime's Palace Cairo, Egypt Seattle, WA Bug Forest canberra International The World Htx PunPunlÌ¢ndia ??? Itirapina, SÌ£o Paulo Ewa Beach, HI Biloxi, Mississippi Buenos Aires Brecksville, OH Malaysia Ivano-Frankivsk Sunshine Coast, Queensland Dime's Palace England,UK,Europe,Sol 3. Nashua NH Leicester 65 Westchester Lynnfield, MA Level 3 Garrison, Sector G Singapore Adelaide, South Australia Las Vegas Glasgow Shity land of Northern Ireland Singapore Christchurch New Zealand PH Storybrooke  under the blanket Isolated City In World Perth Brazil  AUS Santa Cruz, CA Inverness, Nova Scotia L/S/Z/L/T/H/C/H/R/A/S/C Oklahoma 801 SL,UT fluffy cloud The 5th Dimension.  Georgia July 11th, 2015. ? The Grey Area St Paul, MN Cobblestone ÌÏT: 30.307558,-81.403118 Scotland Cosmic Oneness Guildford, UK Nowhere Islands/Smash Manor kisumu Making Worldwide Change Near U ATX LA/OC/Vegas Grimsby, England Gotham Manchester, The World, England sitting on Eddie Vedders lap, US Greenville,SC Paignton Paignton Paignton Paignton have car; will travel Sydney, New South Wales ATL ? SEA  ÌÏT: 39.982988,-75.261624 #EngleWood CHICAGO  302???? 815 Texas PURPLE BOOTH STUDIO\\x89ã¢ Cloud 9 Former Yugoslav Republic of Macedonia 3?3?7?SLOPelousas??2?2?5? 316 Global #WhereverI'mAt Huber Heights, OH Miami ?? Houston, TX Every where Arizona 401 livin' MI EPTX Austin, Texas Oklahoma City CA WESTSIDE OF PHILLY 7? BLOCK?? CA Wisconsin Charlotte NC washington, d.c. WAISTDEEP, TX Swaning Around D.C. - Baltimore - Annapolis #937??#734 Fife, WA Bushkill pa In the Shadows... southwest, Tx Menlo Park. SFO. The World. Speaking the Truth in Love Aarhus, Central Jutland Lincoln, NE Bolton & Tewkesbury, UK travelling to tae's pants keli x Manchester Knoxville, TN ChicagoRObotz whs '17 NV Edmonton, Alberta [Gia.] | #KardashianEmpire Sunrise Manor, NV Oxford, OH Odawara, Japan Des Moines, IA Dundas, Ontario IDN Netherlands Tokyo Old Blighty ?? Atlanta Georgia MY RTs ARE NOT ENDORSEMENTS Kabul, Tuebingen, Innsbruck Light and dark, form and void Erbil Stockton on tees Teesside UK Screwston, TX My old New England home melbourne Cape Town Warwick, RI @Dollarocracy also texas a&m university MA Shipwreck Cove Sydney, Australia WorldWide Overland Park, KS SWMO Puerto Rico Silicon Valley Singapore VitÌ_ria (ES) New Delhi, Delhi Buscame EL tu Melte Wiltshire Leicester Pittsburgh PA Boston MUM-DEL Leeds, England US Playa del Carmen, Mexico Leicester Mackay, QLD, Australia Quincy MA NJ Madison, GA KurveZ@GearHeadCentral.net St Charles, MD Ziam af  GO BLUE! HAIL YES!! Outside The Matrix, I Think. In Hell Epic City, BB. somewhere over a rainbow Selma2Oakland Bombardment Bay Savannah, GA dallas New Orleans ,Louisiana England, United Kingdom Dublin City, Ireland Leeds, England New Hampshire World Wide Intermountain West World Wide New Hampshire Manchester, NH Tulsa, Oklahoma Auburn, AL taken by piper curda Scotland  Sweden Groton, CT Brisbane Australia Peoria Reading UK Concord, NH  CORNFIELDS Worcester, MA Roanoke, VA nj MA via PA Boston, MA World Wide New Hampshire Oklahoma City, OK San Diego CA  Nxgerxa Belleville, Illinois Alabama Oakland, CA 956 Escondido, CA DC Chicago Area Cherry Creek Denver CO 627 Blogland mumbai Isle of Man Hampton Roads, VA Gameday Earthling (For now!) Caracas, Venezuela. Charlottetown Paradise, NV ??t?a LiÌ¬ge Spokane, Washington 99206 taco bell Australian Capital Territory http://www.amazon.com/dp/B00HR [ kate + they/them + infp-t ] Sacramento, CA Mackay, QLD, Australia St Charles, MD please H? ?:?? we?it \\x89Û¢ ixwin Santiago Bernabeau y/e/l NJ Whiterun, Skyrim New Orleans ,Louisiana Seattle, WA Greenpoint, Brooklyn dallas Oklahoma City, OK Victoria, British Columbia a botanical garden probably Madison, GA Nelspruit, South Africa midwest Copenhagen, Capital Region of Denmark In Hell Spying on your thoughts seattle grace mercy death Selma2Oakland Arizona Epic City, BB. Head Office: United Kingdom Mid north coast of NSW iPhone: -27.499212,153.011072 Queen Creek AZ Jamaica Trinidad and Tobago Melbourne Australia Canberra, Australian Capital Territory beacon hills  somewhere outside Wolmers Trust School for Boys  Loughborough. Sydney, Australia Selangor Philippines Phoenix, AZ Le Moyne '16 Heinz Field  Skyport de la Rosa The Low-Cal Calzone Zone US 50% Queanbeyan - 50% Sydney Insula Barataria everywhere  Inglewood, CA Absecon, NJ Mostly Yuin. Nairobi Rochelle, GA south of heaven  El Dorado, KS Santa Monica, CA Toledo, OH Virginia LIVERPOOL Boulder, CO Hospital, bc of SKH vid. In @4SkinChan 's arms Seattle Kansas City, MO Wellington, New Zealand ?? ?? los angeles, ca New Brunswick, NJ City of Angels, CA Morganville, Texas. America | New Zealand  Denver, CO Stockholm, Sweden Azeroth Lytham St Anne's  Ylisse Wisconsin Portugal All around the world baby @UntmdOutdoors #T.O.R.K  Lima, PerÌ¼ Buxton, Venice, and Nottingham Quito, Ecuador. Inexpressible Island  San Jose, CA  Bouvet Island Planet Earth Inexpressible Island  Planet Earth Portland, OR Dublin, Ireland Planet Earth Lurking Leeds, England N?? Y???. Center for Domestic Preparedness Ukraine and Ireland Welt Wales http://www.amazon.com/dp/B00HR Seattle, Washington Beaumont, TX Annapolis, MD Las Vegas, Nevada Seattle, Washington Harris County, Texas Tyler, TX Evanston, IL North Ferriby, East Yorkshire Colombia Seattle, Washington Evanston, IL Ames, Iowa Seattle, Washington Moscow, Russia Mankato, MN Orbost, Victoria, Australia  Somewhere.  Neverland  At Da Laundry Mat Wit Nivea  norway $ad $hawty BestCoast BC Colchester Essex  livin life in the 610 Suplex City Inside your mind. 36 & 38 Sydney Australia Slappin and Smackin  DRAW A CIRCLE THAT'S THE EARTH Madrid, Comunidad de Madrid The Netherlands Highland Park, CA Scotland Swan River Melrose Jubail IC, Saudi Arabia Location Sugarhouse, UT lugo Chicago, Illinois Blackpool, England, UK. Fakefams In the clouds... Sandton, South Africa #Bummerville otw Europe Brighton and Hove JKT48-Muse-A7X Behind The Obama Curtain Worldwide. LiVE MÌ\\x81S Henderson, NV CAMARILLO, CA manchester, uk. Eugene, Oregon they/her Paris  Tokyo (he/him) Suplex City Victoria, British Columbia Kingston, Jamaica Spokane, WA I'm standing behind you Alexandria, Egypt. instagram- Chloe_Bellx on the web San Francisco Bay Area #ForeverWithBAP 8  GOT7SupportPH wherever-the-fuck washington Perth, Western Australia Live mÌÁs Melton, GA Greg's place Viejo Kansas, The Free State! ~ KC Silang, Cavite / ParaÌ±aque Fort Smith, AR Brasil planeta H2o www.youtube.com?Malkavius2 The Forever Girl EspÌ_rito Santo Maryland,Baltimore New Orleans, LA Vancouver, BC Houston, Texas Medford, NJ Austin, TX Malaysia Dallas, Texas.  Roanoke VA Unnamed City Peterborough, On -6.152261,106.775995 @protectingtitan's side. Oregon Eau Claire, Wisconsin St. Joseph, Minnesota From a torn up town MANCHESTER Waco TX Tennessee Pakistan bk.  Peterborough, Ont. Johannesburg, South Africa On the court  Cherry Creek Denver CO Traverse City, MI See the barn of bleakness Hertfordshire  ÌÏT: 41.252426,-96.072013 Greeley, CO 'soooota Sacramento Sacramento Arvada, CO Oregon Denver, CO Maryland Vancouver, Colombie-Britannique Irving , Texas Riverside, CA San Francisco, CA East Atlanta, Georgia Saint Lucia North Highlands, CA Vancouver 60th St (SS) San Francisco, CA Sacramento, CA Sacramento btwn a rock and a hard place Tennessee Aix-en-Provence, France Liverpool 21.462446,-158.022017 Cleveland, OH Melbourne, Australia Darlington   Melbourne, Australia Kenton, Ohio Galatians 2:20  Charleston, SC In my own world!!! San Francisco, CA Definitely NOT the stables Pakistan Cuernavaca, Morelos, MÌ©xico. Scotland Va Beach, Virginia 52.479722, 62.184971 The Pig Sty Bangor, Co.Down Weston super mare Victoria, Tx. Pakistan, Islamabad Lincoln, NE Lindenhurst Islamabad Somewhere too far Kingswinford i love the smurfs 2 International  Viterbo BFA Acting '18 Buenos Aires Kaneohe Houma La EastAtlanta ??#WestGeorgia'18 San Antonio, TX Cleveland, Ohio San Diego, Texas. GLOBAL 05/04/2014 18:23 ? Bolivar, MO taking pain like pleasure San Fransokyo Washington, DC NATIVE Utah honeymoon avenue 11/4/14 wherever there's netflix #HAMont U.K. ph online  Conroe, TX Guayaquil bahstun/porta reeko Rio Neverland Pennsylvania Trinidad & Tobago Chicago - Lake Buena Vista Liberty Lake, WA Ankara - Malatya - ad Orontem somewhere in cali  Garden Grove Adelaide, Australia BKI-KUA urÌ£nus A.A.S my Aztec Princess turner fenton KLA,Uganda Uganda 253 Elkhart, IN Adelaide, Australia Adelaide, Australia Pon Di Gully Benedict College HTX IM LOST  Miami Hamilton, ON Des Moines, Iowa  Rural Northern Nevada Republic of the Philippines Philippines  hyderabad Vancouver (HQ) and worldwide Quezon City, Philippines Geneva Hartford,  connecticut Sioux Falls, SD Cornwall Beside Basketball Rome, Italy Tafekop Ga-Matsepe Melbourne Vilnius Geneva Made in America PS4, now stop asking U.S My mind is my world Catskills Columbia, SC Right here Texas Lawrence, KS via Emporia, KS http://twitch.tv/jcmonkey Unknown Unknown Marysville, MI New Haven, Connecticut Austin | San Diego ??? ?? ???????  Pontevedra, Galicia Charlotte NC Rockville, Maryland Your Conversation Tennessee #LemonGang  ayr Loughborough, England Killarney Lahar & Gwalior St Paul, MN Atlanta Georgia  Lincoln, IL World Spinning through time. Atlanta Georgia  Boston, MA Hailing from Dayton  Newcastle Upon Tyne, England Atlanta Georgia  Atlanta Georgia  Instagram: trillrebel_ ALWAYS DYING NEVER RESTING San Jose, CA 2005 |-/ Israel Uruguay / Westeros / Gallifrey Kansas City, MO Silver Spring, MD Afghanistan Sweden Atmosphere Glasgow somewhere in Portugal South Stand dundalk ireland Sochi, KDA, RU ÌÏT: -26.695807,27.837865 South Stand You're not 19 forever    Kettering, OH Planet Earth Spare 'Oom Milton Keynes  ATL??AL?? UPTOWN  PROV Novi, MI Buenos Aires, Argentina on the go The UK mpls.  Kensington, MD Buffalo/DC Sylacauga, Alabama To The Right of You! Cyprus kansas Portland, OR Carry On Jutta!!! Home of the Takers. ?s????ss? a????? Alicante, Spain Mooseknuckle, Maine Palermo, Sicily AsunciÌ_n-PY / TÌ_bingen-GER Voorhees, NJ Atlanta, GA Planet Earth Wakanda Lagos Does it really matter! Your screen Phoenix, AZ Does it really matter! Edinburgh Weyburn UGA '15 Alumnus - Economics  Blackpool the void, U.S.A Tennessee/Gallifrey Amman, Jordan Blackpool Columbia Heights, MN Top Secret ÌÏT: 10.614817868480726,12.195582811791382 Top secret bunker  Belbroughton, England 772 Temperance Permenence 46.950109,7.439469 In the Shadows Campo Grande-MS nbc washington Seattle Dubai, United Arab Emirates Hong Kong IRAQ World news Hong Kong Hong Kong Bristol, UK labuan, malaysia right next to you www.tmgcgart.com Brisbane Melbourne-ish 617-BTOWN-BEATDOWN 518 Nottingham, England eARth 3 Enniscrone & Aughris, Sligo  Mostly Wellington, NZ  617-BTOWN-BEATDOWN Atlanta, Ga World Fort Fizz, Ohio Raleigh (Garner/Cleveland) NC Newcastle upon Tyne walking the tightrope Frascati College Station, TX Bishops Lydeard, England Up a hill Manchester Wellington #????? Libya# Newcastle Pakistan balvanera Aro Diaspora Washington D.C. ÌÏT: 0.0,0.0 Eastbourne England State of Dreaming Wema building Fruit Bowl South Africa Hooters on Peachtree Otsego, MI MAD as Hell ATL, GA us-east-1a RhodeIsland Napa, CA KOLKATA golborne, north west england. sweden ARBAILO Bagalkote Karnataka  Shrewsbury NJ Terre Haute, IN NH via Boston, MA Glasgow, Scotland QUEENS. ATL ?? ??????????? Beautiful British Columbia Newcastle Dublin, Ireland ???? Birmingham UK Medford, Oregon Catalonia, Spain Lisbon, Portugal MA Halifax, Nouvelle-Ìäcosse aggressive cannoli eater  11202 ?????? San Francisco, CA Atlantic, IA ÌÏT: 36.142163,-95.979189 Arthas US everywhere US-PR San Jose ÌøåÀå_T: 40.736324,-73.990062  Road to the Billionaires Club Washington, DC 20009  Road to the Billionaires Club Washington, Krasnodar (Russia)  Road to the Billionaires Club at my home District of Gentrification/ DC  Road to the Billionaires Club  Road to the Billionaires Club Washington, D.C.  U.S.A Nairobi #MadeInNorthumberland Jamshedpur, Jharkhand  Road to the Billionaires Club eritrean Dayton, OH Dorset, United Kingdom A small federal enclave Pune, mostly  The Desert of the Real Anchorage, AK Enterprise, Alabama US åø\\\\_(?)_/åø Washington DC / Nantes, France DC SEC Country L'Enfant Plaza Metro Station Durban, South Africa Alexandria, VA Arlington, VA and DC Headed To The Top Coimbatore Chicago, IL 60607 Chicagoland New Delhi Minneapolis,MN,US Chicago, IL  Chicago,Illinois ÌÏT: 33.209923,-87.545328 Lahti, Finland Here there and everywhere the insane asylum.  Oakland Macclesfield Boulder Temporary Towers Macclesfield Pueblo, CO the insane asylum.  Manchester Stockholm, Sweden Birmingham, UK Houston, Texas !  North East, England [marvel\\x89Û¢dragon age\\x89Û¢wicdiv] NBO St. Louis Mo. Birdland, New Meridian, FD Arizona Monterrey, MÌ©xico infj  on twitter 2B Hindhede Rd, Singapore Austin, TX Kalimantan Timur, Indonesia Prehistoric Earth san gabriel la union ?????? Manila, Philippines Middle Earth / Asgard / Berk Subconscious LA Singapore Quilmes , Arg Richmond, VA Istanbul Romania Chile ???????? ?????????. San Diego, CA Johannesburg  Japan Honduras Alvin, TX Wilbraham, MA The Citadel, Oldtown, Westeros New England he/him or she/her (ask) Some pum pum Paulton, England Norway Thailand SEA Server Pretoria todaysbigstock.com buenos aires argentina Surulere Lagos,Home Of Swagg MontrÌ©al, QuÌ©bec Montreal ÌÏT: 6.4682,3.18287 Live4Heed?? Waco, Texas BodÌü, Norge Boise, Idaho In my studio Cuttack, Orissa Patra-Greece. All Around the World Valle Del Sol Silesia, Poland Moscow Houston, TX Balikesir - Eskisehir Manchester, England Maldives ??????? ??????? ???????? Soul Somalia/Body Montreal Manchester, UK Yooooooo ÌÏT: 19.123127,72.825133 Morioh, Japan Milton/Tallahassee Paname City Morioh, Japan KÌ¦ln, Nordrhein-Westfalen Broomfield, CO Morioh, Japan Brasil,SP Memphis,TN/ World Wide Brasil Morioh, Japan In My Lab Creating  Bikini bottom back in japan ?????????? Morioh, Japan Northern Ireland San Diego, CA Morioh, Japan Sydney, Australia Bangkok Thailand Brisbane. Geneva Manchester PG Chillin! Manchester REPUBLICA DOMINICANA FOLLOWS YOU everywhere you go Birmingham -?s?s?j??s- Indonesia\\n The Meadow Bournemouth Brum/Lestah  Dorset, UK Chester  Banbridge probably petting an animal Varies  ACCRA GHANA Columbus St Joseph de Beauce Wasington, DC uk Seattle   News Newport, Wales, UK iTunes - RSS contactSimpleNews@gmail.com Las Vegas, Nevada Victoria, British Columbia Vancouver BC Brasil ITALY Atlanta g.a. EVERYWHERE Washington DC Denver, CO Washington DC Jackson TN Portoviejo-Manabi-Ecuador chillin at ceder rapids Manila, Philippines en el pais de los arrechos Hinton, W.Va. Naperville Lima, Peru In Your Notifications  Fort Worth, Texas Dappar (Mohali) Punjab los angeles Alexandria, VA Calgary, AB nearest trash can  Atlanta Morocco Pedophile hunting ground U.S. Visit our  dedicated website @ Asia Pacific    Ojodu,Lagos Seattle Kelowna, BC 48.870833,2.399227 Pedophile hunting ground Pedophile hunting ground Pedophile hunting ground Pedophile hunting ground Oakland, CA Manila Magnolia Pedophile hunting ground (Spain) Palestine  Na:tinixw / Hoopa, Berkeley Spokane, WA Okanagan Valley, BC San Francisco, CA Caribbean San Francisco , CA Las Cruces, NM Meereen  Football Field i luv raquel austin, texas Rock Hill, SC Macon, Georgia Ashxjonespr@gmail.com miami At Work Waialua, Hawaii East Coast icon: cheese3d @notoriousD12 Morris, IL Portugal Lynwood, CA Where the money at mi Saint Louis, Missouri it's a journey  Layang-Layang, Perak Inside your webcam. Stop that. Financial News and Views R'lyeh, South Pacific taking bath do not disturb Alberta, VA The Howling United Kingdom,Fraserburgh WorldWideWeb Pembroke NH Bayonne, NJ Dubai IG: AyshBanaysh fl Halfrica Melbourne San Francisco, CA Richmond Heights, OH New Hampshire U.S.A. - Global Members Site Tampa All around the world! In The Mansion Numa casa de old yellow bricks Coventry 94123 scandinavia los angeles, ca South Korea GMT+9 Baltimore, MD Hughes, AR Madison, WI University of Chicago yorkshire\\n Pittsburgh  Idaho Beirut, Lebanon El Paso, Texas qosqo Lubbock, TX CA via Brum Lizzy's Knee D(M)V   Marrakech MÌ©dina, Marrakech - Tensift - Al Haouz Ellensburg to Spokane SD |Norway| KSA A sofa CA via Brum \\x89Û¢5\\x89Û¢12\\x89Û¢14\\x89Û¢ | åÈ#SaviourSquadåÇ Pocatello, ID Room 234 Near Yosemite The Harbinger. Atlanta, GA CA via Brum Atlanta, GA chicago Dutch/English/German ARGENTINA Sydney oklahoma One World Desde Republica Argentina Oklahoma City, OK TÌÁchira - Venezuela a box Melbourne, Australia Barcelona, Spain New Zealand ARGENTINA Okuma Town, Fukushima rzl ? Desde Republica Argentina Orm in the Word of God #keepthefaith J&J Global Edition Seattle, WA world Saline, MI Here. BOT ACCOUNT #otrakansascity Dalkeith, Scotland Durand, MI Naperville Forging my Story Mass 14/cis/istj  Here. where I'm supposed to be Budapest, Hungary CA Houston, TX Cairo, Egypt. South Africa Karachi Pakistan Edinburgh HTX not so cool KY Hampshire UK Oblivion? South West, England ????? Redondo Beach, CA Newcastle, England Planet Eyal, Shandral System Karachi Pakistan Mumbai, Maharashtra Atlanta New Orleans, LA Phoenix denmark Davao City Based out of Portland, Oregon Kuwait Wildomar, CA buhh We are global! Adelaide Anchorage, AK World University of Limerick Sacae Plains Melbourne, Australia Southern Maine Five down from the Coffeeshop Renfrew, Scotland Kuala Lumpur, Malaysia Antioch, CA  Calgary, AB Reddit Nashville, TN Bakersfield, CA Nagpur Surrey & Manchester Calgary Atlanta, GA Im In Route  Madison, WI Kansas City North Hastings Ontario U.S. Northern Virginia M!$$!$$!PP! 204, 555 11 Ave. S.W. Calgary Augusta, GA Dallas, TX Torrance, CA Olympia, WA CA, AZ & NV Auckland Henderson, Nevada Vancouver, British Columbia Alaska Seattle, WA Sydney, New South Wales Olympia, WA Kodiak, AK ????? Sydney Birmingham, England Park Ridge, Illinois Glendale, CA Kuwait  Fleet/Oxford, UK Bahrain Coventry Newcastle @ ForSL/RP Kokomo, In Kenosha, WI 53143 Coventry San Diego Lagos CLT Africa San Diego Cydia New England Waterloo, Ont 17-Feb Brisbane New Britain, CT Chevy Chase, MD LA - everywhere wrapped arnd hyuk's finger Sevier County. Rochester Gold Coast, Qld, Australia Nashville FLYEST HIPPIE YOU KNOW  U.S.A An eight-sided polygon Konoha Village St. Catharines, Ontario //??// FSC '19 \\x89Û¢901\\x89Û¢ Gold Coast Portland, Oregon Portland, Ore.  North West England UK Manchester, UK Midwest Manchester UK TV5, Philippines Nashville, TN Queensland, Australia Harpurhey, Manchester, UK Portland, Oregon Benton City, Washington Manchester Chicago, but Philly is home Breaking News seoul WA State Hensley Street, Portland West Gold Coast, Australia Portland, Oregon Washington Sydney Australia Bend, Oregon Bend, Oregon Chevy Chase, MD Na:tinixw / Hoopa, Berkeley EIU  Chucktown/LaSalle IL Yellowknife, NT Bend, Oregon Renfrew, Scotland sydney, australia ÌÏT: 43.631838,-79.55807 Yellowknife US: 44.414510,8.942499 Tri-Cities, Wash. Bend, Oregon Portland, Ore.  The Empire/First Order Brisbane, Queensland Moncton, New Brunswick  |IG: imaginedragoner Williamsburg, VA emily | helen | shelley  New Orleans, Louisiana Yamaku Academy, Class 3-4 Spring Grove, IL The Windy City Oklahoma City, OK Bloomington, IN Yamaku Academy, Class 3-4 Whitby, ON Kajang ? UiTM Puncak Alam Dallas, TX ? Philly Baby ? Cleveland, TN they/them my deli Winnipeg New Hampshire Trost District ?????? in Yokohama Japan LFC x GSW Elmwood Park, NJ South east of U.K lrhcthband;four - bournemouth Oakland, Ca Jamaica zboyer@washingtontimes.com Wonderland\\x89ÛÓ ?????? ???? ?????? elizabeth king Chicago Heights, IL S.F. Bay area Columbus, OH On the toilet having a dump  Palestine Texas Kauai, Hawaii Rhode Island Jammu and Kashmir Terlingua, Texas Stay Fly? Philippines Pennsylvania South Africa South Africa Kyiv, Ukraine JamDung PanamÌÁ  Earth, Milky Way, Universe Edappally,Kochi Texas In #Fairie, where else? ;-) Ukraine ???? ??????? Rogersville, MO Ukraine Telangana Chatham, IL Charter Member of the VRWC Wood Buffalo, Alberta ÌÏT: 10.614817868480726,12.195582811791382 Anchorage, AK Nakhon Si Thammarat Somewhere with Clyde Quincy Winnipeg Fresno, CA Varanasi Laredo, TX Thane New South Wales, Australia Poconos Sacramento, CA Haddonfield, NJ ??? ???? ?????? Bangalore Also follow ? Play For Ryan ?? Dimapur In the potters hands Corpus Christi, Texas Cape Town Chamblee, Georgia Official Website #WashingtonState #Seattle TechFish  Hope Road, Jamaica  WestEnd, Puritan Ave  Youngstown, OH Nantes, France Caserta-Roma, Italy  Pekanbaruå¡Batam Islandå¡Medan oman muscat al seeb  Wisconsin Jogja, Indonesia Slowly Asia Vancouver BC Avon, OH The North Lima, Ohio Lowell, MA playing soccer & eating pizza Hueco Mundo Nairobi Boston \\x89Û¢ Cape Cod ? Rafael castillo Fort Wayne, IN Enterprise, NV 434 Grand Rapids MI U.S.A 434 Houston, TX   TX Christiana,Tennessee Nashville, TN Bishops Stortford, England Earth  Honduras Chippenham/Bath, UK Yewa zone Carregado Largo, MD mexico Cape Town, Khayelitsha Stanford University Bedford IN  Thibodaux, LA Brazil In the moment Alliston Ontario SaudI arabia - riyadh  Athens - Nicosia Bremerton, WA Tulalip, Washington Halifax Hilton Head, SC   St. Louis, MO SÌ£o Paulo 2 high 2 come down  Wrex big boy \\x89Û¢ 0802 Brooklyn To The Right of You! St.Cloud, MN on a catwalk somewhere   å_  Zac Newsome loves me louisville, kentucky Makai Fort Valley,GA/Fayetteville,AR Arizona Vancouver, BC Newark, NJ the road to success The Desert Sydney, Australia Yuba City, CA the moon Niagara Falls, Ontario Woodcreek HS, Roseville, CA Here & There District 12 - Orange County Plain O' Texas SouthEast Asia Saipan, CNMI Orange County, Calif. lost in my thoughts Five down from the Coffeeshop Orange County, CA Five down from the Coffeeshop Laguna Beach, Calif.   Nevada Carson City,Freeman St LA ?? Aracaju - Sergipe Nashville, Tennessee Texas Long Eaton åá Derbyshire åá UK WorldWide Portage, IN / Worldwide Roads/Trails Everywhere Nashville, TN Liberty Township, Ohio Aberdeenshire A Hoop Somewhere Basking Ridge, NJ Stalybridge, Tameside Sacramento, CA Franklin, TN near Nashville St. Louis, Missouri Bandung Louisville, KY  650/559 dreamy lake houstn hell St. Patrick's Purgatory @cockerelshoes manaus Sioux Falls, S.D.  Republica Dominicana Eastlake, OH Hillsville/Lynchburg, VA U.S.A Some where Travelling around the world   616 \\x89Û¢ Kentwood , MI  ? Jet Life ? Fairy Tail!  Santo Domingo Alma Rosa  Somewhere Around You Houston |??| Corsicana Cincinnati, OH Bacon Some other mansion Astley, Manchester Bow, NH Leicester Frome, Somerset, England Mars Melbourne, Victoria Essex, England somewhere too cold for me Barbados Leeds Wahpeton, ND Chorley, Lancashire, UK Northampton, MA Ventura Le Memenet Lubbock, Texas Derby Mississauga, Ontario Delhi  Keighley, England Pomfret/Providence Baltimore, MD East Lansing, MI Rocketing through the galaxy boston Warrandyte, Australia Aix-en-Provence/Utrecht Van Buren, MO Niagara Falls, Ontario Waddesdon Knoxville, TN Rock Springs, WY Vietnam Huntsville, Alabama Metro Manila Breaking News Jakarta/Kuala Lumpur/S'pore Vietnam I ACCEPT SONG REQUESTS Honolulu, Hawaii Republic of Texas Huntsville AL ?  don't run West Midlands Jakarta/Kuala Lumpur/S'pore Global-NoLocation Jakarta/Kuala Lumpur/S'pore Ocean City, NJ belleville Kualar Lumpur, Malaysia Austin, TX South of D.C. Adventist - Lesson Sabbath Passamaquoddy \\x89Û¢III.XII.MMXI\\x89Û¢ Sherwood, Brisbane, Australia Global-NoLocation Estados Unidos Timaru District, New Zealand Cameroon St Austell, Cornwall Philippines North America 21.462446,-158.022017 Rio de Janeiro PDX Shelby County port matilda pa Concord, N.C. Slatina,Romania Los Angeles for now ???????????? Western Washington Atlanta Montana  Cape Cod Nicola Valley Tips on my blog at Boise, Idaho Duncan Texas  Based in CA - Serve Nationwide Portland, Oregon Vancouver, BC Lansdale,Pennsylvania Sacramento, CA Carol Stream, Illinois Calgary/Airdrie/RedDeer/AB Hattiesburg, MS Arkansas Dagenham, Essex Inside the Beltway (DC Area) Windsor,Ontario Brasil, Fortaleza ce Paradise City Rapid City, South Dakota antoine fisher  Between Dire and Radiant Calgary, AB Calgary Bay Area, CA Las Vegas, Nevada Global Watch Those Videos - Tulsa, Oklahoma Calgary, AB Kicking Horse Pass far away Calgary, Alberta Calgary Suginami-ku, Tokyo, Japan Washington State Somewhere  Heaven Calgary, Alberta Virgo Supercluster facebook.com/tradcatknights Wyoming, MI (Grand Rapids) Dicky Beach far away Heaven Calgary, Alberta Global  Queensland, Australia Kansas City Cleveland, OH - San Diego, CA The barn where the wild things are ?semekeepschanging@soyeh? Kansas City i love you zayn Gotham City Seattle, WA WORLD WIDE TX England  Sumter, SC Someday I'll live in England.  Hogsmeade 5/5 access / rt link please x å_: ?? ÌÑ ? : ? 10-Jul Kansas City The South & WestCoast  Hogwarts va Portland, OR ?@symbolicjensen? Contoocook Valley Region of Ne Alameda, CA Arizona Lancashire, United Kingdom a van down by the river NIFC Giddy, Greenland Roppongi, Minato, Tokyo  Pleasanton, CA Portsmouth, VA scandinavia Dil's Campsite ilford Nashville, Tn SWinfo@dot.state.al.us Far Away From Home Muntinlupa City, Philippines Muntinlupa City, Philippines Memphis, TN ??? Mysore, Karnataka Portland, OR New Delhi, Delhi Fort Worth,  Texas  Arnhem, the Netherlands Pacific Northwest Somewhere in Spain Jackson, MS Frisco, TX Malaysia/Jordan Somewhere out there International Action Oklahoma City, OK Planet of da Bathing Apes Maricopa, AZ liverpool  Albuquerque New Mexico Riyadh jeddah | Khartoum United Hoods of the Globe Jubail IC, Saudi Arabia. ?????? ??? ?????? ???????? Right next to Compton 11th dimension, los angeles ??????????? ???????????..?  ?????? ???? ?????? Silvermoon or Ironforge Charleston, WV Benicia, CA  Riyadh ') Houston TX Innerhalb der LÌ_cke Kansas City, MO eating strawberry shitsickles Maryland Near Richmond, VA Kolkata am everywhere San Francisco Bay Area Louisville, KY Washington state Fort Collins, CO Halifax Sacramento, CA Free State, South Africa worldwide worldwide RSN: Tru El Paso, TX South Pasadena, CA perth, australia  Mongolia brisbane, australia China World Chiyoda Ward, Tokyo rome Athens,Greece Brazil IN our hearts  Earth Global  France tokyo china Brazil between ideas & 3-5pm AEST Japan Malaysia Zimbabwe Vancouver, British Columbia Starling City The Great State of Maine  Glenview to Knoxville  Roaming around the world ???? Cape Neddick, ME Global Mariveles, Bataan ÌÏT: 40.562796,-75.488849 Roaming around the world New Chicago San Francisco Bay Area Australia  Victorville, CA Washington D.C.  Eugene, Oregon THANJAVUR Japan Las Vegas, NV Cumming, GA westwestwestwestwestwestwest Midwest Tennessee Heathrow OK Cleveland, OH Pune, Maharashtra cuba china Rocky Mountains Brazos Valley, Texas china The Universe #BlackLivesMatter  Miami Beach #1 Vacation Destination,HAWAII Haiku, Maui, Hawaii NAWF SIDE POKING OUT  Vineyard @potteratthedisc Anderson, SC The Epicenter, and Beyond ??? ??? ????? ??? ???. Somewhere Powerbraking A Chevy Mexico City The Globe Chicopee MA Srinagar,Kashmir DFW, Texas MD Kolkata Ikorodu Sacramento, CA Doghouse someplace living my life World Wide Web Centurion  Avon ?? come here in 20 minutes for an ass kicking Emirates Milton Keynes, England Scottsdale. AZ Tennessee Atlantic Highlands, NJ Alameda and Pleasanton, CA Madison, WI & St. Louis MO Bay Area Mesa, AZ Carterville Corpus - Las Vegas - Houston Spring Tx Georgia, U.S.A. Moncton, New Brunswick beijing .China Somewhere in China. Houston, TX Sacramento, CA Peru Lahore Saint Paul Shah Alam,Malaysia Dubai, UAE ÌÏT: 35.223347,-80.827834 Plano, Texas mnl Dallas, TX Louisiana Dallas, TX Russia Baltimore England & Wales Border, UK Zeerust, South Africa Seattle Bristol The Main  The windy plains of Denver Sunbury, Ohio Land of Lincoln swindon Croydon Asia Coventry Singapore Manchester, England UK, Republic of Ireland and Australia Milton keynes Pontefract UK the Dirty D Paducah, KY Maryland Asia European Continent Korea  Athens, Greece Cascadia County Durham, United Kingdom Melbourne, Australia Roanoke, VA Dundee, UK Texas Austin, Texas Detroit Tigers Dugout st.louis county missouri  Europe Scotland Detroit/Windsor Dundee Edinburgh EGYPT The Circle of Life i got 1/13 menpa replies, omg Pocatello, Idaho Nashville, TN probably watching survivor Medan,Indonesia Santa Maria, CA ??9? Colombia Jakarta Newark, NJ Chicago, Il LA Bandar Lampung, Indonesia Venezuela San Jose, CA Madison, WI buffalo / madrid / granada HI\\x89Û¢UT\\x89Û¢AS di langit 7 bidadari (^,^ ) Vancouver, BC Coventry, UK Seattle, WA Georgia Norman, Oklahoma Rapid City, Black Hills, SD Memphis, in the Tennessees Rotterdam, The Netherlands Victoria, BC Elchilicitanierraversal  (RP)  45å¡ 5'12.53N   14å¡ 7'24.93E Reddit  Holland MI via Houston, CLE Reddit  SoDak Waverly, IA Why should you know? Photo : Blue Mountains  Bedford, England Aperture Science Test Facility im definitely taller than you. {Detailed} Fairgrounds Resident English Midlands Victoria, Australia, Earth Antarctica Magnolia, Fiore  New Sweden Victoria, Australia, Earth cereal aisle #17:i4 i'm a Citizen of the World Leicester, England Melbourne, Australia  Queensland, Australia Realville New Sweden by a piano probably.  Fiore, Lamia Scale Chattanooga TN Nashville, TN Birmingham, England Huntsville, AL Auckland Haysville, KS Seattle Earth-616 wisco San Diego, CA Leaving Bikini Bottom Haysville, KS Eww, I'm not Paul Elam Huntsville, AL Hemel Hempstead Chester Football Club Fresno West Hollywood, CA ANDY 4 LEADER X Hell Haysville, KS Tama, Iowa Dundee Minneapolis - St. Paul Las Vegas aka Hell Ashburn, VA St. Louis, Mo Kingston, Jamaica Nottingham, England  The World Own planet!! Ecuador Stay Tuned ;)  Cimerak - Pangandaran Arizona Norway Wausau, Wisconsin Boston, MA GLOBAL/WORLDWIDE Lynchburg, VA 107-18 79TH STREET Boston, MA The Waystone Inn ?? Made in the Philippines ?? Boston/Montreal  Manavadar, Gujarat PG County, MD Somewhere between Chicago & Milwaukee InterplanetaryZone WORLDWIDE-BOSTON 107-18 79TH STREET The Universe laying on the bass Cleveland, OH Hustletown ? miranda ? 521 mi #partsunknown Proudly frozen Canuck eh !! IL KSU 2017 Storybrooke / The Moors NOLA ?? TX neil's kitchen  |  32215 The shores of Lake Kilby Leeds, England Two Up Two Down The Internet Flushing, Queens  Quantico Marine Base, VA. Alaska Bozeman, Montana Hearts & Minds Ewa Beach, HI Texas Boston MA Memphis, TN 302 highlands&slands scotland Malibu/SantaFe/Winning! Edinburgh, Scotland Wales Nottingham Tring  Co. Tyrone Northern Ireland Birmingham & Bristol IUPUI '19 potters bar the burrow plymouth The Pumpkin Carriage of Dreams Edinburgh Memphis, TN Notts South, England home  Birmingham and the Marches MÌ©xico D.F. Greenwich Meridian Newcastle Upon Tyne, England lia\\x89Û¢dani\\x89Û¢laura in my own personal hell (: sÌ£o luis Aurora, IL America of Founding Fathers on to the next adventure America of Founding Fathers Guatemala America of Founding Fathers Leitchfield Kentucky Littleton, CO Austin TX The Netherlands Marbella. Spain Inexpressible Island  Ashford, Kent, United Kingdom Dhaka, Bangladsh #goingdownthetoilet Illinois San Francisco Bay Area US Under Santa Barbara Skies Fukushima city Fukushima.pref Norwalk, CT japon Eaubonne, 95, France Pluto Japan Denver, CO Arizona Paris (France) Johannesburg, South Africa Den Helder, Rijkswerf Warsaw Aztec NM Denver, CO World Fort Calhoun, NE Bournemouth, Dorset, UK Virginia Somecity, Somerset, MD Dover, DE Cavite, Philippines Korea Seattle M!A: None Purfleet The Memesphere 21 | PNW Miami via Lima Cymru araul EIC NEWCASTLE Jump City Dudetown Ondo Bhubneshwar cedar rapids ia EIC Texas satan's colon Valparaiso  prob turning up with sheen #freegucci Tennessee Waterloo, ON The dark Reading MA Wynne, AR Dublin, Ireland The Wood Palmyra, NJ Tennessee 1313 W.Patrick St, Frederick Danbury, CT Mid West Upstairs. Winnipeg, Manitoba leyland Birmingham, England don't buy the s*n Overton NV Born in Baltimore Living in PA Elizabeth, NJ a feminist, modernist hag. Glasgow, Scotland Maryland kissimmee,fl. New Orleans ,Louisiana 828/704(Soufside)/while looking goofy in NJ Merica! DC Metro area Federal Capital Territory Illinois Turkmenistan 23 countries and counting! Ontario Montgomery, AL Amarillo Las Vegas, Nevada Sydney, NSW Clean World Street of Dallas England, Great Britain. San Luis Obispo, CA Kamloops, BC Street of Dallas Karachi Pakistan Financial News and Views Corpus Christi Chile EspaÌ±a, Spain LAGOS ?????? ??? Bandung Italy Stockholm, Sweden Eagle River Alaska ÌÏT: 6.488400524109015,3.352798039832285 Nottingham, United Kingdom Akure city in ondo state  The Netherlands FCT, Abuja  Finland SÌ£o Paulo Fukuoka, Japan kano ?? ?+254? ? \\\\??å¡_??å¡_???å¡_?/?? Dammam- KSA Pro-American and Anti-#Occupy The Kingdom of Fife, Scotland Dallas Fort-Worth Scotland Everett, WA ?????? The P (South Philly) VONT ISLAND, LAGOS Houston TX Leeds, UK www.facebook.com/stuntfm Lagos Dallas Fort-Worth Miami?Gainesville illinois. united state  Royton the Refrigerator  Brasil Leeds, United Kingdom Linton Hall, VA The Internetz Charleston, IL Narnia Topeka, KS Narnia Manhattan elena's bed // info on link Elsewhere, NZ The Shady Hyenatown of Finland Maryland  worldwide East TN. Milwaukee WI Macon, GA Narnia Torry Alvarez love forever ? ? Detroit Petaluma, CA ?^åá??åá?^?? ?? ? Singapore Oxford / bristol PARACHUTE Near Warrington |-/ Pawnee Melbourne, Victoria Manchester Georgia Derbyshire, United Kingdom VCU McLean, VA Positive 852 Manchester, England Kansas City, Mo. anzio,italy h+l Republic of Texas Portland, OR SoCal Milwaukee, WI Mesa, AZ Stratford, CT Houston  Los Angeles  PA South africa Bucharest Mumbai, Maharashtra Joshua Tree, CA Area 8  ÌÏT: 40.707762,-74.014213 mumbai Killa Hill, CO Southern Califorina all over the world San Diego, Calif. Geneva. And beyond.  VÌ_a LÌÁctea San Diego, CA Some Where in this World Cumming, GA Korea South Africa russia Melbourne Livonia, MI Karolinska vÌ_gen 18, Solna China I Heard #2MBikers Dunwoody, GA Ebola Mongolia Broadview Heights, Ohio china rome China Burlington, VT La Grange Park, IL Warszawa #MayGodHelpUS Darnley, Prince Edward Island Gloucester, MA vancouver usa Alberta  Yobe State Coventry, Rhode Island Federal Capital Territory La Puente, CA music. online  Memphis, TN Thailand Malaysia Indonesia  vancouver usa Fairfax, VA Memphis, TN Seattle Sicamous, British Columbia North Memphis/Global Citizen Bridport, England Porto Alegre, Rio Grande do Sul North Vancouver, BC Seattle Pioneer Village, KY ECSU16 Tulsa, OK WorldWide North Ames, IA Augusta, Maine, 04330 Ad Majorem Dei Glorium Aurora, Ontario   Baku & Erzurum  Statute Of Limitations_ paradise  BC, US, Asia or Europe. St PetersburgFL EspaÌ±a Tarragona Warri Melbourne Australia 21.462446,-158.022017 Skyhold Amman,Jordan tripoli international airport Auckland, New Zealand QLD Australia Geneva, Switzerland Trinidad & Tobago SF Bay Area #HarleyChick#PJNT#RunBenRun Big NorthEast Litter Box Sand springs oklahoma Surry Hills, Sydney Sand springs oklahoma #HarleyChick#PJNT#RunBenRun Wanderlust Karachi U.S.A.   FEMA Region 5 Jakarta watford West Hollywood Kent The Multiverse Bournemouth Jammu | Kashmir | Delhi Huntley, IL The green and pleasant land. Leeds, U.K. Boston MA Jakarta/Kuala Lumpur/S'pore Cape Town Westerland Kuala Lumpur Surabaya #iminchina Africa Birmingham ?????????????, Thailand  17th Dimension Washington worldwide Phoenix Paris, France Here, there and everywhere Belgrade Cardiff, UK Bossland World Wide Web Uppsala, Sweden Detroit, MI Frankfort, KY In Space Sligo and Galway, Ireland Seattle Tipperary (Long Way)  Malang San Francisco, CA hertfordshire. Dublin Spare 'Oom SURROUNDED BY WEEABOOS Vidalia GA Vista, CA Serva Fidem Bellville, Ohio trapped in America A little house in the outback. tri state Scotland, United Kingdom Chicora ?? Oakland heart of darkness, unholy ? Colonial Heights, VA The Weird Part of Wonderland Alabama A little house in the outback. Columbus, Georgia Accra,Ghana World Dubai, UAE Phoenix Az Italy ON St. Louis, MO Spain - China - Latin America. Chester, IL West Africa Made Here In Detroit  Portland, OR Dallas, Tejas ATLANTA , GEORGIA  | CA \\x89Û¢ GA  | Nashville, TN Depok texas austin tx Garrett followurDREAMS(& my instagram) sheffield // rotherham Wailuku, Maui Lima, OH Long Beach, CA Belfast fujo garbage heaven  snapchat~ maddzz_babby  2,360 miles away Winnipeg, Manitoba Boston Sacramento, CA #RedSoxNation MNL youtube.com/channel/UCHWTLC9B4ZjUGh7yDlb55Iw CA ??DC Des Moines, IA MÌ©rida, YucatÌÁn Scituate, MA hkXfYMhEx US Hamilton County, IN Dakar In your head WA State The Sanctuary Network, Rome Tractor land aka Bristol Adventuring in Narnia Asgard San Diego, CA Unite. Bless. Wallahi  sneaking glances at Thancred ljp/4 Nirvana Mentor OH Trumann, Arkansas 18 \\x89Û¢ CC 1D | 5SOS | AG m3, k, a, d pissing off antis 'SAN ANTONIOOOOO' sisterhood 3000 miles from everyone livin in a plastic world with Doflamingo 21, Porto access to njh/5 and cth/4 tx tx rio de janeiro | brazil Moore, OK \\x89Û¢OlderCandyBloom\\x89Û¢ Justin and Ariana follow [@blackparavde is my frankie] Daddy Kink Central Wakefield, West Yorkshire Pittsburgh Namjoon's pants All around the world  Jariana Town Honeymoon Ì£ve. Aveiro, Portugal justin & ari follow || tvd 9/1/13 JDB/LJC/AGB/TW/PLL nap queen amsterdayum 120615 062415 lesa * she/her Griffin :3 xiumin's nonexistent solos marvel | books | hp | tmr blackfalds. San Juan, Puerto Rico Freddy Fazbears pizzeria BrasÌ_lia POFFIN #Gladiator \\x89Û¢860\\x89Û¢757\\x89Û¢ W.I.T.S Academy Where ever i please Melbourne, Australia. Sheffield/Leeds PLFD cuh.. lost in history 5-Feb labyrinthia ??+ ... ??+ texas garowe puntland somalia Oakland, CA Third rock from the Sun Somalia Lakewood, Tennessee Smash Manor/Kanto ?????? Somalia Bokaro Steel City, Jharkhand 412 NW 5th Ave. Portland OR Mogadishu, Somalia the azure cloud Perenjori, WA Unknown  Atlanta(ish), GA Trinidad and Tobago Above the snake line - #YoNews San Diego Haddonfield, NJ ill yorker Newcastle Above the snake line - #YoNews B&B near Alton Towers \\x81Êwagger!Ì\\x90ominicanÌ÷ Haddonfield, NJ hell Texas af San Diego, CA Hinterestland Evansville, IN Greenpoint In the potters hands Haddonfield, NJ ÌÏT: 42.910975,-78.865828 Newcastle San Diego, CA Cypress, CA 90630 Sacramento Vancouver, British Columbia North East Unsigned Radio Every Where in the World Memphis Fountain Valley, CA Sacramento, CA Liverpool Haarlem Queensland HOMRA. Ciudad AutÌ_noma de Buenos Aires, Argentina Not where I want to be, yet Rhyme Or Reason? MA hey Georgia Coventry nc My subconscious  New England UAE,Sharjah/ AbuDhabi The Web Paris. Am International Team Slytherin Michel Delving. Hame Brizzle City ! ???  Dreamz ???  Dreamz texasss Diamondville The TARDIS Honolulu,Hawaii  Flipadelphia The American Wasteland (MV) high way 99 ... -.- -.-- Ohio 828??864??803 they/them  Greater Los Angeles Bearia victoria mozÌ£o  Denver, CO Seattle, WA they/them  Sydney Hollywood miami x dallas  Hamburg, DE Decatur, GA Los Angles, CA az Crato - CE  Philippines Ventura, Ca Arlington, TX Rio de Janeiro MedellÌ_n, Antioquia Houston, TX Soufside Dalston, Hackney WORLDWI$E  atlanta 3.28.15|7.20.15|7.25.15 cigarknub@gmail.com Ktx PSA Nursing  Narnia, Maryland Dallas, TX Wakefield MA Huntington, WV Manchester Hampshire, UK This Is Paradise. Relax.  Deployed in the Middle East teh internets Neath, South Wales Mountains Porthcawl In the spirit world Mpela'zwe  Austin, TX Italy Somewhere Only We Know ? mind ya business nor*cal Atlanta, GA philly Mackem in Bolton Johns Creek, GA  New Delhi   Alberta #BossNation! pittsboro NC || OR EspaÌ±a - Spain - Espagne #PhanTrash Desert Storm?? |BCHS| Cleveland, OH - San Diego, CA Ottawa, Ontario Santiago de Chile CamaquÌ£/Pelotas Taylor Swift Oklahoma City Austin/Los Angeles Taylor Swift In a crazy genius mind hatena bookmark Docker container Taylor Swift DMV philly  south africa eastern cape Amazon Seller , Propagandist ?? 3???2??????? San Francisco, CA Cimahi,West Java,Indonesia Bukittinggi  ?? Sumatera Barat Asia Stateless Global Citizen Halton Region Asia Los Angeles, Calif. Bukittinggi  ?? Sumatera Barat Warm Heart Of Africa ÌÏT: 27.9136024,-81.6078532 VÌ_sterÌ´s, Sweden Reality Roadside Lagos The Land of MAss Stupidity dorito land Gidi Email: Lovethterry@gmail.com Homs- Syria lagos. Unilag Na waffi GLOBAL WorldWide Helsinki Saudi Arabia 19.600858, -99.047821 africa Moscow Birmingham, United Kingdom England Paris Istanbul Chicago IL Principality of Zeron GCC On a beach  Belgium Memphis EARTH Lagos Tokyo & Osaka 18 | 509  glasgow Bon Temps Louisiana my house Beacon Hills Derby Gaborone, Botswana Bracknell {GoT | Modern AU | Lizz} Cardiff, Wales In your mind Virginia Essex oxford Wisconsin Gloucester San Jose, CA i beg vines sorry  Ashburn, VA toledo Semarang, Indonesia Lincoln City Oregon Fountain City, IN  gaffney, sc  ???????, Texas Camberwell, Melbourne Kansas ava Barbados Back East in PA ? icon by @Hashiren_3 ? EveryWhere Gotham City Trapped in my Conscience  death star Brentwood,TN Auburn  Mumbai, Maharashtra ? Polmont  Predjama, Eslovenia. Pakistan Tn South Asia Reading a romance novel Glasgow Bulgaria U.K. Scotland Puerto Rico Austin, TX AUSTRALIA-SOUTHAFRICA-CAMBODIA Port Williams NS Dallas, TX  SÌ£o Paulo, Brasil WORLD Stowmarket Philadelphia, Pennsylvania Texas Lake Monticello, VA Sao Paulo Upstairs. WV, love the blue and gold Shanghai Upstairs. Marietta, GA Numenor everywhere Salt Lake City, UT Earth 0 Lancaster, CA Melbourne Planet Earth Jeddah_Saudi Arabia. Riyadh Iraq|Afghanistan| RSA |Baghdad peshawar pakistan  world Beit El - Israel Iraq|Afghanistan| RSA |Baghdad Sanganer, Rajasthan Loading... Chennai BILASPUR,CHHATTISGARH,495001 Niall's arms proudly South African MAD as Hell MAD as Hell ????? ???? ???? Charleston S.C. MAD as Hell Iraq|Afghanistan| RSA |Baghdad Hyrule front row at a show Arlington, VA God.Family.Money Kwajalein/Virginia/Dayton, OH BiÌ±an,Laguna Enfield, UK Atlanta, GA Enfield, UK Decatur, GA Gander NF Leeds, England nowhere Palm Desert, CA Palma, Islas Baleares ?? Accra,Ghana Baydestrian Macon, GA gamertag: bexrayandvav  Tulsa, Oklahoma Jupiter Jupiter Sydney El Dorado, Arkansas East Coast Oklahoma City, OK WORDLDWIDE 73101 Oklahoma City Nicoma Park, OK Memphis, TN Helsinki Killafornia made me  El Dorado, Arkansas NC God is Love.  cognitive dissonance town I O W A Gurgaon, Haryana.  Wherever I'm sent Austin Midwest Midwest Fort Knox, KY 40121 San Antonio, TX Providence RI / Lisnaskea  khartoum sudan Naperville    #SandraBland 'Merica Harper Woods, MI San Diego, CA dubai  staggering on tenement roofs Silicon Valley houston Orlando  MÌ©xico Jamaica America call me peach or sam lo Orlando shoujo hell  10 Steps Ahead.  Cloud 9 central chazifornia Utah ????s ?? ????Ìø????Ì¡a T E X A S | wwat 8.24.14 worldwide 876 Jamrock. Puerto Rico å_å_Los Mina City\\x89ã¢ St Louis, MO WORLDWIDE! Like us on Face  Montgomery County, MD Detroit, MI LOCAL ATLANTA NEWS 4/28/00 - 4/28/15 FREELANCER Your notifications Methville, CA I rap to burn shame. Houston, TX www.aprylpooley.com  Little Rock, AR The Jewfnited State Minneapolis, MN Gumptown Nashville, TN World The Triskelion Minneapolis/St. Paul Chicago, Illinois Kirkwall uk Sweden Portsmouth, UK cork Scotland dublin  ELVY South Africa Tunbridge Wells lowestoft North East / Middlesbrough  Tring, UK Stage with Trey Songz Tamworth Gold Coast, Australia YA MOTHA BED Atlanta Illumination  Bathtub de Bett  Chasing My Dreams w/Jass?? Boston, MA Rochester Hills, MI Displaced Son of TEXAS! ? on twitter  Wolverhampton Manila City Palo Alto, CA in the Word of God in the Word of God Louavul, KY IG : Sincerely_TSUNAMI Kleenex factory ?????????????? Land Of The Kings The Netherlands #ODU ona block w/ my BOY ?? but i love kaylen ?? COMING SOON in the Word of God Austin, TX Hawaii BROKE NIGGAS DREAM!! in the Word of God Calgary, Alberta Las Vegas, NV  Detroit Geneva å¡å¡Midwest \\x89Û¢\\x89Û¢ Riverdale, GA  Calgary, Alberta Plano,TX Midwest City, OK Lisbon, Portugal Galapa / AtlÌÁntico STL ?NOLA Long Island Downtown Oklahoma City Seattle native in Prescott, AZ Savage States of America Whole World  Ibadan,Oyo state ngapain? Tema,Accra phuket thailand Houston, TX Unites States REPUBLICA DOMINICANA Santiago,RepÌ¼blica Dominicana Wilmington, Delaware iamdigitalent.com SWMO anzio,italy The Peach State Dhaka Halifax, Nova Scotia Deadend, UK Oregon Jamaica Chester eBooks, North America Sydney & Worldwide Auckland, New Zealand Scotts Valley, CA Oregon IG/SC:bjfordiani Woosley Costa Rica Hamilton, Ontario CA maryland Attock Atlanta, GA Milwaukee, WI CPT & JHB, South Africa Oregon and Washington Karachi Connecticut Perth, Western Australia Yuuko-san's shop Watertown, Mass. Milky Way galaxy  us ??? ???? ?f glory. ? Your Six South Africa Costa Rica ÌÏT: 1.50225,103.742992 Newcastle, OK New Zealand Barbados Amsterdam & Worldwide 3rd Eye Chakra Perth, Australia  ? ??????? ? ( ?? å¡ ? ? ? å¡) ARGENTINA Paris Ted&Qz Inc, Ireland, Europe Santiago de Cmpostela Galicia cleveland, oh right here nashville, tn  Incognito Somewhere else... Columbia, SC In a graveyard  Louisiana Host of #MindMoversPodcast The D Still. ??S.A.N.D.O.S?? We're All Mad Here ca(NADA)  T-Ville Pennsylvania //RP\\\\ ot @Mort3mer\\\\\\\\ ????? åÊ(?\\x89Û¢`?\\x89Û¢å«)?? ? UK,singer,songwriter,?2 act kediri,,jawa timur MI - CA Des Moines, IA Washington DC ????? www.twitch.tv/PKSparkxx statesboro/vidalia Manchester, England Haveli, Maharashtra Slateport City, Hoenn jayankondacholapuram.tamilnadu Not Of This World ohio Odawara, Japan Houston, TX Ely, Cambridgeshire GrC Founder, 8,000 Subscribers Los Angeles  England Incognito Regalo Island Multinational ***** rural ohio (fuck) ?????? West Hawthorne, NE ??? ????????????? Rocky Mountains ( ?å¡ ?? ?å¡),  Kernow Nottingham, England The Netherlands St. Louis Holly, MI Somewhere between here & there CHICAGO Frostburg Thailand Canterbury kent The Sun's Corona 140920-21 & 150718-19 BEIJING World Sheff/Bangor/Salamanca/Madrid Stamford & Cork (& Shropshire) 140920-21 & 150718-19 BEIJING #KaumElite;#F?VOR;#SMOFC Richardson TX Las Vegas Internet Pittsburgh Where I Need To Be Here, unless there.   Manchester NEPA/570 pettyville, usa Phila. Atlanta - FAU class of '18 Bristol, England Houston Twitterville Eastern Iowa Dallas, TX planet earth nap central Olathe, KS Madrid Johannesburg, South Africa Hartford, Connecticut Cedar Island, Clinton CT 06413 West Vancouver, B.C. Tucson, AZ Get our App Vail Valley Amsterdam | San Francisco Ashland, Oregon Oakland, CA Columbus, OH Around the world Washington State ?? Cloud Mafia ?? Eddyville, Oregon 97343 Galveston, Texas Victoria, BC Georgia ? Tennessee Puerto Rico Austin, Texas Jakarta, Indonesia Puerto Rico San Diego, CA calgary,ab Newton, NJ 07860 she/her/your majesty/empress Houston LYNBROOK Argus Industries \\\\m/666\\\\m/ Friendswood, TX Sugar Land, TX (a) property of the universe Home is where we park it! Webster, TX Maracay y Nirgua, Venezuela North Cack/919 Scottsdale, AZ Venezuela FILM OUT LATE 2015 Miami,Fla santo domingo Worldwide - Global Suva, Fiji Islands. Americas Newsroom worldwide Fredericksburg, Virginia England, United Kingdom Wherever I'm needed Charlotte  Sale, England Newcastle, England  Kashmir! Kashmir! in my head Lake Highlands Charlotte, N.C. iPhone: 33.104393,-96.628624 The American Wasteland (MV) Cleveland, OH Cape Town Shady Pines  Wales, United Kingdom  Alex/Mika/Leo|18|he/she/they ?Gangsta OC / MV RP; 18+.? Earth: Senseless nonsense Not Steven Yeun / AMC. cody, austin follows ?*? Charlotte moss chamber b 1/10 Taron squad Argentina  ?currently writing a book? Lebanon, Tennessee Pratt-on-Wye Somerset, UK Victoria, BC Atlanta, Georgia Baltimore Primum non nocere Arlington, TX Gwersyllt, Wales Greenville Greenville, S.C. Innsmouth, Mass. 709? Norwich Plano, IL scumbernauld Tokyo Sydney WorldWide khanna Africa Mumbai, Maharashtra Bangkok Punjab Dublin City, Ireland iTunes uk No ID, No VOTE!!! iTunes Maharashtra Xi'an, China Robin Hood's County  Pennsylvania Santa Cruz, CA Milwaukee County Click the link below, okay  probably not home 6 At your back Livingston, MT   Glasgow  Denton, Texas Global TN #NewcastleuponTyne #UK Lincoln\""
            ]
          },
          "metadata": {
            "tags": []
          },
          "execution_count": 26
        }
      ]
    },
    {
      "cell_type": "code",
      "metadata": {
        "id": "1pwTZDmVqyPY",
        "colab_type": "code",
        "colab": {}
      },
      "source": [
        "#listo se limpio el texto"
      ],
      "execution_count": null,
      "outputs": []
    },
    {
      "cell_type": "code",
      "metadata": {
        "id": "_WqjmNBjqkm-",
        "colab_type": "code",
        "colab": {
          "base_uri": "https://localhost:8080/",
          "height": 141
        },
        "outputId": "c51336cb-eb8a-4b46-8820-f513dc8da335"
      },
      "source": [
        "texto2=texto\n",
        "texto2=only_letters(texto2) \n",
        "texto2=word_tokenize(texto2)\n",
        "texto2=filter_stopwords(texto2)\n",
        "texto2=lemmatize_tweet(texto2)\n",
        "texto2=transform_to_text(texto2)\n",
        "texto2"
      ],
      "execution_count": 27,
      "outputs": [
        {
          "output_type": "execute_result",
          "data": {
            "application/vnd.google.colaboratory.intrinsic+json": {
              "type": "string"
            },
            "text/plain": [
              "'irmingham st eptember ristol retoria orld ide aranaque ity ive n ebcam milky way ive n ebcam ngland heffield ownship hio arbados naheim buja outh frica ao aulo razil hollywoodland dmonton lberta reaty nang amantasan witter ockout progress oncord algary irmingham ashville anta lara ouis alker ounty labama ateo ounty isters edroom rlington outh loomfield aldives anchester global lberta ask ontana harlotte aton ouge agerstown loucestershire nstagram heyimginog witzerland nstagram heyimginog omewhere nly e elgium witzerland dope show witzerland witzerland aker ity regon marysville ca ermosa ennsylvania alt ake ity tah alo lto agle as exas bangalore inancial ew iews boyfriend leg omewhere ut sri lanka ot resident hrissur avenford srael ashion eaven rancisco italy ackson ew rleans est ale appily arried kid ambridge rizona msterdam windonngland appily arried kid illiamstown arachi appily arried kid appily arried kid c h c g exington laya igher lace orsemind oksburg reater anchester oston anopy ingdom zone layer rancy anor outh est ancashire iews rom ix waning round ild ild eb ubconscious pain physically oston trong eezy aught e physically oston trong ock ill oolidge epublic exas hoenix jubljana lovenia onnecticut acomaashington ubconscious handler sindria exas exas hire ustin akland lbuquerque uenos ire rgentina ntonioish arlingen egas okyo lphen aan den ijn olland rigley ield probably strip club ngland ere nd otterdam uidolland erry owhere verywhere owhere verywhere ast oast rwellion policestate astaic elsinki inland ast ilbride middle eastern palace ent owhere verywhere erthshire twitchtvnaturalemblem cyprus emphis tudio ollywood akistan exico ampinas p urbank pokane ashington ur mpire tate erusalem ingston ennsylvania ilwaukee ero ranco epublic exas bajaur erusalem iami orthast egion ingapore erusalem srael enasha s tlanta s leak ouse heccfidmssgmailcom s londe ry merica ay rea s s delaide outh ustralia s s snapchat fvckcasper s s s allas ocation elena ritney ilary ubai ucson z eattle ellevue est ank aza trip cotland nited ingdom nline ot even kidding rowyso dallas alton ntario portland oregon st olge uduru ayton hio lobal ph ity f oy blam squad atx eshawar rancisco roningen etherlands urope ivingston rundel merica israel aulo rasil imitris arm slo orway oughton ssex guaravitas core ore oals uying core eam oals uying outh entral ale enver rasil uy ive e oney aple uite uy ive e oney uy ive e oney hilippines reeport il orld anville reat ritain erusalem ose allas aton ouge se tweet get tah isconsin est ichland ashington ritish girl exas ilver pring hoenix tlanta ilmington emphis iunes xford tlanta elham tlanta rkansas onesboro cross tlantic ver oon xtraterrestrial ighway spoo inland ashington area th oint si ydney ew outh ale rancisco etherlandsmsterdamirtual timeline kamu udapest ungary earching ae ydney ew outh ale agle ountain exas olumbus emecula tlantaa resno ducked io de aneiro olumbus oity ripsburg m urham elhi rizona arachi seattle wa oity otham ity contac allas ig ymbol labama ntramuros anila etween world tate eorgia screen imaeru worldwide altillo oahuila de aragoza uitland onoha wag rancisco aint arys ssexrighton ockford n middle altimore dmv fashion school ice place uantico sland ake ive ak age ake adisonville lberta ack expelcly heart ghost town reat tate exas licante alencia tlanta local dump eattle aterford va pez sophia ancouver wherever algary lberta ama rance ydney aruka near amworth muiden etherlands niversity eight hio entral llinois aton ouge ipbois olombori anka ohannesburg outh frica e mammy belly biza aventillemoorings cotland ancouver leveland ama rance ama rance aterfront columbus ohio aukesha ydney imalayan ountains ouston deally big tree onversing n anets af imes alace airo gypt eattle ug orest canberra nternational orld tx ununlndia tirapina aulo wa iloxi ississippi uenos ire recksville alaysia vanorankivsk unshine oast ueensland imes alace nglanduropeol ashua eicester estchester ynnfield evel arrison ector ingapore delaide outh ustralia egas lasgow hity land orthern reland ingapore hristchurch ew ealand torybrooke blanket solated ity n orld erth razil anta ruz nverness ovum cotia klahoma fluffy cloud th imension eorgia uly th rey rea aul obblestone cotland osmic neness uildford owhere slandsmash anor kisumu aking orldwide hange ear egas rimsby ngland otham anchester orld ngland sitting ddie edders lap reenville aignton aignton aignton aignton car travel ydney ew outh ale ngleood exas loud ormer ugoslav epublic acedonia elousas lobal herevermt uber eight iami ouston rizona livin ustin exas klahoma ity isconsin harlotte washington dc waning round altimore nnapolis ife ushkill pa n hadows southwest x enlo ark orld peaking ruth ove arhus entral utland incoln olton ewkesbury travelling taes pant keli x anchester noxville hicagobotz whs dmonton lberta ia ardashianmpire unrise anor xford dawara apan e oines undas ntario etherlands okyo ld lighty tlanta eorgia abul uebingen nnsbruck ight dark form void rbil tockton tee eesside crewston old ew ngland home melbourne ape arwick ollarocracy also texas university hipwreck ove ydney ustralia orldide verland ark uerto ico ilicon alley ingapore itria ew elhi elhi uscame tu elte iltshire eicester ittsburgh oston eeds ngland laya del armen exico eicester ackay ustralia uincy adison urveeareadentralnet harles iam af utside atrix hink n ell pic ity somewhere rainbow elmaakland ombardment ay avannah dallas ew rleans ouisiana ngland nited ingdom ublin ity reland eeds ngland ew ampshire orld ide ntermountain est orld ide ew ampshire anchester ulsa klahoma uburn taken piper curda cotland weden roton risbane ustralia eoria eading oncord orcester oanoke nj via oston orld ide ew ampshire klahoma ity iego xgerxa elleville llinois labama akland scondido hicago rea herry reek enver logland mumbai sle ampton oads ameday arthling aracas enezuela harlottetown aradise ta ige pokane ashington taco bell ustralian apital erritory kate theythem infpt acramento ackay ustralia harles please weit ixwin antiago ernabeau yel hiterun kyrim ew rleans ouisiana eattle reenpoint rooklyn dallas klahoma ity ictoria ritish olumbia botanical garden probably adison elspruit outh frica midwest openhagen apital egion enmark n ell pying thought seattle grace mercy death elmaakland rizona pic ity ead ffice nited ingdom id north coast ihone ueen reek amaica rinidad obago elbourne ustralia anberra ustralian apital erritory beacon hill somewhere outside olmers rust chool oys oughborough ydney ustralia elangor hilippines hoenix e oyne einz ield kyport de la osa owal alzone one ueanbeyan ydney nsula arataria everywhere nglewood bsecon ostly uin airobi ochelle south heaven l orado anta onica oledo irginia oulder ospital bc vid n kinhan arm eattle ansas ity ellington ew ealand los angeles ca ew runswick ity ngels organville exas merica ew ealand enver tockholm weden zeroth ytham nne lisse isconsin ortugal around world baby ntmdutdoors ima er uxton enice ottingham uito cuador nexpressible sland ose ouvet sland lanet arth nexpressible sland lanet arth ortland ublin reland lanet arth urking eeds ngland enter omestic reparedness kraine reland elt ale eattle ashington eaumont nnapolis egas evada eattle ashington arris ounty exas yler vanston orth erriby ast orkshire olombia eattle ashington vanston me owa eattle ashington oscow ussia ankato rbost ictoria ustralia omewhere everland aundry ivea norway ad hawty estoast olchester ssex livin life uplex ity nside mind ydney ustralia lappin mackin adrid omunidad de adrid etherlands ighland ark cotland wan iver elrose ubail audi rabia ocation ugarhouse lugo hicago llinois lackpool ngland akefams n cloud andton outh frica ummerville otw urope righton ove use ehind bama urtain orldwide enderson manchester uk ugene regon theyher aris okyo hehim uplex ity ictoria ritish olumbia ingston amaica pokane standing behind lexandria gypt instagram hloeellx web rancisco ay rea oreverith upport whereverthefuck washington erth estern ustralia ive m elton regs place iejo ansas ree tate ilang avite araaque ort mith rasil planeta wwwyoutubecomalkavius orever irl sprito anto arylandaltimore ew rleans ancouver ouston exas edford ustin alaysia allas exas oanoke nnamed ity eterborough n protectingtitans side regon au laire isconsin oseph innesota rom torn town aco ennessee akistan bk eterborough nt ohannesburg outh frica n court herry reek enver raverse ity ee barn bleakness ertfordshire reeley soooota acramento acramento rvada regon enver aryland ancouver olombieritannique rving exas iverside rancisco ast tlanta eorgia aint ucia orth ighlands ancouver th rancisco acramento acramento btwn rock hard place ennessee ixenrovence rance iverpool leveland elbourne ustralia arlington elbourne ustralia enton hio alatians harleston n world rancisco efinitely stable akistan uernavaca orelos xico cotland irginia ig ty angor oown eston super mare ictoria x akistan slamabad incoln indenhurst slamabad omewhere far ingswinford love smurfs nternational iterbo cting uenos ire aneohe ouma asttlanta esteorgia ntonio leveland hio iego exas olivar taking pain like pleasure ransokyo ashington tah honeymoon avenue wherever there netflix ont ph online onroe uayaquil bahstunporta reeko io everland ennsylvania rinidad obago hicago ake uena ista iberty ake nkara alatya ad rontem somewhere cali arden rove delaide ustralia urnus ztec rincess turner fenton ganda ganda lkhart delaide ustralia delaide ustralia ully enedict ollege iami amilton e oines owa ural orthern evada epublic hilippines hilippines hyderabad ancouver worldwide uezon ity hilippines eneva artford connecticut ioux alls ornwall eside asketball ome taly afekop aatsepe elbourne ilnius eneva ade merica stop asking mind world atskills olumbia ight exas awrence via mporia nknown nknown arysville ew aven onnecticut ustin iego ontevedra alicia harlotte ockville aryland onversation ennessee emonang ayr oughborough ngland illarney ahar walior aul tlanta eorgia incoln orld pinning time tlanta eorgia oston ailing ayton ewcastle pon yne ngland tlanta eorgia tlanta eorgia nstagram trillrebel ose srael ruguay esteros allifrey ansas ity ilver pring fghanistan weden tmosphere lasgow somewhere ortugal outh tand dundalk ireland ochi outh tand oure forever ettering lanet arth pare om ilton eynes ovi uenos ire rgentina go mpls ensington uffalo ylacauga labama ight ou yprus kansa ortland arry n utta ome akers ss licante pain ooseknuckle aine alermo icily suncin bingen oorhees tlanta lanet arth akanda agos oes really matter screen hoenix oes really matter dinburgh eyburn lumnus conomics lackpool void ennesseeallifrey mman ordan lackpool olumbia eight op ecret op secret bunker elbroughton ngland emperance ermenence n hadows ampo rande nbc washington eattle ubai nited rab mirates ong ong orld news ong ong ong ong ristol labuan malaysia right next wwwtmgcgartcom risbane elbourneish ottingham ngland eth nniscrone ughris ligo ostly ellington tlanta orld ort izz hio aleigh arnerleveland ewcastle upon yne walking tightrope rascati ollege tation ishops ydeard ngland p hill anchester ellington ibya ewcastle akistan balvanera ro iaspora ashington astbourne ngland tate reaming ema building ruit owl outh frica ooters eachtree tsego ell useasta hodesland apa golborne north west england sweden agalkote arnataka hrewsbury erre aute via oston lasgow cotland eautiful ritish olumbia ewcastle ublin reland irmingham edford regon atalonia pain isbon ortugal alifax ouvellecosse aggressive cannoli eater rancisco tlantic rthas everywhere ose oad illionaires lub ashington oad illionaires lub ashington rasnodar ussia oad illionaires lub home istrict entrification oad illionaires lub oad illionaires lub ashington airobi adenorthumberland amshedpur harkhand oad illionaires lub eritrean ayton orset nited ingdom small federal enclave une mostly esert eal nchorage nterprise labama ashington ante rance ountry nfant laza etro tation urban outh frica lexandria rlington eaded op oimbatore hicago hicagoland ew elhi inneapolis hicago hicagollinois ahti inland ere everywhere insane asylum akland acclesfield oulder emporary owers acclesfield ueblo insane asylum anchester tockholm weden irmingham ouston exas orth ast ngland marveldragon agewicdiv ouis irdland ew eridian rizona onterrey xico infj twitter indhede ingapore ustin alimantan imur ndonesia rehistoric arth san gabriel la union anila hilippines iddle arth sgard erk ubconscious ingapore uilmes rg ichmond stanbul omania hile iego ohannesburg apan onduras lvin ilbraham itadel ldtown esteros ew ngland hehim sheher ask ome pum pum aulton ngland orway hailand erver retoria todaysbigstockcom buenos aire argentina urulere agosome f wagg ontral ubec ontreal iveeed aco exas od orge oise daho n studio uttack rissa atrareece round orld alle el ol ilesia oland oscow ouston alikesir skisehir anchester ngland aldives oul omaliaody ontreal anchester ooooooo orioh apan iltonallahassee aname ity orioh apan ln ordrheinestfalen roomfield orioh apan rasil emphis orld ide rasil orioh apan n ab reating ikini bottom back japan orioh apan orthern reland iego orioh apan ydney ustralia angkok hailand risbane eneva anchester hillin anchester everywhere go irmingham ssjs ndonesia eadow ournemouth rumestah orset hester anbridge probably petting animal aries olumbus oseph de eauce asington uk eattle ew ewport ale iunes contactimpleewsgmailcom egas evada ictoria ritish olumbia ancouver rasil tlanta ga ashington enver ashington ackson ortoviejoanabicuador chillin ceder rapid anila hilippines en el pais de los arrechos inton aperville ima eru n otifications ort orth exas appar ohali unjab los angeles lexandria algary nearest trash tlanta orocco edophile hunting ground isit dedicated website sia acific joduagos eattle elowna edophile hunting ground edophile hunting ground edophile hunting ground edophile hunting ground akland anila agnolia edophile hunting ground pain alestine atinixw oopa erkeley pokane kanagan alley rancisco aribbean rancisco ruces eereen ootball ield luv raquel austin texas ock ill acon eorgia shxjonesprgmailcom miami ork aialua awaii ast oast icon cheesed notorious orris ortugal ynwood money mi aint ouis issouri journey ayangayang erak nside webcam top inancial ew iews lyeh outh acific taking bath disturb lberta owling nited ingdomraserburgh orldideeb embroke ayonne ubai yshanaysh fl alfrica elbourne rancisco ichmond eight ew ampshire lobal ember ite ampa around world n ansion uma casa de old yellow brick oventry scandinavia los angeles ca outh orea altimore ughes adison niversity hicago yorkshire ittsburgh daho eirut ebanon l aso exas qosqo ubbock via rum izzys nee arrakech dina arrakech ensift l aouz llensburg pokane orway sofa via rum aviourquad ocatello oom ear osemite arbinger tlanta via rum tlanta chicago utchnglisherman ydney oklahoma ne orld esde epublica rgentina klahoma ity chira enezuela box elbourne ustralia arcelona pain ew ealand kuma ukushima rzl esde epublica rgentina rm ord od keepthefaith lobal dition eattle world aline ere otrakansascity alkeith cotland urand aperville orging tory as cisistj ere supposed udapest ungary ouston airo gypt outh frica arachi akistan dinburgh cool ampshire blivion outh est ngland edondo ewcastle ngland lanet yal handral ystem arachi akistan umbai aharashtra tlanta ew rleans hoenix denmark avao ity ased ortland regon uwait ildomar buhh e global delaide nchorage orld niversity imerick acae lains elbourne ustralia outhern aine ive offeeshop enfrew cotland uala umpur alaysia ntioch algary eddit ashville akersfield agpur urrey anchester algary tlanta n oute adison ansas ity orth astings ntario orthern irginia algary ugusta allas orrance lympia uckland enderson evada ancouver ritish olumbia laska eattle ydney ew outh ale lympia odiak ydney irmingham ngland ark idge llinois lendale uwait leetxford ahrain oventry ewcastle okomo n enosha oventry iego agos frica iego ydia ew ngland aterloo nt eb risbane ew ritain hevy hase everywhere wrapped arnd hyuks finger evier ounty ochester old oast ld ustralia ashville n eightsided polygon onoha illage atharines ntario old oast ortland regon ortland orth est ngland anchester idwest anchester hilippines ashville ueensland ustralia arpurhey anchester ortland regon enton ity ashington anchester hicago hilly home reaking ew seoul tate ensley treet ortland est old oast ustralia ortland regon ashington ydney ustralia end regon end regon hevy hase atinixw oopa erkeley hucktownaalle ellowknife end regon enfrew cotland sydney australia ellowknife riities ash end regon ortland mpireirst rder risbane ueensland oncton ew runswick imaginedragoner illiamsburg emily helen shelley ew rleans ouisiana amaku cademy lass pring rove indy ity klahoma ity loomington amaku cademy lass hitby ajang uncak lam allas hilly aby leveland theythem deli innipeg ew ampshire rost istrict okohama apan x lmwood ark outh east lrhcthbandfour bournemouth akland amaica zboyerwashingtontimescom onderland elizabeth king hicago eight ay area olumbus n toilet dump alestine exas auai awaii hode sland ammu ashmir erlingua exas tay ly hilippines ennsylvania outh frica outh frica yiv kraine amung anam arth ilky ay niverse dappallyochi exas n airie else kraine ogersville kraine elangana hatham harter ember ood uffalo lberta nchorage akhon hammarat omewhere lyde uincy innipeg resno aranasi aredo hane ew outh ale ustralia oconos acramento addonfield angalore lso follow lay yan imapur n potter hand orpus hristi exas ape hamblee eorgia fficial ebsite ashingtontate eattle echish ope oad amaica estnd uritan oungstown ante rance asertaoma taly ekanbaruatam slandedan oman muscat al seeb isconsin ogja ndonesia lowly sia ancouver von orth ima hio owell playing soccer eating pizza ueco undo airobi oston ape od afael castillo ort ayne nterprise rand apids ouston hristianaennessee ashville ishops tortford ngland arth onduras hippenhamath ewa zone arregado argo mexico ape hayelitsha tanford niversity edford hibodaux razil n moment lliston ntario aud arabia riyadh then icosia remerton ulalip ashington alifax ilton ead ouis aulo high come rex big boy rooklyn ight ou tloud catwalk somewhere ac ewsome love louisville kentucky akai ort alleyayetteville rizona ancouver ewark road success esert ydney ustralia uba ity moon iagara alls ntario oodcreek oseville ere istrict range ounty lain exas outhast sia aipan range ounty alif lost thought ive offeeshop range ounty ive offeeshop aguna alif evada arson ityreeman racaju ergipe ashville ennessee exas ong aton erbyshire orldide ortage orldwide oadsrails verywhere ashville iberty ownship hio berdeenshire oop omewhere asking idge talybridge ameside acramento ranklin near ashville ouis issouri andung ouisville dreamy lake houstn hell atricks urgatory cockerelshoes manaus ioux alls epublica ominicana astlake illsvilleynchburg ome ravelling around world entwood et ife airy ail anto omingo lma osa omewhere round ou ouston orsicana incinnati acon ome mansion stley anchester ow eicester rome omerset ngland ar elbourne ictoria ssex ngland somewhere cold arbados eeds ahpeton horley ancashire orthampton entura e emenet ubbock exas erby ississauga ntario elhi eighley ngland omfretrovidence altimore ast ansing ocketing galaxy boston arrandyte ustralia ixenrovencetrecht uren iagara alls ntario addesdon noxville ock prings ietnam untsville labama etro anila reaking ew akartauala umpurpore ietnam onolulu awaii epublic exas untsville dont run est idlands akartauala umpurpore lobaloocation akartauala umpurpore cean ity belleville ualar umpur alaysia ustin outh dventist esson abbath assamaquoddy herwood risbane ustralia lobaloocation stados nidos imaru istrict ew ealand ameroon ustell ornwall hilippines orth merica io de aneiro helby ounty port matilda pa oncord latinaomania o ngeles estern ashington tlanta ontana ape od icola alley ip blog oise daho uncan exas ased erve ationwide ortland regon ancouver ansdaleennsylvania acramento arol tream llinois algaryirdrieedeer attiesburg rkansas agenham ssex nside eltway rea indsorntario rasil ortaleza ce aradise ity apid ity outh akota antoine fisher etween ire adiant algary algary ay rea egas evada lobal atch hose ideos ulsa klahoma algary icking orse as far away algary lberta algary uginamiku okyo apan ashington tate omewhere eaven algary lberta irgo upercluster facebookcomtradcatknights yoming rand apids icky far away eaven algary lberta lobal ueensland ustralia ansas ity leveland iego barn wild thing semekeepschangingsoyeh ansas ity love zayn otham ity eattle ngland umter omeday live ngland ogsmeade access rt link please x ul ansas ity outh estoast ogwarts va ortland symbolicjensen ontoocook alley egion e lameda rizona ancashire nited ingdom van river iddy reenland oppongi inato okyo leasanton ortsmouth scandinavia il ampsite ilford ashville n infodotstatealus ar way rom ome untinlupa ity hilippines untinlupa ity hilippines emphis ysore arnataka ortland ew elhi elhi ort orth exas rnhem etherlands acific orthwest omewhere pain ackson risco alaysiaordan omewhere nternational ction klahoma ity lanet da athing pe aricopa liverpool lbuquerque ew exico iyadh jeddah hartoum nited oods lobe ubail audi rabia ight next ompton th dimension los angeles ilvermoon ronforge harleston enicia iyadh ouston nnerhalb der cke ansas ity eating strawberry shitsickles aryland ear ichmond olkata everywhere rancisco ay rea ouisville ashington state ort ollins alifax acramento ree tate outh frica worldwide worldwide ru l aso outh asadena perth australia ongolia brisbane australia hina orld hiyoda ard okyo rome thensreece razil heart arth lobal rance tokyo china razil idea pm apan alaysia imbabwe ancouver ritish olumbia tarling ity reat tate aine lenview noxville oaming around world ape eddick lobal ariveles ataan oaming around world ew hicago rancisco ay rea ustralia ictorville ashington ugene regon apan egas umming westwestwestwestwestwestwest idwest ennessee eathrow leveland une aharashtra cuba china ocky ountains razos alley exas china niverse lackivesatter iami acation estination aiku aui awaii ineyard potteratthedisc nderson picenter eyond omewhere owerbraking hevy exico ity lobe hicopee rinagarashmir exas olkata korodu acramento oghouse someplace living life orld ide eb enturion von come minute as kicking mirates ilton eynes ngland cottsdale ennessee tlantic ighlands lameda leasanton adison ouis ay rea esa arterville orpus egas ouston pring x eorgia oncton ew runswick beijing hina omewhere hina ouston acramento eru ahore aint aul hah lamalaysia ubai lano exas mnl allas ouisiana allas ussia altimore ngland ale order eerust outh frica eattle ristol windy plain enver unbury hio incoln swindon roydon sia oventry ingapore anchester ngland epublic reland ustralia ilton keynes ontefract irty aducah aryland sia uropean ontinent orea then reece ascadia ounty urham nited ingdom elbourne ustralia oanoke undee exas ustin exas etroit igers ugout stlouis county missouri urope cotland etroitindsor undee dinburgh ircle ife got menpa reply omg ocatello daho ashville probably watching survivor edanndonesia anta aria olombia akarta ewark hicago l andar ampung ndonesia enezuela ose adison buffalo madrid granada di langit bidadari ancouver oventry eattle eorgia orman klahoma apid ity lack ill emphis ennessees otterdam etherlands ictoria lchilicitanierraversal eddit olland via ouston eddit oak averly hy know hoto lue ountains edford ngland perture cience est acility im definitely taller etailed airgrounds esident nglish idlands ictoria ustralia arth ntarctica agnolia iore ew weden ictoria ustralia arth cereal aisle im itizen orld eicester ngland elbourne ustralia ueensland ustralia ealville ew weden piano probably iore amia cale hattanooga ashville irmingham ngland untsville uckland aysville eattle arth wisco iego eaving ikini ottom aysville ww aul lam untsville emel empstead hester ootball lub resno est ollywood ell aysville ama owa undee inneapolis aul egas aka ell shburn ouis ingston amaica ottingham ngland orld wn planet cuador tay uned imerak angandaran rizona orway ausau isconsin oston ynchburg oston aystone nn ade hilippines ostonontreal anavadar ujarat ounty omewhere hicago ilwaukee nterplanetaryone niverse laying bass leveland ustletown miranda mi partsunknown roudly frozen anuck eh torybrooke oors neils kitchen shore ake ilby eeds ngland wo p wo nternet lushing ueens uantico arine ase laska ozeman ontana earts inds wa exas oston emphis highlandsslands scotland alibuantaeinning dinburgh cotland ale ottingham ring yrone orthern reland irmingham ristol potter bar burrow plymouth umpkin arriage ream dinburgh emphis otts outh ngland home irmingham arch xico reenwich eridian ewcastle pon yne ngland liadanilaura personal hell luis urora merica ounding athers next adventure merica ounding athers uatemala merica ounding athers eitchfield entucky ittleton ustin etherlands arbella pain nexpressible sland shford ent nited ingdom haka angladsh goingdownthetoilet llinois rancisco ay rea nder anta arbara ky ukushima city ukushimapref orwalk japon aubonne rance luto apan enver rizona aris rance ohannesburg outh frica en elder ijkswerf arsaw ztec enver orld ort alhoun ournemouth orset irginia omecity omerset avite hilippines orea eattle one urfleet emesphere iami via ima ymru araul ump ity udetown ndo hubneshwar cedar rapid ia exas satan colon alparaiso prob turning sheen freegucci ennessee aterloo dark eading ynne ublin reland ood almyra ennessee atrick rederick anbury id est pstairs innipeg anitoba leyland irmingham ngland dont buy sn verton orn altimore iving lizabeth feminist modernist hag lasgow cotland aryland kissimmeefl ew rleans ouisiana oufsidewhile looking goofy erica etro area ederal apital erritory llinois urkmenistan country counting ntario ontgomery marillo egas evada ydney lean orld treet allas ngland reat ritain uis bispo amloops treet allas arachi akistan inancial ew iews orpus hristi hile spaa pain andung taly tockholm weden agle iver laska ottingham nited ingdom kure city ondo state etherlands buja inland aulo ukuoka apan kano ammam romerican nticcupy ingdom ife cotland allas ortorth cotland verett outh hilly ouston eeds wwwfacebookcomstuntfm agos allas ortorth iamiainesville illinois united state oyton efrigerator rasil eeds nited ingdom inton nternetz harleston arnia opeka arnia anhattan elenas bed info link lsewhere hady yenatown inland aryland worldwide ast ilwaukee acon arnia orry lvarez love forever etroit etaluma ingapore xford bristol ear arrington awnee elbourne ictoria anchester eorgia erbyshire nited ingdom cean ositive anchester ngland ansas ity anzioitaly hl epublic exas ortland oal ilwaukee esa tratford ouston o ngeles outh africa ucharest umbai aharashtra oshua ree rea mumbai illa ill outhern aliforina world iego alif eneva nd beyond ctea iego ome orld umming orea outh frica russia elbourne ivonia arolinska vgen olna hina eard ikers unwoody bola ongolia roadview eight hio china rome hina urlington range ark arszawa ayodelp arnley rince dward sland loucester vancouver usa lberta obe tate oventry hode sland ederal apital erritory uente music online emphis hailand alaysia ndonesia vancouver usa airfax emphis eattle icamous ritish olumbia orth emphislobal itizen ridport ngland orto legre io rande ul orth ancouver eattle ioneer illage ulsa orldide orth me ugusta aine ajorem ei lorium urora ntario aku rzurum tatute f imitation paradise sia urope etersburg spaa arragona arri elbourne ustralia kyhold mmanordan tripoli international airport uckland ew ealand ustralia eneva witzerland rinidad obago ay rea arleyhickunenun ig orthast itter ox spring oklahoma urry ill ydney spring oklahoma arleyhickunenun anderlust arachi egion akarta watford est ollywood ent ultiverse ournemouth ammu ashmir elhi untley green pleasant land eeds oston akartauala umpurpore ape esterland uala umpur urabaya iminchina frica irmingham hailand th imension ashington worldwide hoenix aris rance ere everywhere elgrade ardiff ossland orld ide eb ppsala weden etroit rankfort n pace ligo alway reland eattle ipperary ong ay alang rancisco hertfordshire ublin pare om idalia ista erva idem ellville hio trapped merica little house outback tri state cotland nited ingdom hicora akland heart darkness unholy olonial eight eird art onderland labama little house outback olumbus eorgia ccrahana orld ubai hoenix z taly ouis pain hina atin merica hester est frica ade ere n etroit ortland allas ejas ashville epok texas austin tx arrett followur instagram sheffield rotherham ailuku aui ima ong elfast fujo garbage heaven snapchat maddzzbabby mile away innipeg anitoba oston acramento edoxation youtubecomchanneljhylbw e oines rida ucatn cituate hkfhx amilton ounty akar n head tate anctuary etwork ome ractor land aka ristol dventuring arnia sgard iego nite le allahi sneaking glance hancred ljp irvana entor rumann rkansas k pissing anti sisterhood mile everyone livin plastic world oflamingo orto access njh cth tx tx rio de janeiro brazil oore lderandyloom ustin riana follow blackparavde frankie addy ink entral akefield est orkshire ittsburgh amjoons pant around world ariana oneymoon veiro ortugal justin ari follow tvd nap queen amsterdayum lesa sheher riffin xiumins nonexistent solo marvel book hp tmr blackfalds uan uerto ico reddy azbears pizzeria raslia ladiator cademy ever please elbourne ustralia heffieldeeds cuh lost history eb labyrinthia texas garowe puntland somalia akland hird rock un omalia akewood ennessee mash anoranto omalia okaro teel ity harkhand th ortland ogadishu omalia azure cloud erenjori nknown tlantaish rinidad obago bove snake line oews iego addonfield ill yorker ewcastle bove snake line oews near lton owers waggerominican addonfield hell exas af iego interestland vansville reenpoint n potter hand addonfield ewcastle iego ypres acramento ancouver ritish olumbia orth ast nsigned adio orld emphis ountain alley acramento iverpool aarlem ueensland iudad utnoma de uenos ire rgentina ot want yet hyme r eason hey eorgia oventry nc subconscious ew ngland harjah buhabi eb aris nternational eam lytherin ichel elving ame rizzle ity reamz reamz texas iamondville onoluluawaii lipadelphia merican asteland high way hio theythem reater o ngeles earia victoria mozo enver eattle theythem ydney ollywood miami x dallas amburg ecatur o ngles az rato hilippines entura rlington io de aneiro edelln ntioquia ouston oufside alston ackney atlanta cigarknubgmailcom tx ursing arnia aryland allas akefield untington anchester ampshire aradise elax eployed iddle ast teh internet eath outh ale ountains orthcawl n spirit world pelazwe ustin taly omewhere nly e mind ya business norcal tlanta philly ackem olton ohns reek ew elhi lberta ossation pittsboro spaa pain spagne hanrash esert torm leveland iego ttawa ntario antiago de hile amaquelotas aylor wift klahoma ity ustinos ngeles aylor wift n crazy genius mind hatena bookmark ocker container aylor wift philly south africa eastern cape mazon eller ropagandist rancisco imahiest avandonesia ukittinggi umatera arat sia tateless lobal itizen alton egion sia o ngeles alif ukittinggi umatera arat arm eart f frica sters weden eality oadside agos s tupidity dorito land idi mail ovethterrygmailcom oms yria lagos nilag waffi orldide elsinki audi rabia africa oscow irmingham nited ingdom ngland aris stanbul hicago rincipality eron n beach elgium emphis agos okyo saka glasgow emps ouisiana house eacon ill erby aborone otswana racknell odern izz ardiff ale n mind irginia ssex oxford isconsin loucester ose beg vine sorry shburn toledo emarang ndonesia incoln ity regon ountain ity gaffney sc exas amberwell elbourne ansas ava arbados ack ast icon ashiren veryhere otham ity rapped onscience death star rentwood uburn umbai aharashtra olmont redjama slovenia akistan n outh sia eading romance novel lasgow ulgaria cotland uerto ico ustin ort illiams allas aulo rasil towmarket hiladelphia ennsylvania exas ake onticello ao aulo pstairs love blue gold hanghai pstairs arietta umenor everywhere alt ake ity arth ancaster elbourne lanet arth eddahaudi rabia iyadh raqfghanistan aghdad peshawar pakistan world eit l srael raqfghanistan aghdad anganer ajasthan oading hennai ialls arm proudly outh frican ell ell harleston ell raqfghanistan aghdad yrule front row show rlington odamilyoney wajaleinirginiaayton ianaguna nfield tlanta nfield ecatur ander eeds ngland nowhere alm esert alma slas aleares ccrahana aydestrian acon gamertag bexrayandvav ulsa klahoma upiter upiter ydney l orado rkansas ast oast klahoma ity klahoma ity icoma ark emphis elsinki illafornia made l orado rkansas od ove cognitive dissonance town urgaon aryana herever sent ustin idwest idwest ort nox ntonio rovidence isnaskea khartoum sudan aperville andraland erica arper oods iego dubai staggering tenement roof ilicon alley houston rlando xico amaica merica call peach sam lo rlando shoujo hell teps head loud central chazifornia tah wwat worldwide amrock uerto ico o ina ity ouis ike u ace ontgomery ounty etroit notification ethville rap burn shame ouston wwwaprylpooleycom ittle ock ewfnited tate inneapolis umptown ashville orld riskelion inneapolist aul hicago llinois irkwall uk weden ortsmouth cork cotland dublin outh frica unbridge ell lowestoft orth ast iddlesbrough ring tage rey ongz amworth old oast ustralia tlanta llumination athtub de ett hasing ream wa oston ochester ill isplaced twitter olverhampton anila ity alo lto ord od ord od ouavul incerely leenex factory f ings etherlands ona block w love kaylen ord od ustin awaii ord od algary lberta egas etroit eneva idwest iverdale algary lberta lano idwest ity isbon ortugal alapa tlntico ong sland owntown klahoma ity eattle native rescott avage tate merica hole orld badanyo state ngapain emaccra phuket thailand ouston nites tate antiagoepblica ominicana ilmington elaware iamdigitalentcom anzioitaly tate haka alifax ovum cotia eadend regon amaica hester eooks orth merica ydney orldwide uckland ew ealand cotts alley regon bjfordiani oosley osta ica amilton ntario maryland ttock tlanta ilwaukee outh frica regon ashington arachi onnecticut erth estern ustralia uukosans shop atertown as ilky ay galaxy u f glory ix outh frica osta ica ewcastle ew ealand arbados msterdam orldwide rd ye hakra erth ustralia aris edz nc reland urope antiago de mpostela alicia cleveland oh right nashville tn ncognito omewhere else olumbia n graveyard ouisiana ost indoversodcast till ere ad ere ca ille ennsylvania ot ortmer singersongwriter act kedirijawa timur e oines ashington wwwtwitchtvparkxx statesborovidalia anchester ngland aveli aharashtra lateport ity oenn jayankondacholapuramtamilnadu ot f orld ohio dawara apan ouston ly ambridgeshire r ounder ubscribers o ngeles ngland ncognito egalo sland ultinational rural ohio fuck est awthorne ocky ountains ernow ottingham ngland etherlands ouis olly omewhere rostburg hailand anterbury kent un orona orld heffangoralamancaadrid tamford ork hropshire aumlite ichardson egas nternet ittsburgh eed e ere unless anchester pettyville usa hilum tlanta class ristol ngland ouston witterville astern owa allas planet earth nap central lathe adrid ohannesburg outh frica artford onnecticut edar sland linton est ancouver ucson et pp ail alley msterdam rancisco shland regon akland olumbus round world ashington tate loud afia ddyville regon alveston exas ictoria eorgia ennessee uerto ico ustin exas akarta ndonesia uerto ico iego calgaryab ewton sheheryour majestyempress ouston rgus ndustries mm riendswood ugar property universe ome park ebster aracay irgua enezuela orth ack cottsdale enezuela iamila santo domingo orldwide lobal uva iji slands mericas ewsroom worldwide redericksburg irginia ngland nited ingdom herever needed harlotte ale ngland ewcastle ngland ashmir ashmir head ake ighlands harlotte ihone merican asteland leveland ape hady ines ale nited ingdom lexikaeoheshethey angsta arth enseless nonsense ot teven eun cody austin follows harlotte moss chamber b aron squad rgentina currently writing book ebanon ennessee rattonye omerset ictoria tlanta eorgia altimore rimum non nocere rlington wersyllt ale reenville reenville nnsmouth as orwich lano scumbernauld okyo ydney orldide khanna frica umbai aharashtra angkok unjab ublin ity reland iunes uk iunes aharashtra ian hina obin oods ounty ennsylvania anta ruz ilwaukee ounty lick link okay probably home back ivingston lasgow enton exas lobal ewcastleuponyne incoln'"
            ]
          },
          "metadata": {
            "tags": []
          },
          "execution_count": 27
        }
      ]
    },
    {
      "cell_type": "code",
      "metadata": {
        "id": "49L2vb7Kq4En",
        "colab_type": "code",
        "colab": {}
      },
      "source": [
        "#ahora hay que spliteralo en n-gramas, y ordenarlo ascendentemente por frecuencia"
      ],
      "execution_count": null,
      "outputs": []
    },
    {
      "cell_type": "code",
      "metadata": {
        "id": "U_Zo9R4eq4Pc",
        "colab_type": "code",
        "colab": {}
      },
      "source": [
        "import collections\n",
        "from nltk import ngrams\n",
        "import itertools\n",
        "acum=list()\n",
        "sentence = texto2\n",
        "n = 6\n",
        "sixgrams = ngrams(sentence.split(), n)\n",
        "\n",
        "for grams in sixgrams:\n",
        "     acum.append(list(grams))"
      ],
      "execution_count": 28,
      "outputs": []
    },
    {
      "cell_type": "code",
      "metadata": {
        "id": "-cdUlUy7q4KV",
        "colab_type": "code",
        "colab": {
          "base_uri": "https://localhost:8080/",
          "height": 104
        },
        "outputId": "257f31c9-e22d-4a1e-b0e4-0162ff01d802"
      },
      "source": [
        "acum[:5]"
      ],
      "execution_count": 29,
      "outputs": [
        {
          "output_type": "execute_result",
          "data": {
            "text/plain": [
              "[['irmingham', 'st', 'eptember', 'ristol', 'retoria', 'orld'],\n",
              " ['st', 'eptember', 'ristol', 'retoria', 'orld', 'ide'],\n",
              " ['eptember', 'ristol', 'retoria', 'orld', 'ide', 'aranaque'],\n",
              " ['ristol', 'retoria', 'orld', 'ide', 'aranaque', 'ity'],\n",
              " ['retoria', 'orld', 'ide', 'aranaque', 'ity', 'ive']]"
            ]
          },
          "metadata": {
            "tags": []
          },
          "execution_count": 29
        }
      ]
    },
    {
      "cell_type": "code",
      "metadata": {
        "id": "64vkgFsgFINN",
        "colab_type": "code",
        "colab": {
          "base_uri": "https://localhost:8080/",
          "height": 34
        },
        "outputId": "1bcc5314-1340-4c46-acba-60773e7de52d"
      },
      "source": [
        "#como es una lista de lista,entonces unifico todo en una sola lista\n",
        "merged = list(itertools.chain(*acum))  \n",
        "merged[:5]"
      ],
      "execution_count": 30,
      "outputs": [
        {
          "output_type": "execute_result",
          "data": {
            "text/plain": [
              "['irmingham', 'st', 'eptember', 'ristol', 'retoria']"
            ]
          },
          "metadata": {
            "tags": []
          },
          "execution_count": 30
        }
      ]
    },
    {
      "cell_type": "code",
      "metadata": {
        "id": "W2gAOAzxrY02",
        "colab_type": "code",
        "colab": {}
      },
      "source": [
        "#ordeno ascendentemente por frecuencia"
      ],
      "execution_count": null,
      "outputs": []
    },
    {
      "cell_type": "code",
      "metadata": {
        "id": "ZpjGR21FMYqJ",
        "colab_type": "code",
        "colab": {
          "base_uri": "https://localhost:8080/",
          "height": 206
        },
        "outputId": "8536edc1-7f65-4eb1-c56d-714a1cab5f34"
      },
      "source": [
        "dfd=pd.DataFrame(merged)\n",
        "dfd=dfd.groupby(0).agg(cant=(0,'count')).nlargest(100,'cant').reset_index()\n",
        "dfd.columns=['loca','cant']\n",
        "dfd[:5]\n"
      ],
      "execution_count": 31,
      "outputs": [
        {
          "output_type": "execute_result",
          "data": {
            "text/html": [
              "<div>\n",
              "<style scoped>\n",
              "    .dataframe tbody tr th:only-of-type {\n",
              "        vertical-align: middle;\n",
              "    }\n",
              "\n",
              "    .dataframe tbody tr th {\n",
              "        vertical-align: top;\n",
              "    }\n",
              "\n",
              "    .dataframe thead th {\n",
              "        text-align: right;\n",
              "    }\n",
              "</style>\n",
              "<table border=\"1\" class=\"dataframe\">\n",
              "  <thead>\n",
              "    <tr style=\"text-align: right;\">\n",
              "      <th></th>\n",
              "      <th>loca</th>\n",
              "      <th>cant</th>\n",
              "    </tr>\n",
              "  </thead>\n",
              "  <tbody>\n",
              "    <tr>\n",
              "      <th>0</th>\n",
              "      <td>ity</td>\n",
              "      <td>354</td>\n",
              "    </tr>\n",
              "    <tr>\n",
              "      <th>1</th>\n",
              "      <td>ngland</td>\n",
              "      <td>330</td>\n",
              "    </tr>\n",
              "    <tr>\n",
              "      <th>2</th>\n",
              "      <td>ew</td>\n",
              "      <td>294</td>\n",
              "    </tr>\n",
              "    <tr>\n",
              "      <th>3</th>\n",
              "      <td>exas</td>\n",
              "      <td>268</td>\n",
              "    </tr>\n",
              "    <tr>\n",
              "      <th>4</th>\n",
              "      <td>outh</td>\n",
              "      <td>264</td>\n",
              "    </tr>\n",
              "  </tbody>\n",
              "</table>\n",
              "</div>"
            ],
            "text/plain": [
              "     loca  cant\n",
              "0     ity   354\n",
              "1  ngland   330\n",
              "2      ew   294\n",
              "3    exas   268\n",
              "4    outh   264"
            ]
          },
          "metadata": {
            "tags": []
          },
          "execution_count": 31
        }
      ]
    },
    {
      "cell_type": "code",
      "metadata": {
        "id": "gyrQahKtsZIK",
        "colab_type": "code",
        "colab": {}
      },
      "source": [
        "#creo otro unificador de localizaciones con estas palabras\n",
        "def segundaunificacion(data2):\n",
        "      data2.loc[data2['location'].str.contains('(?i)ngland')==True,'location' ]='England'\n",
        "      data2.loc[data2['location'].str.contains('(?i)exas')==True,'location' ]='Texas'\n",
        "      data2.loc[data2['location'].str.contains('(?i)ustralia')==True,'location' ]='Australia'\n",
        "      data2.loc[data2['location'].str.contains('(?i)ashington')==True,'location' ]='Washington'\n",
        "      data2.loc[data2['location'].str.contains('(?i)tlanta')==True,'location' ]='Atlanta'\n",
        "      data2.loc[data2['location'].str.contains('(?i)eattle')==True,'location' ]='beattle'\n",
        "      data2.loc[data2['location'].str.contains('(?i)anchester')==True,'location' ]='Manchester'\n",
        "      data2.loc[data2['location'].str.contains('(?i)frica')==True,'location' ]='Africa'\n",
        "      data2.loc[data2['location'].str.contains('(?i)regon')==True,'location' ]='Oregon'\n",
        "      data2.loc[data2['location'].str.contains('(?i)ydney')==True,'location' ]='sydney'\n",
        "      data2.loc[data2['location'].str.contains('(?i)ouston')==True,'location' ]='Houston'\n",
        "      data2.loc[data2['location'].str.contains('(?i)iego')==True,'location' ]='Diego'\n",
        "      data2.loc[data2['location'].str.contains('(?i)cotland')==True,'location' ]='Scotland'\n",
        "      data2.loc[data2['location'].str.contains('(?i)rancisco')==True,'location' ]='Francisco'\n",
        "      data2.loc[data2['location'].str.contains('(?i)eorgia')==True,'location' ]='Georgia'\n",
        "      data2.loc[data2['location'].str.contains('(?i)allas')==True,'location' ]='Dallas'\n",
        "      data2.loc[data2['location'].str.contains('(?i)ancouver')==True,'location' ]='Dancouver'\n",
        "      data2.loc[data2['location'].str.contains('(?i)elbourne')==True,'location' ]='Melbourne'\n",
        "      data2.loc[data2['location'].str.contains('(?i)ingdom')==True,'location' ]='Kingdom'\n",
        "      data2.loc[data2['location'].str.contains('(?i)algary')==True,'location' ]='Calgary'\n",
        "      data2.loc[data2['location'].str.contains('(?i)apan')==True,'location' ]='Japan'\n",
        "      data2.loc[data2['location'].str.contains('(?i)hilippines')==True,'location' ]='Philippines'\n",
        "      data2.loc[data2['location'].str.contains('(?i)klahoma')==True,'location' ]='Oklahoma'\n",
        "      data2.loc[data2['location'].str.contains('(?i)ortland')==True,'location' ]='Portland'\n",
        "      data2.loc[data2['location'].str.contains('(?i)acramento')==True,'location' ]='Sacramento'\n",
        "      data2.loc[data2['location'].str.contains('(?i)oston')==True,'location' ]='Hoston'\n",
        "      data2.loc[data2['location'].str.contains('(?i)ustin')==True,'location' ]='justin'\n",
        "      data2.loc[data2['location'].str.contains('(?i)ashville')==True,'location' ]='ashville'\n",
        "      data2.loc[data2['location'].str.contains('(?i)hicago')==True,'location' ]='chicago'\n",
        "      data2.loc[data2['location'].str.contains('(?i)merica')==True,'location' ]='America'\n",
        "      data2.loc[data2['location'].str.contains('(?i)Vegas')==True,'location' ]='Vegas'\n",
        "      data2.loc[data2['location'].str.contains('(?i)emphis')==True,'location' ]='Memphis'\n",
        "      data2.loc[data2['location'].str.contains('(?i)Ohio')==True,'location' ]='Ohio'\n",
        "      data2.loc[data2['location'].str.contains('(?i)ictoria')==True,'location' ]='Victoria'\n",
        "      data2.loc[data2['location'].str.contains('(?i)ONTARIO')==True,'location' ]='Ontario'\n",
        "      data2.loc[data2['location'].str.contains('(?i)reland')==True,'location' ]='Ireland'\n",
        "      data2.loc[data2['location'].str.contains('(?i)irmingham')==True,'location' ]='Birmingham'\n",
        "      data2.loc[data2['location'].str.contains('(?i)ennessee')==True,'location' ]='Tennessee'\n",
        "      data2.loc[data2['location'].str.contains('(?i)ewcastle')==True,'location' ]='Newcastle'\n",
        "      data2.loc[data2['location'].str.contains('(?i)olumbia')==True,'location' ]='Columbia'\n",
        "      data2.loc[data2['location'].str.contains('(?i)Spain')==True,'location' ]='Spain'\n",
        "      data2.loc[data2['location'].str.contains('(?i)ansas')==True,'location' ]='Kansas'\n",
        "      data2.loc[data2['location'].str.contains('(?i)Denver')==True,'location' ]='Colorado'\n",
        "      \n",
        "      data2.loc[data2['location'].str.contains('(?i)Louis')==True,'location' ]='Louis'\n",
        "\n",
        "      data2.loc[data2['location'].str.contains('(?i)rance')==True,'location' ]='France'\n",
        "      data2.loc[data2['location'].str.contains('(?i)etherlands')==True,'location' ]='Netherlands'\n",
        "      data2.loc[data2['location'].str.contains('(?i)weden')==True,'location' ]='Sweden'\n",
        "      data2.loc[data2['location'].str.contains('(?i)akistan')==True,'location' ]='Pakistan'\n",
        "      data2.loc[data2['location'].str.contains('(?i)ritish')==True,'location' ]='British'\n",
        "      data2.loc[data2['location'].str.contains('(?i)brasil')==True,'location' ]='Brasil'\n",
        "      data2.loc[data2['location'].str.contains('(?i)rome')==True,'location' ]='Rome'\n",
        "      data2.loc[data2['location'].str.contains('(?i)leveland')==True,'location' ]='cleveland'\n",
        "      data2.loc[data2['location'].str.contains('(?i)valley')==True,'location' ]='alley'\n",
        "      data2.loc[data2['location'].str.contains('(?i)ingapore')==True,'location' ]='singapore'\n",
        "      data2.loc[data2['location'].str.contains('(?i)arizona')==True,'location' ]='arizona'\n",
        "      data2.loc[data2['location'].str.contains('(?i)llinois')==True,'location' ]='illinois'\n",
        "      data2.loc[data2['location'].str.contains('(?i)tokyo')==True,'location' ]='tokyo'"
      ],
      "execution_count": 32,
      "outputs": []
    },
    {
      "cell_type": "code",
      "metadata": {
        "id": "bGiod0AwsuMa",
        "colab_type": "code",
        "colab": {
          "base_uri": "https://localhost:8080/",
          "height": 708
        },
        "outputId": "bfd20fc2-2148-416e-ef1d-b89f9a60bc01"
      },
      "source": [
        "#ahora unifico de nuevo el dataset, pero veremos el antes y despues\n",
        "data.groupby('location').agg(cantidad=('location','count')).nlargest(30,'cantidad')[:20]\n"
      ],
      "execution_count": 33,
      "outputs": [
        {
          "output_type": "execute_result",
          "data": {
            "text/html": [
              "<div>\n",
              "<style scoped>\n",
              "    .dataframe tbody tr th:only-of-type {\n",
              "        vertical-align: middle;\n",
              "    }\n",
              "\n",
              "    .dataframe tbody tr th {\n",
              "        vertical-align: top;\n",
              "    }\n",
              "\n",
              "    .dataframe thead th {\n",
              "        text-align: right;\n",
              "    }\n",
              "</style>\n",
              "<table border=\"1\" class=\"dataframe\">\n",
              "  <thead>\n",
              "    <tr style=\"text-align: right;\">\n",
              "      <th></th>\n",
              "      <th>cantidad</th>\n",
              "    </tr>\n",
              "    <tr>\n",
              "      <th>location</th>\n",
              "      <th></th>\n",
              "    </tr>\n",
              "  </thead>\n",
              "  <tbody>\n",
              "    <tr>\n",
              "      <th>New York, NY</th>\n",
              "      <td>295</td>\n",
              "    </tr>\n",
              "    <tr>\n",
              "      <th>USA</th>\n",
              "      <td>265</td>\n",
              "    </tr>\n",
              "    <tr>\n",
              "      <th>Florida</th>\n",
              "      <td>204</td>\n",
              "    </tr>\n",
              "    <tr>\n",
              "      <th>Canada</th>\n",
              "      <td>84</td>\n",
              "    </tr>\n",
              "    <tr>\n",
              "      <th>California</th>\n",
              "      <td>82</td>\n",
              "    </tr>\n",
              "    <tr>\n",
              "      <th>New Jersey</th>\n",
              "      <td>69</td>\n",
              "    </tr>\n",
              "    <tr>\n",
              "      <th>India</th>\n",
              "      <td>68</td>\n",
              "    </tr>\n",
              "    <tr>\n",
              "      <th>Nigeria</th>\n",
              "      <td>61</td>\n",
              "    </tr>\n",
              "    <tr>\n",
              "      <th>Philadelphia</th>\n",
              "      <td>33</td>\n",
              "    </tr>\n",
              "    <tr>\n",
              "      <th>colorado</th>\n",
              "      <td>33</td>\n",
              "    </tr>\n",
              "    <tr>\n",
              "      <th>toronto</th>\n",
              "      <td>29</td>\n",
              "    </tr>\n",
              "    <tr>\n",
              "      <th>UK</th>\n",
              "      <td>27</td>\n",
              "    </tr>\n",
              "    <tr>\n",
              "      <th>Los Angeles, CA</th>\n",
              "      <td>26</td>\n",
              "    </tr>\n",
              "    <tr>\n",
              "      <th>carolina</th>\n",
              "      <td>24</td>\n",
              "    </tr>\n",
              "    <tr>\n",
              "      <th>Mumbai</th>\n",
              "      <td>22</td>\n",
              "    </tr>\n",
              "    <tr>\n",
              "      <th>Washington, DC</th>\n",
              "      <td>21</td>\n",
              "    </tr>\n",
              "    <tr>\n",
              "      <th>Worldwide</th>\n",
              "      <td>19</td>\n",
              "    </tr>\n",
              "    <tr>\n",
              "      <th>Australia</th>\n",
              "      <td>18</td>\n",
              "    </tr>\n",
              "    <tr>\n",
              "      <th>Chicago, IL</th>\n",
              "      <td>18</td>\n",
              "    </tr>\n",
              "    <tr>\n",
              "      <th>Massachusetts</th>\n",
              "      <td>18</td>\n",
              "    </tr>\n",
              "  </tbody>\n",
              "</table>\n",
              "</div>"
            ],
            "text/plain": [
              "                 cantidad\n",
              "location                 \n",
              "New York, NY          295\n",
              "USA                   265\n",
              "Florida               204\n",
              "Canada                 84\n",
              "California             82\n",
              "New Jersey             69\n",
              "India                  68\n",
              "Nigeria                61\n",
              "Philadelphia           33\n",
              "colorado               33\n",
              "toronto                29\n",
              "UK                     27\n",
              "Los Angeles, CA        26\n",
              "carolina               24\n",
              "Mumbai                 22\n",
              "Washington, DC         21\n",
              "Worldwide              19\n",
              "Australia              18\n",
              "Chicago, IL            18\n",
              "Massachusetts          18"
            ]
          },
          "metadata": {
            "tags": []
          },
          "execution_count": 33
        }
      ]
    },
    {
      "cell_type": "code",
      "metadata": {
        "id": "HImpRly5tPlC",
        "colab_type": "code",
        "colab": {}
      },
      "source": [
        "segundaunificacion(data)"
      ],
      "execution_count": 34,
      "outputs": []
    },
    {
      "cell_type": "code",
      "metadata": {
        "id": "R57UgoqQtZKn",
        "colab_type": "code",
        "colab": {
          "base_uri": "https://localhost:8080/",
          "height": 1000
        },
        "outputId": "1ec54fa7-9e58-4b64-f787-8dd0ff554671"
      },
      "source": [
        "#despues\n",
        "data.groupby('location').agg(cantidad=('location','count')).nlargest(50,'cantidad')"
      ],
      "execution_count": 35,
      "outputs": [
        {
          "output_type": "execute_result",
          "data": {
            "text/html": [
              "<div>\n",
              "<style scoped>\n",
              "    .dataframe tbody tr th:only-of-type {\n",
              "        vertical-align: middle;\n",
              "    }\n",
              "\n",
              "    .dataframe tbody tr th {\n",
              "        vertical-align: top;\n",
              "    }\n",
              "\n",
              "    .dataframe thead th {\n",
              "        text-align: right;\n",
              "    }\n",
              "</style>\n",
              "<table border=\"1\" class=\"dataframe\">\n",
              "  <thead>\n",
              "    <tr style=\"text-align: right;\">\n",
              "      <th></th>\n",
              "      <th>cantidad</th>\n",
              "    </tr>\n",
              "    <tr>\n",
              "      <th>location</th>\n",
              "      <th></th>\n",
              "    </tr>\n",
              "  </thead>\n",
              "  <tbody>\n",
              "    <tr>\n",
              "      <th>New York, NY</th>\n",
              "      <td>295</td>\n",
              "    </tr>\n",
              "    <tr>\n",
              "      <th>USA</th>\n",
              "      <td>265</td>\n",
              "    </tr>\n",
              "    <tr>\n",
              "      <th>Florida</th>\n",
              "      <td>204</td>\n",
              "    </tr>\n",
              "    <tr>\n",
              "      <th>Canada</th>\n",
              "      <td>84</td>\n",
              "    </tr>\n",
              "    <tr>\n",
              "      <th>California</th>\n",
              "      <td>82</td>\n",
              "    </tr>\n",
              "    <tr>\n",
              "      <th>New Jersey</th>\n",
              "      <td>69</td>\n",
              "    </tr>\n",
              "    <tr>\n",
              "      <th>India</th>\n",
              "      <td>68</td>\n",
              "    </tr>\n",
              "    <tr>\n",
              "      <th>Washington</th>\n",
              "      <td>68</td>\n",
              "    </tr>\n",
              "    <tr>\n",
              "      <th>Australia</th>\n",
              "      <td>65</td>\n",
              "    </tr>\n",
              "    <tr>\n",
              "      <th>Nigeria</th>\n",
              "      <td>61</td>\n",
              "    </tr>\n",
              "    <tr>\n",
              "      <th>England</th>\n",
              "      <td>59</td>\n",
              "    </tr>\n",
              "    <tr>\n",
              "      <th>Texas</th>\n",
              "      <td>51</td>\n",
              "    </tr>\n",
              "    <tr>\n",
              "      <th>chicago</th>\n",
              "      <td>49</td>\n",
              "    </tr>\n",
              "    <tr>\n",
              "      <th>Philadelphia</th>\n",
              "      <td>33</td>\n",
              "    </tr>\n",
              "    <tr>\n",
              "      <th>colorado</th>\n",
              "      <td>33</td>\n",
              "    </tr>\n",
              "    <tr>\n",
              "      <th>Atlanta</th>\n",
              "      <td>32</td>\n",
              "    </tr>\n",
              "    <tr>\n",
              "      <th>Francisco</th>\n",
              "      <td>32</td>\n",
              "    </tr>\n",
              "    <tr>\n",
              "      <th>Africa</th>\n",
              "      <td>29</td>\n",
              "    </tr>\n",
              "    <tr>\n",
              "      <th>toronto</th>\n",
              "      <td>29</td>\n",
              "    </tr>\n",
              "    <tr>\n",
              "      <th>UK</th>\n",
              "      <td>27</td>\n",
              "    </tr>\n",
              "    <tr>\n",
              "      <th>Kingdom</th>\n",
              "      <td>26</td>\n",
              "    </tr>\n",
              "    <tr>\n",
              "      <th>Los Angeles, CA</th>\n",
              "      <td>26</td>\n",
              "    </tr>\n",
              "    <tr>\n",
              "      <th>Ireland</th>\n",
              "      <td>24</td>\n",
              "    </tr>\n",
              "    <tr>\n",
              "      <th>carolina</th>\n",
              "      <td>24</td>\n",
              "    </tr>\n",
              "    <tr>\n",
              "      <th>Mumbai</th>\n",
              "      <td>22</td>\n",
              "    </tr>\n",
              "    <tr>\n",
              "      <th>beattle</th>\n",
              "      <td>22</td>\n",
              "    </tr>\n",
              "    <tr>\n",
              "      <th>Louis</th>\n",
              "      <td>21</td>\n",
              "    </tr>\n",
              "    <tr>\n",
              "      <th>Oregon</th>\n",
              "      <td>21</td>\n",
              "    </tr>\n",
              "    <tr>\n",
              "      <th>Houston</th>\n",
              "      <td>20</td>\n",
              "    </tr>\n",
              "    <tr>\n",
              "      <th>Manchester</th>\n",
              "      <td>20</td>\n",
              "    </tr>\n",
              "    <tr>\n",
              "      <th>America</th>\n",
              "      <td>19</td>\n",
              "    </tr>\n",
              "    <tr>\n",
              "      <th>Dallas</th>\n",
              "      <td>19</td>\n",
              "    </tr>\n",
              "    <tr>\n",
              "      <th>Scotland</th>\n",
              "      <td>19</td>\n",
              "    </tr>\n",
              "    <tr>\n",
              "      <th>Worldwide</th>\n",
              "      <td>19</td>\n",
              "    </tr>\n",
              "    <tr>\n",
              "      <th>Dancouver</th>\n",
              "      <td>18</td>\n",
              "    </tr>\n",
              "    <tr>\n",
              "      <th>Massachusetts</th>\n",
              "      <td>18</td>\n",
              "    </tr>\n",
              "    <tr>\n",
              "      <th>Oklahoma</th>\n",
              "      <td>18</td>\n",
              "    </tr>\n",
              "    <tr>\n",
              "      <th>Calgary</th>\n",
              "      <td>17</td>\n",
              "    </tr>\n",
              "    <tr>\n",
              "      <th>Diego</th>\n",
              "      <td>17</td>\n",
              "    </tr>\n",
              "    <tr>\n",
              "      <th>Hoston</th>\n",
              "      <td>17</td>\n",
              "    </tr>\n",
              "    <tr>\n",
              "      <th>Kansas</th>\n",
              "      <td>17</td>\n",
              "    </tr>\n",
              "    <tr>\n",
              "      <th>Japan</th>\n",
              "      <td>16</td>\n",
              "    </tr>\n",
              "    <tr>\n",
              "      <th>Everywhere</th>\n",
              "      <td>15</td>\n",
              "    </tr>\n",
              "    <tr>\n",
              "      <th>Ohio</th>\n",
              "      <td>15</td>\n",
              "    </tr>\n",
              "    <tr>\n",
              "      <th>Philippines</th>\n",
              "      <td>15</td>\n",
              "    </tr>\n",
              "    <tr>\n",
              "      <th>sydney</th>\n",
              "      <td>15</td>\n",
              "    </tr>\n",
              "    <tr>\n",
              "      <th>Sacramento</th>\n",
              "      <td>14</td>\n",
              "    </tr>\n",
              "    <tr>\n",
              "      <th>ashville</th>\n",
              "      <td>14</td>\n",
              "    </tr>\n",
              "    <tr>\n",
              "      <th>justin</th>\n",
              "      <td>14</td>\n",
              "    </tr>\n",
              "    <tr>\n",
              "      <th>Indonesia</th>\n",
              "      <td>13</td>\n",
              "    </tr>\n",
              "  </tbody>\n",
              "</table>\n",
              "</div>"
            ],
            "text/plain": [
              "                 cantidad\n",
              "location                 \n",
              "New York, NY          295\n",
              "USA                   265\n",
              "Florida               204\n",
              "Canada                 84\n",
              "California             82\n",
              "New Jersey             69\n",
              "India                  68\n",
              "Washington             68\n",
              "Australia              65\n",
              "Nigeria                61\n",
              "England                59\n",
              "Texas                  51\n",
              "chicago                49\n",
              "Philadelphia           33\n",
              "colorado               33\n",
              "Atlanta                32\n",
              "Francisco              32\n",
              "Africa                 29\n",
              "toronto                29\n",
              "UK                     27\n",
              "Kingdom                26\n",
              "Los Angeles, CA        26\n",
              "Ireland                24\n",
              "carolina               24\n",
              "Mumbai                 22\n",
              "beattle                22\n",
              "Louis                  21\n",
              "Oregon                 21\n",
              "Houston                20\n",
              "Manchester             20\n",
              "America                19\n",
              "Dallas                 19\n",
              "Scotland               19\n",
              "Worldwide              19\n",
              "Dancouver              18\n",
              "Massachusetts          18\n",
              "Oklahoma               18\n",
              "Calgary                17\n",
              "Diego                  17\n",
              "Hoston                 17\n",
              "Kansas                 17\n",
              "Japan                  16\n",
              "Everywhere             15\n",
              "Ohio                   15\n",
              "Philippines            15\n",
              "sydney                 15\n",
              "Sacramento             14\n",
              "ashville               14\n",
              "justin                 14\n",
              "Indonesia              13"
            ]
          },
          "metadata": {
            "tags": []
          },
          "execution_count": 35
        }
      ]
    },
    {
      "cell_type": "code",
      "metadata": {
        "id": "Yv1fNH4sPu89",
        "colab_type": "code",
        "colab": {}
      },
      "source": [
        "#ya unificamos por palabras mas usuales en el train, ahora vamos aplicar esas funciones al test\n",
        "#y guardarlo en un csv."
      ],
      "execution_count": null,
      "outputs": []
    },
    {
      "cell_type": "code",
      "metadata": {
        "id": "LHr4ivNdQVOp",
        "colab_type": "code",
        "colab": {
          "base_uri": "https://localhost:8080/",
          "height": 395
        },
        "outputId": "1090ec2e-e47b-4649-8ebc-c395cbb9c95d"
      },
      "source": [
        "#antes\n",
        "test.groupby('location').agg(cantidad=('location','count')).nlargest(10,'cantidad')"
      ],
      "execution_count": 39,
      "outputs": [
        {
          "output_type": "execute_result",
          "data": {
            "text/html": [
              "<div>\n",
              "<style scoped>\n",
              "    .dataframe tbody tr th:only-of-type {\n",
              "        vertical-align: middle;\n",
              "    }\n",
              "\n",
              "    .dataframe tbody tr th {\n",
              "        vertical-align: top;\n",
              "    }\n",
              "\n",
              "    .dataframe thead th {\n",
              "        text-align: right;\n",
              "    }\n",
              "</style>\n",
              "<table border=\"1\" class=\"dataframe\">\n",
              "  <thead>\n",
              "    <tr style=\"text-align: right;\">\n",
              "      <th></th>\n",
              "      <th>cantidad</th>\n",
              "    </tr>\n",
              "    <tr>\n",
              "      <th>location</th>\n",
              "      <th></th>\n",
              "    </tr>\n",
              "  </thead>\n",
              "  <tbody>\n",
              "    <tr>\n",
              "      <th>New York</th>\n",
              "      <td>38</td>\n",
              "    </tr>\n",
              "    <tr>\n",
              "      <th>USA</th>\n",
              "      <td>37</td>\n",
              "    </tr>\n",
              "    <tr>\n",
              "      <th>Worldwide</th>\n",
              "      <td>16</td>\n",
              "    </tr>\n",
              "    <tr>\n",
              "      <th>United States</th>\n",
              "      <td>15</td>\n",
              "    </tr>\n",
              "    <tr>\n",
              "      <th>Canada</th>\n",
              "      <td>13</td>\n",
              "    </tr>\n",
              "    <tr>\n",
              "      <th>London</th>\n",
              "      <td>13</td>\n",
              "    </tr>\n",
              "    <tr>\n",
              "      <th>Kenya</th>\n",
              "      <td>12</td>\n",
              "    </tr>\n",
              "    <tr>\n",
              "      <th>Nigeria</th>\n",
              "      <td>12</td>\n",
              "    </tr>\n",
              "    <tr>\n",
              "      <th>United Kingdom</th>\n",
              "      <td>12</td>\n",
              "    </tr>\n",
              "    <tr>\n",
              "      <th>India</th>\n",
              "      <td>11</td>\n",
              "    </tr>\n",
              "  </tbody>\n",
              "</table>\n",
              "</div>"
            ],
            "text/plain": [
              "                cantidad\n",
              "location                \n",
              "New York              38\n",
              "USA                   37\n",
              "Worldwide             16\n",
              "United States         15\n",
              "Canada                13\n",
              "London                13\n",
              "Kenya                 12\n",
              "Nigeria               12\n",
              "United Kingdom        12\n",
              "India                 11"
            ]
          },
          "metadata": {
            "tags": []
          },
          "execution_count": 39
        }
      ]
    },
    {
      "cell_type": "code",
      "metadata": {
        "id": "Xb1VRxnuP9B_",
        "colab_type": "code",
        "colab": {}
      },
      "source": [
        "\n",
        "unificar_cuidades_paies(test)\n",
        "segundaunificacion(test)\n"
      ],
      "execution_count": 40,
      "outputs": []
    },
    {
      "cell_type": "code",
      "metadata": {
        "id": "TSM0xbyTQqIB",
        "colab_type": "code",
        "colab": {
          "base_uri": "https://localhost:8080/",
          "height": 395
        },
        "outputId": "f271b8dc-5b46-4a4d-bcf9-7106390f0356"
      },
      "source": [
        "#despues\n",
        "test.groupby('location').agg(cantidad=('location','count')).nlargest(10,'cantidad')"
      ],
      "execution_count": 41,
      "outputs": [
        {
          "output_type": "execute_result",
          "data": {
            "text/html": [
              "<div>\n",
              "<style scoped>\n",
              "    .dataframe tbody tr th:only-of-type {\n",
              "        vertical-align: middle;\n",
              "    }\n",
              "\n",
              "    .dataframe tbody tr th {\n",
              "        vertical-align: top;\n",
              "    }\n",
              "\n",
              "    .dataframe thead th {\n",
              "        text-align: right;\n",
              "    }\n",
              "</style>\n",
              "<table border=\"1\" class=\"dataframe\">\n",
              "  <thead>\n",
              "    <tr style=\"text-align: right;\">\n",
              "      <th></th>\n",
              "      <th>cantidad</th>\n",
              "    </tr>\n",
              "    <tr>\n",
              "      <th>location</th>\n",
              "      <th></th>\n",
              "    </tr>\n",
              "  </thead>\n",
              "  <tbody>\n",
              "    <tr>\n",
              "      <th>New York, NY</th>\n",
              "      <td>128</td>\n",
              "    </tr>\n",
              "    <tr>\n",
              "      <th>USA</th>\n",
              "      <td>108</td>\n",
              "    </tr>\n",
              "    <tr>\n",
              "      <th>Florida</th>\n",
              "      <td>65</td>\n",
              "    </tr>\n",
              "    <tr>\n",
              "      <th>Canada</th>\n",
              "      <td>41</td>\n",
              "    </tr>\n",
              "    <tr>\n",
              "      <th>England</th>\n",
              "      <td>32</td>\n",
              "    </tr>\n",
              "    <tr>\n",
              "      <th>India</th>\n",
              "      <td>32</td>\n",
              "    </tr>\n",
              "    <tr>\n",
              "      <th>California</th>\n",
              "      <td>29</td>\n",
              "    </tr>\n",
              "    <tr>\n",
              "      <th>Washington</th>\n",
              "      <td>29</td>\n",
              "    </tr>\n",
              "    <tr>\n",
              "      <th>New Jersey</th>\n",
              "      <td>28</td>\n",
              "    </tr>\n",
              "    <tr>\n",
              "      <th>Australia</th>\n",
              "      <td>27</td>\n",
              "    </tr>\n",
              "  </tbody>\n",
              "</table>\n",
              "</div>"
            ],
            "text/plain": [
              "              cantidad\n",
              "location              \n",
              "New York, NY       128\n",
              "USA                108\n",
              "Florida             65\n",
              "Canada              41\n",
              "England             32\n",
              "India               32\n",
              "California          29\n",
              "Washington          29\n",
              "New Jersey          28\n",
              "Australia           27"
            ]
          },
          "metadata": {
            "tags": []
          },
          "execution_count": 41
        }
      ]
    },
    {
      "cell_type": "code",
      "metadata": {
        "id": "XLDr1nCIQ44V",
        "colab_type": "code",
        "colab": {
          "base_uri": "https://localhost:8080/",
          "height": 121
        },
        "outputId": "40b5167f-af55-419a-ac4b-a51abf87f4f8"
      },
      "source": [
        "#tambien vamos a aplicar clean_text asi ya esta formateado para uso\n",
        "clean_text(test)"
      ],
      "execution_count": 43,
      "outputs": [
        {
          "output_type": "stream",
          "text": [
            "[nltk_data] Downloading package stopwords to /root/nltk_data...\n",
            "[nltk_data]   Package stopwords is already up-to-date!\n",
            "[nltk_data] Downloading package punkt to /root/nltk_data...\n",
            "[nltk_data]   Package punkt is already up-to-date!\n",
            "[nltk_data] Downloading package wordnet to /root/nltk_data...\n",
            "[nltk_data]   Package wordnet is already up-to-date!\n"
          ],
          "name": "stdout"
        }
      ]
    },
    {
      "cell_type": "code",
      "metadata": {
        "id": "Al2_5ndySscK",
        "colab_type": "code",
        "colab": {
          "base_uri": "https://localhost:8080/",
          "height": 121
        },
        "outputId": "9b4ea3aa-c5df-406b-888a-7a2e16dedb4d"
      },
      "source": [
        "clean_text(data)"
      ],
      "execution_count": 55,
      "outputs": [
        {
          "output_type": "stream",
          "text": [
            "[nltk_data] Downloading package stopwords to /root/nltk_data...\n",
            "[nltk_data]   Package stopwords is already up-to-date!\n",
            "[nltk_data] Downloading package punkt to /root/nltk_data...\n",
            "[nltk_data]   Package punkt is already up-to-date!\n",
            "[nltk_data] Downloading package wordnet to /root/nltk_data...\n",
            "[nltk_data]   Package wordnet is already up-to-date!\n"
          ],
          "name": "stdout"
        }
      ]
    },
    {
      "cell_type": "code",
      "metadata": {
        "id": "kkBetfTWRLNg",
        "colab_type": "code",
        "colab": {
          "base_uri": "https://localhost:8080/",
          "height": 81
        },
        "outputId": "31b4dc58-46c4-49df-8550-3f310e46f83e"
      },
      "source": [
        "data.head(1)"
      ],
      "execution_count": 56,
      "outputs": [
        {
          "output_type": "execute_result",
          "data": {
            "text/html": [
              "<div>\n",
              "<style scoped>\n",
              "    .dataframe tbody tr th:only-of-type {\n",
              "        vertical-align: middle;\n",
              "    }\n",
              "\n",
              "    .dataframe tbody tr th {\n",
              "        vertical-align: top;\n",
              "    }\n",
              "\n",
              "    .dataframe thead th {\n",
              "        text-align: right;\n",
              "    }\n",
              "</style>\n",
              "<table border=\"1\" class=\"dataframe\">\n",
              "  <thead>\n",
              "    <tr style=\"text-align: right;\">\n",
              "      <th></th>\n",
              "      <th>id</th>\n",
              "      <th>keyword</th>\n",
              "      <th>location</th>\n",
              "      <th>text</th>\n",
              "      <th>target</th>\n",
              "      <th>clean_text</th>\n",
              "    </tr>\n",
              "  </thead>\n",
              "  <tbody>\n",
              "    <tr>\n",
              "      <th>0</th>\n",
              "      <td>1</td>\n",
              "      <td>NaN</td>\n",
              "      <td>NaN</td>\n",
              "      <td>Our Deeds are the Reason of this #earthquake M...</td>\n",
              "      <td>1</td>\n",
              "      <td>deed reason earthquake may allah forgive u</td>\n",
              "    </tr>\n",
              "  </tbody>\n",
              "</table>\n",
              "</div>"
            ],
            "text/plain": [
              "   id keyword  ... target                                  clean_text\n",
              "0   1     NaN  ...      1  deed reason earthquake may allah forgive u\n",
              "\n",
              "[1 rows x 6 columns]"
            ]
          },
          "metadata": {
            "tags": []
          },
          "execution_count": 56
        }
      ]
    },
    {
      "cell_type": "code",
      "metadata": {
        "id": "lpCDaPxrRTR9",
        "colab_type": "code",
        "colab": {}
      },
      "source": [
        "#ahora si guardamos el train y test con columnas unificadas"
      ],
      "execution_count": null,
      "outputs": []
    },
    {
      "cell_type": "code",
      "metadata": {
        "id": "7rTxa_1HMI12",
        "colab_type": "code",
        "colab": {
          "base_uri": "https://localhost:8080/",
          "height": 17
        },
        "outputId": "cdd77f43-31f5-4f3e-ae3f-6821c7357f5c"
      },
      "source": [
        "from google.colab import files\n",
        "test.to_csv('test_uni_loca_1.csv') \n",
        "files.download('test_uni_loca_1.csv')\n",
        "data.to_csv('data_uni_loca_1.csv') \n",
        "files.download('data_uni_loca_1.csv')"
      ],
      "execution_count": 57,
      "outputs": [
        {
          "output_type": "display_data",
          "data": {
            "application/javascript": [
              "\n",
              "    async function download(id, filename, size) {\n",
              "      if (!google.colab.kernel.accessAllowed) {\n",
              "        return;\n",
              "      }\n",
              "      const div = document.createElement('div');\n",
              "      const label = document.createElement('label');\n",
              "      label.textContent = `Downloading \"${filename}\": `;\n",
              "      div.appendChild(label);\n",
              "      const progress = document.createElement('progress');\n",
              "      progress.max = size;\n",
              "      div.appendChild(progress);\n",
              "      document.body.appendChild(div);\n",
              "\n",
              "      const buffers = [];\n",
              "      let downloaded = 0;\n",
              "\n",
              "      const channel = await google.colab.kernel.comms.open(id);\n",
              "      // Send a message to notify the kernel that we're ready.\n",
              "      channel.send({})\n",
              "\n",
              "      for await (const message of channel.messages) {\n",
              "        // Send a message to notify the kernel that we're ready.\n",
              "        channel.send({})\n",
              "        if (message.buffers) {\n",
              "          for (const buffer of message.buffers) {\n",
              "            buffers.push(buffer);\n",
              "            downloaded += buffer.byteLength;\n",
              "            progress.value = downloaded;\n",
              "          }\n",
              "        }\n",
              "      }\n",
              "      const blob = new Blob(buffers, {type: 'application/binary'});\n",
              "      const a = document.createElement('a');\n",
              "      a.href = window.URL.createObjectURL(blob);\n",
              "      a.download = filename;\n",
              "      div.appendChild(a);\n",
              "      a.click();\n",
              "      div.remove();\n",
              "    }\n",
              "  "
            ],
            "text/plain": [
              "<IPython.core.display.Javascript object>"
            ]
          },
          "metadata": {
            "tags": []
          }
        },
        {
          "output_type": "display_data",
          "data": {
            "application/javascript": [
              "download(\"download_b7f905ae-e5d6-4994-b5a4-0d1d36a77de0\", \"test_uni_loca_1.csv\", 641036)"
            ],
            "text/plain": [
              "<IPython.core.display.Javascript object>"
            ]
          },
          "metadata": {
            "tags": []
          }
        },
        {
          "output_type": "display_data",
          "data": {
            "application/javascript": [
              "\n",
              "    async function download(id, filename, size) {\n",
              "      if (!google.colab.kernel.accessAllowed) {\n",
              "        return;\n",
              "      }\n",
              "      const div = document.createElement('div');\n",
              "      const label = document.createElement('label');\n",
              "      label.textContent = `Downloading \"${filename}\": `;\n",
              "      div.appendChild(label);\n",
              "      const progress = document.createElement('progress');\n",
              "      progress.max = size;\n",
              "      div.appendChild(progress);\n",
              "      document.body.appendChild(div);\n",
              "\n",
              "      const buffers = [];\n",
              "      let downloaded = 0;\n",
              "\n",
              "      const channel = await google.colab.kernel.comms.open(id);\n",
              "      // Send a message to notify the kernel that we're ready.\n",
              "      channel.send({})\n",
              "\n",
              "      for await (const message of channel.messages) {\n",
              "        // Send a message to notify the kernel that we're ready.\n",
              "        channel.send({})\n",
              "        if (message.buffers) {\n",
              "          for (const buffer of message.buffers) {\n",
              "            buffers.push(buffer);\n",
              "            downloaded += buffer.byteLength;\n",
              "            progress.value = downloaded;\n",
              "          }\n",
              "        }\n",
              "      }\n",
              "      const blob = new Blob(buffers, {type: 'application/binary'});\n",
              "      const a = document.createElement('a');\n",
              "      a.href = window.URL.createObjectURL(blob);\n",
              "      a.download = filename;\n",
              "      div.appendChild(a);\n",
              "      a.click();\n",
              "      div.remove();\n",
              "    }\n",
              "  "
            ],
            "text/plain": [
              "<IPython.core.display.Javascript object>"
            ]
          },
          "metadata": {
            "tags": []
          }
        },
        {
          "output_type": "display_data",
          "data": {
            "application/javascript": [
              "download(\"download_a47dd785-c5da-4da9-8e8a-7725adf2b92b\", \"data_uni_loca_1.csv\", 1494192)"
            ],
            "text/plain": [
              "<IPython.core.display.Javascript object>"
            ]
          },
          "metadata": {
            "tags": []
          }
        }
      ]
    },
    {
      "cell_type": "markdown",
      "metadata": {
        "id": "4u_RQJFVmpAf",
        "colab_type": "text"
      },
      "source": [
        "Ahora completamos deacuerdo a la localizacion que se encuentre en el tweet( solo localitaziones nulas)"
      ]
    },
    {
      "cell_type": "code",
      "metadata": {
        "id": "lNiJEhFNmnuT",
        "colab_type": "code",
        "colab": {}
      },
      "source": [
        "#completar las localizaciones fatantes con alguna palabra de pais( to 50 mas comunes, con cant tweet relevantes MAYOR A 13) contenido en el texto(tweet)"
      ],
      "execution_count": null,
      "outputs": []
    },
    {
      "cell_type": "code",
      "metadata": {
        "id": "kCkVRvVim9qo",
        "colab_type": "code",
        "colab": {
          "base_uri": "https://localhost:8080/",
          "height": 34
        },
        "outputId": "69ceaaff-d649-409c-a67d-8321d1465d33"
      },
      "source": [
        "#localions_list_list = list(set(data.keyword))  #todas las localizaciones\n",
        "\n",
        "data_con_localizaciones_usuales=data.groupby('location').agg(cantidad=('location','count')).nlargest(50,'cantidad')\n",
        "locations_list = list(data_con_localizaciones_usuales.index)\n",
        "locations_list[:5]"
      ],
      "execution_count": 58,
      "outputs": [
        {
          "output_type": "execute_result",
          "data": {
            "text/plain": [
              "['New York, NY', 'USA', 'Florida', 'Canada', 'California']"
            ]
          },
          "metadata": {
            "tags": []
          },
          "execution_count": 58
        }
      ]
    },
    {
      "cell_type": "code",
      "metadata": {
        "id": "QYVIpP0om90o",
        "colab_type": "code",
        "colab": {}
      },
      "source": [
        "#hallamos paises and ciudades en los tweet\n",
        "def unificar_localization_with_tweet(data2):\n",
        "      data2.loc[data2['clean_text'].str.contains('(?i)flori')==True,'location' ]='Florida'\n",
        "      data2.loc[data2['clean_text'].str.contains('(?i)florida')==True,'location' ]='Florida'\n",
        "      data2.loc[data2['clean_text'].str.contains('(?i), fl')==True,'location' ]='Florida'\n",
        "      data2.loc[data2['clean_text'].str.contains('(?i)toronto')==True,'location' ]='toronto'\n",
        "      data2.loc[data2['clean_text'].str.contains('(?i)carolina')==True,'location' ]='carolina'\n",
        "      data2.loc[data2['clean_text'].str.contains('(?i)colorado')==True,'location' ]='colorado'\n",
        "      data2.loc[data2['clean_text'].str.contains('(?i)ny')==True,'location' ]='New York, NY'\n",
        "      data2.loc[data2['clean_text'].str.contains('(?i)new yo')==True,'location' ]='New York, NY'\n",
        "      data2.loc[data2['clean_text'].str.contains('(?i)california')==True,'location' ]='California'\n",
        "      data2.loc[data2['clean_text'].str.contains('(?i), pa')==True,'location' ]='Philadelphia'\n",
        "      data2.loc[data2['clean_text'].str.contains('(?i),phila')==True,'location' ]='Philadelphia'\n",
        "      data2.loc[data2['clean_text'].str.contains('(?i),phili')==True,'location' ]='Philippines'  \n",
        "      data2.loc[data2['clean_text'].str.contains('(?i)Massa')==True,'location' ]='Massachusetts'\n",
        "      data2.loc[data2['clean_text'].str.contains('(?i)Michi')==True,'location' ]='Michigan'\n",
        "      data2.loc[data2['clean_text'].str.contains('(?i)Ariz')==True,'location' ]='Arizona'  \n",
        "      data2.loc[data2['clean_text'].str.contains('(?i), nc')==True,'location' ]='New Jersey'\n",
        "      data2.loc[data2['clean_text'].str.contains('(?i)jerse')==True,'location' ]='New Jersey'  \n",
        "      data2.loc[data2['clean_text'].str.contains('(?i)canad')==True,'location' ]='Canada'\n",
        "      data2.loc[data2['clean_text'].str.contains('(?i)niger')==True,'location' ]='Nigeria'\n",
        "      data2.loc[data2['clean_text'].str.contains('(?i)indi')==True,'location' ]='India'\n",
        "      data2.loc[data2['clean_text'].str.contains('(?i)flori')==True,'location' ]='Florida'\n",
        "      data2.loc[data2['clean_text'].str.contains('(?i)london')==True,'location' ]='Florida'\n",
        "      data2.loc[data2['clean_text'].str.contains('USA')==True,'location' ]='USA'   \n",
        "      data2.loc[data2['clean_text'].str.contains('United States')==True,'location' ]='USA' \n",
        "\n",
        "      data2.loc[data2['clean_text'].str.contains('(?i)ngland')==True,'location' ]='England'\n",
        "      data2.loc[data2['clean_text'].str.contains('(?i)exas')==True,'location' ]='Texas'\n",
        "      data2.loc[data2['clean_text'].str.contains('(?i)ustralia')==True,'location' ]='Australia'\n",
        "      data2.loc[data2['clean_text'].str.contains('(?i)ashington')==True,'location' ]='Washington'\n",
        "      data2.loc[data2['clean_text'].str.contains('(?i)tlanta')==True,'location' ]='Atlanta'\n",
        "      data2.loc[data2['clean_text'].str.contains('(?i)eattle')==True,'location' ]='beattle'\n",
        "      data2.loc[data2['clean_text'].str.contains('(?i)anchester')==True,'location' ]='Manchester'\n",
        "      data2.loc[data2['clean_text'].str.contains('(?i)frica')==True,'location' ]='Africa'\n",
        "      data2.loc[data2['clean_text'].str.contains('(?i)regon')==True,'location' ]='Oregon'\n",
        "      data2.loc[data2['clean_text'].str.contains('(?i)ydney')==True,'location' ]='sydney'\n",
        "      data2.loc[data2['clean_text'].str.contains('(?i)ouston')==True,'location' ]='Houston'\n",
        "      data2.loc[data2['clean_text'].str.contains('(?i)iego')==True,'location' ]='Diego'\n",
        "      data2.loc[data2['clean_text'].str.contains('(?i)cotland')==True,'location' ]='Scotland'\n",
        "      data2.loc[data2['clean_text'].str.contains('(?i)rancisco')==True,'location' ]='Francisco'\n",
        "      data2.loc[data2['clean_text'].str.contains('(?i)eorgia')==True,'location' ]='Georgia'\n",
        "      data2.loc[data2['clean_text'].str.contains('(?i)allas')==True,'location' ]='Dallas'\n",
        "      data2.loc[data2['clean_text'].str.contains('(?i)ancouver')==True,'location' ]='Dancouver'\n",
        "      data2.loc[data2['clean_text'].str.contains('(?i)elbourne')==True,'location' ]='Melbourne'\n",
        "      data2.loc[data2['clean_text'].str.contains('(?i)ingdom')==True,'location' ]='Kingdom'\n",
        "      data2.loc[data2['clean_text'].str.contains('(?i)algary')==True,'location' ]='Calgary'\n",
        "      data2.loc[data2['clean_text'].str.contains('(?i)apan')==True,'location' ]='Japan'\n",
        "      data2.loc[data2['clean_text'].str.contains('(?i)hilippines')==True,'location' ]='Philippines'\n",
        "      data2.loc[data2['clean_text'].str.contains('(?i)klahoma')==True,'location' ]='Oklahoma'\n",
        "      data2.loc[data2['clean_text'].str.contains('(?i)ortland')==True,'location' ]='Portland'\n",
        "      data2.loc[data2['clean_text'].str.contains('(?i)acramento')==True,'location' ]='Sacramento'\n",
        "      data2.loc[data2['clean_text'].str.contains('(?i)oston')==True,'location' ]='Hoston'\n",
        "      data2.loc[data2['clean_text'].str.contains('(?i)ustin')==True,'location' ]='justin'\n",
        "      data2.loc[data2['clean_text'].str.contains('(?i)ashville')==True,'location' ]='ashville'\n",
        "      data2.loc[data2['clean_text'].str.contains('(?i)hicago')==True,'location' ]='chicago'\n",
        "      data2.loc[data2['clean_text'].str.contains('(?i)merica')==True,'location' ]='America'\n",
        "      data2.loc[data2['clean_text'].str.contains('(?i)Vegas')==True,'location' ]='Vegas'\n",
        "      data2.loc[data2['clean_text'].str.contains('(?i)emphis')==True,'location' ]='Memphis'\n",
        "      data2.loc[data2['clean_text'].str.contains('(?i)Ohio')==True,'location' ]='Ohio'\n",
        "      data2.loc[data2['clean_text'].str.contains('(?i)ictoria')==True,'location' ]='Victoria'\n",
        "      data2.loc[data2['clean_text'].str.contains('(?i)ONTARIO')==True,'location' ]='Ontario'\n",
        "      data2.loc[data2['clean_text'].str.contains('(?i)reland')==True,'location' ]='Ireland'\n",
        "      data2.loc[data2['clean_text'].str.contains('(?i)irmingham')==True,'location' ]='Birmingham'\n",
        "      data2.loc[data2['clean_text'].str.contains('(?i)ennessee')==True,'location' ]='Tennessee'\n",
        "      data2.loc[data2['clean_text'].str.contains('(?i)ewcastle')==True,'location' ]='Newcastle'\n",
        "      data2.loc[data2['clean_text'].str.contains('(?i)olumbia')==True,'location' ]='Columbia'\n",
        "      data2.loc[data2['clean_text'].str.contains('(?i)Spain')==True,'location' ]='Spain'\n",
        "      data2.loc[data2['clean_text'].str.contains('(?i)ansas')==True,'location' ]='Kansas'\n",
        "      data2.loc[data2['clean_text'].str.contains('(?i)Denver')==True,'location' ]='Colorado'\n",
        "      \n",
        "      data2.loc[data2['clean_text'].str.contains('(?i)Louis')==True,'location' ]='Louis'\n",
        "\n",
        "      data2.loc[data2['clean_text'].str.contains('(?i)rance')==True,'location' ]='France'\n",
        "      data2.loc[data2['clean_text'].str.contains('(?i)etherlands')==True,'location' ]='Netherlands'\n",
        "      data2.loc[data2['clean_text'].str.contains('(?i)weden')==True,'location' ]='Sweden'\n",
        "      data2.loc[data2['clean_text'].str.contains('(?i)akistan')==True,'location' ]='Pakistan'\n",
        "      data2.loc[data2['clean_text'].str.contains('(?i)ritish')==True,'location' ]='British'\n",
        "      data2.loc[data2['clean_text'].str.contains('(?i)brasil')==True,'location' ]='Brasil'\n",
        "      data2.loc[data2['clean_text'].str.contains('(?i)rome')==True,'location' ]='Rome'\n",
        "      data2.loc[data2['clean_text'].str.contains('(?i)leveland')==True,'location' ]='cleveland'\n",
        "      data2.loc[data2['clean_text'].str.contains('(?i)valley')==True,'location' ]='alley'\n",
        "      data2.loc[data2['clean_text'].str.contains('(?i)ingapore')==True,'location' ]='singapore'\n",
        "      data2.loc[data2['clean_text'].str.contains('(?i)arizona')==True,'location' ]='arizona'\n",
        "      data2.loc[data2['clean_text'].str.contains('(?i)llinois')==True,'location' ]='illinois'\n",
        "      data2.loc[data2['clean_text'].str.contains('(?i)tokyo')==True,'location' ]='tokyo'"
      ],
      "execution_count": 59,
      "outputs": []
    },
    {
      "cell_type": "code",
      "metadata": {
        "id": "FxDvGC_8m9yN",
        "colab_type": "code",
        "colab": {}
      },
      "source": [
        "#agarramos  las localizaciones con null para completarlas(todas ellas tiene tweet)"
      ],
      "execution_count": null,
      "outputs": []
    },
    {
      "cell_type": "code",
      "metadata": {
        "id": "Hvu8nYfUm9vb",
        "colab_type": "code",
        "colab": {}
      },
      "source": [
        "data_only_null_location=data[data['location'].isna()]"
      ],
      "execution_count": 60,
      "outputs": []
    },
    {
      "cell_type": "code",
      "metadata": {
        "id": "l5EW9LMBTyAg",
        "colab_type": "code",
        "colab": {}
      },
      "source": [
        "test_only_null_location=test[test['location'].isna()]"
      ],
      "execution_count": 67,
      "outputs": []
    },
    {
      "cell_type": "code",
      "metadata": {
        "id": "HgUxPK7OUAh-",
        "colab_type": "code",
        "colab": {
          "base_uri": "https://localhost:8080/",
          "height": 225
        },
        "outputId": "0b25ae17-58b6-4997-f33c-fdc8fe6f9e2a"
      },
      "source": [
        "test_only_null_location.info()"
      ],
      "execution_count": 68,
      "outputs": [
        {
          "output_type": "stream",
          "text": [
            "<class 'pandas.core.frame.DataFrame'>\n",
            "Int64Index: 1105 entries, 0 to 3262\n",
            "Data columns (total 5 columns):\n",
            " #   Column      Non-Null Count  Dtype \n",
            "---  ------      --------------  ----- \n",
            " 0   id          1105 non-null   int64 \n",
            " 1   keyword     1079 non-null   object\n",
            " 2   location    0 non-null      object\n",
            " 3   text        1105 non-null   object\n",
            " 4   clean_text  1105 non-null   object\n",
            "dtypes: int64(1), object(4)\n",
            "memory usage: 51.8+ KB\n"
          ],
          "name": "stdout"
        }
      ]
    },
    {
      "cell_type": "code",
      "metadata": {
        "id": "iCmFzLpomn65",
        "colab_type": "code",
        "colab": {
          "base_uri": "https://localhost:8080/",
          "height": 243
        },
        "outputId": "2afc963f-a7fe-417b-d055-22cb9803ff91"
      },
      "source": [
        "data_only_null_location.info()"
      ],
      "execution_count": 61,
      "outputs": [
        {
          "output_type": "stream",
          "text": [
            "<class 'pandas.core.frame.DataFrame'>\n",
            "Int64Index: 2533 entries, 0 to 7612\n",
            "Data columns (total 6 columns):\n",
            " #   Column      Non-Null Count  Dtype \n",
            "---  ------      --------------  ----- \n",
            " 0   id          2533 non-null   int64 \n",
            " 1   keyword     2472 non-null   object\n",
            " 2   location    0 non-null      object\n",
            " 3   text        2533 non-null   object\n",
            " 4   target      2533 non-null   int64 \n",
            " 5   clean_text  2533 non-null   object\n",
            "dtypes: int64(2), object(4)\n",
            "memory usage: 138.5+ KB\n"
          ],
          "name": "stdout"
        }
      ]
    },
    {
      "cell_type": "code",
      "metadata": {
        "id": "59lWUrz5moQZ",
        "colab_type": "code",
        "colab": {
          "base_uri": "https://localhost:8080/",
          "height": 206
        },
        "outputId": "df30c240-db82-415b-fc2d-8057de652c9c"
      },
      "source": [
        "data_only_null_location.head(5)"
      ],
      "execution_count": 62,
      "outputs": [
        {
          "output_type": "execute_result",
          "data": {
            "text/html": [
              "<div>\n",
              "<style scoped>\n",
              "    .dataframe tbody tr th:only-of-type {\n",
              "        vertical-align: middle;\n",
              "    }\n",
              "\n",
              "    .dataframe tbody tr th {\n",
              "        vertical-align: top;\n",
              "    }\n",
              "\n",
              "    .dataframe thead th {\n",
              "        text-align: right;\n",
              "    }\n",
              "</style>\n",
              "<table border=\"1\" class=\"dataframe\">\n",
              "  <thead>\n",
              "    <tr style=\"text-align: right;\">\n",
              "      <th></th>\n",
              "      <th>id</th>\n",
              "      <th>keyword</th>\n",
              "      <th>location</th>\n",
              "      <th>text</th>\n",
              "      <th>target</th>\n",
              "      <th>clean_text</th>\n",
              "    </tr>\n",
              "  </thead>\n",
              "  <tbody>\n",
              "    <tr>\n",
              "      <th>0</th>\n",
              "      <td>1</td>\n",
              "      <td>NaN</td>\n",
              "      <td>NaN</td>\n",
              "      <td>Our Deeds are the Reason of this #earthquake M...</td>\n",
              "      <td>1</td>\n",
              "      <td>deed reason earthquake may allah forgive u</td>\n",
              "    </tr>\n",
              "    <tr>\n",
              "      <th>1</th>\n",
              "      <td>4</td>\n",
              "      <td>NaN</td>\n",
              "      <td>NaN</td>\n",
              "      <td>Forest fire near La Ronge Sask. Canada</td>\n",
              "      <td>1</td>\n",
              "      <td>forest fire near la ronge sask canada</td>\n",
              "    </tr>\n",
              "    <tr>\n",
              "      <th>2</th>\n",
              "      <td>5</td>\n",
              "      <td>NaN</td>\n",
              "      <td>NaN</td>\n",
              "      <td>All residents asked to 'shelter in place' are ...</td>\n",
              "      <td>1</td>\n",
              "      <td>resident asked shelter place notified officer ...</td>\n",
              "    </tr>\n",
              "    <tr>\n",
              "      <th>3</th>\n",
              "      <td>6</td>\n",
              "      <td>NaN</td>\n",
              "      <td>NaN</td>\n",
              "      <td>13,000 people receive #wildfires evacuation or...</td>\n",
              "      <td>1</td>\n",
              "      <td>people receive wildfire evacuation order calif...</td>\n",
              "    </tr>\n",
              "    <tr>\n",
              "      <th>4</th>\n",
              "      <td>7</td>\n",
              "      <td>NaN</td>\n",
              "      <td>NaN</td>\n",
              "      <td>Just got sent this photo from Ruby #Alaska as ...</td>\n",
              "      <td>1</td>\n",
              "      <td>got sent photo ruby alaska smoke wildfire pour...</td>\n",
              "    </tr>\n",
              "  </tbody>\n",
              "</table>\n",
              "</div>"
            ],
            "text/plain": [
              "   id keyword  ... target                                         clean_text\n",
              "0   1     NaN  ...      1         deed reason earthquake may allah forgive u\n",
              "1   4     NaN  ...      1              forest fire near la ronge sask canada\n",
              "2   5     NaN  ...      1  resident asked shelter place notified officer ...\n",
              "3   6     NaN  ...      1  people receive wildfire evacuation order calif...\n",
              "4   7     NaN  ...      1  got sent photo ruby alaska smoke wildfire pour...\n",
              "\n",
              "[5 rows x 6 columns]"
            ]
          },
          "metadata": {
            "tags": []
          },
          "execution_count": 62
        }
      ]
    },
    {
      "cell_type": "code",
      "metadata": {
        "id": "yOtI02kYmoMy",
        "colab_type": "code",
        "colab": {
          "base_uri": "https://localhost:8080/",
          "height": 121
        },
        "outputId": "8aeeef00-abaa-4da9-dfe3-07e4220c283e"
      },
      "source": [
        "#hallamos las localizaciones dentro del tweet para completar los null de locationes\n",
        "unificar_localization_with_tweet(data_only_null_location)"
      ],
      "execution_count": 63,
      "outputs": [
        {
          "output_type": "stream",
          "text": [
            "/usr/local/lib/python3.6/dist-packages/pandas/core/indexing.py:966: SettingWithCopyWarning: \n",
            "A value is trying to be set on a copy of a slice from a DataFrame.\n",
            "Try using .loc[row_indexer,col_indexer] = value instead\n",
            "\n",
            "See the caveats in the documentation: https://pandas.pydata.org/pandas-docs/stable/user_guide/indexing.html#returning-a-view-versus-a-copy\n",
            "  self.obj[item] = s\n"
          ],
          "name": "stderr"
        }
      ]
    },
    {
      "cell_type": "code",
      "metadata": {
        "id": "bOA5MBZXUL3T",
        "colab_type": "code",
        "colab": {
          "base_uri": "https://localhost:8080/",
          "height": 121
        },
        "outputId": "fafe438f-fc14-4dba-9cba-4344d573cdf0"
      },
      "source": [
        "#hallamos las localizaciones dentro del tweet para completar los null de locationes\n",
        "unificar_localization_with_tweet(test_only_null_location)"
      ],
      "execution_count": 69,
      "outputs": [
        {
          "output_type": "stream",
          "text": [
            "/usr/local/lib/python3.6/dist-packages/pandas/core/indexing.py:966: SettingWithCopyWarning: \n",
            "A value is trying to be set on a copy of a slice from a DataFrame.\n",
            "Try using .loc[row_indexer,col_indexer] = value instead\n",
            "\n",
            "See the caveats in the documentation: https://pandas.pydata.org/pandas-docs/stable/user_guide/indexing.html#returning-a-view-versus-a-copy\n",
            "  self.obj[item] = s\n"
          ],
          "name": "stderr"
        }
      ]
    },
    {
      "cell_type": "code",
      "metadata": {
        "id": "VR8xWhOgUS08",
        "colab_type": "code",
        "colab": {
          "base_uri": "https://localhost:8080/",
          "height": 642
        },
        "outputId": "2b1d020d-348f-4aa4-93e3-a463fde6847c"
      },
      "source": [
        "test_only_null_location['location'].value_counts()"
      ],
      "execution_count": 70,
      "outputs": [
        {
          "output_type": "execute_result",
          "data": {
            "text/plain": [
              "New York, NY     52\n",
              "California       17\n",
              "America          15\n",
              "Nigeria          11\n",
              "Japan             9\n",
              "India             7\n",
              "France            6\n",
              "Calgary           6\n",
              "Massachusetts     6\n",
              "Pakistan          6\n",
              "Washington        4\n",
              "Louis             4\n",
              "Georgia           4\n",
              "chicago           3\n",
              "Australia         3\n",
              "justin            3\n",
              "Canada            2\n",
              "Florida           2\n",
              "Colorado          2\n",
              "Oklahoma          2\n",
              "England           1\n",
              "alley             1\n",
              "Oregon            1\n",
              "British           1\n",
              "Ireland           1\n",
              "Birmingham        1\n",
              "ashville          1\n",
              "Portland          1\n",
              "Newcastle         1\n",
              "Rome              1\n",
              "singapore         1\n",
              "Columbia          1\n",
              "tokyo             1\n",
              "Texas             1\n",
              "beattle           1\n",
              "Name: location, dtype: int64"
            ]
          },
          "metadata": {
            "tags": []
          },
          "execution_count": 70
        }
      ]
    },
    {
      "cell_type": "code",
      "metadata": {
        "id": "GjYmQYEimoKc",
        "colab_type": "code",
        "colab": {
          "base_uri": "https://localhost:8080/",
          "height": 903
        },
        "outputId": "ba14e600-24ff-4ced-a2c5-165e32b79f1c"
      },
      "source": [
        "data_only_null_location['location'].value_counts()"
      ],
      "execution_count": 64,
      "outputs": [
        {
          "output_type": "execute_result",
          "data": {
            "text/plain": [
              "New York, NY     105\n",
              "California        50\n",
              "Japan             30\n",
              "India             24\n",
              "Pakistan          20\n",
              "France            19\n",
              "Massachusetts     16\n",
              "America           16\n",
              "Florida           12\n",
              "Nigeria           11\n",
              "justin             9\n",
              "Australia          9\n",
              "Calgary            8\n",
              "Canada             7\n",
              "Texas              6\n",
              "Georgia            6\n",
              "chicago            6\n",
              "Africa             6\n",
              "colorado           5\n",
              "Louis              5\n",
              "Washington         4\n",
              "Oklahoma           4\n",
              "British            3\n",
              "Rome               3\n",
              "Hoston             3\n",
              "toronto            3\n",
              "Diego              2\n",
              "Scotland           2\n",
              "ashville           2\n",
              "Sacramento         2\n",
              "cleveland          2\n",
              "Tennessee          2\n",
              "Ontario            2\n",
              "carolina           2\n",
              "Memphis            2\n",
              "Sweden             2\n",
              "alley              2\n",
              "Dallas             1\n",
              "tokyo              1\n",
              "sydney             1\n",
              "Houston            1\n",
              "England            1\n",
              "Oregon             1\n",
              "Michigan           1\n",
              "Kingdom            1\n",
              "Ireland            1\n",
              "Victoria           1\n",
              "Arizona            1\n",
              "Vegas              1\n",
              "Atlanta            1\n",
              "Name: location, dtype: int64"
            ]
          },
          "metadata": {
            "tags": []
          },
          "execution_count": 64
        }
      ]
    },
    {
      "cell_type": "code",
      "metadata": {
        "id": "wci1-13LmoH1",
        "colab_type": "code",
        "colab": {}
      },
      "source": [
        "#vemos que completo muchas location con el tweet que hicieron, tendra falsos positivos, pero pocos.\n",
        "#ahora vamos a mergear los datos sin null qeu sacamos antes con este nuevo data set cque completo mas nuellos de location\n",
        "datasinnullosenlocation=data[data['location'].isna()==False]\n",
        "#rehacemos el dataset denuevo mas completo\n",
        "location_complete_with_tweet=datasinnullosenlocation.append(data_only_null_location,ignore_index=True)"
      ],
      "execution_count": 65,
      "outputs": []
    },
    {
      "cell_type": "code",
      "metadata": {
        "id": "bUuN8ZNSUd-G",
        "colab_type": "code",
        "colab": {}
      },
      "source": [
        "#vemos que completo muchas location con el tweet que hicieron, tendra falsos positivos, pero pocos.\n",
        "#ahora vamos a mergear los datos sin null qeu sacamos antes con este nuevo data set cque completo mas nuellos de location\n",
        "datasinnullosenlocation_test=test[test['location'].isna()==False]\n",
        "#rehacemos el dataset denuevo mas completo\n",
        "location_complete_with_tweet_test=datasinnullosenlocation_test.append(test_only_null_location,ignore_index=True)"
      ],
      "execution_count": 71,
      "outputs": []
    },
    {
      "cell_type": "code",
      "metadata": {
        "id": "7OryZVY7Uzrd",
        "colab_type": "code",
        "colab": {
          "base_uri": "https://localhost:8080/",
          "height": 238
        },
        "outputId": "09875b8b-9a78-4480-adcc-3925d00a1023"
      },
      "source": [
        "location_complete_with_tweet_test.groupby('id').agg(canti=('id','count')).nlargest(5,'canti')"
      ],
      "execution_count": 72,
      "outputs": [
        {
          "output_type": "execute_result",
          "data": {
            "text/html": [
              "<div>\n",
              "<style scoped>\n",
              "    .dataframe tbody tr th:only-of-type {\n",
              "        vertical-align: middle;\n",
              "    }\n",
              "\n",
              "    .dataframe tbody tr th {\n",
              "        vertical-align: top;\n",
              "    }\n",
              "\n",
              "    .dataframe thead th {\n",
              "        text-align: right;\n",
              "    }\n",
              "</style>\n",
              "<table border=\"1\" class=\"dataframe\">\n",
              "  <thead>\n",
              "    <tr style=\"text-align: right;\">\n",
              "      <th></th>\n",
              "      <th>canti</th>\n",
              "    </tr>\n",
              "    <tr>\n",
              "      <th>id</th>\n",
              "      <th></th>\n",
              "    </tr>\n",
              "  </thead>\n",
              "  <tbody>\n",
              "    <tr>\n",
              "      <th>0</th>\n",
              "      <td>1</td>\n",
              "    </tr>\n",
              "    <tr>\n",
              "      <th>2</th>\n",
              "      <td>1</td>\n",
              "    </tr>\n",
              "    <tr>\n",
              "      <th>3</th>\n",
              "      <td>1</td>\n",
              "    </tr>\n",
              "    <tr>\n",
              "      <th>9</th>\n",
              "      <td>1</td>\n",
              "    </tr>\n",
              "    <tr>\n",
              "      <th>11</th>\n",
              "      <td>1</td>\n",
              "    </tr>\n",
              "  </tbody>\n",
              "</table>\n",
              "</div>"
            ],
            "text/plain": [
              "    canti\n",
              "id       \n",
              "0       1\n",
              "2       1\n",
              "3       1\n",
              "9       1\n",
              "11      1"
            ]
          },
          "metadata": {
            "tags": []
          },
          "execution_count": 72
        }
      ]
    },
    {
      "cell_type": "code",
      "metadata": {
        "id": "ILOUrdmNmoGF",
        "colab_type": "code",
        "colab": {
          "base_uri": "https://localhost:8080/",
          "height": 238
        },
        "outputId": "088a5cd4-3e1a-445b-a599-8dea2f6b503b"
      },
      "source": [
        "#con esto confirmamos lo evidente, que no hay id duplicadas\n",
        "location_complete_with_tweet.groupby('id').agg(canti=('id','count')).nlargest(5,'canti')"
      ],
      "execution_count": 66,
      "outputs": [
        {
          "output_type": "execute_result",
          "data": {
            "text/html": [
              "<div>\n",
              "<style scoped>\n",
              "    .dataframe tbody tr th:only-of-type {\n",
              "        vertical-align: middle;\n",
              "    }\n",
              "\n",
              "    .dataframe tbody tr th {\n",
              "        vertical-align: top;\n",
              "    }\n",
              "\n",
              "    .dataframe thead th {\n",
              "        text-align: right;\n",
              "    }\n",
              "</style>\n",
              "<table border=\"1\" class=\"dataframe\">\n",
              "  <thead>\n",
              "    <tr style=\"text-align: right;\">\n",
              "      <th></th>\n",
              "      <th>canti</th>\n",
              "    </tr>\n",
              "    <tr>\n",
              "      <th>id</th>\n",
              "      <th></th>\n",
              "    </tr>\n",
              "  </thead>\n",
              "  <tbody>\n",
              "    <tr>\n",
              "      <th>1</th>\n",
              "      <td>1</td>\n",
              "    </tr>\n",
              "    <tr>\n",
              "      <th>4</th>\n",
              "      <td>1</td>\n",
              "    </tr>\n",
              "    <tr>\n",
              "      <th>5</th>\n",
              "      <td>1</td>\n",
              "    </tr>\n",
              "    <tr>\n",
              "      <th>6</th>\n",
              "      <td>1</td>\n",
              "    </tr>\n",
              "    <tr>\n",
              "      <th>7</th>\n",
              "      <td>1</td>\n",
              "    </tr>\n",
              "  </tbody>\n",
              "</table>\n",
              "</div>"
            ],
            "text/plain": [
              "    canti\n",
              "id       \n",
              "1       1\n",
              "4       1\n",
              "5       1\n",
              "6       1\n",
              "7       1"
            ]
          },
          "metadata": {
            "tags": []
          },
          "execution_count": 66
        }
      ]
    },
    {
      "cell_type": "code",
      "metadata": {
        "id": "hFTNKxqcmoEa",
        "colab_type": "code",
        "colab": {
          "base_uri": "https://localhost:8080/",
          "height": 17
        },
        "outputId": "464f6abb-5202-4650-bc73-afc134b8c5e0"
      },
      "source": [
        "#guardo este dataset , acordarse que este puede tener unos cuantos falsos positivos\n",
        "location_complete_with_tweet_test.to_csv('test_uni_loca_2.csv') \n",
        "files.download('test_uni_loca_2.csv')\n",
        "location_complete_with_tweet.to_csv('data_uni_loca_2.csv') \n",
        "files.download('data_uni_loca_2.csv')"
      ],
      "execution_count": 73,
      "outputs": [
        {
          "output_type": "display_data",
          "data": {
            "application/javascript": [
              "\n",
              "    async function download(id, filename, size) {\n",
              "      if (!google.colab.kernel.accessAllowed) {\n",
              "        return;\n",
              "      }\n",
              "      const div = document.createElement('div');\n",
              "      const label = document.createElement('label');\n",
              "      label.textContent = `Downloading \"${filename}\": `;\n",
              "      div.appendChild(label);\n",
              "      const progress = document.createElement('progress');\n",
              "      progress.max = size;\n",
              "      div.appendChild(progress);\n",
              "      document.body.appendChild(div);\n",
              "\n",
              "      const buffers = [];\n",
              "      let downloaded = 0;\n",
              "\n",
              "      const channel = await google.colab.kernel.comms.open(id);\n",
              "      // Send a message to notify the kernel that we're ready.\n",
              "      channel.send({})\n",
              "\n",
              "      for await (const message of channel.messages) {\n",
              "        // Send a message to notify the kernel that we're ready.\n",
              "        channel.send({})\n",
              "        if (message.buffers) {\n",
              "          for (const buffer of message.buffers) {\n",
              "            buffers.push(buffer);\n",
              "            downloaded += buffer.byteLength;\n",
              "            progress.value = downloaded;\n",
              "          }\n",
              "        }\n",
              "      }\n",
              "      const blob = new Blob(buffers, {type: 'application/binary'});\n",
              "      const a = document.createElement('a');\n",
              "      a.href = window.URL.createObjectURL(blob);\n",
              "      a.download = filename;\n",
              "      div.appendChild(a);\n",
              "      a.click();\n",
              "      div.remove();\n",
              "    }\n",
              "  "
            ],
            "text/plain": [
              "<IPython.core.display.Javascript object>"
            ]
          },
          "metadata": {
            "tags": []
          }
        },
        {
          "output_type": "display_data",
          "data": {
            "application/javascript": [
              "download(\"download_0dfa3023-7942-4b65-9e16-2d9cfe97e7c6\", \"test_uni_loca_2.csv\", 642717)"
            ],
            "text/plain": [
              "<IPython.core.display.Javascript object>"
            ]
          },
          "metadata": {
            "tags": []
          }
        },
        {
          "output_type": "display_data",
          "data": {
            "application/javascript": [
              "\n",
              "    async function download(id, filename, size) {\n",
              "      if (!google.colab.kernel.accessAllowed) {\n",
              "        return;\n",
              "      }\n",
              "      const div = document.createElement('div');\n",
              "      const label = document.createElement('label');\n",
              "      label.textContent = `Downloading \"${filename}\": `;\n",
              "      div.appendChild(label);\n",
              "      const progress = document.createElement('progress');\n",
              "      progress.max = size;\n",
              "      div.appendChild(progress);\n",
              "      document.body.appendChild(div);\n",
              "\n",
              "      const buffers = [];\n",
              "      let downloaded = 0;\n",
              "\n",
              "      const channel = await google.colab.kernel.comms.open(id);\n",
              "      // Send a message to notify the kernel that we're ready.\n",
              "      channel.send({})\n",
              "\n",
              "      for await (const message of channel.messages) {\n",
              "        // Send a message to notify the kernel that we're ready.\n",
              "        channel.send({})\n",
              "        if (message.buffers) {\n",
              "          for (const buffer of message.buffers) {\n",
              "            buffers.push(buffer);\n",
              "            downloaded += buffer.byteLength;\n",
              "            progress.value = downloaded;\n",
              "          }\n",
              "        }\n",
              "      }\n",
              "      const blob = new Blob(buffers, {type: 'application/binary'});\n",
              "      const a = document.createElement('a');\n",
              "      a.href = window.URL.createObjectURL(blob);\n",
              "      a.download = filename;\n",
              "      div.appendChild(a);\n",
              "      a.click();\n",
              "      div.remove();\n",
              "    }\n",
              "  "
            ],
            "text/plain": [
              "<IPython.core.display.Javascript object>"
            ]
          },
          "metadata": {
            "tags": []
          }
        },
        {
          "output_type": "display_data",
          "data": {
            "application/javascript": [
              "download(\"download_5e31f44a-c141-4536-b5d6-933f7bb6f9e6\", \"data_uni_loca_2.csv\", 1498029)"
            ],
            "text/plain": [
              "<IPython.core.display.Javascript object>"
            ]
          },
          "metadata": {
            "tags": []
          }
        }
      ]
    },
    {
      "cell_type": "code",
      "metadata": {
        "id": "_Nmtl-j5mnyu",
        "colab_type": "code",
        "colab": {}
      },
      "source": [
        ""
      ],
      "execution_count": null,
      "outputs": []
    },
    {
      "cell_type": "code",
      "metadata": {
        "id": "k_6z1f-Y5RYi",
        "colab_type": "code",
        "colab": {}
      },
      "source": [
        "#ahora la idea es aproximar las localidades nulas que quedaron, mediante su tweet,\n",
        "# es decir vamos a buscar el tweet mas similar con location completa,\n",
        "#vamos a utilzar su location para completar el null de la otra location.\n",
        "#para eso usamos embedding word2vec y la distancia entre vectores, la minima"
      ],
      "execution_count": null,
      "outputs": []
    },
    {
      "cell_type": "code",
      "metadata": {
        "id": "q8KSd9PsStMm",
        "colab_type": "code",
        "colab": {
          "base_uri": "https://localhost:8080/",
          "height": 332
        },
        "outputId": "e53f00b0-d0c9-494d-96a1-f6164b27ff7a"
      },
      "source": [
        "!pip install gensim\n",
        "from gensim.models import KeyedVectors"
      ],
      "execution_count": 74,
      "outputs": [
        {
          "output_type": "stream",
          "text": [
            "Requirement already satisfied: gensim in /usr/local/lib/python3.6/dist-packages (3.6.0)\n",
            "Requirement already satisfied: numpy>=1.11.3 in /usr/local/lib/python3.6/dist-packages (from gensim) (1.18.5)\n",
            "Requirement already satisfied: six>=1.5.0 in /usr/local/lib/python3.6/dist-packages (from gensim) (1.15.0)\n",
            "Requirement already satisfied: smart-open>=1.2.1 in /usr/local/lib/python3.6/dist-packages (from gensim) (2.1.0)\n",
            "Requirement already satisfied: scipy>=0.18.1 in /usr/local/lib/python3.6/dist-packages (from gensim) (1.4.1)\n",
            "Requirement already satisfied: requests in /usr/local/lib/python3.6/dist-packages (from smart-open>=1.2.1->gensim) (2.23.0)\n",
            "Requirement already satisfied: boto in /usr/local/lib/python3.6/dist-packages (from smart-open>=1.2.1->gensim) (2.49.0)\n",
            "Requirement already satisfied: boto3 in /usr/local/lib/python3.6/dist-packages (from smart-open>=1.2.1->gensim) (1.14.30)\n",
            "Requirement already satisfied: urllib3!=1.25.0,!=1.25.1,<1.26,>=1.21.1 in /usr/local/lib/python3.6/dist-packages (from requests->smart-open>=1.2.1->gensim) (1.24.3)\n",
            "Requirement already satisfied: idna<3,>=2.5 in /usr/local/lib/python3.6/dist-packages (from requests->smart-open>=1.2.1->gensim) (2.10)\n",
            "Requirement already satisfied: chardet<4,>=3.0.2 in /usr/local/lib/python3.6/dist-packages (from requests->smart-open>=1.2.1->gensim) (3.0.4)\n",
            "Requirement already satisfied: certifi>=2017.4.17 in /usr/local/lib/python3.6/dist-packages (from requests->smart-open>=1.2.1->gensim) (2020.6.20)\n",
            "Requirement already satisfied: s3transfer<0.4.0,>=0.3.0 in /usr/local/lib/python3.6/dist-packages (from boto3->smart-open>=1.2.1->gensim) (0.3.3)\n",
            "Requirement already satisfied: jmespath<1.0.0,>=0.7.1 in /usr/local/lib/python3.6/dist-packages (from boto3->smart-open>=1.2.1->gensim) (0.10.0)\n",
            "Requirement already satisfied: botocore<1.18.0,>=1.17.30 in /usr/local/lib/python3.6/dist-packages (from boto3->smart-open>=1.2.1->gensim) (1.17.30)\n",
            "Requirement already satisfied: python-dateutil<3.0.0,>=2.1 in /usr/local/lib/python3.6/dist-packages (from botocore<1.18.0,>=1.17.30->boto3->smart-open>=1.2.1->gensim) (2.8.1)\n",
            "Requirement already satisfied: docutils<0.16,>=0.10 in /usr/local/lib/python3.6/dist-packages (from botocore<1.18.0,>=1.17.30->boto3->smart-open>=1.2.1->gensim) (0.15.2)\n"
          ],
          "name": "stdout"
        }
      ]
    },
    {
      "cell_type": "code",
      "metadata": {
        "id": "55cPtlPbStbk",
        "colab_type": "code",
        "colab": {
          "base_uri": "https://localhost:8080/",
          "height": 208
        },
        "outputId": "e9d8d741-faa1-4718-b77c-15b1235b2203"
      },
      "source": [
        "!wget -P /root/input/ -c \"https://s3.amazonaws.com/dl4j-distribution/GoogleNews-vectors-negative300.bin.gz\""
      ],
      "execution_count": 75,
      "outputs": [
        {
          "output_type": "stream",
          "text": [
            "--2020-08-02 18:01:02--  https://s3.amazonaws.com/dl4j-distribution/GoogleNews-vectors-negative300.bin.gz\n",
            "Resolving s3.amazonaws.com (s3.amazonaws.com)... 52.217.82.134\n",
            "Connecting to s3.amazonaws.com (s3.amazonaws.com)|52.217.82.134|:443... connected.\n",
            "HTTP request sent, awaiting response... 200 OK\n",
            "Length: 1647046227 (1.5G) [application/x-gzip]\n",
            "Saving to: ‘/root/input/GoogleNews-vectors-negative300.bin.gz’\n",
            "\n",
            "GoogleNews-vectors- 100%[===================>]   1.53G  86.4MB/s    in 23s     \n",
            "\n",
            "2020-08-02 18:01:25 (69.0 MB/s) - ‘/root/input/GoogleNews-vectors-negative300.bin.gz’ saved [1647046227/1647046227]\n",
            "\n"
          ],
          "name": "stdout"
        }
      ]
    },
    {
      "cell_type": "code",
      "metadata": {
        "id": "yAG84MSLStiq",
        "colab_type": "code",
        "colab": {
          "base_uri": "https://localhost:8080/",
          "height": 72
        },
        "outputId": "1edb886f-b25e-4985-c240-703ae8d57f48"
      },
      "source": [
        "EMBEDDING_FILE = '/root/input/GoogleNews-vectors-negative300.bin.gz' # from above\n",
        "word2vec = KeyedVectors.load_word2vec_format(EMBEDDING_FILE, binary=True)"
      ],
      "execution_count": 76,
      "outputs": [
        {
          "output_type": "stream",
          "text": [
            "/usr/local/lib/python3.6/dist-packages/smart_open/smart_open_lib.py:254: UserWarning: This function is deprecated, use smart_open.open instead. See the migration notes for details: https://github.com/RaRe-Technologies/smart_open/blob/master/README.rst#migrating-to-the-new-open-function\n",
            "  'See the migration notes for details: %s' % _MIGRATION_NOTES_URL\n"
          ],
          "name": "stderr"
        }
      ]
    },
    {
      "cell_type": "code",
      "metadata": {
        "id": "CtgTUJScWO8m",
        "colab_type": "code",
        "colab": {}
      },
      "source": [
        "#si queremos hacer el test, poner  data=location_complete_with_tweet_test"
      ],
      "execution_count": null,
      "outputs": []
    },
    {
      "cell_type": "code",
      "metadata": {
        "id": "i9SBDUMtrhem",
        "colab_type": "code",
        "colab": {}
      },
      "source": [
        "#el pongo este nombre porque asi lo utilice para probar esta funcionablidad, pero  el \n",
        "#dataset ya esta completo con localizaciones unificadas y locationes que estaba nullos \n",
        "#completadas con valores de su tweet de locationes.\n",
        "data=location_complete_with_tweet"
      ],
      "execution_count": null,
      "outputs": []
    },
    {
      "cell_type": "code",
      "metadata": {
        "id": "0N0R1DLOsJFE",
        "colab_type": "code",
        "colab": {
          "base_uri": "https://localhost:8080/",
          "height": 225
        },
        "outputId": "db12bc34-7247-4b73-9d05-a6651926bfd7"
      },
      "source": [
        "data.info()"
      ],
      "execution_count": null,
      "outputs": [
        {
          "output_type": "stream",
          "text": [
            "<class 'pandas.core.frame.DataFrame'>\n",
            "RangeIndex: 3263 entries, 0 to 3262\n",
            "Data columns (total 5 columns):\n",
            " #   Column      Non-Null Count  Dtype \n",
            "---  ------      --------------  ----- \n",
            " 0   id          3263 non-null   int64 \n",
            " 1   keyword     3237 non-null   object\n",
            " 2   location    2337 non-null   object\n",
            " 3   text        3263 non-null   object\n",
            " 4   clean_text  1105 non-null   object\n",
            "dtypes: int64(1), object(4)\n",
            "memory usage: 127.6+ KB\n"
          ],
          "name": "stdout"
        }
      ]
    },
    {
      "cell_type": "code",
      "metadata": {
        "id": "nh76Sz-zVWDL",
        "colab_type": "code",
        "colab": {
          "base_uri": "https://localhost:8080/",
          "height": 225
        },
        "outputId": "a0140db0-651c-453e-93c4-9b1a51c2e763"
      },
      "source": [
        "#vemos que hay 2533 nullos en location, puede ser peligroso aproximar esa cantidad\n",
        "#asi que seguramente aproxime unos 500 localizaciones\n",
        "data[data['location'].isna()==True].info()"
      ],
      "execution_count": null,
      "outputs": [
        {
          "output_type": "stream",
          "text": [
            "<class 'pandas.core.frame.DataFrame'>\n",
            "Int64Index: 926 entries, 2158 to 3261\n",
            "Data columns (total 5 columns):\n",
            " #   Column      Non-Null Count  Dtype \n",
            "---  ------      --------------  ----- \n",
            " 0   id          926 non-null    int64 \n",
            " 1   keyword     904 non-null    object\n",
            " 2   location    0 non-null      object\n",
            " 3   text        926 non-null    object\n",
            " 4   clean_text  926 non-null    object\n",
            "dtypes: int64(1), object(4)\n",
            "memory usage: 43.4+ KB\n"
          ],
          "name": "stdout"
        }
      ]
    },
    {
      "cell_type": "code",
      "metadata": {
        "id": "727OHquJUqB0",
        "colab_type": "code",
        "colab": {
          "base_uri": "https://localhost:8080/",
          "height": 225
        },
        "outputId": "87b4007f-0a8b-41a8-f231-63177d488e4f"
      },
      "source": [
        "data[data['location'].notnull()==True].info()"
      ],
      "execution_count": null,
      "outputs": [
        {
          "output_type": "stream",
          "text": [
            "<class 'pandas.core.frame.DataFrame'>\n",
            "Int64Index: 2337 entries, 0 to 3262\n",
            "Data columns (total 5 columns):\n",
            " #   Column      Non-Null Count  Dtype \n",
            "---  ------      --------------  ----- \n",
            " 0   id          2337 non-null   int64 \n",
            " 1   keyword     2333 non-null   object\n",
            " 2   location    2337 non-null   object\n",
            " 3   text        2337 non-null   object\n",
            " 4   clean_text  179 non-null    object\n",
            "dtypes: int64(1), object(4)\n",
            "memory usage: 109.5+ KB\n"
          ],
          "name": "stdout"
        }
      ]
    },
    {
      "cell_type": "code",
      "metadata": {
        "id": "3qZTIKBwoiSI",
        "colab_type": "code",
        "colab": {}
      },
      "source": [
        "def completar_location_by_similiaridad_tweet(data):\n",
        "    sacar_columnas_usuales_final=data.groupby('location').agg(cantidad=('location','count')).nlargest(30,'cantidad')[:50]\n",
        "    sacar_columnas_usuales_final=list(sacar_columnas_usuales_final.index)\n",
        "    #esas columnas mas usuales son para que filtre el dataset, y entonces el ciclo sesa mas corto\n",
        "    data_sin_null_location=data[data['location'].isin(sacar_columnas_usuales_final)==True]\n",
        "    data_sin_null_location=data_sin_null_location[data_sin_null_location['location'].notnull()==True]\n",
        "    #vamos aproximar una cantidad de 10% de valores nullos de location(esto podriamos variar,a mas o menos porcentaje si queremos)\n",
        "    #total_de_nullos_a_completar=total_nullos*10/100  \n",
        "\n",
        "    #total_de_nullos_a_completar=total_nullos*10/100\n",
        "    total_de_nullos_a_completar=data[data['location'].isna()==True]['id'].count()*5/100\n",
        "    total_de_nullos_a_completar=int(total_de_nullos_a_completar)\n",
        "\n",
        "    #vamos agarrar solo 200 para predecir y completar\n",
        "    data_with_null_location=data[data['location'].isna()==True][:total_de_nullos_a_completar]\n",
        "\n",
        "    #en estos for comparo similaridad entre documento mediante word2vec, esto lo hace por distancia\n",
        "    #vectorial\n",
        "\n",
        "    acumlisttweetsimilar=list()\n",
        "    acumidlisttweetsimilar=list()\n",
        "\n",
        "\n",
        "    for i in range(len( data_with_null_location['text'])):\n",
        "      distanciaminima=10000\n",
        "    \n",
        "      \n",
        "      for j in range(len( data_sin_null_location['text'])):\n",
        "        \n",
        "        distancia_entre_vectores=word2vec.wmdistance(data_sin_null_location['text'].iloc[j], data_with_null_location['text'].iloc[i])\n",
        "        \n",
        "        if(distanciaminima>distancia_entre_vectores):\n",
        "          distanciaminima=distancia_entre_vectores\n",
        "        \n",
        "          indexsinnull=j\n",
        "          indexconnull=i\n",
        "    \n",
        "        if(j==(len( data_sin_null_location['text'])-1)) :\n",
        "          idconnull=data_with_null_location['id'].iloc[indexconnull]\n",
        "          idsinnull=data_sin_null_location['id'].iloc[indexsinnull]\n",
        "          acumlisttweetsimilar.append( (data_sin_null_location['text'].iloc[indexsinnull], data_with_null_location['text'].iloc[indexconnull]))\n",
        "          acumidlisttweetsimilar.append((data_sin_null_location['id'].iloc[indexsinnull],data_with_null_location['id'].iloc[indexconnull]))\n",
        "          data_with_null_location.loc[data_with_null_location['id']==idconnull , 'location'] =list(data_sin_null_location.loc[data_sin_null_location['id']==idsinnull , 'location'])\n",
        "          print(j)\n",
        "\n",
        "    #aca vemos cuales fueron los tweet similares,descomentar para verlo\n",
        "    #acumlisttweetsimilar[:5] \n",
        "\n",
        "    #aca las id de los tweet similares,descomentar para verlo\n",
        "    #acumidlisttweetsimilar#(#sin, #con)     \n",
        "\n",
        "    data_with_null_location_quedaron_sin_rellenar=data[data['location'].isna()==True][total_de_nullos_a_completar:]\n",
        "    data_loca_relleandos=data_with_null_location\n",
        "    data_null_and_fill_location=data_loca_relleandos.append(data_with_null_location_quedaron_sin_rellenar)\n",
        "    #agarramos el dataset original con las unificaciones del paso 1 y 2, para despues agregar\n",
        "    #el dataframe anterior\n",
        "    data_sin_nullos_original=data[data['location'].isna()==False]\n",
        "\n",
        "    data_parte3=data_sin_nullos_original.append(data_null_and_fill_location)\n",
        "    return  data_parte3   "
      ],
      "execution_count": 80,
      "outputs": []
    },
    {
      "cell_type": "code",
      "metadata": {
        "id": "oXdWjKYNuFHU",
        "colab_type": "code",
        "colab": {}
      },
      "source": [
        "#vamos a agregar locaciones a el train\n",
        "data=location_complete_with_tweet"
      ],
      "execution_count": 81,
      "outputs": []
    },
    {
      "cell_type": "code",
      "metadata": {
        "id": "WzRdEMoYvWNt",
        "colab_type": "code",
        "colab": {
          "base_uri": "https://localhost:8080/",
          "height": 1000
        },
        "outputId": "745e3bf4-fcab-4c56-fa8b-65ea7f2dfddc"
      },
      "source": [
        "train_parte_3=completar_location_by_similiaridad_tweet(data)"
      ],
      "execution_count": 83,
      "outputs": [
        {
          "output_type": "stream",
          "text": [
            "2189\n",
            "2189\n",
            "2189\n",
            "2189\n",
            "2189\n",
            "2189\n",
            "2189\n",
            "2189\n",
            "2189\n",
            "2189\n",
            "2189\n",
            "2189\n",
            "2189\n",
            "2189\n",
            "2189\n",
            "2189\n",
            "2189\n",
            "2189\n",
            "2189\n",
            "2189\n",
            "2189\n",
            "2189\n",
            "2189\n",
            "2189\n",
            "2189\n",
            "2189\n",
            "2189\n",
            "2189\n",
            "2189\n",
            "2189\n",
            "2189\n",
            "2189\n",
            "2189\n",
            "2189\n",
            "2189\n",
            "2189\n",
            "2189\n",
            "2189\n",
            "2189\n",
            "2189\n",
            "2189\n",
            "2189\n",
            "2189\n",
            "2189\n",
            "2189\n",
            "2189\n",
            "2189\n",
            "2189\n",
            "2189\n",
            "2189\n",
            "2189\n",
            "2189\n",
            "2189\n",
            "2189\n",
            "2189\n",
            "2189\n",
            "2189\n",
            "2189\n",
            "2189\n",
            "2189\n",
            "2189\n",
            "2189\n",
            "2189\n",
            "2189\n",
            "2189\n",
            "2189\n",
            "2189\n",
            "2189\n",
            "2189\n",
            "2189\n",
            "2189\n",
            "2189\n",
            "2189\n",
            "2189\n",
            "2189\n",
            "2189\n",
            "2189\n",
            "2189\n",
            "2189\n",
            "2189\n",
            "2189\n",
            "2189\n",
            "2189\n",
            "2189\n",
            "2189\n",
            "2189\n",
            "2189\n",
            "2189\n",
            "2189\n",
            "2189\n",
            "2189\n",
            "2189\n",
            "2189\n",
            "2189\n",
            "2189\n",
            "2189\n",
            "2189\n",
            "2189\n",
            "2189\n",
            "2189\n",
            "2189\n",
            "2189\n",
            "2189\n",
            "2189\n",
            "2189\n"
          ],
          "name": "stdout"
        }
      ]
    },
    {
      "cell_type": "code",
      "metadata": {
        "id": "CY2XVf4u51tg",
        "colab_type": "code",
        "colab": {
          "base_uri": "https://localhost:8080/",
          "height": 243
        },
        "outputId": "980e64a8-0122-4527-8c70-e779919b362d"
      },
      "source": [
        "train_parte_3.info()"
      ],
      "execution_count": 85,
      "outputs": [
        {
          "output_type": "stream",
          "text": [
            "<class 'pandas.core.frame.DataFrame'>\n",
            "Int64Index: 7613 entries, 0 to 7611\n",
            "Data columns (total 6 columns):\n",
            " #   Column      Non-Null Count  Dtype \n",
            "---  ------      --------------  ----- \n",
            " 0   id          7613 non-null   int64 \n",
            " 1   keyword     7552 non-null   object\n",
            " 2   location    5610 non-null   object\n",
            " 3   text        7613 non-null   object\n",
            " 4   target      7613 non-null   int64 \n",
            " 5   clean_text  7613 non-null   object\n",
            "dtypes: int64(2), object(4)\n",
            "memory usage: 416.3+ KB\n"
          ],
          "name": "stdout"
        }
      ]
    },
    {
      "cell_type": "code",
      "metadata": {
        "id": "nhfFrAfP6SvE",
        "colab_type": "code",
        "colab": {
          "base_uri": "https://localhost:8080/",
          "height": 225
        },
        "outputId": "277c164c-9818-4e5d-d016-909c893fb611"
      },
      "source": [
        "location_complete_with_tweet_test.info()"
      ],
      "execution_count": 87,
      "outputs": [
        {
          "output_type": "stream",
          "text": [
            "<class 'pandas.core.frame.DataFrame'>\n",
            "RangeIndex: 3263 entries, 0 to 3262\n",
            "Data columns (total 5 columns):\n",
            " #   Column      Non-Null Count  Dtype \n",
            "---  ------      --------------  ----- \n",
            " 0   id          3263 non-null   int64 \n",
            " 1   keyword     3237 non-null   object\n",
            " 2   location    2337 non-null   object\n",
            " 3   text        3263 non-null   object\n",
            " 4   clean_text  3263 non-null   object\n",
            "dtypes: int64(1), object(4)\n",
            "memory usage: 127.6+ KB\n"
          ],
          "name": "stdout"
        }
      ]
    },
    {
      "cell_type": "code",
      "metadata": {
        "id": "sBsMB8wm6LBG",
        "colab_type": "code",
        "colab": {}
      },
      "source": [
        "data=location_complete_with_tweet_test"
      ],
      "execution_count": 88,
      "outputs": []
    },
    {
      "cell_type": "code",
      "metadata": {
        "id": "mu7R8Jjg6ZBa",
        "colab_type": "code",
        "colab": {
          "base_uri": "https://localhost:8080/",
          "height": 816
        },
        "outputId": "7d3d38a1-aa75-4a3d-c9f8-fcbc33f1f723"
      },
      "source": [
        "test_parte_3=completar_location_by_similiaridad_tweet(data)"
      ],
      "execution_count": 89,
      "outputs": [
        {
          "output_type": "stream",
          "text": [
            "930\n",
            "930\n",
            "930\n",
            "930\n",
            "930\n",
            "930\n",
            "930\n",
            "930\n",
            "930\n",
            "930\n",
            "930\n",
            "930\n",
            "930\n",
            "930\n",
            "930\n",
            "930\n",
            "930\n",
            "930\n",
            "930\n",
            "930\n",
            "930\n",
            "930\n",
            "930\n",
            "930\n",
            "930\n",
            "930\n",
            "930\n",
            "930\n",
            "930\n",
            "930\n",
            "930\n",
            "930\n",
            "930\n",
            "930\n",
            "930\n",
            "930\n",
            "930\n",
            "930\n",
            "930\n",
            "930\n",
            "930\n",
            "930\n",
            "930\n",
            "930\n",
            "930\n",
            "930\n"
          ],
          "name": "stdout"
        }
      ]
    },
    {
      "cell_type": "code",
      "metadata": {
        "id": "kxk24kso8a8N",
        "colab_type": "code",
        "colab": {
          "base_uri": "https://localhost:8080/",
          "height": 17
        },
        "outputId": "c40f901f-f6db-42d5-be20-cbe7a8ced2c4"
      },
      "source": [
        "#csv de train y test con locaciones completadas con tweet similares a ellos.\n",
        "from google.colab import files\n",
        "train_parte_3.to_csv('train_uni_loca_3.csv') \n",
        "files.download('train_uni_loca_3.csv')\n",
        "\n",
        "test_parte_3.to_csv('test_uni_loca_3.csv') \n",
        "files.download('test_uni_loca_3.csv')"
      ],
      "execution_count": 90,
      "outputs": [
        {
          "output_type": "display_data",
          "data": {
            "application/javascript": [
              "\n",
              "    async function download(id, filename, size) {\n",
              "      if (!google.colab.kernel.accessAllowed) {\n",
              "        return;\n",
              "      }\n",
              "      const div = document.createElement('div');\n",
              "      const label = document.createElement('label');\n",
              "      label.textContent = `Downloading \"${filename}\": `;\n",
              "      div.appendChild(label);\n",
              "      const progress = document.createElement('progress');\n",
              "      progress.max = size;\n",
              "      div.appendChild(progress);\n",
              "      document.body.appendChild(div);\n",
              "\n",
              "      const buffers = [];\n",
              "      let downloaded = 0;\n",
              "\n",
              "      const channel = await google.colab.kernel.comms.open(id);\n",
              "      // Send a message to notify the kernel that we're ready.\n",
              "      channel.send({})\n",
              "\n",
              "      for await (const message of channel.messages) {\n",
              "        // Send a message to notify the kernel that we're ready.\n",
              "        channel.send({})\n",
              "        if (message.buffers) {\n",
              "          for (const buffer of message.buffers) {\n",
              "            buffers.push(buffer);\n",
              "            downloaded += buffer.byteLength;\n",
              "            progress.value = downloaded;\n",
              "          }\n",
              "        }\n",
              "      }\n",
              "      const blob = new Blob(buffers, {type: 'application/binary'});\n",
              "      const a = document.createElement('a');\n",
              "      a.href = window.URL.createObjectURL(blob);\n",
              "      a.download = filename;\n",
              "      div.appendChild(a);\n",
              "      a.click();\n",
              "      div.remove();\n",
              "    }\n",
              "  "
            ],
            "text/plain": [
              "<IPython.core.display.Javascript object>"
            ]
          },
          "metadata": {
            "tags": []
          }
        },
        {
          "output_type": "display_data",
          "data": {
            "application/javascript": [
              "download(\"download_3f0cca27-eccb-472e-9206-5b2c3d680f06\", \"train_uni_loca_3.csv\", 1498912)"
            ],
            "text/plain": [
              "<IPython.core.display.Javascript object>"
            ]
          },
          "metadata": {
            "tags": []
          }
        },
        {
          "output_type": "display_data",
          "data": {
            "application/javascript": [
              "\n",
              "    async function download(id, filename, size) {\n",
              "      if (!google.colab.kernel.accessAllowed) {\n",
              "        return;\n",
              "      }\n",
              "      const div = document.createElement('div');\n",
              "      const label = document.createElement('label');\n",
              "      label.textContent = `Downloading \"${filename}\": `;\n",
              "      div.appendChild(label);\n",
              "      const progress = document.createElement('progress');\n",
              "      progress.max = size;\n",
              "      div.appendChild(progress);\n",
              "      document.body.appendChild(div);\n",
              "\n",
              "      const buffers = [];\n",
              "      let downloaded = 0;\n",
              "\n",
              "      const channel = await google.colab.kernel.comms.open(id);\n",
              "      // Send a message to notify the kernel that we're ready.\n",
              "      channel.send({})\n",
              "\n",
              "      for await (const message of channel.messages) {\n",
              "        // Send a message to notify the kernel that we're ready.\n",
              "        channel.send({})\n",
              "        if (message.buffers) {\n",
              "          for (const buffer of message.buffers) {\n",
              "            buffers.push(buffer);\n",
              "            downloaded += buffer.byteLength;\n",
              "            progress.value = downloaded;\n",
              "          }\n",
              "        }\n",
              "      }\n",
              "      const blob = new Blob(buffers, {type: 'application/binary'});\n",
              "      const a = document.createElement('a');\n",
              "      a.href = window.URL.createObjectURL(blob);\n",
              "      a.download = filename;\n",
              "      div.appendChild(a);\n",
              "      a.click();\n",
              "      div.remove();\n",
              "    }\n",
              "  "
            ],
            "text/plain": [
              "<IPython.core.display.Javascript object>"
            ]
          },
          "metadata": {
            "tags": []
          }
        },
        {
          "output_type": "display_data",
          "data": {
            "application/javascript": [
              "download(\"download_050cac90-0345-444b-955c-7fc5f5e83b2c\", \"test_uni_loca_3.csv\", 643109)"
            ],
            "text/plain": [
              "<IPython.core.display.Javascript object>"
            ]
          },
          "metadata": {
            "tags": []
          }
        }
      ]
    },
    {
      "cell_type": "code",
      "metadata": {
        "id": "MBnqufAU-q2r",
        "colab_type": "code",
        "colab": {}
      },
      "source": [
        ""
      ],
      "execution_count": null,
      "outputs": []
    },
    {
      "cell_type": "code",
      "metadata": {
        "id": "amtYQSgY-qAT",
        "colab_type": "code",
        "colab": {}
      },
      "source": [
        ""
      ],
      "execution_count": null,
      "outputs": []
    },
    {
      "cell_type": "code",
      "metadata": {
        "id": "KjqEyG1Y-qMf",
        "colab_type": "code",
        "colab": {}
      },
      "source": [
        ""
      ],
      "execution_count": null,
      "outputs": []
    },
    {
      "cell_type": "code",
      "metadata": {
        "id": "8eKPNuaEm4z3",
        "colab_type": "code",
        "colab": {}
      },
      "source": [
        ""
      ],
      "execution_count": null,
      "outputs": []
    },
    {
      "cell_type": "code",
      "metadata": {
        "id": "Pksvx-qvE71m",
        "colab_type": "code",
        "colab": {}
      },
      "source": [
        ""
      ],
      "execution_count": null,
      "outputs": []
    },
    {
      "cell_type": "code",
      "metadata": {
        "id": "p3OTElMXHMZ_",
        "colab_type": "code",
        "colab": {}
      },
      "source": [
        ""
      ],
      "execution_count": null,
      "outputs": []
    },
    {
      "cell_type": "code",
      "metadata": {
        "id": "3kRQHrgqK5BR",
        "colab_type": "code",
        "colab": {}
      },
      "source": [
        ""
      ],
      "execution_count": null,
      "outputs": []
    },
    {
      "cell_type": "code",
      "metadata": {
        "id": "oOZjVgNLPj4Z",
        "colab_type": "code",
        "colab": {}
      },
      "source": [
        ""
      ],
      "execution_count": null,
      "outputs": []
    },
    {
      "cell_type": "code",
      "metadata": {
        "id": "6CU8EJxnRJ6A",
        "colab_type": "code",
        "colab": {}
      },
      "source": [
        ""
      ],
      "execution_count": null,
      "outputs": []
    },
    {
      "cell_type": "code",
      "metadata": {
        "id": "4TEt_amWc_e3",
        "colab_type": "code",
        "colab": {}
      },
      "source": [
        "\n"
      ],
      "execution_count": null,
      "outputs": []
    },
    {
      "cell_type": "code",
      "metadata": {
        "id": "827PJv3ekTxG",
        "colab_type": "code",
        "colab": {
          "base_uri": "https://localhost:8080/",
          "height": 17
        },
        "outputId": "c89d4cc0-4ad2-47ad-a6cf-cb5d5b825b50"
      },
      "source": [
        ""
      ],
      "execution_count": null,
      "outputs": [
        {
          "output_type": "display_data",
          "data": {
            "application/javascript": [
              "\n",
              "    async function download(id, filename, size) {\n",
              "      if (!google.colab.kernel.accessAllowed) {\n",
              "        return;\n",
              "      }\n",
              "      const div = document.createElement('div');\n",
              "      const label = document.createElement('label');\n",
              "      label.textContent = `Downloading \"${filename}\": `;\n",
              "      div.appendChild(label);\n",
              "      const progress = document.createElement('progress');\n",
              "      progress.max = size;\n",
              "      div.appendChild(progress);\n",
              "      document.body.appendChild(div);\n",
              "\n",
              "      const buffers = [];\n",
              "      let downloaded = 0;\n",
              "\n",
              "      const channel = await google.colab.kernel.comms.open(id);\n",
              "      // Send a message to notify the kernel that we're ready.\n",
              "      channel.send({})\n",
              "\n",
              "      for await (const message of channel.messages) {\n",
              "        // Send a message to notify the kernel that we're ready.\n",
              "        channel.send({})\n",
              "        if (message.buffers) {\n",
              "          for (const buffer of message.buffers) {\n",
              "            buffers.push(buffer);\n",
              "            downloaded += buffer.byteLength;\n",
              "            progress.value = downloaded;\n",
              "          }\n",
              "        }\n",
              "      }\n",
              "      const blob = new Blob(buffers, {type: 'application/binary'});\n",
              "      const a = document.createElement('a');\n",
              "      a.href = window.URL.createObjectURL(blob);\n",
              "      a.download = filename;\n",
              "      div.appendChild(a);\n",
              "      a.click();\n",
              "      div.remove();\n",
              "    }\n",
              "  "
            ],
            "text/plain": [
              "<IPython.core.display.Javascript object>"
            ]
          },
          "metadata": {
            "tags": []
          }
        },
        {
          "output_type": "display_data",
          "data": {
            "application/javascript": [
              "download(\"download_d2f14634-41aa-4ed5-ab9a-15405c63246d\", \"data_uni_loca2.csv\", 1008696)"
            ],
            "text/plain": [
              "<IPython.core.display.Javascript object>"
            ]
          },
          "metadata": {
            "tags": []
          }
        }
      ]
    },
    {
      "cell_type": "code",
      "metadata": {
        "id": "-2ZBoq9RkT8A",
        "colab_type": "code",
        "colab": {}
      },
      "source": [
        ""
      ],
      "execution_count": null,
      "outputs": []
    },
    {
      "cell_type": "code",
      "metadata": {
        "id": "zcx_tGQtkUIK",
        "colab_type": "code",
        "colab": {}
      },
      "source": [
        ""
      ],
      "execution_count": null,
      "outputs": []
    },
    {
      "cell_type": "code",
      "metadata": {
        "id": "TzV6foVKkUUz",
        "colab_type": "code",
        "colab": {}
      },
      "source": [
        ""
      ],
      "execution_count": null,
      "outputs": []
    },
    {
      "cell_type": "code",
      "metadata": {
        "id": "2zztfVZGkUjW",
        "colab_type": "code",
        "colab": {}
      },
      "source": [
        ""
      ],
      "execution_count": null,
      "outputs": []
    },
    {
      "cell_type": "code",
      "metadata": {
        "id": "Gxy5jvEnkUzw",
        "colab_type": "code",
        "colab": {}
      },
      "source": [
        ""
      ],
      "execution_count": null,
      "outputs": []
    },
    {
      "cell_type": "code",
      "metadata": {
        "id": "rUIACUCQcTYV",
        "colab_type": "code",
        "colab": {}
      },
      "source": [
        ""
      ],
      "execution_count": null,
      "outputs": []
    },
    {
      "cell_type": "code",
      "metadata": {
        "id": "MG0GfvFmcTb2",
        "colab_type": "code",
        "colab": {}
      },
      "source": [
        ""
      ],
      "execution_count": null,
      "outputs": []
    },
    {
      "cell_type": "code",
      "metadata": {
        "id": "aCfrvkVHcThk",
        "colab_type": "code",
        "colab": {}
      },
      "source": [
        ""
      ],
      "execution_count": null,
      "outputs": []
    },
    {
      "cell_type": "code",
      "metadata": {
        "id": "OIWImqPccTf2",
        "colab_type": "code",
        "colab": {}
      },
      "source": [
        ""
      ],
      "execution_count": null,
      "outputs": []
    },
    {
      "cell_type": "code",
      "metadata": {
        "id": "FaYtQUdbkpD4",
        "colab_type": "code",
        "colab": {}
      },
      "source": [
        " "
      ],
      "execution_count": null,
      "outputs": []
    },
    {
      "cell_type": "code",
      "metadata": {
        "id": "-JSRu_kZure6",
        "colab_type": "code",
        "colab": {}
      },
      "source": [
        ""
      ],
      "execution_count": null,
      "outputs": []
    },
    {
      "cell_type": "code",
      "metadata": {
        "id": "S37zZf7WZJEc",
        "colab_type": "code",
        "colab": {}
      },
      "source": [
        " \n"
      ],
      "execution_count": null,
      "outputs": []
    },
    {
      "cell_type": "code",
      "metadata": {
        "id": "IC6007ExjmkB",
        "colab_type": "code",
        "colab": {}
      },
      "source": [
        ""
      ],
      "execution_count": null,
      "outputs": []
    },
    {
      "cell_type": "code",
      "metadata": {
        "id": "75pniggIjmnm",
        "colab_type": "code",
        "colab": {}
      },
      "source": [
        ""
      ],
      "execution_count": null,
      "outputs": []
    },
    {
      "cell_type": "code",
      "metadata": {
        "id": "syBXUcbPjmq7",
        "colab_type": "code",
        "colab": {}
      },
      "source": [
        ""
      ],
      "execution_count": null,
      "outputs": []
    },
    {
      "cell_type": "code",
      "metadata": {
        "id": "HNkV77rFjmve",
        "colab_type": "code",
        "colab": {}
      },
      "source": [
        ""
      ],
      "execution_count": null,
      "outputs": []
    },
    {
      "cell_type": "code",
      "metadata": {
        "id": "oYlWfKnTjm19",
        "colab_type": "code",
        "colab": {}
      },
      "source": [
        ""
      ],
      "execution_count": null,
      "outputs": []
    },
    {
      "cell_type": "code",
      "metadata": {
        "id": "9v1ihEZUXY45",
        "colab_type": "code",
        "colab": {}
      },
      "source": [
        ""
      ],
      "execution_count": null,
      "outputs": []
    },
    {
      "cell_type": "code",
      "metadata": {
        "id": "SvilIh8XXY2S",
        "colab_type": "code",
        "colab": {}
      },
      "source": [
        ""
      ],
      "execution_count": null,
      "outputs": []
    },
    {
      "cell_type": "code",
      "metadata": {
        "id": "6fMjqdN9XYzm",
        "colab_type": "code",
        "colab": {}
      },
      "source": [
        ""
      ],
      "execution_count": null,
      "outputs": []
    },
    {
      "cell_type": "code",
      "metadata": {
        "id": "TFVS4XHNXYxP",
        "colab_type": "code",
        "colab": {}
      },
      "source": [
        ""
      ],
      "execution_count": null,
      "outputs": []
    },
    {
      "cell_type": "code",
      "metadata": {
        "id": "SSqt2wG0XYr9",
        "colab_type": "code",
        "colab": {}
      },
      "source": [
        ""
      ],
      "execution_count": null,
      "outputs": []
    },
    {
      "cell_type": "code",
      "metadata": {
        "id": "MkxowtBrYaap",
        "colab_type": "code",
        "colab": {}
      },
      "source": [
        ""
      ],
      "execution_count": null,
      "outputs": []
    },
    {
      "cell_type": "code",
      "metadata": {
        "id": "pm1Z7sASYaat",
        "colab_type": "code",
        "colab": {}
      },
      "source": [
        ""
      ],
      "execution_count": null,
      "outputs": []
    },
    {
      "cell_type": "code",
      "metadata": {
        "id": "ZJggxVDCYaay",
        "colab_type": "code",
        "colab": {}
      },
      "source": [
        ""
      ],
      "execution_count": null,
      "outputs": []
    },
    {
      "cell_type": "code",
      "metadata": {
        "id": "A6KrRpewYaa5",
        "colab_type": "code",
        "colab": {}
      },
      "source": [
        ""
      ],
      "execution_count": null,
      "outputs": []
    },
    {
      "cell_type": "code",
      "metadata": {
        "id": "MRMNi1S0Yaa-",
        "colab_type": "code",
        "colab": {}
      },
      "source": [
        ""
      ],
      "execution_count": null,
      "outputs": []
    },
    {
      "cell_type": "code",
      "metadata": {
        "id": "NZBtsZi5YabC",
        "colab_type": "code",
        "colab": {}
      },
      "source": [
        ""
      ],
      "execution_count": null,
      "outputs": []
    }
  ]
}
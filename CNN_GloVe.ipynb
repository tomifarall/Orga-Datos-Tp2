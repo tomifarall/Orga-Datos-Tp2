{
 "cells": [
  {
   "cell_type": "code",
   "execution_count": 83,
   "metadata": {},
   "outputs": [],
   "source": [
    "import pandas as pd\n",
    "import numpy as np\n",
    "\n",
    "import matplotlib.pyplot as plt\n",
    "\n",
    "import re\n",
    "import nltk\n",
    "from sklearn.metrics import mean_squared_error\n",
    "from sklearn.metrics import f1_score\n",
    "from sklearn.model_selection import train_test_split\n",
    "from sklearn.model_selection import cross_val_score, cross_val_predict\n",
    "\n",
    "from keras.layers import Dense, GlobalMaxPooling1D\n",
    "from keras.layers import Conv1D, MaxPooling1D, Embedding\n",
    "from keras.layers import Flatten\n",
    "from keras.layers import Dropout\n",
    "from keras.models import Sequential\n",
    "from keras import layers\n",
    "from keras.preprocessing.text import Tokenizer\n",
    "from keras.preprocessing.sequence import pad_sequences"
   ]
  },
  {
   "cell_type": "code",
   "execution_count": 84,
   "metadata": {},
   "outputs": [],
   "source": [
    "tweets = pd.read_csv('train.csv')\n",
    "tweets['length']=tweets['text'].str.len()\n",
    "tweets['keyword'] = tweets['keyword'].str.replace('%20', ' ')\n",
    "tweets['keyword'].fillna('no keyword', inplace = True)\n",
    "tweets = tweets.sample(frac=1,random_state=1)\n",
    "tweets_test = pd.read_csv('test.csv')"
   ]
  },
  {
   "cell_type": "code",
   "execution_count": 85,
   "metadata": {},
   "outputs": [],
   "source": [
    "tweets['clean_text'] = tweets['text'].str.lower()\n",
    "tweets_test['clean_text'] = tweets_test['text'].str.lower()"
   ]
  },
  {
   "cell_type": "code",
   "execution_count": 86,
   "metadata": {},
   "outputs": [],
   "source": [
    "def only_letters(tweet):\n",
    "    tweet = re.sub(r'http\\S*', '', tweet)\n",
    "    tweet = re.sub(r'[^a-z\\s]', '', tweet)\n",
    "    return tweet"
   ]
  },
  {
   "cell_type": "code",
   "execution_count": 87,
   "metadata": {},
   "outputs": [],
   "source": [
    "tweets['clean_text'] = tweets['clean_text'].apply(only_letters)\n",
    "tweets_test['clean_text'] = tweets_test['clean_text'].apply(only_letters)"
   ]
  },
  {
   "cell_type": "code",
   "execution_count": 88,
   "metadata": {},
   "outputs": [],
   "source": [
    "#Tokenización\n",
    "from nltk.tokenize import word_tokenize\n",
    "tweets['clean_text'] = tweets['clean_text'].apply(word_tokenize)\n",
    "tweets_test['clean_text'] = tweets_test['clean_text'].apply(word_tokenize)\n",
    "from nltk.corpus import stopwords\n",
    "stop_words=set(stopwords.words(\"english\"))"
   ]
  },
  {
   "cell_type": "code",
   "execution_count": 89,
   "metadata": {},
   "outputs": [],
   "source": [
    "#Elimino stopwords\n",
    "def filter_stopwords(tokenized_text):\n",
    "    not_stopwords=[]\n",
    "    for w in tokenized_text:\n",
    "        if w not in stop_words:\n",
    "            not_stopwords.append(w)\n",
    "    return not_stopwords"
   ]
  },
  {
   "cell_type": "code",
   "execution_count": 90,
   "metadata": {},
   "outputs": [],
   "source": [
    "tweets['clean_text'] = tweets['clean_text'].apply(filter_stopwords)\n",
    "tweets_test['clean_text'] = tweets_test['clean_text'].apply(filter_stopwords)"
   ]
  },
  {
   "cell_type": "code",
   "execution_count": 91,
   "metadata": {},
   "outputs": [],
   "source": [
    "#Lematización\n",
    "from nltk.stem.wordnet import WordNetLemmatizer\n",
    "lemmatizer = WordNetLemmatizer()"
   ]
  },
  {
   "cell_type": "code",
   "execution_count": 92,
   "metadata": {},
   "outputs": [],
   "source": [
    "def lemmatize_tweet(tweet):\n",
    "    lemmatized_words = []\n",
    "    for word in tweet:\n",
    "        lemmatized_words.append(lemmatizer.lemmatize(word))\n",
    "    return lemmatized_words"
   ]
  },
  {
   "cell_type": "code",
   "execution_count": 93,
   "metadata": {},
   "outputs": [],
   "source": [
    "tweets['clean_text'] = tweets['clean_text'].apply(lemmatize_tweet)\n",
    "tweets_test['clean_text'] = tweets_test['clean_text'].apply(lemmatize_tweet)"
   ]
  },
  {
   "cell_type": "code",
   "execution_count": 94,
   "metadata": {},
   "outputs": [],
   "source": [
    "tweets['clean_text'] = tweets['clean_text'].apply(lambda text:' '.join(text))\n",
    "tweets_test['clean_text'] = tweets_test['clean_text'].apply(lambda text:' '.join(text))"
   ]
  },
  {
   "cell_type": "code",
   "execution_count": 95,
   "metadata": {},
   "outputs": [],
   "source": [
    "def find_url(text):\n",
    "    urls = re.findall(r'(https?://\\S+)', text)\n",
    "    return urls"
   ]
  },
  {
   "cell_type": "code",
   "execution_count": 96,
   "metadata": {},
   "outputs": [],
   "source": [
    "tweets['urls']=tweets['text'].apply(find_url)\n",
    "tweets_test['urls']=tweets_test['text'].apply(find_url)"
   ]
  },
  {
   "cell_type": "code",
   "execution_count": 97,
   "metadata": {},
   "outputs": [],
   "source": [
    "def add_url_to_text(clean_text, urls):\n",
    "    if urls:\n",
    "        for url in urls:\n",
    "            url_split = url.split('/')\n",
    "            return (' '.join([clean_text,url_split[0][:-1],url_split[2]]))\n",
    "    else:\n",
    "        return clean_text"
   ]
  },
  {
   "cell_type": "code",
   "execution_count": 98,
   "metadata": {},
   "outputs": [],
   "source": [
    "tweets['clean_text'] = tweets.apply(lambda tweet: add_url_to_text(tweet['clean_text'],tweet['urls']),axis=1)\n",
    "tweets_test['clean_text'] = tweets_test.apply(lambda tweet: add_url_to_text(tweet['clean_text'],tweet['urls']),axis=1)"
   ]
  },
  {
   "cell_type": "code",
   "execution_count": null,
   "metadata": {},
   "outputs": [],
   "source": []
  },
  {
   "cell_type": "code",
   "execution_count": 99,
   "metadata": {},
   "outputs": [
    {
     "data": {
      "text/html": [
       "<div>\n",
       "<style scoped>\n",
       "    .dataframe tbody tr th:only-of-type {\n",
       "        vertical-align: middle;\n",
       "    }\n",
       "\n",
       "    .dataframe tbody tr th {\n",
       "        vertical-align: top;\n",
       "    }\n",
       "\n",
       "    .dataframe thead th {\n",
       "        text-align: right;\n",
       "    }\n",
       "</style>\n",
       "<table border=\"1\" class=\"dataframe\">\n",
       "  <thead>\n",
       "    <tr style=\"text-align: right;\">\n",
       "      <th></th>\n",
       "      <th>id</th>\n",
       "      <th>keyword</th>\n",
       "      <th>location</th>\n",
       "      <th>text</th>\n",
       "      <th>target</th>\n",
       "      <th>length</th>\n",
       "      <th>clean_text</th>\n",
       "      <th>urls</th>\n",
       "    </tr>\n",
       "  </thead>\n",
       "  <tbody>\n",
       "    <tr>\n",
       "      <th>3228</th>\n",
       "      <td>4632</td>\n",
       "      <td>emergency services</td>\n",
       "      <td>Sydney, New South Wales</td>\n",
       "      <td>Goulburn man Henry Van Bilsen missing: Emergen...</td>\n",
       "      <td>1</td>\n",
       "      <td>141</td>\n",
       "      <td>goulburn man henry van bilsen missing emergenc...</td>\n",
       "      <td>[http://t.co/z99pKJzTRp]</td>\n",
       "    </tr>\n",
       "    <tr>\n",
       "      <th>3706</th>\n",
       "      <td>5271</td>\n",
       "      <td>fear</td>\n",
       "      <td>NaN</td>\n",
       "      <td>The things we fear most in organizations--fluc...</td>\n",
       "      <td>0</td>\n",
       "      <td>138</td>\n",
       "      <td>thing fear organizationsfluctuations disturban...</td>\n",
       "      <td>[]</td>\n",
       "    </tr>\n",
       "    <tr>\n",
       "      <th>6957</th>\n",
       "      <td>9982</td>\n",
       "      <td>tsunami</td>\n",
       "      <td>Land Of The Kings</td>\n",
       "      <td>@tsunami_esh ?? hey Esh</td>\n",
       "      <td>0</td>\n",
       "      <td>23</td>\n",
       "      <td>tsunamiesh hey esh</td>\n",
       "      <td>[]</td>\n",
       "    </tr>\n",
       "    <tr>\n",
       "      <th>2887</th>\n",
       "      <td>4149</td>\n",
       "      <td>drown</td>\n",
       "      <td>NaN</td>\n",
       "      <td>@POTUS you until you drown by water entering t...</td>\n",
       "      <td>0</td>\n",
       "      <td>140</td>\n",
       "      <td>potus drown water entering lung alive caused g...</td>\n",
       "      <td>[]</td>\n",
       "    </tr>\n",
       "    <tr>\n",
       "      <th>7464</th>\n",
       "      <td>10680</td>\n",
       "      <td>wounds</td>\n",
       "      <td>cody, austin follows ?*?</td>\n",
       "      <td>Crawling in my skin\\r\\nThese wounds they will ...</td>\n",
       "      <td>1</td>\n",
       "      <td>51</td>\n",
       "      <td>crawling skin wound hea</td>\n",
       "      <td>[]</td>\n",
       "    </tr>\n",
       "  </tbody>\n",
       "</table>\n",
       "</div>"
      ],
      "text/plain": [
       "         id             keyword                  location  \\\n",
       "3228   4632  emergency services   Sydney, New South Wales   \n",
       "3706   5271                fear                       NaN   \n",
       "6957   9982             tsunami         Land Of The Kings   \n",
       "2887   4149               drown                       NaN   \n",
       "7464  10680              wounds  cody, austin follows ?*?   \n",
       "\n",
       "                                                   text  target  length  \\\n",
       "3228  Goulburn man Henry Van Bilsen missing: Emergen...       1     141   \n",
       "3706  The things we fear most in organizations--fluc...       0     138   \n",
       "6957                            @tsunami_esh ?? hey Esh       0      23   \n",
       "2887  @POTUS you until you drown by water entering t...       0     140   \n",
       "7464  Crawling in my skin\\r\\nThese wounds they will ...       1      51   \n",
       "\n",
       "                                             clean_text  \\\n",
       "3228  goulburn man henry van bilsen missing emergenc...   \n",
       "3706  thing fear organizationsfluctuations disturban...   \n",
       "6957                                 tsunamiesh hey esh   \n",
       "2887  potus drown water entering lung alive caused g...   \n",
       "7464                            crawling skin wound hea   \n",
       "\n",
       "                          urls  \n",
       "3228  [http://t.co/z99pKJzTRp]  \n",
       "3706                        []  \n",
       "6957                        []  \n",
       "2887                        []  \n",
       "7464                        []  "
      ]
     },
     "execution_count": 99,
     "metadata": {},
     "output_type": "execute_result"
    }
   ],
   "source": [
    "tweets.head()"
   ]
  },
  {
   "cell_type": "code",
   "execution_count": 100,
   "metadata": {},
   "outputs": [],
   "source": [
    "clean_text = tweets['clean_text'].values\n",
    "labels = tweets['target'].values"
   ]
  },
  {
   "cell_type": "code",
   "execution_count": 101,
   "metadata": {},
   "outputs": [],
   "source": [
    "X_train, X_test, y_train, y_test = train_test_split(clean_text, labels, test_size=0.20, random_state=15)\n",
    "X_set_test = tweets_test['clean_text'].values"
   ]
  },
  {
   "cell_type": "code",
   "execution_count": 102,
   "metadata": {},
   "outputs": [],
   "source": [
    "#Tokenizador\n",
    "tokenizer = Tokenizer()\n",
    "tokenizer.fit_on_texts(X_train)\n",
    "vocab_size = len(tokenizer.word_index) + 1"
   ]
  },
  {
   "cell_type": "code",
   "execution_count": 103,
   "metadata": {},
   "outputs": [],
   "source": [
    "# A secuencia de enteros\n",
    "X_train = tokenizer.texts_to_sequences(X_train)\n",
    "X_test = tokenizer.texts_to_sequences(X_test)\n",
    "X_set_test = tokenizer.texts_to_sequences(X_set_test)"
   ]
  },
  {
   "cell_type": "code",
   "execution_count": 104,
   "metadata": {},
   "outputs": [],
   "source": [
    "# Padding al final\n",
    "maxlen = 20\n",
    "X_train = pad_sequences(X_train, padding='post', maxlen=maxlen)\n",
    "X_test = pad_sequences(X_test, padding='post', maxlen=maxlen)\n",
    "X_set_test = pad_sequences(X_set_test, padding='post', maxlen=maxlen)"
   ]
  },
  {
   "cell_type": "code",
   "execution_count": 105,
   "metadata": {},
   "outputs": [
    {
     "name": "stdout",
     "output_type": "stream",
     "text": [
      "Loaded 1193514 word vectors.\n"
     ]
    }
   ],
   "source": [
    "# Se carga la matriz de embeddings\n",
    "embeddings_index = dict()\n",
    "f = open('glove.twitter.27B.100d.txt', encoding=\"utf8\")\n",
    "for line in f:\n",
    "    values = line.split()\n",
    "    word = values[0]\n",
    "    coefs = np.asarray(values[1:], dtype='float32')\n",
    "    embeddings_index[word] = coefs\n",
    "f.close()\n",
    "print('Loaded %s word vectors.' % len(embeddings_index))"
   ]
  },
  {
   "cell_type": "code",
   "execution_count": 106,
   "metadata": {},
   "outputs": [],
   "source": [
    "# Matriz de embedding con palabras del set de train\n",
    "embedding_matrix = np.zeros((vocab_size, 100))\n",
    "for word, i in tokenizer.word_index.items():\n",
    "    embedding_vector = embeddings_index.get(word)\n",
    "    if embedding_vector is not None:\n",
    "        embedding_matrix[i] = embedding_vector"
   ]
  },
  {
   "cell_type": "code",
   "execution_count": null,
   "metadata": {},
   "outputs": [],
   "source": []
  },
  {
   "cell_type": "code",
   "execution_count": null,
   "metadata": {},
   "outputs": [],
   "source": []
  },
  {
   "cell_type": "markdown",
   "metadata": {},
   "source": [
    "CNN"
   ]
  },
  {
   "cell_type": "code",
   "execution_count": 107,
   "metadata": {},
   "outputs": [
    {
     "data": {
      "text/plain": [
       "(6090, 20)"
      ]
     },
     "execution_count": 107,
     "metadata": {},
     "output_type": "execute_result"
    }
   ],
   "source": [
    "X_train.shape"
   ]
  },
  {
   "cell_type": "code",
   "execution_count": null,
   "metadata": {},
   "outputs": [],
   "source": []
  },
  {
   "cell_type": "code",
   "execution_count": 123,
   "metadata": {},
   "outputs": [],
   "source": [
    "input_shape = (X_train.shape[0],X_train.shape[1])\n",
    "model = Sequential()\n",
    "\n",
    "embedding_layer = Embedding(vocab_size, 100, weights=[embedding_matrix], input_length=maxlen , trainable=False)\n",
    "model.add(embedding_layer)\n",
    "model.add(Conv1D(512, 2, activation='relu'))\n",
    "model.add(GlobalMaxPooling1D())\n",
    "model.add(Dense(1, activation='sigmoid'))"
   ]
  },
  {
   "cell_type": "code",
   "execution_count": 124,
   "metadata": {},
   "outputs": [],
   "source": [
    "model.compile(optimizer='adam', loss='binary_crossentropy', metrics=['accuracy'])"
   ]
  },
  {
   "cell_type": "code",
   "execution_count": 125,
   "metadata": {
    "scrolled": true
   },
   "outputs": [
    {
     "name": "stdout",
     "output_type": "stream",
     "text": [
      "Model: \"sequential_6\"\n",
      "_________________________________________________________________\n",
      "Layer (type)                 Output Shape              Param #   \n",
      "=================================================================\n",
      "embedding_6 (Embedding)      (None, 20, 100)           1341300   \n",
      "_________________________________________________________________\n",
      "conv1d_6 (Conv1D)            (None, 19, 512)           102912    \n",
      "_________________________________________________________________\n",
      "global_max_pooling1d_6 (Glob (None, 512)               0         \n",
      "_________________________________________________________________\n",
      "dense_6 (Dense)              (None, 1)                 513       \n",
      "=================================================================\n",
      "Total params: 1,444,725\n",
      "Trainable params: 103,425\n",
      "Non-trainable params: 1,341,300\n",
      "_________________________________________________________________\n",
      "None\n"
     ]
    }
   ],
   "source": [
    "print(model.summary())"
   ]
  },
  {
   "cell_type": "code",
   "execution_count": 126,
   "metadata": {},
   "outputs": [
    {
     "name": "stdout",
     "output_type": "stream",
     "text": [
      "Train on 4872 samples, validate on 1218 samples\n",
      "Epoch 1/3\n",
      "4872/4872 [==============================] - 1s 185us/step - loss: 0.4851 - accuracy: 0.7718 - val_loss: 0.4192 - val_accuracy: 0.8120\n",
      "Epoch 2/3\n",
      "4872/4872 [==============================] - 1s 150us/step - loss: 0.3838 - accuracy: 0.8374 - val_loss: 0.4084 - val_accuracy: 0.8243\n",
      "Epoch 3/3\n",
      "4872/4872 [==============================] - 1s 148us/step - loss: 0.3293 - accuracy: 0.8690 - val_loss: 0.4089 - val_accuracy: 0.8153\n",
      "1523/1523 [==============================] - 0s 54us/step\n"
     ]
    }
   ],
   "source": [
    "history = model.fit(X_train, y_train, batch_size=64, epochs=3, verbose=1, validation_split=0.2)\n",
    "\n",
    "loss, accuracy = model.evaluate(X_test, y_test, verbose=1)"
   ]
  },
  {
   "cell_type": "code",
   "execution_count": 127,
   "metadata": {},
   "outputs": [
    {
     "name": "stdout",
     "output_type": "stream",
     "text": [
      "Loss: 0.4419922332034171%\n",
      "Accuracy: 0.7997373342514038%\n"
     ]
    }
   ],
   "source": [
    "print(f'Loss: {loss}')\n",
    "print(f'Accuracy: {accuracy}')"
   ]
  },
  {
   "cell_type": "code",
   "execution_count": 128,
   "metadata": {},
   "outputs": [
    {
     "data": {
      "image/png": "[encoded data removed]",
      "text/plain": [
       "<Figure size 864x288 with 2 Axes>"
      ]
     },
     "metadata": {},
     "output_type": "display_data"
    }
   ],
   "source": [
    "plt.style.use('ggplot')\n",
    "\n",
    "def plot_history(history):\n",
    "    acc = history.history['accuracy']\n",
    "    val_acc = history.history['val_accuracy']\n",
    "    loss = history.history['loss']\n",
    "    val_loss = history.history['val_loss']\n",
    "    x = range(1, len(acc) + 1)\n",
    "    \n",
    "    plt.figure(figsize=(12, 4))\n",
    "    plt.subplot(1, 2, 1)\n",
    "    plt.plot(x, acc, 'b', label='Training acc')\n",
    "    plt.plot(x, val_acc, 'r', label='Validation acc')\n",
    "    plt.title('Accuracy')\n",
    "    plt.legend()\n",
    "    plt.subplot(1, 2, 2)\n",
    "    plt.plot(x, loss, 'b', label='Training loss')\n",
    "    plt.plot(x, val_loss, 'r', label='Validation loss')\n",
    "    plt.title('Loss')\n",
    "    plt.legend()\n",
    "\n",
    "plot_history(history)"
   ]
  },
  {
   "cell_type": "code",
   "execution_count": 129,
   "metadata": {},
   "outputs": [
    {
     "data": {
      "text/plain": [
       "array([[False],\n",
       "       [False],\n",
       "       [ True],\n",
       "       ...,\n",
       "       [False],\n",
       "       [False],\n",
       "       [False]])"
      ]
     },
     "execution_count": 129,
     "metadata": {},
     "output_type": "execute_result"
    }
   ],
   "source": [
    "#Set de validación\n",
    "preds = model.predict(X_test)\n",
    "preds = preds >= 0.5\n",
    "preds"
   ]
  },
  {
   "cell_type": "code",
   "execution_count": 130,
   "metadata": {},
   "outputs": [
    {
     "name": "stdout",
     "output_type": "stream",
     "text": [
      "F1 score: 0.7725577926920209%\n"
     ]
    }
   ],
   "source": [
    "f1score = f1_score(y_test, preds)\n",
    "print(f'F1 score: {f1score}')"
   ]
  },
  {
   "cell_type": "code",
   "execution_count": null,
   "metadata": {},
   "outputs": [],
   "source": []
  },
  {
   "cell_type": "code",
   "execution_count": null,
   "metadata": {},
   "outputs": [],
   "source": []
  },
  {
   "cell_type": "code",
   "execution_count": null,
   "metadata": {},
   "outputs": [],
   "source": []
  },
  {
   "cell_type": "code",
   "execution_count": null,
   "metadata": {},
   "outputs": [],
   "source": []
  },
  {
   "cell_type": "code",
   "execution_count": null,
   "metadata": {},
   "outputs": [],
   "source": []
  },
  {
   "cell_type": "code",
   "execution_count": 131,
   "metadata": {},
   "outputs": [
    {
     "data": {
      "text/plain": [
       "array([[1],\n",
       "       [1],\n",
       "       [1],\n",
       "       ...,\n",
       "       [1],\n",
       "       [1],\n",
       "       [1]])"
      ]
     },
     "execution_count": 131,
     "metadata": {},
     "output_type": "execute_result"
    }
   ],
   "source": [
    "#Set de test\n",
    "preds = model.predict(X_set_test)\n",
    "preds = (preds >= 0.5).astype(int)\n",
    "preds"
   ]
  },
  {
   "cell_type": "code",
   "execution_count": 132,
   "metadata": {},
   "outputs": [
    {
     "data": {
      "text/plain": [
       "(3263, 1)"
      ]
     },
     "execution_count": 132,
     "metadata": {},
     "output_type": "execute_result"
    }
   ],
   "source": [
    "preds.shape"
   ]
  },
  {
   "cell_type": "code",
   "execution_count": 133,
   "metadata": {},
   "outputs": [],
   "source": [
    "tweets_test['target'] = preds\n",
    "submission = tweets_test.loc[:,['id','target']]\n",
    "submission.to_csv(path_or_buf='submissioncnn.csv',header=True,index=False)"
   ]
  },
  {
   "cell_type": "code",
   "execution_count": null,
   "metadata": {},
   "outputs": [],
   "source": []
  },
  {
   "cell_type": "code",
   "execution_count": 134,
   "metadata": {},
   "outputs": [],
   "source": [
    "#Promedio\n",
    "preds_xgb = pd.read_csv('submissionxgb.csv')['target']\n",
    "preds_tfidf = pd.read_csv('submission.csv')['target']"
   ]
  },
  {
   "cell_type": "code",
   "execution_count": 135,
   "metadata": {},
   "outputs": [],
   "source": [
    "avg = (tweets_test['target'] + preds_tfidf + preds_xgb)/3\n",
    "avg = (avg > 0.5).astype(int)"
   ]
  },
  {
   "cell_type": "code",
   "execution_count": 136,
   "metadata": {},
   "outputs": [],
   "source": [
    "tweets_test['target'] = avg\n",
    "submission = tweets_test.loc[:,['id','target']]\n",
    "submission.to_csv(path_or_buf='submissionavgcnntfidfxgb.csv',header=True,index=False)"
   ]
  },
  {
   "cell_type": "code",
   "execution_count": null,
   "metadata": {},
   "outputs": [],
   "source": []
  }
 ],
 "metadata": {
  "kernelspec": {
   "display_name": "Python 3",
   "language": "python",
   "name": "python3"
  },
  "language_info": {
   "codemirror_mode": {
    "name": "ipython",
    "version": 3
   },
   "file_extension": ".py",
   "mimetype": "text/x-python",
   "name": "python",
   "nbconvert_exporter": "python",
   "pygments_lexer": "ipython3",
   "version": "3.7.7"
  }
 },
 "nbformat": 4,
 "nbformat_minor": 4
}

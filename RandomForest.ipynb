{
 "cells": [
  {
   "cell_type": "code",
   "execution_count": 36,
   "metadata": {},
   "outputs": [
    {
     "data": {
      "text/html": [
       "<div>\n",
       "<style scoped>\n",
       "    .dataframe tbody tr th:only-of-type {\n",
       "        vertical-align: middle;\n",
       "    }\n",
       "\n",
       "    .dataframe tbody tr th {\n",
       "        vertical-align: top;\n",
       "    }\n",
       "\n",
       "    .dataframe thead th {\n",
       "        text-align: right;\n",
       "    }\n",
       "</style>\n",
       "<table border=\"1\" class=\"dataframe\">\n",
       "  <thead>\n",
       "    <tr style=\"text-align: right;\">\n",
       "      <th></th>\n",
       "      <th>id</th>\n",
       "      <th>keyword</th>\n",
       "      <th>location</th>\n",
       "      <th>text</th>\n",
       "      <th>target</th>\n",
       "    </tr>\n",
       "  </thead>\n",
       "  <tbody>\n",
       "    <tr>\n",
       "      <th>0</th>\n",
       "      <td>1</td>\n",
       "      <td>NaN</td>\n",
       "      <td>NaN</td>\n",
       "      <td>Our Deeds are the Reason of this #earthquake M...</td>\n",
       "      <td>1</td>\n",
       "    </tr>\n",
       "    <tr>\n",
       "      <th>1</th>\n",
       "      <td>4</td>\n",
       "      <td>NaN</td>\n",
       "      <td>NaN</td>\n",
       "      <td>Forest fire near La Ronge Sask. Canada</td>\n",
       "      <td>1</td>\n",
       "    </tr>\n",
       "    <tr>\n",
       "      <th>2</th>\n",
       "      <td>5</td>\n",
       "      <td>NaN</td>\n",
       "      <td>NaN</td>\n",
       "      <td>All residents asked to 'shelter in place' are ...</td>\n",
       "      <td>1</td>\n",
       "    </tr>\n",
       "    <tr>\n",
       "      <th>3</th>\n",
       "      <td>6</td>\n",
       "      <td>NaN</td>\n",
       "      <td>NaN</td>\n",
       "      <td>13,000 people receive #wildfires evacuation or...</td>\n",
       "      <td>1</td>\n",
       "    </tr>\n",
       "    <tr>\n",
       "      <th>4</th>\n",
       "      <td>7</td>\n",
       "      <td>NaN</td>\n",
       "      <td>NaN</td>\n",
       "      <td>Just got sent this photo from Ruby #Alaska as ...</td>\n",
       "      <td>1</td>\n",
       "    </tr>\n",
       "    <tr>\n",
       "      <th>...</th>\n",
       "      <td>...</td>\n",
       "      <td>...</td>\n",
       "      <td>...</td>\n",
       "      <td>...</td>\n",
       "      <td>...</td>\n",
       "    </tr>\n",
       "    <tr>\n",
       "      <th>7608</th>\n",
       "      <td>10869</td>\n",
       "      <td>NaN</td>\n",
       "      <td>NaN</td>\n",
       "      <td>Two giant cranes holding a bridge collapse int...</td>\n",
       "      <td>1</td>\n",
       "    </tr>\n",
       "    <tr>\n",
       "      <th>7609</th>\n",
       "      <td>10870</td>\n",
       "      <td>NaN</td>\n",
       "      <td>NaN</td>\n",
       "      <td>@aria_ahrary @TheTawniest The out of control w...</td>\n",
       "      <td>1</td>\n",
       "    </tr>\n",
       "    <tr>\n",
       "      <th>7610</th>\n",
       "      <td>10871</td>\n",
       "      <td>NaN</td>\n",
       "      <td>NaN</td>\n",
       "      <td>M1.94 [01:04 UTC]?5km S of Volcano Hawaii. htt...</td>\n",
       "      <td>1</td>\n",
       "    </tr>\n",
       "    <tr>\n",
       "      <th>7611</th>\n",
       "      <td>10872</td>\n",
       "      <td>NaN</td>\n",
       "      <td>NaN</td>\n",
       "      <td>Police investigating after an e-bike collided ...</td>\n",
       "      <td>1</td>\n",
       "    </tr>\n",
       "    <tr>\n",
       "      <th>7612</th>\n",
       "      <td>10873</td>\n",
       "      <td>NaN</td>\n",
       "      <td>NaN</td>\n",
       "      <td>The Latest: More Homes Razed by Northern Calif...</td>\n",
       "      <td>1</td>\n",
       "    </tr>\n",
       "  </tbody>\n",
       "</table>\n",
       "<p>7613 rows × 5 columns</p>\n",
       "</div>"
      ],
      "text/plain": [
       "         id keyword location  \\\n",
       "0         1     NaN      NaN   \n",
       "1         4     NaN      NaN   \n",
       "2         5     NaN      NaN   \n",
       "3         6     NaN      NaN   \n",
       "4         7     NaN      NaN   \n",
       "...     ...     ...      ...   \n",
       "7608  10869     NaN      NaN   \n",
       "7609  10870     NaN      NaN   \n",
       "7610  10871     NaN      NaN   \n",
       "7611  10872     NaN      NaN   \n",
       "7612  10873     NaN      NaN   \n",
       "\n",
       "                                                   text  target  \n",
       "0     Our Deeds are the Reason of this #earthquake M...       1  \n",
       "1                Forest fire near La Ronge Sask. Canada       1  \n",
       "2     All residents asked to 'shelter in place' are ...       1  \n",
       "3     13,000 people receive #wildfires evacuation or...       1  \n",
       "4     Just got sent this photo from Ruby #Alaska as ...       1  \n",
       "...                                                 ...     ...  \n",
       "7608  Two giant cranes holding a bridge collapse int...       1  \n",
       "7609  @aria_ahrary @TheTawniest The out of control w...       1  \n",
       "7610  M1.94 [01:04 UTC]?5km S of Volcano Hawaii. htt...       1  \n",
       "7611  Police investigating after an e-bike collided ...       1  \n",
       "7612  The Latest: More Homes Razed by Northern Calif...       1  \n",
       "\n",
       "[7613 rows x 5 columns]"
      ]
     },
     "metadata": {},
     "output_type": "display_data"
    }
   ],
   "source": [
    "import pandas as pd\n",
    "import numpy as np\n",
    "\n",
    "from sklearn.ensemble import RandomForestRegressor\n",
    "\n",
    "import string  \n",
    "import nltk\n",
    "import re\n",
    "import scipy\n",
    "import matplotlib.pyplot as plt\n",
    "import urllib \n",
    "import sklearn\n",
    "from sklearn import preprocessing\n",
    "from sklearn.preprocessing import StandardScaler\n",
    "from sklearn.model_selection import train_test_split\n",
    "from sklearn import metrics\n",
    "from sklearn.metrics import mean_squared_error\n",
    "\n",
    "train = pd.read_csv('train.csv')\n",
    "display(train)"
   ]
  },
  {
   "cell_type": "code",
   "execution_count": 37,
   "metadata": {},
   "outputs": [
    {
     "data": {
      "text/html": [
       "<div>\n",
       "<style scoped>\n",
       "    .dataframe tbody tr th:only-of-type {\n",
       "        vertical-align: middle;\n",
       "    }\n",
       "\n",
       "    .dataframe tbody tr th {\n",
       "        vertical-align: top;\n",
       "    }\n",
       "\n",
       "    .dataframe thead th {\n",
       "        text-align: right;\n",
       "    }\n",
       "</style>\n",
       "<table border=\"1\" class=\"dataframe\">\n",
       "  <thead>\n",
       "    <tr style=\"text-align: right;\">\n",
       "      <th></th>\n",
       "      <th>id</th>\n",
       "      <th>keyword</th>\n",
       "      <th>location</th>\n",
       "      <th>text</th>\n",
       "      <th>target</th>\n",
       "      <th>length</th>\n",
       "    </tr>\n",
       "  </thead>\n",
       "  <tbody>\n",
       "    <tr>\n",
       "      <th>0</th>\n",
       "      <td>1</td>\n",
       "      <td>no keyword</td>\n",
       "      <td>no location</td>\n",
       "      <td>Our Deeds are the Reason of this #earthquake M...</td>\n",
       "      <td>1</td>\n",
       "      <td>69</td>\n",
       "    </tr>\n",
       "    <tr>\n",
       "      <th>1</th>\n",
       "      <td>4</td>\n",
       "      <td>no keyword</td>\n",
       "      <td>no location</td>\n",
       "      <td>Forest fire near La Ronge Sask. Canada</td>\n",
       "      <td>1</td>\n",
       "      <td>38</td>\n",
       "    </tr>\n",
       "    <tr>\n",
       "      <th>2</th>\n",
       "      <td>5</td>\n",
       "      <td>no keyword</td>\n",
       "      <td>no location</td>\n",
       "      <td>All residents asked to 'shelter in place' are ...</td>\n",
       "      <td>1</td>\n",
       "      <td>133</td>\n",
       "    </tr>\n",
       "    <tr>\n",
       "      <th>3</th>\n",
       "      <td>6</td>\n",
       "      <td>no keyword</td>\n",
       "      <td>no location</td>\n",
       "      <td>13,000 people receive #wildfires evacuation or...</td>\n",
       "      <td>1</td>\n",
       "      <td>65</td>\n",
       "    </tr>\n",
       "    <tr>\n",
       "      <th>4</th>\n",
       "      <td>7</td>\n",
       "      <td>no keyword</td>\n",
       "      <td>no location</td>\n",
       "      <td>Just got sent this photo from Ruby #Alaska as ...</td>\n",
       "      <td>1</td>\n",
       "      <td>88</td>\n",
       "    </tr>\n",
       "  </tbody>\n",
       "</table>\n",
       "</div>"
      ],
      "text/plain": [
       "   id     keyword     location  \\\n",
       "0   1  no keyword  no location   \n",
       "1   4  no keyword  no location   \n",
       "2   5  no keyword  no location   \n",
       "3   6  no keyword  no location   \n",
       "4   7  no keyword  no location   \n",
       "\n",
       "                                                text  target  length  \n",
       "0  Our Deeds are the Reason of this #earthquake M...       1      69  \n",
       "1             Forest fire near La Ronge Sask. Canada       1      38  \n",
       "2  All residents asked to 'shelter in place' are ...       1     133  \n",
       "3  13,000 people receive #wildfires evacuation or...       1      65  \n",
       "4  Just got sent this photo from Ruby #Alaska as ...       1      88  "
      ]
     },
     "execution_count": 37,
     "metadata": {},
     "output_type": "execute_result"
    }
   ],
   "source": [
    "train['keyword'].fillna('no keyword', inplace = True) \n",
    "train['keyword'] = train['keyword'].str.replace('%20', ' ')\n",
    "train['location'].fillna('no location', inplace = True)\n",
    "\n",
    "train['length'] = train['text'].str.len()\n",
    "\n",
    "train.head()"
   ]
  },
  {
   "cell_type": "code",
   "execution_count": 38,
   "metadata": {},
   "outputs": [
    {
     "name": "stderr",
     "output_type": "stream",
     "text": [
      "[nltk_data] Downloading package stopwords to\n",
      "[nltk_data]     C:\\Users\\hijos.ASUS\\AppData\\Roaming\\nltk_data...\n",
      "[nltk_data]   Package stopwords is already up-to-date!\n",
      "[nltk_data] Downloading package punkt to\n",
      "[nltk_data]     C:\\Users\\hijos.ASUS\\AppData\\Roaming\\nltk_data...\n",
      "[nltk_data]   Package punkt is already up-to-date!\n",
      "[nltk_data] Downloading package wordnet to\n",
      "[nltk_data]     C:\\Users\\hijos.ASUS\\AppData\\Roaming\\nltk_data...\n",
      "[nltk_data]   Package wordnet is already up-to-date!\n"
     ]
    },
    {
     "data": {
      "text/html": [
       "<div>\n",
       "<style scoped>\n",
       "    .dataframe tbody tr th:only-of-type {\n",
       "        vertical-align: middle;\n",
       "    }\n",
       "\n",
       "    .dataframe tbody tr th {\n",
       "        vertical-align: top;\n",
       "    }\n",
       "\n",
       "    .dataframe thead th {\n",
       "        text-align: right;\n",
       "    }\n",
       "</style>\n",
       "<table border=\"1\" class=\"dataframe\">\n",
       "  <thead>\n",
       "    <tr style=\"text-align: right;\">\n",
       "      <th></th>\n",
       "      <th>id</th>\n",
       "      <th>keyword</th>\n",
       "      <th>location</th>\n",
       "      <th>text</th>\n",
       "      <th>target</th>\n",
       "      <th>length</th>\n",
       "      <th>clean_text</th>\n",
       "    </tr>\n",
       "  </thead>\n",
       "  <tbody>\n",
       "    <tr>\n",
       "      <th>0</th>\n",
       "      <td>1</td>\n",
       "      <td>no keyword</td>\n",
       "      <td>no location</td>\n",
       "      <td>Our Deeds are the Reason of this #earthquake M...</td>\n",
       "      <td>1</td>\n",
       "      <td>69</td>\n",
       "      <td>deed reason earthquake may allah forgive u</td>\n",
       "    </tr>\n",
       "    <tr>\n",
       "      <th>1</th>\n",
       "      <td>4</td>\n",
       "      <td>no keyword</td>\n",
       "      <td>no location</td>\n",
       "      <td>Forest fire near La Ronge Sask. Canada</td>\n",
       "      <td>1</td>\n",
       "      <td>38</td>\n",
       "      <td>forest fire near la ronge sask canada</td>\n",
       "    </tr>\n",
       "    <tr>\n",
       "      <th>2</th>\n",
       "      <td>5</td>\n",
       "      <td>no keyword</td>\n",
       "      <td>no location</td>\n",
       "      <td>All residents asked to 'shelter in place' are ...</td>\n",
       "      <td>1</td>\n",
       "      <td>133</td>\n",
       "      <td>resident asked shelter place notified officer ...</td>\n",
       "    </tr>\n",
       "    <tr>\n",
       "      <th>3</th>\n",
       "      <td>6</td>\n",
       "      <td>no keyword</td>\n",
       "      <td>no location</td>\n",
       "      <td>13,000 people receive #wildfires evacuation or...</td>\n",
       "      <td>1</td>\n",
       "      <td>65</td>\n",
       "      <td>people receive wildfire evacuation order calif...</td>\n",
       "    </tr>\n",
       "    <tr>\n",
       "      <th>4</th>\n",
       "      <td>7</td>\n",
       "      <td>no keyword</td>\n",
       "      <td>no location</td>\n",
       "      <td>Just got sent this photo from Ruby #Alaska as ...</td>\n",
       "      <td>1</td>\n",
       "      <td>88</td>\n",
       "      <td>got sent photo ruby alaska smoke wildfire pour...</td>\n",
       "    </tr>\n",
       "    <tr>\n",
       "      <th>...</th>\n",
       "      <td>...</td>\n",
       "      <td>...</td>\n",
       "      <td>...</td>\n",
       "      <td>...</td>\n",
       "      <td>...</td>\n",
       "      <td>...</td>\n",
       "      <td>...</td>\n",
       "    </tr>\n",
       "    <tr>\n",
       "      <th>7608</th>\n",
       "      <td>10869</td>\n",
       "      <td>no keyword</td>\n",
       "      <td>no location</td>\n",
       "      <td>Two giant cranes holding a bridge collapse int...</td>\n",
       "      <td>1</td>\n",
       "      <td>83</td>\n",
       "      <td>two giant crane holding bridge collapse nearby...</td>\n",
       "    </tr>\n",
       "    <tr>\n",
       "      <th>7609</th>\n",
       "      <td>10870</td>\n",
       "      <td>no keyword</td>\n",
       "      <td>no location</td>\n",
       "      <td>@aria_ahrary @TheTawniest The out of control w...</td>\n",
       "      <td>1</td>\n",
       "      <td>125</td>\n",
       "      <td>ariaahrary thetawniest control wild fire calif...</td>\n",
       "    </tr>\n",
       "    <tr>\n",
       "      <th>7610</th>\n",
       "      <td>10871</td>\n",
       "      <td>no keyword</td>\n",
       "      <td>no location</td>\n",
       "      <td>M1.94 [01:04 UTC]?5km S of Volcano Hawaii. htt...</td>\n",
       "      <td>1</td>\n",
       "      <td>65</td>\n",
       "      <td>utckm volcano hawaii</td>\n",
       "    </tr>\n",
       "    <tr>\n",
       "      <th>7611</th>\n",
       "      <td>10872</td>\n",
       "      <td>no keyword</td>\n",
       "      <td>no location</td>\n",
       "      <td>Police investigating after an e-bike collided ...</td>\n",
       "      <td>1</td>\n",
       "      <td>137</td>\n",
       "      <td>police investigating ebike collided car little...</td>\n",
       "    </tr>\n",
       "    <tr>\n",
       "      <th>7612</th>\n",
       "      <td>10873</td>\n",
       "      <td>no keyword</td>\n",
       "      <td>no location</td>\n",
       "      <td>The Latest: More Homes Razed by Northern Calif...</td>\n",
       "      <td>1</td>\n",
       "      <td>94</td>\n",
       "      <td>latest home razed northern california wildfire...</td>\n",
       "    </tr>\n",
       "  </tbody>\n",
       "</table>\n",
       "<p>7613 rows × 7 columns</p>\n",
       "</div>"
      ],
      "text/plain": [
       "         id     keyword     location  \\\n",
       "0         1  no keyword  no location   \n",
       "1         4  no keyword  no location   \n",
       "2         5  no keyword  no location   \n",
       "3         6  no keyword  no location   \n",
       "4         7  no keyword  no location   \n",
       "...     ...         ...          ...   \n",
       "7608  10869  no keyword  no location   \n",
       "7609  10870  no keyword  no location   \n",
       "7610  10871  no keyword  no location   \n",
       "7611  10872  no keyword  no location   \n",
       "7612  10873  no keyword  no location   \n",
       "\n",
       "                                                   text  target  length  \\\n",
       "0     Our Deeds are the Reason of this #earthquake M...       1      69   \n",
       "1                Forest fire near La Ronge Sask. Canada       1      38   \n",
       "2     All residents asked to 'shelter in place' are ...       1     133   \n",
       "3     13,000 people receive #wildfires evacuation or...       1      65   \n",
       "4     Just got sent this photo from Ruby #Alaska as ...       1      88   \n",
       "...                                                 ...     ...     ...   \n",
       "7608  Two giant cranes holding a bridge collapse int...       1      83   \n",
       "7609  @aria_ahrary @TheTawniest The out of control w...       1     125   \n",
       "7610  M1.94 [01:04 UTC]?5km S of Volcano Hawaii. htt...       1      65   \n",
       "7611  Police investigating after an e-bike collided ...       1     137   \n",
       "7612  The Latest: More Homes Razed by Northern Calif...       1      94   \n",
       "\n",
       "                                             clean_text  \n",
       "0            deed reason earthquake may allah forgive u  \n",
       "1                 forest fire near la ronge sask canada  \n",
       "2     resident asked shelter place notified officer ...  \n",
       "3     people receive wildfire evacuation order calif...  \n",
       "4     got sent photo ruby alaska smoke wildfire pour...  \n",
       "...                                                 ...  \n",
       "7608  two giant crane holding bridge collapse nearby...  \n",
       "7609  ariaahrary thetawniest control wild fire calif...  \n",
       "7610                               utckm volcano hawaii  \n",
       "7611  police investigating ebike collided car little...  \n",
       "7612  latest home razed northern california wildfire...  \n",
       "\n",
       "[7613 rows x 7 columns]"
      ]
     },
     "metadata": {},
     "output_type": "display_data"
    }
   ],
   "source": [
    "#limpiando el texto\n",
    "\n",
    "import nltk\n",
    "nltk.download('stopwords') \n",
    "nltk.download('punkt')\n",
    "nltk.download('wordnet')\n",
    "from nltk.tokenize import word_tokenize\n",
    "from nltk.corpus import stopwords\n",
    "from nltk.stem.wordnet import WordNetLemmatizer\n",
    "\n",
    "#FUNCIONES UTILES\n",
    "\n",
    "def only_letters(tweet):\n",
    "    tweet = re.sub(r'http\\S*', '', tweet)\n",
    "    tweet = re.sub(r'[^a-z\\s]', '', tweet)\n",
    "    return tweet\n",
    "\n",
    "stop_words=set(stopwords.words(\"english\"))\n",
    "\n",
    "def filter_stopwords(tokenized_text):\n",
    "    filtered_words=[]\n",
    "    for w in tokenized_text:\n",
    "        if w not in stop_words:\n",
    "            filtered_words.append(w)\n",
    "    return filtered_words\n",
    "\n",
    "lemmatizer = WordNetLemmatizer()\n",
    "\n",
    "def lemmatize_tweet(tweet):\n",
    "    lemmatized_words = []\n",
    "    for word in tweet:\n",
    "        lemmatized_words.append(lemmatizer.lemmatize(word))\n",
    "    return lemmatized_words\n",
    "\n",
    "def transform_to_text(tweet_words):\n",
    "    return \" \".join(tweet_words)\n",
    "\n",
    "#Cleaning text\n",
    "\n",
    "train['clean_text'] = train['text'].str.lower()\n",
    "\n",
    "train['clean_text'] = train['clean_text'].apply(only_letters)    \n",
    "\n",
    "#Tokenización\n",
    "\n",
    "train['clean_text'] = train['clean_text'].apply(word_tokenize)\n",
    "\n",
    "#Remove stopwords\n",
    "\n",
    "train['clean_text'] = train['clean_text'].apply(filter_stopwords) \n",
    "\n",
    "#Lemmatization                                                                       \n",
    "\n",
    "train['clean_text'] = train['clean_text'].apply(lemmatize_tweet)  \n",
    "\n",
    "train['clean_text'] = train['clean_text'].apply(transform_to_text)\n",
    "display(train)"
   ]
  },
  {
   "cell_type": "code",
   "execution_count": 39,
   "metadata": {},
   "outputs": [
    {
     "name": "stdout",
     "output_type": "stream",
     "text": [
      "porcentaje target de tweets con mas de un kw 0.606816584680253\n",
      "porcentaje target de tweets con un solo kw 0.3446327683615819\n",
      "porcentaje target de tweets sin kw 0.2025862068965517\n",
      "el maximo de cant de keywords en un tweet es 7\n",
      "porcentaje target de tweets con mas de una locacion 0.504933504933505\n",
      "porcentaje target de tweets con una sola locacion 0.4489409984871407\n",
      "porcentaje target de tweets sin locacion 0.34382107657316147\n",
      "el maximo de cant de locaciones en un tweet es 8\n"
     ]
    }
   ],
   "source": [
    "#agregando algunos features\n",
    "\n",
    "keywords_list = list(set(train.keyword))  #todas las keywords únicas\n",
    "\n",
    "locations_list = list(set(train.location)) #todas las locaciones únicas\n",
    "locations_list.remove('no location')\n",
    "\n",
    "def amount_keywords(tweet):\n",
    "    cont = 0\n",
    "    for keyword in keywords_list:\n",
    "        if keyword in tweet:\n",
    "            cont += 1\n",
    "    return cont\n",
    "\n",
    "train['amount_words'] = train['clean_text'].str.split(' ').apply(lambda x: len(x))  #conviene que cuente del limpio o del original??\n",
    "\n",
    "train['amount_keywords_in_tweet'] = train['clean_text'].apply(lambda x: amount_keywords(x))\n",
    "\n",
    "\n",
    "tiene_mas_de_un_kw = train[train['amount_keywords_in_tweet'] > 1]\n",
    "\n",
    "tiene_un_solo_kw = train[train['amount_keywords_in_tweet'] == 1]\n",
    "\n",
    "no_tiene_kw = train[train['amount_keywords_in_tweet'] == 0]\n",
    "\n",
    "porcentaje_target_mas_de_un_kw = tiene_mas_de_un_kw['target'].mean()\n",
    "print(\"porcentaje target de tweets con mas de un kw\", porcentaje_target_mas_de_un_kw)\n",
    "\n",
    "porcentaje_target_un_solo_kw = tiene_un_solo_kw['target'].mean()\n",
    "print(\"porcentaje target de tweets con un solo kw\", porcentaje_target_un_solo_kw)\n",
    "\n",
    "porcentaje_target_sin_kw = no_tiene_kw['target'].mean()\n",
    "print(\"porcentaje target de tweets sin kw\", porcentaje_target_sin_kw)\n",
    "\n",
    "print(\"el maximo de cant de keywords en un tweet es\", tiene_mas_de_un_kw['amount_keywords_in_tweet'].max())\n",
    "\n",
    "def amount_locations(tweet):    #esta función podría unificarse con la de keywords pasandole por parámetro la lista a recorrer\n",
    "    cont = 0\n",
    "    for location in locations_list:\n",
    "        if location in tweet:\n",
    "            cont += 1\n",
    "    return cont\n",
    "\n",
    "train['amount_locations_in_tweet'] = train['clean_text'].apply(lambda x: amount_locations(x))\n",
    "\n",
    "mas_de_1_location = train[train['amount_locations_in_tweet'] > 1]\n",
    "\n",
    "un_solo_location = train[train['amount_locations_in_tweet'] == 1]\n",
    "\n",
    "no_tiene_location = train[train['amount_locations_in_tweet'] == 0]\n",
    "\n",
    "porcentaje_target_mas_de_un_location = mas_de_1_location['target'].mean()\n",
    "print(\"porcentaje target de tweets con mas de una locacion\", porcentaje_target_mas_de_un_location)\n",
    "\n",
    "porcentaje_target_un_solo_location = un_solo_location['target'].mean()\n",
    "print(\"porcentaje target de tweets con una sola locacion\", porcentaje_target_un_solo_location)\n",
    "\n",
    "porcentaje_target_sin_location = no_tiene_location['target'].mean()\n",
    "print(\"porcentaje target de tweets sin locacion\", porcentaje_target_sin_location)\n",
    "\n",
    "print(\"el maximo de cant de locaciones en un tweet es\", mas_de_1_location['amount_locations_in_tweet'].max())"
   ]
  },
  {
   "cell_type": "code",
   "execution_count": 40,
   "metadata": {},
   "outputs": [
    {
     "data": {
      "text/plain": [
       "0.6990196078431372"
      ]
     },
     "execution_count": 40,
     "metadata": {},
     "output_type": "execute_result"
    }
   ],
   "source": [
    "mas_de_un_location_y_mas_de_un_keyword = train[(train['amount_locations_in_tweet'] > 1) & (train['amount_keywords_in_tweet'] > 1)]\n",
    "porcentaje_target_mas_de_un_location_y_mas_de_un_keyword = mas_de_un_location_y_mas_de_un_keyword.target.mean()\n",
    "porcentaje_target_mas_de_un_location_y_mas_de_un_keyword"
   ]
  },
  {
   "cell_type": "code",
   "execution_count": 41,
   "metadata": {},
   "outputs": [],
   "source": [
    "#construyendo los datos de entrenamiento y de test\n",
    "selected_df = train[['length','amount_words','amount_keywords_in_tweet','amount_locations_in_tweet']] \n",
    "#ver después de codificar las variables categóricas para agregarlas\n",
    "X, y = selected_df,train['target']\n",
    "\n",
    "X_train, X_test, y_train, y_test = train_test_split(X, y, test_size = 0.2, random_state = 42)"
   ]
  },
  {
   "cell_type": "code",
   "execution_count": 42,
   "metadata": {},
   "outputs": [
    {
     "name": "stdout",
     "output_type": "stream",
     "text": [
      "RMSE: 0.510235\n"
     ]
    },
    {
     "data": {
      "text/plain": [
       "array([0.47077955, 0.22850198, 0.14711824, 0.15360023])"
      ]
     },
     "execution_count": 42,
     "metadata": {},
     "output_type": "execute_result"
    }
   ],
   "source": [
    "#Random forest por defecto\n",
    "rf_model = RandomForestRegressor(random_state=1)\n",
    "rf_model.fit(X_train, y_train)\n",
    "preds = rf_model.predict(X_test)\n",
    "rmse = np.sqrt(mean_squared_error(y_test, preds))\n",
    "print(\"RMSE: %f\" % (rmse))\n",
    "rf_model.feature_importances_"
   ]
  },
  {
   "cell_type": "code",
   "execution_count": 43,
   "metadata": {},
   "outputs": [
    {
     "name": "stdout",
     "output_type": "stream",
     "text": [
      "RMSE: 0.462713\n"
     ]
    }
   ],
   "source": [
    "#Random forest prueba2\n",
    "rf_model = RandomForestRegressor(random_state = 1, n_estimators = 100, max_features = 4, min_samples_split = 3, max_depth = 3)\n",
    "\n",
    "rf_model.fit(X_train, y_train)\n",
    "preds = rf_model.predict(X_test)\n",
    "\n",
    "rmse = np.sqrt(mean_squared_error(y_test, preds))\n",
    "print(\"RMSE: %f\" % (rmse))"
   ]
  },
  {
   "cell_type": "code",
   "execution_count": 44,
   "metadata": {},
   "outputs": [
    {
     "name": "stdout",
     "output_type": "stream",
     "text": [
      "RMSE: 0.459952\n"
     ]
    }
   ],
   "source": [
    "#Random forest prueba3\n",
    "rf_model = RandomForestRegressor(random_state = 1, n_estimators = 200, max_features = 2, min_samples_split = 5, max_depth = 4)\n",
    "\n",
    "rf_model.fit(X_train, y_train)\n",
    "preds = rf_model.predict(X_test)\n",
    "\n",
    "rmse = np.sqrt(mean_squared_error(y_test, preds))\n",
    "print(\"RMSE: %f\" % (rmse))"
   ]
  },
  {
   "cell_type": "code",
   "execution_count": 45,
   "metadata": {},
   "outputs": [
    {
     "name": "stdout",
     "output_type": "stream",
     "text": [
      "RMSE: 0.457056\n"
     ]
    }
   ],
   "source": [
    "#Random forest prueba4\n",
    "rf_model = RandomForestRegressor(random_state = 1, n_estimators = 200, max_features = 2, min_samples_split = 5, max_depth = 6,\n",
    "                                min_samples_leaf = 4)\n",
    "\n",
    "rf_model.fit(X_train, y_train)\n",
    "preds = rf_model.predict(X_test)\n",
    "\n",
    "rmse = np.sqrt(mean_squared_error(y_test, preds))\n",
    "print(\"RMSE: %f\" % (rmse))"
   ]
  },
  {
   "cell_type": "code",
   "execution_count": 46,
   "metadata": {},
   "outputs": [
    {
     "name": "stdout",
     "output_type": "stream",
     "text": [
      "RMSE: 0.456772\n"
     ]
    }
   ],
   "source": [
    "#Random forest prueba5\n",
    "rf_model = RandomForestRegressor(random_state = 1, n_estimators = 200, max_features = 2, min_samples_split = 8, max_depth = 6,\n",
    "                                min_samples_leaf = 10)\n",
    "\n",
    "rf_model.fit(X_train, y_train)\n",
    "preds = rf_model.predict(X_test)\n",
    "\n",
    "rmse = np.sqrt(mean_squared_error(y_test, preds))\n",
    "print(\"RMSE: %f\" % (rmse))"
   ]
  },
  {
   "cell_type": "code",
   "execution_count": 47,
   "metadata": {},
   "outputs": [
    {
     "name": "stdout",
     "output_type": "stream",
     "text": [
      "RMSE: 0.456633\n"
     ]
    }
   ],
   "source": [
    "#Random forest prueba6\n",
    "rf_model = RandomForestRegressor(random_state = 1, n_estimators = 200, max_features = 2, min_samples_split = 10, max_depth = 6,\n",
    "                                min_samples_leaf = 15)\n",
    "\n",
    "rf_model.fit(X_train, y_train)\n",
    "preds = rf_model.predict(X_test)\n",
    "\n",
    "rmse = np.sqrt(mean_squared_error(y_test, preds))\n",
    "print(\"RMSE: %f\" % (rmse))"
   ]
  },
  {
   "cell_type": "code",
   "execution_count": 48,
   "metadata": {},
   "outputs": [
    {
     "name": "stdout",
     "output_type": "stream",
     "text": [
      "RMSE: 0.456374\n"
     ]
    }
   ],
   "source": [
    "#Random forest prueba7\n",
    "rf_model = RandomForestRegressor(random_state = 1, n_estimators = 200, max_features = 2, min_samples_split = 10, max_depth = 6,\n",
    "                                min_samples_leaf = 20)\n",
    "\n",
    "rf_model.fit(X_train, y_train)\n",
    "preds = rf_model.predict(X_test)\n",
    "\n",
    "rmse = np.sqrt(mean_squared_error(y_test, preds))\n",
    "print(\"RMSE: %f\" % (rmse))"
   ]
  },
  {
   "cell_type": "code",
   "execution_count": 49,
   "metadata": {},
   "outputs": [
    {
     "name": "stdout",
     "output_type": "stream",
     "text": [
      "RMSE: 0.455718\n"
     ]
    }
   ],
   "source": [
    "#Random forest prueba8\n",
    "rf_model = RandomForestRegressor(random_state = 1, n_estimators = 200, max_features = 2, min_samples_split = 10, max_depth = 7,\n",
    "                                min_samples_leaf = 25)\n",
    "\n",
    "rf_model.fit(X_train, y_train)\n",
    "preds = rf_model.predict(X_test)\n",
    "\n",
    "rmse = np.sqrt(mean_squared_error(y_test, preds))\n",
    "print(\"RMSE: %f\" % (rmse))"
   ]
  },
  {
   "cell_type": "code",
   "execution_count": 50,
   "metadata": {},
   "outputs": [
    {
     "name": "stdout",
     "output_type": "stream",
     "text": [
      "RMSE: 0.455281\n"
     ]
    }
   ],
   "source": [
    "#Random forest prueba9\n",
    "rf_model = RandomForestRegressor(random_state = 1, n_estimators = 200, max_features = 2, min_samples_split = 10, max_depth = 8,\n",
    "                                min_samples_leaf = 25)\n",
    "\n",
    "rf_model.fit(X_train, y_train)\n",
    "preds = rf_model.predict(X_test)\n",
    "\n",
    "rmse = np.sqrt(mean_squared_error(y_test, preds))\n",
    "print(\"RMSE: %f\" % (rmse))"
   ]
  },
  {
   "cell_type": "code",
   "execution_count": 51,
   "metadata": {},
   "outputs": [
    {
     "name": "stdout",
     "output_type": "stream",
     "text": [
      "RMSE: 0.455149\n"
     ]
    }
   ],
   "source": [
    "#Random forest prueba10\n",
    "rf_model = RandomForestRegressor(random_state = 1, n_estimators = 200, max_features = 2, min_samples_split = 10, max_depth = 10,\n",
    "                                min_samples_leaf = 25)\n",
    "                                        #VARIANDO MIN_SAMPLES_SPLIT NO CAMBIA NADA\n",
    "rf_model.fit(X_train, y_train)\n",
    "preds = rf_model.predict(X_test)\n",
    "\n",
    "rmse = np.sqrt(mean_squared_error(y_test, preds))\n",
    "print(\"RMSE: %f\" % (rmse))"
   ]
  },
  {
   "cell_type": "code",
   "execution_count": 52,
   "metadata": {},
   "outputs": [
    {
     "name": "stdout",
     "output_type": "stream",
     "text": [
      "RMSE: 0.455133\n"
     ]
    }
   ],
   "source": [
    "#Random forest prueba11\n",
    "rf_model = RandomForestRegressor(random_state = 1, n_estimators = 200, max_features = 2, min_samples_split = 10, max_depth = 11,\n",
    "                                min_samples_leaf = 25)\n",
    "rf_model.fit(X_train, y_train)\n",
    "preds = rf_model.predict(X_test)\n",
    "\n",
    "rmse = np.sqrt(mean_squared_error(y_test, preds))\n",
    "print(\"RMSE: %f\" % (rmse))"
   ]
  },
  {
   "cell_type": "code",
   "execution_count": 53,
   "metadata": {},
   "outputs": [
    {
     "name": "stdout",
     "output_type": "stream",
     "text": [
      "RMSE: 0.455130\n"
     ]
    }
   ],
   "source": [
    "#Random forest prueba12\n",
    "rf_model = RandomForestRegressor(random_state = 1, n_estimators = 206, max_features = 2, min_samples_split = 10, max_depth = 11,\n",
    "                                min_samples_leaf = 25)\n",
    "\n",
    "rf_model.fit(X_train, y_train)\n",
    "preds = rf_model.predict(X_test)\n",
    "\n",
    "rmse = np.sqrt(mean_squared_error(y_test, preds))\n",
    "print(\"RMSE: %f\" % (rmse))"
   ]
  },
  {
   "cell_type": "code",
   "execution_count": 54,
   "metadata": {},
   "outputs": [
    {
     "name": "stdout",
     "output_type": "stream",
     "text": [
      "RMSE: 0.455124\n"
     ]
    }
   ],
   "source": [
    "#Random forest prueba13\n",
    "rf_model = RandomForestRegressor(random_state = 1, n_estimators = 205, max_features = 2, min_samples_split = 10, max_depth = 11,\n",
    "                                min_samples_leaf = 25)\n",
    "\n",
    "rf_model.fit(X_train, y_train)\n",
    "preds = rf_model.predict(X_test)\n",
    "\n",
    "rmse = np.sqrt(mean_squared_error(y_test, preds))\n",
    "print(\"RMSE: %f\" % (rmse))"
   ]
  },
  {
   "cell_type": "code",
   "execution_count": 55,
   "metadata": {},
   "outputs": [
    {
     "name": "stdout",
     "output_type": "stream",
     "text": [
      "RMSE: 0.455008\n"
     ]
    }
   ],
   "source": [
    "#Random forest prueba14\n",
    "rf_model = RandomForestRegressor(random_state = 1, n_estimators = 205, max_features = 2, min_samples_split = 10, max_depth = 11,\n",
    "                                min_samples_leaf = 26)\n",
    "\n",
    "rf_model.fit(X_train, y_train)\n",
    "preds = rf_model.predict(X_test)\n",
    "\n",
    "rmse = np.sqrt(mean_squared_error(y_test, preds))\n",
    "print(\"RMSE: %f\" % (rmse))"
   ]
  },
  {
   "cell_type": "code",
   "execution_count": 56,
   "metadata": {},
   "outputs": [
    {
     "name": "stdout",
     "output_type": "stream",
     "text": [
      "RMSE: 0.455008\n"
     ]
    }
   ],
   "source": [
    "#Random forest prueba15\n",
    "rf_model = RandomForestRegressor(random_state = 1, n_estimators = 205, max_features = 2, min_samples_split = 10, max_depth = 11,\n",
    "                                min_samples_leaf = 26)\n",
    "\n",
    "rf_model.fit(X_train, y_train)\n",
    "preds = rf_model.predict(X_test)\n",
    "\n",
    "rmse = np.sqrt(mean_squared_error(y_test, preds))\n",
    "print(\"RMSE: %f\" % (rmse))"
   ]
  }
 ],
 "metadata": {
  "kernelspec": {
   "display_name": "Python 3",
   "language": "python",
   "name": "python3"
  },
  "language_info": {
   "codemirror_mode": {
    "name": "ipython",
    "version": 3
   },
   "file_extension": ".py",
   "mimetype": "text/x-python",
   "name": "python",
   "nbconvert_exporter": "python",
   "pygments_lexer": "ipython3",
   "version": "3.7.6"
  }
 },
 "nbformat": 4,
 "nbformat_minor": 4
}

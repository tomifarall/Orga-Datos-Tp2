{
  "nbformat": 4,
  "nbformat_minor": 0,
  "metadata": {
    "kernelspec": {
      "display_name": "Python 3",
      "language": "python",
      "name": "python3"
    },
    "language_info": {
      "codemirror_mode": {
        "name": "ipython",
        "version": 3
      },
      "file_extension": ".py",
      "mimetype": "text/x-python",
      "name": "python",
      "nbconvert_exporter": "python",
      "pygments_lexer": "ipython3",
      "version": "3.7.7"
    },
    "colab": {
      "name": "CNN_word2vec.ipynb",
      "provenance": [],
      "collapsed_sections": [],
      "include_colab_link": true
    }
  },
  "cells": [
    {
      "cell_type": "markdown",
      "metadata": {
        "id": "view-in-github",
        "colab_type": "text"
      },
      "source": [
        "<a href=\"https://colab.research.google.com/github/tomifarall/Orga-Datos-Tp2/blob/master/featurehashing.ipynb\" target=\"_parent\"><img src=\"https://colab.research.google.com/assets/colab-badge.svg\" alt=\"Open In Colab\"/></a>"
      ]
    },
    {
      "cell_type": "code",
      "metadata": {
        "id": "HS3LQyP0xLMv",
        "colab_type": "code",
        "colab": {}
      },
      "source": [
        "import pandas as pd\n",
        "import numpy as np\n",
        "\n",
        "import matplotlib.pyplot as plt\n",
        "\n",
        "import re\n",
        "import nltk\n",
        "from sklearn.metrics import mean_squared_error\n",
        "from sklearn.metrics import f1_score\n",
        "from sklearn.model_selection import train_test_split\n",
        "from sklearn.model_selection import cross_val_score, cross_val_predict\n",
        "\n",
        "from keras.layers import Dense, GlobalMaxPooling1D\n",
        "from keras.layers import Conv1D, MaxPooling1D, Embedding\n",
        "from keras.layers import Flatten\n",
        "from keras.layers import Dropout\n",
        "from keras.models import Sequential\n",
        "from keras import layers\n",
        "from keras.preprocessing.text import Tokenizer\n",
        "from keras.preprocessing.sequence import pad_sequences"
      ],
      "execution_count": 82,
      "outputs": []
    },
    {
      "cell_type": "code",
      "metadata": {
        "id": "TO6a_p9MAeRc",
        "colab_type": "code",
        "colab": {}
      },
      "source": [
        "#ESTO NO LO EJECUTEN SI UTILIZAN UNA VERSION DE PC , YO LO HAGO PARA PODER USAR EL TRAIN DE MI DRIVE,Y USAR EL GITHUB ONLINE\n",
        "# Import PyDrive and associated libraries.\n",
        "# This only needs to be done once per notebook.\n",
        "from pydrive.auth import GoogleAuth\n",
        "from pydrive.drive import GoogleDrive\n",
        "from google.colab import auth\n",
        "from oauth2client.client import GoogleCredentials\n",
        "\n",
        "# Authenticate and create the PyDrive client.\n",
        "# This only needs to be done once per notebook.\n",
        "auth.authenticate_user()\n",
        "gauth = GoogleAuth()\n",
        "gauth.credentials = GoogleCredentials.get_application_default()\n",
        "drive = GoogleDrive(gauth)"
      ],
      "execution_count": 83,
      "outputs": []
    },
    {
      "cell_type": "code",
      "metadata": {
        "id": "5ggIRKL8AwhI",
        "colab_type": "code",
        "colab": {}
      },
      "source": [
        "# Download a file based on its file ID.\n",
        "#\n",
        "# A file ID looks like: laggVyWshwcyP6kEI-y_W3P8D26sz\n",
        "file_id = '1RJH-BaqHHtZzrSgu6yUVc8bRXcfev9tB'\n",
        "downloaded = drive.CreateFile({'id': file_id})\n",
        "downloaded.GetContentFile('train_1.csv')"
      ],
      "execution_count": 84,
      "outputs": []
    },
    {
      "cell_type": "code",
      "metadata": {
        "id": "B5eEsBtqAz-H",
        "colab_type": "code",
        "colab": {}
      },
      "source": [
        "# Download a file based on its file ID.\n",
        "#\n",
        "# A file ID looks like: laggVyWshwcyP6kEI-y_W3P8D26sz\n",
        "file_id = '1sivn_RJ13uL13DmmB_G03yJRJWw_b2He'\n",
        "downloaded = drive.CreateFile({'id': file_id})\n",
        "downloaded.GetContentFile('train_2.csv')"
      ],
      "execution_count": 85,
      "outputs": []
    },
    {
      "cell_type": "code",
      "metadata": {
        "id": "vf3vKRijA1TH",
        "colab_type": "code",
        "colab": {}
      },
      "source": [
        "# Download a file based on its file ID.\n",
        "#\n",
        "# A file ID looks like: laggVyWshwcyP6kEI-y_W3P8D26sz\n",
        "file_id = '1eO4Vnym1_XoOx8yL1UC9WmZJvROH4dt_'\n",
        "downloaded = drive.CreateFile({'id': file_id})\n",
        "downloaded.GetContentFile('train_3.csv')\n"
      ],
      "execution_count": 86,
      "outputs": []
    },
    {
      "cell_type": "code",
      "metadata": {
        "id": "fsRP2TZzSAjh",
        "colab_type": "code",
        "colab": {}
      },
      "source": [
        "\n",
        "# Download a file based on its file ID.\n",
        "#\n",
        "# A file ID looks like: laggVyWshwcyP6kEI-y_W3P8D26sz\n",
        "file_id = '18Ab39T1hPgTBv58oXdVk0NfBE36Fp21D'\n",
        "downloaded = drive.CreateFile({'id': file_id})\n",
        "downloaded.GetContentFile('test_3.csv')\n"
      ],
      "execution_count": 87,
      "outputs": []
    },
    {
      "cell_type": "code",
      "metadata": {
        "id": "dLGIHUmKUu-c",
        "colab_type": "code",
        "colab": {}
      },
      "source": [
        "# Download a file based on its file ID.\n",
        "#\n",
        "# A file ID looks like: laggVyWshwcyP6kEI-y_W3P8D26sz\n",
        "test_id = '1uPd0roB5CyXnjXHm3R_0QqKcoaCZyrpX'\n",
        "downloaded = drive.CreateFile({'id': test_id})\n",
        "downloaded.GetContentFile('test_original.csv')"
      ],
      "execution_count": 88,
      "outputs": []
    },
    {
      "cell_type": "code",
      "metadata": {
        "id": "pN0Js4CdU3HJ",
        "colab_type": "code",
        "colab": {}
      },
      "source": [
        "test_original=pd.read_csv('test_original.csv')"
      ],
      "execution_count": 204,
      "outputs": []
    },
    {
      "cell_type": "code",
      "metadata": {
        "id": "ECBdoV2-A371",
        "colab_type": "code",
        "colab": {}
      },
      "source": [
        "#train_1 = pd.read_csv('train_1.csv')\n",
        "#train_2= pd.read_csv('train_2.csv')\n",
        "train_3=pd.read_csv('train_3.csv')\n",
        "test_3=pd.read_csv('test_3.csv')\n"
      ],
      "execution_count": 205,
      "outputs": []
    },
    {
      "cell_type": "code",
      "metadata": {
        "id": "oXGkJH32wOEx",
        "colab_type": "code",
        "colab": {}
      },
      "source": [
        "#limpiando el texto\n",
        "\n",
        "def clean_text(train):\n",
        "\n",
        "  import nltk\n",
        "  nltk.download('stopwords') \n",
        "  nltk.download('punkt')\n",
        "  nltk.download('wordnet')\n",
        "  from nltk.tokenize import word_tokenize\n",
        "  from nltk.corpus import stopwords\n",
        "  from nltk.stem.wordnet import WordNetLemmatizer\n",
        "\n",
        "  #FUNCIONES UTILES\n",
        "\n",
        "  def only_letters(tweet):\n",
        "      tweet = re.sub(r'http\\S*', '', tweet)\n",
        "      tweet = re.sub(r'[^a-z\\s]', '', tweet)\n",
        "      return tweet\n",
        "\n",
        "  stop_words=set(stopwords.words(\"english\"))\n",
        "\n",
        "  def filter_stopwords(tokenized_text):\n",
        "      filtered_words=[]\n",
        "      for w in tokenized_text:\n",
        "          if w not in stop_words:\n",
        "              filtered_words.append(w)\n",
        "      return filtered_words\n",
        "\n",
        "  lemmatizer = WordNetLemmatizer()\n",
        "\n",
        "  def lemmatize_tweet(tweet):\n",
        "      lemmatized_words = []\n",
        "      for word in tweet:\n",
        "          lemmatized_words.append(lemmatizer.lemmatize(word))\n",
        "      return lemmatized_words\n",
        "\n",
        "  def transform_to_text(tweet_words):\n",
        "      return \" \".join(tweet_words)\n",
        "\n",
        "  #Cleaning text\n",
        "\n",
        "  train['clean_text'] = train['text'].str.lower()\n",
        "\n",
        "  train['clean_text'] = train['clean_text'].apply(only_letters)    \n",
        "\n",
        "  #Tokenización\n",
        "\n",
        "  train['clean_text'] = train['clean_text'].apply(word_tokenize)\n",
        "\n",
        "  #Remove stopwords\n",
        "\n",
        "  train['clean_text'] = train['clean_text'].apply(filter_stopwords) \n",
        "\n",
        "  #Lemmatization                                                                       \n",
        "\n",
        "  train['clean_text'] = train['clean_text'].apply(lemmatize_tweet)  \n",
        "\n",
        "  train['clean_text'] = train['clean_text'].apply(transform_to_text)"
      ],
      "execution_count": 206,
      "outputs": []
    },
    {
      "cell_type": "code",
      "metadata": {
        "id": "9lekZqIxpXGi",
        "colab_type": "code",
        "colab": {}
      },
      "source": [
        "def feature_hashing(cant_column_original,cant_colum_reducir,matriz_original):\n",
        "\n",
        "  import random\n",
        "   \n",
        "  a=[]\n",
        "  filas=cant_column_original\n",
        "  columnas=cant_colum_reducir\n",
        "  for i in range(filas):\n",
        "      binario=0\n",
        "      second=0\n",
        "      a.append([])\n",
        "      for j in range(columnas):\n",
        "          binario=random.randint(0,2)\n",
        "          if( binario==1 and second==0):\n",
        "            \n",
        "            second=1\n",
        "            a[i].append(1)\n",
        "          elif(j==columnas-1 and second==0):\n",
        "            a[i].append(1)\n",
        "          else:  \n",
        "            a[i].append(0)  \n",
        "\n",
        "  B=list(a)\n",
        "\n",
        "  result=matriz_original.dot(B)\n",
        "\n",
        "  return result "
      ],
      "execution_count": 207,
      "outputs": []
    },
    {
      "cell_type": "code",
      "metadata": {
        "id": "oAy_zcyiVRKN",
        "colab_type": "code",
        "colab": {}
      },
      "source": [
        "#hacerlo despues de agregar features, para setear las locaciones vacias con not_location\n",
        "#locaciones con 1 o dos tweet, no aportan nada a la machine learning, mayores a 5 tomo minimo\n",
        "def nombres_locaciones_mayor_frecuencia(train):\n",
        "  filtro_cant_location=train.groupby('location').agg(cantidad_apariciones=('location','count'))\n",
        "  nombres_locaciones_mayor_frecuencia=filtro_cant_location[filtro_cant_location['cantidad_apariciones']>5].index\n",
        "  nombres_locaciones_mayor_frecuencia=list(nombres_locaciones_mayor_frecuencia)\n",
        "  train_filtrado=train[train['location'].isin(nombres_locaciones_mayor_frecuencia)==True]\n",
        "  return train_filtrado"
      ],
      "execution_count": 208,
      "outputs": []
    },
    {
      "cell_type": "code",
      "metadata": {
        "id": "N-TqK1PmR8n7",
        "colab_type": "code",
        "colab": {}
      },
      "source": [
        "#se hace afuera porque seteo con el fin las palabras de tfidf\n",
        "from sklearn.feature_extraction.text import TfidfVectorizer\n",
        "corpus=train_3['clean_text']\n",
        "vectorizer = TfidfVectorizer()\n",
        "X = vectorizer.fit_transform(corpus)\n",
        "#feature_hashing# reducimos dimension de tf-idf por teorema de listruss johson\n",
        "\n",
        "matriz_tfidf=X.toarray()\n",
        "filas=matriz_tfidf.shape[0]\n",
        "cant_column_original=matriz_tfidf.shape[1]\n",
        "matriz_red=feature_hashing(cant_column_original,6,matriz_tfidf)\n",
        "\n",
        "  #agregamos esas columnas a la matriz original\n",
        "df = pd.DataFrame(matriz_red) \n",
        "train_3[list(df.columns)]=df"
      ],
      "execution_count": 209,
      "outputs": []
    },
    {
      "cell_type": "code",
      "metadata": {
        "id": "7N9hSA0lo08j",
        "colab_type": "code",
        "colab": {}
      },
      "source": [
        "def feature_engi(train_3):\n",
        "  train_tfidf=train_3\n",
        "\n",
        "  #completo null\n",
        "  train_tfidf['keyword'].fillna('no keyword', inplace = True)\n",
        "  train_tfidf['location'].fillna('no location', inplace = True)\n",
        "  #mean_encoding\n",
        "  \n",
        "    \n",
        "  train_tfidf['mean_encoding_keyword']=train_tfidf.groupby('keyword')['target'].transform('mean')\n",
        "  train_tfidf['mean_encoding_location']=train_tfidf.groupby('location')['target'].transform('mean')\n",
        "    \n",
        "   \n",
        "  return train_tfidf\n",
        "\n",
        "\n",
        "\n"
      ],
      "execution_count": 210,
      "outputs": []
    },
    {
      "cell_type": "code",
      "metadata": {
        "id": "FLiyPIB9IxaA",
        "colab_type": "code",
        "colab": {}
      },
      "source": [
        "#location_dic posee location y mean_enconding\n",
        "def feature_engi_test(test ):\n",
        "  train_tfidf=test\n",
        "\n",
        "  #completo null\n",
        "  train_tfidf['keyword'].fillna('no keyword', inplace = True)\n",
        "  train_tfidf['location'].fillna('no location', inplace = True)\n",
        "  #mean_encoding\n",
        "  \n",
        "    \n",
        "  train_tfidf['mean_encoding_location']= train_tfidf['location'].map(location_dict)\n",
        "  train_tfidf['mean_encoding_keyword']= train_tfidf['keyword'].map(keyword_dict)\n",
        "    \n",
        "  #tf-idf\n",
        "\n",
        "  \n",
        "  corpus=train_tfidf['clean_text']\n",
        "  #vectorizer = TfidfVectorizer() ya lo cargamos antes en el train\n",
        "  X = vectorizer.transform(corpus)\n",
        "  #print(vectorizer.get_feature_names())\n",
        "\n",
        "  #feature_hashing# reducimos dimension de tf-idf por teorema de listruss johson\n",
        "\n",
        "  matriz_tfidf=X.toarray()\n",
        "  filas=matriz_tfidf.shape[0]\n",
        "  cant_column_original=matriz_tfidf.shape[1]\n",
        "  matriz_red=feature_hashing(cant_column_original,6,matriz_tfidf)\n",
        "\n",
        "  #agregamos esas columnas a la matriz original\n",
        "  df = pd.DataFrame(matriz_red) \n",
        "  train_tfidf[list(df.columns)]=df\n",
        "\n",
        "  return train_tfidf"
      ],
      "execution_count": 238,
      "outputs": []
    },
    {
      "cell_type": "code",
      "metadata": {
        "id": "cZNkEj0DAwxn",
        "colab_type": "code",
        "colab": {}
      },
      "source": [
        "#cargamos las columnas entre otras coas\n",
        "feature_train=feature_engi(train_3 )\n",
        "feature_train_mas_frecuente=nombres_locaciones_mayor_frecuencia(feature_train)"
      ],
      "execution_count": 212,
      "outputs": []
    },
    {
      "cell_type": "code",
      "metadata": {
        "id": "Rh88FX5AbmKX",
        "colab_type": "code",
        "colab": {
          "base_uri": "https://localhost:8080/",
          "height": 271
        },
        "outputId": "90fa4c7c-4a7f-4955-f4c3-ceec53bc6e9b"
      },
      "source": [
        "feature_train_mas_frecuente.head(2)"
      ],
      "execution_count": 213,
      "outputs": [
        {
          "output_type": "execute_result",
          "data": {
            "text/html": [
              "<div>\n",
              "<style scoped>\n",
              "    .dataframe tbody tr th:only-of-type {\n",
              "        vertical-align: middle;\n",
              "    }\n",
              "\n",
              "    .dataframe tbody tr th {\n",
              "        vertical-align: top;\n",
              "    }\n",
              "\n",
              "    .dataframe thead th {\n",
              "        text-align: right;\n",
              "    }\n",
              "</style>\n",
              "<table border=\"1\" class=\"dataframe\">\n",
              "  <thead>\n",
              "    <tr style=\"text-align: right;\">\n",
              "      <th></th>\n",
              "      <th>Unnamed: 0</th>\n",
              "      <th>id</th>\n",
              "      <th>keyword</th>\n",
              "      <th>location</th>\n",
              "      <th>text</th>\n",
              "      <th>target</th>\n",
              "      <th>clean_text</th>\n",
              "      <th>0</th>\n",
              "      <th>1</th>\n",
              "      <th>2</th>\n",
              "      <th>3</th>\n",
              "      <th>4</th>\n",
              "      <th>5</th>\n",
              "      <th>mean_encoding_keyword</th>\n",
              "      <th>mean_encoding_location</th>\n",
              "    </tr>\n",
              "  </thead>\n",
              "  <tbody>\n",
              "    <tr>\n",
              "      <th>0</th>\n",
              "      <td>0</td>\n",
              "      <td>48</td>\n",
              "      <td>ablaze</td>\n",
              "      <td>Birmingham</td>\n",
              "      <td>@bbcmtd Wholesale Markets ablaze http://t.co/l...</td>\n",
              "      <td>1</td>\n",
              "      <td>bbcmtd wholesale market ablaze</td>\n",
              "      <td>0.950988</td>\n",
              "      <td>0.425568</td>\n",
              "      <td>0.000000</td>\n",
              "      <td>0.000000</td>\n",
              "      <td>0.0</td>\n",
              "      <td>0.598773</td>\n",
              "      <td>0.361111</td>\n",
              "      <td>0.875000</td>\n",
              "    </tr>\n",
              "    <tr>\n",
              "      <th>2</th>\n",
              "      <td>2</td>\n",
              "      <td>50</td>\n",
              "      <td>ablaze</td>\n",
              "      <td>Africa</td>\n",
              "      <td>#AFRICANBAZE: Breaking news:Nigeria flag set a...</td>\n",
              "      <td>1</td>\n",
              "      <td>africanbaze breaking newsnigeria flag set abla...</td>\n",
              "      <td>0.775244</td>\n",
              "      <td>0.675258</td>\n",
              "      <td>0.471128</td>\n",
              "      <td>0.315971</td>\n",
              "      <td>0.0</td>\n",
              "      <td>0.368443</td>\n",
              "      <td>0.361111</td>\n",
              "      <td>0.540541</td>\n",
              "    </tr>\n",
              "  </tbody>\n",
              "</table>\n",
              "</div>"
            ],
            "text/plain": [
              "   Unnamed: 0  id  ... mean_encoding_keyword mean_encoding_location\n",
              "0           0  48  ...              0.361111               0.875000\n",
              "2           2  50  ...              0.361111               0.540541\n",
              "\n",
              "[2 rows x 15 columns]"
            ]
          },
          "metadata": {
            "tags": []
          },
          "execution_count": 213
        }
      ]
    },
    {
      "cell_type": "code",
      "metadata": {
        "id": "xXrSJVO8bzuK",
        "colab_type": "code",
        "colab": {
          "base_uri": "https://localhost:8080/",
          "height": 399
        },
        "outputId": "b3422f5c-cfdf-4d8d-df1d-4089cc26d11a"
      },
      "source": [
        "feature_train_mas_frecuente.info()"
      ],
      "execution_count": 214,
      "outputs": [
        {
          "output_type": "stream",
          "text": [
            "<class 'pandas.core.frame.DataFrame'>\n",
            "Int64Index: 5055 entries, 0 to 7612\n",
            "Data columns (total 15 columns):\n",
            " #   Column                  Non-Null Count  Dtype  \n",
            "---  ------                  --------------  -----  \n",
            " 0   Unnamed: 0              5055 non-null   int64  \n",
            " 1   id                      5055 non-null   int64  \n",
            " 2   keyword                 5055 non-null   object \n",
            " 3   location                5055 non-null   object \n",
            " 4   text                    5055 non-null   object \n",
            " 5   target                  5055 non-null   int64  \n",
            " 6   clean_text              5055 non-null   object \n",
            " 7   0                       5055 non-null   float64\n",
            " 8   1                       5055 non-null   float64\n",
            " 9   2                       5055 non-null   float64\n",
            " 10  3                       5055 non-null   float64\n",
            " 11  4                       5055 non-null   float64\n",
            " 12  5                       5055 non-null   float64\n",
            " 13  mean_encoding_keyword   5055 non-null   float64\n",
            " 14  mean_encoding_location  5055 non-null   float64\n",
            "dtypes: float64(8), int64(3), object(4)\n",
            "memory usage: 631.9+ KB\n"
          ],
          "name": "stdout"
        }
      ]
    },
    {
      "cell_type": "markdown",
      "metadata": {
        "id": "ot9ZBf57b-nA",
        "colab_type": "text"
      },
      "source": [
        "# agrego columnas del test"
      ]
    },
    {
      "cell_type": "code",
      "metadata": {
        "id": "wRJwl_FOb9nB",
        "colab_type": "code",
        "colab": {}
      },
      "source": [
        "#las locaciones con mean_coding_location lo saco del train\n",
        "location_dict = pd.Series(feature_train_mas_frecuente['mean_encoding_location'].values, index=feature_train_mas_frecuente['location']).to_dict()\n",
        "#completo con mean_encoding_keyword\n",
        "keyword_dict = pd.Series(feature_train_mas_frecuente['mean_encoding_keyword'].values, index=feature_train_mas_frecuente['keyword']).to_dict()"
      ],
      "execution_count": 245,
      "outputs": []
    },
    {
      "cell_type": "code",
      "metadata": {
        "id": "h1tUsuIuf8ED",
        "colab_type": "code",
        "colab": {}
      },
      "source": [
        "test_3=pd.read_csv('test_3.csv')"
      ],
      "execution_count": 246,
      "outputs": []
    },
    {
      "cell_type": "code",
      "metadata": {
        "id": "BKYZKv3iYVTd",
        "colab_type": "code",
        "colab": {
          "base_uri": "https://localhost:8080/",
          "height": 121
        },
        "outputId": "3be301f6-27e6-421e-c236-1122ff660d7d"
      },
      "source": [
        "clean_text(test_3)"
      ],
      "execution_count": 247,
      "outputs": [
        {
          "output_type": "stream",
          "text": [
            "[nltk_data] Downloading package stopwords to /root/nltk_data...\n",
            "[nltk_data]   Package stopwords is already up-to-date!\n",
            "[nltk_data] Downloading package punkt to /root/nltk_data...\n",
            "[nltk_data]   Package punkt is already up-to-date!\n",
            "[nltk_data] Downloading package wordnet to /root/nltk_data...\n",
            "[nltk_data]   Package wordnet is already up-to-date!\n"
          ],
          "name": "stdout"
        }
      ]
    },
    {
      "cell_type": "code",
      "metadata": {
        "id": "7Hi3Y_AqdeBl",
        "colab_type": "code",
        "colab": {
          "base_uri": "https://localhost:8080/",
          "height": 243
        },
        "outputId": "c6232bd3-5049-41cc-81b2-68592c67c02d"
      },
      "source": [
        "test_3.info()"
      ],
      "execution_count": 248,
      "outputs": [
        {
          "output_type": "stream",
          "text": [
            "<class 'pandas.core.frame.DataFrame'>\n",
            "RangeIndex: 3263 entries, 0 to 3262\n",
            "Data columns (total 6 columns):\n",
            " #   Column      Non-Null Count  Dtype \n",
            "---  ------      --------------  ----- \n",
            " 0   Unnamed: 0  3263 non-null   int64 \n",
            " 1   id          3263 non-null   int64 \n",
            " 2   keyword     3237 non-null   object\n",
            " 3   location    2383 non-null   object\n",
            " 4   text        3263 non-null   object\n",
            " 5   clean_text  3263 non-null   object\n",
            "dtypes: int64(2), object(4)\n",
            "memory usage: 153.1+ KB\n"
          ],
          "name": "stdout"
        }
      ]
    },
    {
      "cell_type": "code",
      "metadata": {
        "id": "ie-Wy7OpdztP",
        "colab_type": "code",
        "colab": {}
      },
      "source": [
        "test_with_feature=feature_engi_test(test_3)\n",
        "#relleno con 0 los que estan con nan los mean_encoding_location\n",
        "test_with_feature['mean_encoding_location']=test_with_feature['mean_encoding_location'].fillna(0)\n",
        "test_with_feature['mean_encoding_keyword']=test_with_feature['mean_encoding_keyword'].fillna(0)"
      ],
      "execution_count": 249,
      "outputs": []
    },
    {
      "cell_type": "code",
      "metadata": {
        "id": "Zlan3LJ7d3_n",
        "colab_type": "code",
        "colab": {
          "base_uri": "https://localhost:8080/",
          "height": 254
        },
        "outputId": "2c4f2fa3-de5a-4838-bdd8-2376fa8060e3"
      },
      "source": [
        "test_with_feature.head(2)"
      ],
      "execution_count": 253,
      "outputs": [
        {
          "output_type": "execute_result",
          "data": {
            "text/html": [
              "<div>\n",
              "<style scoped>\n",
              "    .dataframe tbody tr th:only-of-type {\n",
              "        vertical-align: middle;\n",
              "    }\n",
              "\n",
              "    .dataframe tbody tr th {\n",
              "        vertical-align: top;\n",
              "    }\n",
              "\n",
              "    .dataframe thead th {\n",
              "        text-align: right;\n",
              "    }\n",
              "</style>\n",
              "<table border=\"1\" class=\"dataframe\">\n",
              "  <thead>\n",
              "    <tr style=\"text-align: right;\">\n",
              "      <th></th>\n",
              "      <th>Unnamed: 0</th>\n",
              "      <th>id</th>\n",
              "      <th>keyword</th>\n",
              "      <th>location</th>\n",
              "      <th>text</th>\n",
              "      <th>clean_text</th>\n",
              "      <th>mean_encoding_location</th>\n",
              "      <th>mean_encoding_keyword</th>\n",
              "      <th>0</th>\n",
              "      <th>1</th>\n",
              "      <th>2</th>\n",
              "      <th>3</th>\n",
              "      <th>4</th>\n",
              "      <th>5</th>\n",
              "    </tr>\n",
              "  </thead>\n",
              "  <tbody>\n",
              "    <tr>\n",
              "      <th>0</th>\n",
              "      <td>0</td>\n",
              "      <td>46</td>\n",
              "      <td>ablaze</td>\n",
              "      <td>Florida</td>\n",
              "      <td>Birmingham Wholesale Market is ablaze BBC News...</td>\n",
              "      <td>birmingham wholesale market ablaze bbc news fi...</td>\n",
              "      <td>0.369099</td>\n",
              "      <td>0.361111</td>\n",
              "      <td>1.438384</td>\n",
              "      <td>0.000000</td>\n",
              "      <td>0.551671</td>\n",
              "      <td>0.155011</td>\n",
              "      <td>0.367398</td>\n",
              "      <td>0.0</td>\n",
              "    </tr>\n",
              "    <tr>\n",
              "      <th>1</th>\n",
              "      <td>1</td>\n",
              "      <td>47</td>\n",
              "      <td>ablaze</td>\n",
              "      <td>Niall's place | SAF 12 SQUAD |</td>\n",
              "      <td>@sunkxssedharry will you wear shorts for race ...</td>\n",
              "      <td>sunkxssedharry wear short race ablaze</td>\n",
              "      <td>0.000000</td>\n",
              "      <td>0.361111</td>\n",
              "      <td>0.971551</td>\n",
              "      <td>0.475949</td>\n",
              "      <td>0.543090</td>\n",
              "      <td>0.000000</td>\n",
              "      <td>0.000000</td>\n",
              "      <td>0.0</td>\n",
              "    </tr>\n",
              "  </tbody>\n",
              "</table>\n",
              "</div>"
            ],
            "text/plain": [
              "   Unnamed: 0  id keyword  ...         3         4    5\n",
              "0           0  46  ablaze  ...  0.155011  0.367398  0.0\n",
              "1           1  47  ablaze  ...  0.000000  0.000000  0.0\n",
              "\n",
              "[2 rows x 14 columns]"
            ]
          },
          "metadata": {
            "tags": []
          },
          "execution_count": 253
        }
      ]
    },
    {
      "cell_type": "code",
      "metadata": {
        "id": "Yov_N6yzrHUl",
        "colab_type": "code",
        "colab": {}
      },
      "source": [
        "def remove_unused_columns(data): \n",
        "  train_tfidf=data\n",
        "  train_tfidf=train_tfidf.drop( columns='Unnamed: 0')\n",
        "  train_tfidf=train_tfidf.drop( columns='keyword')\n",
        "  train_tfidf=train_tfidf.drop( columns='location')\n",
        "  train_tfidf=train_tfidf.drop( columns='clean_text')\n",
        "  train_tfidf=train_tfidf.drop( columns='text')\n",
        "  train_tfidf=train_tfidf.drop( columns='id')\n",
        "  return train_tfidf"
      ],
      "execution_count": 259,
      "outputs": []
    },
    {
      "cell_type": "code",
      "metadata": {
        "id": "JkEn_iJHUPS4",
        "colab_type": "code",
        "colab": {
          "base_uri": "https://localhost:8080/",
          "height": 112
        },
        "outputId": "061b188e-e3b3-401e-db6e-c35976755a83"
      },
      "source": [
        "train_formateado=remove_unused_columns_train(feature_train_mas_frecuente)\n",
        "train_formateado.head(2)"
      ],
      "execution_count": 257,
      "outputs": [
        {
          "output_type": "execute_result",
          "data": {
            "text/html": [
              "<div>\n",
              "<style scoped>\n",
              "    .dataframe tbody tr th:only-of-type {\n",
              "        vertical-align: middle;\n",
              "    }\n",
              "\n",
              "    .dataframe tbody tr th {\n",
              "        vertical-align: top;\n",
              "    }\n",
              "\n",
              "    .dataframe thead th {\n",
              "        text-align: right;\n",
              "    }\n",
              "</style>\n",
              "<table border=\"1\" class=\"dataframe\">\n",
              "  <thead>\n",
              "    <tr style=\"text-align: right;\">\n",
              "      <th></th>\n",
              "      <th>target</th>\n",
              "      <th>0</th>\n",
              "      <th>1</th>\n",
              "      <th>2</th>\n",
              "      <th>3</th>\n",
              "      <th>4</th>\n",
              "      <th>5</th>\n",
              "      <th>mean_encoding_keyword</th>\n",
              "      <th>mean_encoding_location</th>\n",
              "    </tr>\n",
              "  </thead>\n",
              "  <tbody>\n",
              "    <tr>\n",
              "      <th>0</th>\n",
              "      <td>1</td>\n",
              "      <td>0.950988</td>\n",
              "      <td>0.425568</td>\n",
              "      <td>0.000000</td>\n",
              "      <td>0.000000</td>\n",
              "      <td>0.0</td>\n",
              "      <td>0.598773</td>\n",
              "      <td>0.361111</td>\n",
              "      <td>0.875000</td>\n",
              "    </tr>\n",
              "    <tr>\n",
              "      <th>2</th>\n",
              "      <td>1</td>\n",
              "      <td>0.775244</td>\n",
              "      <td>0.675258</td>\n",
              "      <td>0.471128</td>\n",
              "      <td>0.315971</td>\n",
              "      <td>0.0</td>\n",
              "      <td>0.368443</td>\n",
              "      <td>0.361111</td>\n",
              "      <td>0.540541</td>\n",
              "    </tr>\n",
              "  </tbody>\n",
              "</table>\n",
              "</div>"
            ],
            "text/plain": [
              "   target         0  ...  mean_encoding_keyword  mean_encoding_location\n",
              "0       1  0.950988  ...               0.361111                0.875000\n",
              "2       1  0.775244  ...               0.361111                0.540541\n",
              "\n",
              "[2 rows x 9 columns]"
            ]
          },
          "metadata": {
            "tags": []
          },
          "execution_count": 257
        }
      ]
    },
    {
      "cell_type": "code",
      "metadata": {
        "id": "Mlx4AESlhfjM",
        "colab_type": "code",
        "colab": {}
      },
      "source": [
        "#quito columnas inneesario de test"
      ],
      "execution_count": null,
      "outputs": []
    },
    {
      "cell_type": "code",
      "metadata": {
        "id": "4FrDQjh9hNZO",
        "colab_type": "code",
        "colab": {
          "base_uri": "https://localhost:8080/",
          "height": 112
        },
        "outputId": "30bda1ab-cdc0-4228-c0ce-fabc532c39e7"
      },
      "source": [
        "test_formateado=remove_unused_columns(test_with_feature)\n",
        "test_formateado.head(2)"
      ],
      "execution_count": 263,
      "outputs": [
        {
          "output_type": "execute_result",
          "data": {
            "text/html": [
              "<div>\n",
              "<style scoped>\n",
              "    .dataframe tbody tr th:only-of-type {\n",
              "        vertical-align: middle;\n",
              "    }\n",
              "\n",
              "    .dataframe tbody tr th {\n",
              "        vertical-align: top;\n",
              "    }\n",
              "\n",
              "    .dataframe thead th {\n",
              "        text-align: right;\n",
              "    }\n",
              "</style>\n",
              "<table border=\"1\" class=\"dataframe\">\n",
              "  <thead>\n",
              "    <tr style=\"text-align: right;\">\n",
              "      <th></th>\n",
              "      <th>mean_encoding_location</th>\n",
              "      <th>mean_encoding_keyword</th>\n",
              "      <th>0</th>\n",
              "      <th>1</th>\n",
              "      <th>2</th>\n",
              "      <th>3</th>\n",
              "      <th>4</th>\n",
              "      <th>5</th>\n",
              "    </tr>\n",
              "  </thead>\n",
              "  <tbody>\n",
              "    <tr>\n",
              "      <th>0</th>\n",
              "      <td>0.369099</td>\n",
              "      <td>0.361111</td>\n",
              "      <td>1.438384</td>\n",
              "      <td>0.000000</td>\n",
              "      <td>0.551671</td>\n",
              "      <td>0.155011</td>\n",
              "      <td>0.367398</td>\n",
              "      <td>0.0</td>\n",
              "    </tr>\n",
              "    <tr>\n",
              "      <th>1</th>\n",
              "      <td>0.000000</td>\n",
              "      <td>0.361111</td>\n",
              "      <td>0.971551</td>\n",
              "      <td>0.475949</td>\n",
              "      <td>0.543090</td>\n",
              "      <td>0.000000</td>\n",
              "      <td>0.000000</td>\n",
              "      <td>0.0</td>\n",
              "    </tr>\n",
              "  </tbody>\n",
              "</table>\n",
              "</div>"
            ],
            "text/plain": [
              "   mean_encoding_location  mean_encoding_keyword  ...         4    5\n",
              "0                0.369099               0.361111  ...  0.367398  0.0\n",
              "1                0.000000               0.361111  ...  0.000000  0.0\n",
              "\n",
              "[2 rows x 8 columns]"
            ]
          },
          "metadata": {
            "tags": []
          },
          "execution_count": 263
        }
      ]
    },
    {
      "cell_type": "code",
      "metadata": {
        "id": "JT8IldikiWJX",
        "colab_type": "code",
        "colab": {}
      },
      "source": [
        ""
      ],
      "execution_count": null,
      "outputs": []
    },
    {
      "cell_type": "code",
      "metadata": {
        "id": "T4Gfzs-1XSiL",
        "colab_type": "code",
        "colab": {}
      },
      "source": [
        ""
      ],
      "execution_count": null,
      "outputs": []
    },
    {
      "cell_type": "code",
      "metadata": {
        "id": "Ia-ZLLfMVQNN",
        "colab_type": "code",
        "colab": {
          "base_uri": "https://localhost:8080/",
          "height": 713
        },
        "outputId": "25011528-7b6a-4190-9bc9-7b66b480f168"
      },
      "source": [
        "#separao target del train\n",
        "target=train_formateado['target']\n",
        "train_formateado=train_formateado.drop( columns='target')\n",
        "\n"
      ],
      "execution_count": 265,
      "outputs": [
        {
          "output_type": "error",
          "ename": "KeyError",
          "evalue": "ignored",
          "traceback": [
            "\u001b[0;31m---------------------------------------------------------------------------\u001b[0m",
            "\u001b[0;31mKeyError\u001b[0m                                  Traceback (most recent call last)",
            "\u001b[0;32m/usr/local/lib/python3.6/dist-packages/pandas/core/indexes/base.py\u001b[0m in \u001b[0;36mget_loc\u001b[0;34m(self, key, method, tolerance)\u001b[0m\n\u001b[1;32m   2645\u001b[0m             \u001b[0;32mtry\u001b[0m\u001b[0;34m:\u001b[0m\u001b[0;34m\u001b[0m\u001b[0;34m\u001b[0m\u001b[0m\n\u001b[0;32m-> 2646\u001b[0;31m                 \u001b[0;32mreturn\u001b[0m \u001b[0mself\u001b[0m\u001b[0;34m.\u001b[0m\u001b[0m_engine\u001b[0m\u001b[0;34m.\u001b[0m\u001b[0mget_loc\u001b[0m\u001b[0;34m(\u001b[0m\u001b[0mkey\u001b[0m\u001b[0;34m)\u001b[0m\u001b[0;34m\u001b[0m\u001b[0;34m\u001b[0m\u001b[0m\n\u001b[0m\u001b[1;32m   2647\u001b[0m             \u001b[0;32mexcept\u001b[0m \u001b[0mKeyError\u001b[0m\u001b[0;34m:\u001b[0m\u001b[0;34m\u001b[0m\u001b[0;34m\u001b[0m\u001b[0m\n",
            "\u001b[0;32mpandas/_libs/index.pyx\u001b[0m in \u001b[0;36mpandas._libs.index.IndexEngine.get_loc\u001b[0;34m()\u001b[0m\n",
            "\u001b[0;32mpandas/_libs/index.pyx\u001b[0m in \u001b[0;36mpandas._libs.index.IndexEngine.get_loc\u001b[0;34m()\u001b[0m\n",
            "\u001b[0;32mpandas/_libs/hashtable_class_helper.pxi\u001b[0m in \u001b[0;36mpandas._libs.hashtable.PyObjectHashTable.get_item\u001b[0;34m()\u001b[0m\n",
            "\u001b[0;32mpandas/_libs/hashtable_class_helper.pxi\u001b[0m in \u001b[0;36mpandas._libs.hashtable.PyObjectHashTable.get_item\u001b[0;34m()\u001b[0m\n",
            "\u001b[0;31mKeyError\u001b[0m: 'target'",
            "\nDuring handling of the above exception, another exception occurred:\n",
            "\u001b[0;31mKeyError\u001b[0m                                  Traceback (most recent call last)",
            "\u001b[0;32m<ipython-input-265-b1d282429dc2>\u001b[0m in \u001b[0;36m<module>\u001b[0;34m()\u001b[0m\n\u001b[1;32m      1\u001b[0m \u001b[0;31m#separao target del train\u001b[0m\u001b[0;34m\u001b[0m\u001b[0;34m\u001b[0m\u001b[0;34m\u001b[0m\u001b[0m\n\u001b[0;32m----> 2\u001b[0;31m \u001b[0mtarget\u001b[0m\u001b[0;34m=\u001b[0m\u001b[0mtrain_formateado\u001b[0m\u001b[0;34m[\u001b[0m\u001b[0;34m'target'\u001b[0m\u001b[0;34m]\u001b[0m\u001b[0;34m\u001b[0m\u001b[0;34m\u001b[0m\u001b[0m\n\u001b[0m\u001b[1;32m      3\u001b[0m \u001b[0mtrain_formateado\u001b[0m\u001b[0;34m=\u001b[0m\u001b[0mtrain_formateado\u001b[0m\u001b[0;34m.\u001b[0m\u001b[0mdrop\u001b[0m\u001b[0;34m(\u001b[0m \u001b[0mcolumns\u001b[0m\u001b[0;34m=\u001b[0m\u001b[0;34m'target'\u001b[0m\u001b[0;34m)\u001b[0m\u001b[0;34m\u001b[0m\u001b[0;34m\u001b[0m\u001b[0m\n\u001b[1;32m      4\u001b[0m \u001b[0;34m\u001b[0m\u001b[0m\n\u001b[1;32m      5\u001b[0m \u001b[0mtrain_formateado\u001b[0m\u001b[0;34m.\u001b[0m\u001b[0mhead\u001b[0m\u001b[0;34m(\u001b[0m\u001b[0;36m1\u001b[0m\u001b[0;34m)\u001b[0m\u001b[0;34m\u001b[0m\u001b[0;34m\u001b[0m\u001b[0m\n",
            "\u001b[0;32m/usr/local/lib/python3.6/dist-packages/pandas/core/frame.py\u001b[0m in \u001b[0;36m__getitem__\u001b[0;34m(self, key)\u001b[0m\n\u001b[1;32m   2798\u001b[0m             \u001b[0;32mif\u001b[0m \u001b[0mself\u001b[0m\u001b[0;34m.\u001b[0m\u001b[0mcolumns\u001b[0m\u001b[0;34m.\u001b[0m\u001b[0mnlevels\u001b[0m \u001b[0;34m>\u001b[0m \u001b[0;36m1\u001b[0m\u001b[0;34m:\u001b[0m\u001b[0;34m\u001b[0m\u001b[0;34m\u001b[0m\u001b[0m\n\u001b[1;32m   2799\u001b[0m                 \u001b[0;32mreturn\u001b[0m \u001b[0mself\u001b[0m\u001b[0;34m.\u001b[0m\u001b[0m_getitem_multilevel\u001b[0m\u001b[0;34m(\u001b[0m\u001b[0mkey\u001b[0m\u001b[0;34m)\u001b[0m\u001b[0;34m\u001b[0m\u001b[0;34m\u001b[0m\u001b[0m\n\u001b[0;32m-> 2800\u001b[0;31m             \u001b[0mindexer\u001b[0m \u001b[0;34m=\u001b[0m \u001b[0mself\u001b[0m\u001b[0;34m.\u001b[0m\u001b[0mcolumns\u001b[0m\u001b[0;34m.\u001b[0m\u001b[0mget_loc\u001b[0m\u001b[0;34m(\u001b[0m\u001b[0mkey\u001b[0m\u001b[0;34m)\u001b[0m\u001b[0;34m\u001b[0m\u001b[0;34m\u001b[0m\u001b[0m\n\u001b[0m\u001b[1;32m   2801\u001b[0m             \u001b[0;32mif\u001b[0m \u001b[0mis_integer\u001b[0m\u001b[0;34m(\u001b[0m\u001b[0mindexer\u001b[0m\u001b[0;34m)\u001b[0m\u001b[0;34m:\u001b[0m\u001b[0;34m\u001b[0m\u001b[0;34m\u001b[0m\u001b[0m\n\u001b[1;32m   2802\u001b[0m                 \u001b[0mindexer\u001b[0m \u001b[0;34m=\u001b[0m \u001b[0;34m[\u001b[0m\u001b[0mindexer\u001b[0m\u001b[0;34m]\u001b[0m\u001b[0;34m\u001b[0m\u001b[0;34m\u001b[0m\u001b[0m\n",
            "\u001b[0;32m/usr/local/lib/python3.6/dist-packages/pandas/core/indexes/base.py\u001b[0m in \u001b[0;36mget_loc\u001b[0;34m(self, key, method, tolerance)\u001b[0m\n\u001b[1;32m   2646\u001b[0m                 \u001b[0;32mreturn\u001b[0m \u001b[0mself\u001b[0m\u001b[0;34m.\u001b[0m\u001b[0m_engine\u001b[0m\u001b[0;34m.\u001b[0m\u001b[0mget_loc\u001b[0m\u001b[0;34m(\u001b[0m\u001b[0mkey\u001b[0m\u001b[0;34m)\u001b[0m\u001b[0;34m\u001b[0m\u001b[0;34m\u001b[0m\u001b[0m\n\u001b[1;32m   2647\u001b[0m             \u001b[0;32mexcept\u001b[0m \u001b[0mKeyError\u001b[0m\u001b[0;34m:\u001b[0m\u001b[0;34m\u001b[0m\u001b[0;34m\u001b[0m\u001b[0m\n\u001b[0;32m-> 2648\u001b[0;31m                 \u001b[0;32mreturn\u001b[0m \u001b[0mself\u001b[0m\u001b[0;34m.\u001b[0m\u001b[0m_engine\u001b[0m\u001b[0;34m.\u001b[0m\u001b[0mget_loc\u001b[0m\u001b[0;34m(\u001b[0m\u001b[0mself\u001b[0m\u001b[0;34m.\u001b[0m\u001b[0m_maybe_cast_indexer\u001b[0m\u001b[0;34m(\u001b[0m\u001b[0mkey\u001b[0m\u001b[0;34m)\u001b[0m\u001b[0;34m)\u001b[0m\u001b[0;34m\u001b[0m\u001b[0;34m\u001b[0m\u001b[0m\n\u001b[0m\u001b[1;32m   2649\u001b[0m         \u001b[0mindexer\u001b[0m \u001b[0;34m=\u001b[0m \u001b[0mself\u001b[0m\u001b[0;34m.\u001b[0m\u001b[0mget_indexer\u001b[0m\u001b[0;34m(\u001b[0m\u001b[0;34m[\u001b[0m\u001b[0mkey\u001b[0m\u001b[0;34m]\u001b[0m\u001b[0;34m,\u001b[0m \u001b[0mmethod\u001b[0m\u001b[0;34m=\u001b[0m\u001b[0mmethod\u001b[0m\u001b[0;34m,\u001b[0m \u001b[0mtolerance\u001b[0m\u001b[0;34m=\u001b[0m\u001b[0mtolerance\u001b[0m\u001b[0;34m)\u001b[0m\u001b[0;34m\u001b[0m\u001b[0;34m\u001b[0m\u001b[0m\n\u001b[1;32m   2650\u001b[0m         \u001b[0;32mif\u001b[0m \u001b[0mindexer\u001b[0m\u001b[0;34m.\u001b[0m\u001b[0mndim\u001b[0m \u001b[0;34m>\u001b[0m \u001b[0;36m1\u001b[0m \u001b[0;32mor\u001b[0m \u001b[0mindexer\u001b[0m\u001b[0;34m.\u001b[0m\u001b[0msize\u001b[0m \u001b[0;34m>\u001b[0m \u001b[0;36m1\u001b[0m\u001b[0;34m:\u001b[0m\u001b[0;34m\u001b[0m\u001b[0;34m\u001b[0m\u001b[0m\n",
            "\u001b[0;32mpandas/_libs/index.pyx\u001b[0m in \u001b[0;36mpandas._libs.index.IndexEngine.get_loc\u001b[0;34m()\u001b[0m\n",
            "\u001b[0;32mpandas/_libs/index.pyx\u001b[0m in \u001b[0;36mpandas._libs.index.IndexEngine.get_loc\u001b[0;34m()\u001b[0m\n",
            "\u001b[0;32mpandas/_libs/hashtable_class_helper.pxi\u001b[0m in \u001b[0;36mpandas._libs.hashtable.PyObjectHashTable.get_item\u001b[0;34m()\u001b[0m\n",
            "\u001b[0;32mpandas/_libs/hashtable_class_helper.pxi\u001b[0m in \u001b[0;36mpandas._libs.hashtable.PyObjectHashTable.get_item\u001b[0;34m()\u001b[0m\n",
            "\u001b[0;31mKeyError\u001b[0m: 'target'"
          ]
        }
      ]
    },
    {
      "cell_type": "code",
      "metadata": {
        "id": "vJwap3tDj9-U",
        "colab_type": "code",
        "colab": {
          "base_uri": "https://localhost:8080/",
          "height": 81
        },
        "outputId": "f2d78c0a-c84a-44b6-a880-70dab18f2768"
      },
      "source": [
        "train_formateado.head(1)"
      ],
      "execution_count": 266,
      "outputs": [
        {
          "output_type": "execute_result",
          "data": {
            "text/html": [
              "<div>\n",
              "<style scoped>\n",
              "    .dataframe tbody tr th:only-of-type {\n",
              "        vertical-align: middle;\n",
              "    }\n",
              "\n",
              "    .dataframe tbody tr th {\n",
              "        vertical-align: top;\n",
              "    }\n",
              "\n",
              "    .dataframe thead th {\n",
              "        text-align: right;\n",
              "    }\n",
              "</style>\n",
              "<table border=\"1\" class=\"dataframe\">\n",
              "  <thead>\n",
              "    <tr style=\"text-align: right;\">\n",
              "      <th></th>\n",
              "      <th>0</th>\n",
              "      <th>1</th>\n",
              "      <th>2</th>\n",
              "      <th>3</th>\n",
              "      <th>4</th>\n",
              "      <th>5</th>\n",
              "      <th>mean_encoding_keyword</th>\n",
              "      <th>mean_encoding_location</th>\n",
              "    </tr>\n",
              "  </thead>\n",
              "  <tbody>\n",
              "    <tr>\n",
              "      <th>0</th>\n",
              "      <td>0.950988</td>\n",
              "      <td>0.425568</td>\n",
              "      <td>0.0</td>\n",
              "      <td>0.0</td>\n",
              "      <td>0.0</td>\n",
              "      <td>0.598773</td>\n",
              "      <td>0.361111</td>\n",
              "      <td>0.875</td>\n",
              "    </tr>\n",
              "  </tbody>\n",
              "</table>\n",
              "</div>"
            ],
            "text/plain": [
              "          0         1  ...  mean_encoding_keyword  mean_encoding_location\n",
              "0  0.950988  0.425568  ...               0.361111                   0.875\n",
              "\n",
              "[1 rows x 8 columns]"
            ]
          },
          "metadata": {
            "tags": []
          },
          "execution_count": 266
        }
      ]
    },
    {
      "cell_type": "code",
      "metadata": {
        "id": "RIcYqBBzkCEv",
        "colab_type": "code",
        "colab": {
          "base_uri": "https://localhost:8080/",
          "height": 245
        },
        "outputId": "5aa3daa3-4f73-4432-f204-626a2e4dc0f3"
      },
      "source": [
        "#el test no se separa el target porque no tiene XD JA\n",
        "from imblearn.under_sampling import NearMiss\n",
        "from imblearn.over_sampling import RandomOverSampler\n",
        "from imblearn.combine import SMOTETomek\n",
        "from imblearn.ensemble import BalancedBaggingClassifier"
      ],
      "execution_count": 332,
      "outputs": [
        {
          "output_type": "stream",
          "text": [
            "/usr/local/lib/python3.6/dist-packages/sklearn/externals/six.py:31: FutureWarning: The module is deprecated in version 0.21 and will be removed in version 0.23 since we've dropped support for Python 2.7. Please rely on the official version of six (https://pypi.org/project/six/).\n",
            "  \"(https://pypi.org/project/six/).\", FutureWarning)\n",
            "/usr/local/lib/python3.6/dist-packages/sklearn/utils/deprecation.py:144: FutureWarning: The sklearn.neighbors.base module is  deprecated in version 0.22 and will be removed in version 0.24. The corresponding classes / functions should instead be imported from sklearn.neighbors. Anything that cannot be imported from sklearn.neighbors is now part of the private API.\n",
            "  warnings.warn(message, FutureWarning)\n",
            "/usr/local/lib/python3.6/dist-packages/sklearn/utils/deprecation.py:144: FutureWarning: The sklearn.ensemble.bagging module is  deprecated in version 0.22 and will be removed in version 0.24. The corresponding classes / functions should instead be imported from sklearn.ensemble. Anything that cannot be imported from sklearn.ensemble is now part of the private API.\n",
            "  warnings.warn(message, FutureWarning)\n",
            "/usr/local/lib/python3.6/dist-packages/sklearn/utils/deprecation.py:144: FutureWarning: The sklearn.ensemble.base module is  deprecated in version 0.22 and will be removed in version 0.24. The corresponding classes / functions should instead be imported from sklearn.ensemble. Anything that cannot be imported from sklearn.ensemble is now part of the private API.\n",
            "  warnings.warn(message, FutureWarning)\n",
            "/usr/local/lib/python3.6/dist-packages/sklearn/utils/deprecation.py:144: FutureWarning: The sklearn.ensemble.forest module is  deprecated in version 0.22 and will be removed in version 0.24. The corresponding classes / functions should instead be imported from sklearn.ensemble. Anything that cannot be imported from sklearn.ensemble is now part of the private API.\n",
            "  warnings.warn(message, FutureWarning)\n",
            "/usr/local/lib/python3.6/dist-packages/sklearn/externals/joblib/__init__.py:15: FutureWarning: sklearn.externals.joblib is deprecated in 0.21 and will be removed in 0.23. Please import this functionality directly from joblib, which can be installed with: pip install joblib. If this warning is raised when loading pickled models, you may need to re-serialize those models with scikit-learn 0.21+.\n",
            "  warnings.warn(msg, category=FutureWarning)\n"
          ],
          "name": "stderr"
        }
      ]
    },
    {
      "cell_type": "code",
      "metadata": {
        "id": "BZa-D_iUVp6I",
        "colab_type": "code",
        "colab": {}
      },
      "source": [
        "from sklearn.metrics import f1_score\n",
        "from sklearn.linear_model import LogisticRegression\n",
        "from sklearn.model_selection import cross_val_score, cross_val_predict"
      ],
      "execution_count": 269,
      "outputs": []
    },
    {
      "cell_type": "code",
      "metadata": {
        "id": "n2DWWLZpbc_D",
        "colab_type": "code",
        "colab": {}
      },
      "source": [
        "X= train_formateado\n",
        "y = target.values"
      ],
      "execution_count": 270,
      "outputs": []
    },
    {
      "cell_type": "code",
      "metadata": {
        "id": "AjzQgMKLXTKc",
        "colab_type": "code",
        "colab": {
          "base_uri": "https://localhost:8080/",
          "height": 34
        },
        "outputId": "08add3a6-38a6-4d4b-e02b-c52929d69e43"
      },
      "source": [
        "len(train_formateado.columns)"
      ],
      "execution_count": 271,
      "outputs": [
        {
          "output_type": "execute_result",
          "data": {
            "text/plain": [
              "8"
            ]
          },
          "metadata": {
            "tags": []
          },
          "execution_count": 271
        }
      ]
    },
    {
      "cell_type": "code",
      "metadata": {
        "id": "BLgIkpGccI4m",
        "colab_type": "code",
        "colab": {
          "base_uri": "https://localhost:8080/",
          "height": 278
        },
        "outputId": "4e648890-3a68-431f-eddc-f81af91ccf28"
      },
      "source": [
        "X.info()"
      ],
      "execution_count": 272,
      "outputs": [
        {
          "output_type": "stream",
          "text": [
            "<class 'pandas.core.frame.DataFrame'>\n",
            "Int64Index: 5055 entries, 0 to 7612\n",
            "Data columns (total 8 columns):\n",
            " #   Column                  Non-Null Count  Dtype  \n",
            "---  ------                  --------------  -----  \n",
            " 0   0                       5055 non-null   float64\n",
            " 1   1                       5055 non-null   float64\n",
            " 2   2                       5055 non-null   float64\n",
            " 3   3                       5055 non-null   float64\n",
            " 4   4                       5055 non-null   float64\n",
            " 5   5                       5055 non-null   float64\n",
            " 6   mean_encoding_keyword   5055 non-null   float64\n",
            " 7   mean_encoding_location  5055 non-null   float64\n",
            "dtypes: float64(8)\n",
            "memory usage: 355.4 KB\n"
          ],
          "name": "stdout"
        }
      ]
    },
    {
      "cell_type": "code",
      "metadata": {
        "id": "DqmzfK-6UYyV",
        "colab_type": "code",
        "colab": {
          "base_uri": "https://localhost:8080/",
          "height": 52
        },
        "outputId": "7f5b7a14-c3c6-42a8-f60f-3c36e86b2716"
      },
      "source": [
        "model=LogisticRegression(class_weight='balanced')\n",
        "print(cross_val_score(model, X, y, cv=9,scoring='f1'))"
      ],
      "execution_count": 401,
      "outputs": [
        {
          "output_type": "stream",
          "text": [
            "[0.75968992 0.72762646 0.73513514 0.74242424 0.7412844  0.80160321\n",
            " 0.65800866 0.70541082 0.77244259]\n"
          ],
          "name": "stdout"
        }
      ]
    },
    {
      "cell_type": "code",
      "metadata": {
        "id": "3AMtUHpgxDxU",
        "colab_type": "code",
        "colab": {
          "base_uri": "https://localhost:8080/",
          "height": 34
        },
        "outputId": "215ec2a3-171b-4aa0-ea58-ce63dc89f4bb"
      },
      "source": [
        "#Set train\n",
        "y_pred_log = cross_val_predict(model, X, y, cv=9)\n",
        "f1score = f1_score(target, y_pred_log)\n",
        "print(f'Counts model score: {f1score*100}%')\n",
        "\n"
      ],
      "execution_count": 402,
      "outputs": [
        {
          "output_type": "stream",
          "text": [
            "Counts model score: 73.87426582553839%\n"
          ],
          "name": "stdout"
        }
      ]
    },
    {
      "cell_type": "code",
      "metadata": {
        "id": "WhAQbteKf7Gb",
        "colab_type": "code",
        "colab": {}
      },
      "source": [
        "#Xgboost\n",
        "import xgboost as xgb\n"
      ],
      "execution_count": 279,
      "outputs": []
    },
    {
      "cell_type": "code",
      "metadata": {
        "id": "ayt_K4_9f7P3",
        "colab_type": "code",
        "colab": {}
      },
      "source": [
        "from sklearn.model_selection import train_test_split\n",
        "X_train, X_test, y_train, y_test = \\\n",
        "train_test_split(X, y, test_size=0.2, random_state=123)"
      ],
      "execution_count": 280,
      "outputs": []
    },
    {
      "cell_type": "code",
      "metadata": {
        "id": "RCODIjqplHEE",
        "colab_type": "code",
        "colab": {}
      },
      "source": [
        "#xg_reg = xgb.XGBRegressor(objective ='reg:squarederror', \n",
        "#                colsample_bytree = 0.3, learning_rate = 0.03,\n",
        "#                max_depth = 40, alpha = 10, n_estimators = 1000)\n",
        "0.39\n",
        "#xg_reg = xgb.XGBRegressor(objective ='reg:squarederror', \n",
        "#                colsample_bytree = 0.3, learning_rate = 0.03,\n",
        "#                max_depth = 15, alpha = 10, n_estimators = 1000)\n",
        "0.37"
      ],
      "execution_count": null,
      "outputs": []
    },
    {
      "cell_type": "code",
      "metadata": {
        "id": "UXqj3fNLf7X9",
        "colab_type": "code",
        "colab": {}
      },
      "source": [
        "xg_reg = xgb.XGBRegressor(objective ='reg:squarederror', \n",
        "                colsample_bytree = 0.3, learning_rate = 0.01,\n",
        "                max_depth = 13, alpha = 10, n_estimators = 30000)"
      ],
      "execution_count": 325,
      "outputs": []
    },
    {
      "cell_type": "code",
      "metadata": {
        "id": "SWXr-uovgDO3",
        "colab_type": "code",
        "colab": {
          "base_uri": "https://localhost:8080/",
          "height": 139
        },
        "outputId": "f155384d-e8fe-4aba-e16f-dab1ec829a90"
      },
      "source": [
        "xg_reg.fit(X_train,y_train)"
      ],
      "execution_count": 326,
      "outputs": [
        {
          "output_type": "execute_result",
          "data": {
            "text/plain": [
              "XGBRegressor(alpha=10, base_score=0.5, booster='gbtree', colsample_bylevel=1,\n",
              "             colsample_bynode=1, colsample_bytree=0.3, gamma=0,\n",
              "             importance_type='gain', learning_rate=0.01, max_delta_step=0,\n",
              "             max_depth=13, min_child_weight=1, missing=None, n_estimators=30000,\n",
              "             n_jobs=1, nthread=None, objective='reg:squarederror',\n",
              "             random_state=0, reg_alpha=0, reg_lambda=1, scale_pos_weight=1,\n",
              "             seed=None, silent=None, subsample=1, verbosity=1)"
            ]
          },
          "metadata": {
            "tags": []
          },
          "execution_count": 326
        }
      ]
    },
    {
      "cell_type": "code",
      "metadata": {
        "id": "aK5222GDgILS",
        "colab_type": "code",
        "colab": {}
      },
      "source": [
        "preds = xg_reg.predict(X_test)"
      ],
      "execution_count": 327,
      "outputs": []
    },
    {
      "cell_type": "code",
      "metadata": {
        "id": "CrgL1cEugDVj",
        "colab_type": "code",
        "colab": {
          "base_uri": "https://localhost:8080/",
          "height": 34
        },
        "outputId": "dccf6244-bee2-4590-ce7b-62c1d8900522"
      },
      "source": [
        "rmse = np.sqrt(mean_squared_error(y_test, preds))\n",
        "print(\"RMSE: %f\" % (rmse))"
      ],
      "execution_count": 328,
      "outputs": [
        {
          "output_type": "stream",
          "text": [
            "RMSE: 0.431452\n"
          ],
          "name": "stdout"
        }
      ]
    },
    {
      "cell_type": "markdown",
      "metadata": {
        "id": "_SJc5MEHuHpq",
        "colab_type": "text"
      },
      "source": [
        "con crossvalidation"
      ]
    },
    {
      "cell_type": "code",
      "metadata": {
        "id": "5b3YDIzjuGfU",
        "colab_type": "code",
        "colab": {}
      },
      "source": [
        "data_dmatrix = xgb.DMatrix(data=train_formateado,label=target)"
      ],
      "execution_count": 350,
      "outputs": []
    },
    {
      "cell_type": "code",
      "metadata": {
        "id": "1VmFebXAuGsx",
        "colab_type": "code",
        "colab": {}
      },
      "source": [
        "params = {\"objective\":\"reg:squarederror\",'colsample_bytree': 0.01,\n",
        "          'learning_rate': 0.3, 'max_depth': 5, 'alpha': 10}\n",
        "\n",
        "cv_results = xgb.cv(dtrain=data_dmatrix, params=params, nfold=8,\n",
        "                    num_boost_round=60, early_stopping_rounds=10,\n",
        "                    metrics=\"rmse\", as_pandas=True, seed=123)"
      ],
      "execution_count": 393,
      "outputs": []
    },
    {
      "cell_type": "code",
      "metadata": {
        "id": "Jv6M3S3QuTvA",
        "colab_type": "code",
        "colab": {
          "base_uri": "https://localhost:8080/",
          "height": 206
        },
        "outputId": "1b378c26-6ae2-4f3c-bad7-5e1d506ae32d"
      },
      "source": [
        "cv_results.head()"
      ],
      "execution_count": 394,
      "outputs": [
        {
          "output_type": "execute_result",
          "data": {
            "text/html": [
              "<div>\n",
              "<style scoped>\n",
              "    .dataframe tbody tr th:only-of-type {\n",
              "        vertical-align: middle;\n",
              "    }\n",
              "\n",
              "    .dataframe tbody tr th {\n",
              "        vertical-align: top;\n",
              "    }\n",
              "\n",
              "    .dataframe thead th {\n",
              "        text-align: right;\n",
              "    }\n",
              "</style>\n",
              "<table border=\"1\" class=\"dataframe\">\n",
              "  <thead>\n",
              "    <tr style=\"text-align: right;\">\n",
              "      <th></th>\n",
              "      <th>train-rmse-mean</th>\n",
              "      <th>train-rmse-std</th>\n",
              "      <th>test-rmse-mean</th>\n",
              "      <th>test-rmse-std</th>\n",
              "    </tr>\n",
              "  </thead>\n",
              "  <tbody>\n",
              "    <tr>\n",
              "      <th>0</th>\n",
              "      <td>0.495300</td>\n",
              "      <td>0.000227</td>\n",
              "      <td>0.496773</td>\n",
              "      <td>0.001290</td>\n",
              "    </tr>\n",
              "    <tr>\n",
              "      <th>1</th>\n",
              "      <td>0.454925</td>\n",
              "      <td>0.027005</td>\n",
              "      <td>0.458961</td>\n",
              "      <td>0.026127</td>\n",
              "    </tr>\n",
              "    <tr>\n",
              "      <th>2</th>\n",
              "      <td>0.445538</td>\n",
              "      <td>0.021478</td>\n",
              "      <td>0.450352</td>\n",
              "      <td>0.021788</td>\n",
              "    </tr>\n",
              "    <tr>\n",
              "      <th>3</th>\n",
              "      <td>0.443737</td>\n",
              "      <td>0.021780</td>\n",
              "      <td>0.449511</td>\n",
              "      <td>0.021861</td>\n",
              "    </tr>\n",
              "    <tr>\n",
              "      <th>4</th>\n",
              "      <td>0.438440</td>\n",
              "      <td>0.024969</td>\n",
              "      <td>0.445854</td>\n",
              "      <td>0.024213</td>\n",
              "    </tr>\n",
              "  </tbody>\n",
              "</table>\n",
              "</div>"
            ],
            "text/plain": [
              "   train-rmse-mean  train-rmse-std  test-rmse-mean  test-rmse-std\n",
              "0         0.495300        0.000227        0.496773       0.001290\n",
              "1         0.454925        0.027005        0.458961       0.026127\n",
              "2         0.445538        0.021478        0.450352       0.021788\n",
              "3         0.443737        0.021780        0.449511       0.021861\n",
              "4         0.438440        0.024969        0.445854       0.024213"
            ]
          },
          "metadata": {
            "tags": []
          },
          "execution_count": 394
        }
      ]
    },
    {
      "cell_type": "code",
      "metadata": {
        "id": "exmvAOb8uYOL",
        "colab_type": "code",
        "colab": {
          "base_uri": "https://localhost:8080/",
          "height": 52
        },
        "outputId": "2af45629-d43c-4f74-ee16-0124c4b93c1c"
      },
      "source": [
        "print((cv_results[\"test-rmse-mean\"]).tail(1))"
      ],
      "execution_count": 395,
      "outputs": [
        {
          "output_type": "stream",
          "text": [
            "41    0.408464\n",
            "Name: test-rmse-mean, dtype: float64\n"
          ],
          "name": "stdout"
        }
      ]
    },
    {
      "cell_type": "markdown",
      "metadata": {
        "id": "s2w9ki-opdSR",
        "colab_type": "text"
      },
      "source": [
        "vamos a usar tecnicas de balanceo "
      ]
    },
    {
      "cell_type": "code",
      "metadata": {
        "id": "XSSr_Z8cpcAv",
        "colab_type": "code",
        "colab": {
          "base_uri": "https://localhost:8080/",
          "height": 260
        },
        "outputId": "27f5711c-71eb-4e50-d7b8-1cc8a86fa29a"
      },
      "source": [
        "def run_model_balanced(X_train, X_test, y_train, y_test):\n",
        "    clf = LogisticRegression(C=1.0,penalty='l2',random_state=1,solver=\"newton-cg\",class_weight=\"balanced\")\n",
        "    clf.fit(X_train, y_train)\n",
        "    print(cross_val_score(clf, X, y, cv=80,scoring='f1'))\n",
        "    \n",
        "    return clf\n",
        " \n",
        "model = run_model_balanced(X_train, X_test, y_train, y_test)"
      ],
      "execution_count": 348,
      "outputs": [
        {
          "output_type": "stream",
          "text": [
            "[0.73846154 0.58333333 0.78125    0.71428571 1.         0.88461538\n",
            " 0.86206897 0.58461538 0.66666667 0.6984127  0.42553191 0.93333333\n",
            " 0.66666667 0.87096774 0.77966102 0.65714286 0.77192982 0.78873239\n",
            " 0.6031746  0.8        0.7037037  0.8358209  0.64102564 0.8125\n",
            " 0.86153846 0.57142857 0.82758621 0.68181818 0.68965517 0.72222222\n",
            " 0.63157895 0.81355932 0.77192982 0.64285714 0.76923077 0.84\n",
            " 0.74285714 0.56603774 0.81481481 0.61016949 0.73846154 0.82539683\n",
            " 0.76056338 0.74576271 0.94545455 0.76470588 0.80851064 0.88\n",
            " 0.96296296 0.8115942  0.76363636 0.78571429 0.55813953 0.83636364\n",
            " 0.70833333 0.83636364 0.63414634 0.65384615 0.77777778 0.33962264\n",
            " 0.70175439 0.4137931  0.82142857 0.69565217 0.38596491 0.73239437\n",
            " 0.84615385 0.60869565 0.85185185 0.84       0.6        0.70588235\n",
            " 0.75       1.         0.72413793 0.70175439 0.6122449  0.7826087\n",
            " 0.78571429 0.85714286]\n"
          ],
          "name": "stdout"
        }
      ]
    },
    {
      "cell_type": "code",
      "metadata": {
        "id": "yiZ3fY_cpcLk",
        "colab_type": "code",
        "colab": {
          "base_uri": "https://localhost:8080/",
          "height": 260
        },
        "outputId": "28b148d4-9deb-42eb-9853-9251902f68b9"
      },
      "source": [
        "print(cross_val_score(model, X, y, cv=80,scoring='f1'))"
      ],
      "execution_count": 338,
      "outputs": [
        {
          "output_type": "stream",
          "text": [
            "[0.73846154 0.58333333 0.78125    0.71428571 1.         0.88461538\n",
            " 0.86206897 0.58461538 0.66666667 0.6984127  0.42553191 0.93333333\n",
            " 0.66666667 0.87096774 0.77966102 0.65714286 0.77192982 0.78873239\n",
            " 0.6031746  0.8        0.7037037  0.8358209  0.64102564 0.8125\n",
            " 0.86153846 0.57142857 0.82758621 0.68181818 0.68965517 0.72222222\n",
            " 0.63157895 0.81355932 0.77192982 0.64285714 0.76923077 0.84\n",
            " 0.74285714 0.56603774 0.81481481 0.61016949 0.73846154 0.82539683\n",
            " 0.76056338 0.74576271 0.94545455 0.76470588 0.80851064 0.88\n",
            " 0.96296296 0.8115942  0.76363636 0.78571429 0.55813953 0.83636364\n",
            " 0.70833333 0.83636364 0.63414634 0.65384615 0.77777778 0.33962264\n",
            " 0.70175439 0.4137931  0.82142857 0.69565217 0.38596491 0.73239437\n",
            " 0.84615385 0.60869565 0.85185185 0.84       0.6        0.70588235\n",
            " 0.75       1.         0.72413793 0.70175439 0.6122449  0.7826087\n",
            " 0.78571429 0.85714286]\n"
          ],
          "name": "stdout"
        }
      ]
    },
    {
      "cell_type": "code",
      "metadata": {
        "id": "6VYccb8kqzxm",
        "colab_type": "code",
        "colab": {
          "base_uri": "https://localhost:8080/",
          "height": 886
        },
        "outputId": "5cd1b75d-7042-4cd3-fe97-cd08476083a3"
      },
      "source": [
        "import matplotlib.pyplot as plt\n",
        "import seaborn as sns\n",
        " \n",
        "from sklearn.metrics import confusion_matrix\n",
        "from sklearn.metrics import classification_report\n",
        "#definimos funciona para mostrar los resultados\n",
        "def mostrar_resultados(y_test, pred_y):\n",
        "    conf_matrix = confusion_matrix(y_test, pred_y)\n",
        "    plt.figure(figsize=(12, 12))\n",
        "    sns.heatmap(conf_matrix, xticklabels='x', yticklabels='y', annot=True, fmt=\"d\");\n",
        "    plt.title(\"Confusion matrix\")\n",
        "    plt.ylabel('True class')\n",
        "    plt.xlabel('Predicted class')\n",
        "    plt.show()\n",
        "    print (classification_report(y_test, pred_y))\n",
        " \n",
        "pred_y = model.predict(X_test)\n",
        "mostrar_resultados(y_test, pred_y)"
      ],
      "execution_count": 349,
      "outputs": [
        {
          "output_type": "display_data",
          "data": {
            "image/png": "[encoded data removed]",
            "text/plain": [
              "<Figure size 864x864 with 2 Axes>"
            ]
          },
          "metadata": {
            "tags": [],
            "needs_background": "light"
          }
        },
        {
          "output_type": "stream",
          "text": [
            "              precision    recall  f1-score   support\n",
            "\n",
            "           0       0.80      0.79      0.79       553\n",
            "           1       0.75      0.76      0.76       458\n",
            "\n",
            "    accuracy                           0.78      1011\n",
            "   macro avg       0.78      0.78      0.78      1011\n",
            "weighted avg       0.78      0.78      0.78      1011\n",
            "\n"
          ],
          "name": "stdout"
        }
      ]
    },
    {
      "cell_type": "code",
      "metadata": {
        "id": "GmBIcVhon_MN",
        "colab_type": "code",
        "colab": {
          "base_uri": "https://localhost:8080/",
          "height": 69
        },
        "outputId": "2c92c343-ce54-4d31-c045-be00011769e0"
      },
      "source": [
        "target.value_counts()"
      ],
      "execution_count": 331,
      "outputs": [
        {
          "output_type": "execute_result",
          "data": {
            "text/plain": [
              "0    2799\n",
              "1    2256\n",
              "Name: target, dtype: int64"
            ]
          },
          "metadata": {
            "tags": []
          },
          "execution_count": 331
        }
      ]
    },
    {
      "cell_type": "code",
      "metadata": {
        "id": "x6vHeGfFUNiF",
        "colab_type": "code",
        "colab": {}
      },
      "source": [
        "train_tfidf RMSE: 0.375965"
      ],
      "execution_count": null,
      "outputs": []
    },
    {
      "cell_type": "code",
      "metadata": {
        "id": "W69poqb3mssH",
        "colab_type": "code",
        "colab": {}
      },
      "source": [
        "tweets_test=test_3"
      ],
      "execution_count": null,
      "outputs": []
    },
    {
      "cell_type": "code",
      "metadata": {
        "id": "oFVCUnSbtve7",
        "colab_type": "code",
        "colab": {}
      },
      "source": [
        "#tweets['clean_text'] = tweets['text'].str.lower()\n",
        "tweets_test['clean_text'] = tweets_test['text'].str.lower()\n",
        "\n",
        "def only_letters(tweet):\n",
        "    tweet = re.sub(r'http\\S*', '', tweet)\n",
        "    tweet = re.sub(r'[^a-z\\s]', '', tweet)\n",
        "    return tweet\n",
        "\n",
        "tweets_test['clean_text'] = tweets_test['clean_text'].apply(only_letters)    \n",
        "\n",
        "import nltk\n",
        "nltk.download('stopwords') \n",
        "nltk.download('punkt')\n",
        "nltk.download('wordnet')\n",
        "from nltk.tokenize import word_tokenize\n",
        "from nltk.corpus import stopwords\n",
        "from nltk.stem.wordnet import WordNetLemmatizer\n",
        "#tweets['clean_text'] = tweets['clean_text'].apply(word_tokenize)\n",
        "tweets_test['clean_text'] = tweets_test['clean_text'].apply(word_tokenize)\n",
        "from nltk.corpus import stopwords\n",
        "stop_words=set(stopwords.words(\"english\"))\n",
        "\n",
        "\n",
        "#Elimino stopwords\n",
        "def filter_stopwords(tokenized_text):\n",
        "    not_stopwords=[]\n",
        "    for w in tokenized_text:\n",
        "        if w not in stop_words:\n",
        "            not_stopwords.append(w)\n",
        "    return not_stopwords\n",
        "\n",
        "\n",
        "tweets_test['clean_text'] = tweets_test['clean_text'].apply(filter_stopwords)    \n",
        "\n",
        "#Lematización\n",
        "from nltk.stem.wordnet import WordNetLemmatizer\n",
        "lemmatizer = WordNetLemmatizer()\n",
        "def lemmatize_tweet(tweet):\n",
        "    lemmatized_words = []\n",
        "    for word in tweet:\n",
        "        lemmatized_words.append(lemmatizer.lemmatize(word))\n",
        "    return lemmatized_words\n",
        "\n",
        "tweets_test['clean_text'] = tweets_test['clean_text'].apply(lemmatize_tweet)\n"
      ],
      "execution_count": null,
      "outputs": []
    },
    {
      "cell_type": "code",
      "metadata": {
        "id": "kp76wlL-xLNM",
        "colab_type": "code",
        "colab": {}
      },
      "source": [
        "#tweets['clean_text'] = tweets['text'].str.lower()\n",
        "tweets_test['clean_text'] = tweets_test['text'].str.lower()"
      ],
      "execution_count": null,
      "outputs": []
    },
    {
      "cell_type": "code",
      "metadata": {
        "id": "Pl1gKJidxLNV",
        "colab_type": "code",
        "colab": {}
      },
      "source": [
        "def only_letters(tweet):\n",
        "    tweet = re.sub(r'http\\S*', '', tweet)\n",
        "    tweet = re.sub(r'[^a-z\\s]', '', tweet)\n",
        "    return tweet"
      ],
      "execution_count": null,
      "outputs": []
    },
    {
      "cell_type": "code",
      "metadata": {
        "id": "6gNGEmuzgj8m",
        "colab_type": "code",
        "colab": {}
      },
      "source": [
        "tweets_test['clean_text'] = tweets_test['clean_text'].apply(only_letters)"
      ],
      "execution_count": null,
      "outputs": []
    },
    {
      "cell_type": "code",
      "metadata": {
        "id": "HdOlnmkBxLNn",
        "colab_type": "code",
        "colab": {
          "base_uri": "https://localhost:8080/",
          "height": 121
        },
        "outputId": "529e6b2c-ddfc-4522-cc74-4c51f37e646e"
      },
      "source": [
        "\n",
        "import nltk\n",
        "nltk.download('stopwords') \n",
        "nltk.download('punkt')\n",
        "nltk.download('wordnet')\n",
        "from nltk.tokenize import word_tokenize\n",
        "from nltk.corpus import stopwords\n",
        "from nltk.stem.wordnet import WordNetLemmatizer\n",
        "#tweets['clean_text'] = tweets['clean_text'].apply(word_tokenize)\n",
        "tweets_test['clean_text'] = tweets_test['clean_text'].apply(word_tokenize)\n",
        "from nltk.corpus import stopwords\n",
        "stop_words=set(stopwords.words(\"english\"))"
      ],
      "execution_count": null,
      "outputs": [
        {
          "output_type": "stream",
          "text": [
            "[nltk_data] Downloading package stopwords to /root/nltk_data...\n",
            "[nltk_data]   Unzipping corpora/stopwords.zip.\n",
            "[nltk_data] Downloading package punkt to /root/nltk_data...\n",
            "[nltk_data]   Unzipping tokenizers/punkt.zip.\n",
            "[nltk_data] Downloading package wordnet to /root/nltk_data...\n",
            "[nltk_data]   Unzipping corpora/wordnet.zip.\n"
          ],
          "name": "stdout"
        }
      ]
    },
    {
      "cell_type": "code",
      "metadata": {
        "id": "RkXUcTlhxLNv",
        "colab_type": "code",
        "colab": {}
      },
      "source": [
        "#Elimino stopwords\n",
        "def filter_stopwords(tokenized_text):\n",
        "    not_stopwords=[]\n",
        "    for w in tokenized_text:\n",
        "        if w not in stop_words:\n",
        "            not_stopwords.append(w)\n",
        "    return not_stopwords"
      ],
      "execution_count": null,
      "outputs": []
    },
    {
      "cell_type": "code",
      "metadata": {
        "id": "kQKkC9ehhFO6",
        "colab_type": "code",
        "colab": {}
      },
      "source": [
        "tweets_test['clean_text'] = tweets_test['clean_text'].apply(filter_stopwords)"
      ],
      "execution_count": null,
      "outputs": []
    },
    {
      "cell_type": "code",
      "metadata": {
        "id": "a0JH-6jZxLN7",
        "colab_type": "code",
        "colab": {}
      },
      "source": [
        "#Lematización\n",
        "from nltk.stem.wordnet import WordNetLemmatizer\n",
        "lemmatizer = WordNetLemmatizer()"
      ],
      "execution_count": null,
      "outputs": []
    },
    {
      "cell_type": "code",
      "metadata": {
        "id": "W0M6JWm-xLOC",
        "colab_type": "code",
        "colab": {}
      },
      "source": [
        "def lemmatize_tweet(tweet):\n",
        "    lemmatized_words = []\n",
        "    for word in tweet:\n",
        "        lemmatized_words.append(lemmatizer.lemmatize(word))\n",
        "    return lemmatized_words"
      ],
      "execution_count": null,
      "outputs": []
    },
    {
      "cell_type": "code",
      "metadata": {
        "id": "CVjhHaXOhMsK",
        "colab_type": "code",
        "colab": {}
      },
      "source": [
        "tweets_test['clean_text'] = tweets_test['clean_text'].apply(lemmatize_tweet)"
      ],
      "execution_count": null,
      "outputs": []
    },
    {
      "cell_type": "code",
      "metadata": {
        "id": "iF5BESe0hQV_",
        "colab_type": "code",
        "colab": {}
      },
      "source": [
        "tweets_test['clean_text'] = tweets_test['clean_text'].apply(lambda text:' '.join(text))"
      ],
      "execution_count": null,
      "outputs": []
    },
    {
      "cell_type": "code",
      "metadata": {
        "id": "ywdLA2JcxLOW",
        "colab_type": "code",
        "colab": {}
      },
      "source": [
        "def find_url(text):\n",
        "    urls = re.findall(r'(https?://\\S+)', text)\n",
        "    return urls"
      ],
      "execution_count": null,
      "outputs": []
    },
    {
      "cell_type": "code",
      "metadata": {
        "id": "y7gu7JVbhU1Q",
        "colab_type": "code",
        "colab": {}
      },
      "source": [
        "tweets_test['urls']=tweets_test['text'].apply(find_url)"
      ],
      "execution_count": null,
      "outputs": []
    },
    {
      "cell_type": "code",
      "metadata": {
        "id": "QIys-F5NxLOj",
        "colab_type": "code",
        "colab": {}
      },
      "source": [
        "def add_url_to_text(clean_text, urls):\n",
        "    if urls:\n",
        "        for url in urls:\n",
        "            url_split = url.split('/')\n",
        "            return (' '.join([clean_text,url_split[0][:-1],url_split[2]]))\n",
        "    else:\n",
        "        return clean_text"
      ],
      "execution_count": null,
      "outputs": []
    },
    {
      "cell_type": "code",
      "metadata": {
        "id": "KUuXY58pxLOw",
        "colab_type": "code",
        "colab": {}
      },
      "source": [
        "tweets_test['clean_text'] = tweets_test.apply(lambda tweet: add_url_to_text(tweet['clean_text'],tweet['urls']),axis=1)"
      ],
      "execution_count": null,
      "outputs": []
    },
    {
      "cell_type": "code",
      "metadata": {
        "id": "FtyjP455CjOY",
        "colab_type": "code",
        "colab": {}
      },
      "source": [
        "def formar_csv:\n",
        "    #Set de validación\n",
        "  preds = model.predict(X_test)\n",
        "  preds = preds >= 0.5\n",
        "  preds\n",
        "  #sumision=pd.DataFrame( 1 if (preds==True) elif 0)\n",
        "  submission=pd.DataFrame( preds.astype(int) )\n",
        "  submission.columns=['target']\n",
        "  submission['id']=test_3['id']\n",
        "  df=submission[['id','target']]\n",
        "  from google.colab import files\n",
        "  df.to_csv('datacnn.csv',header=True,index=False) \n",
        "  files.download('datacnn.csv')"
      ],
      "execution_count": null,
      "outputs": []
    },
    {
      "cell_type": "code",
      "metadata": {
        "id": "5TSl5Emaoj8P",
        "colab_type": "code",
        "colab": {}
      },
      "source": [
        "\n",
        "\n",
        "\n",
        "f1score = f1_score(y_test, preds)\n",
        "print(f'F1 score: {f1score}')"
      ],
      "execution_count": null,
      "outputs": []
    },
    {
      "cell_type": "code",
      "metadata": {
        "id": "NJv_CSJmokAR",
        "colab_type": "code",
        "colab": {}
      },
      "source": [
        ""
      ],
      "execution_count": null,
      "outputs": []
    },
    {
      "cell_type": "code",
      "metadata": {
        "id": "J7E0jpUICjZL",
        "colab_type": "code",
        "colab": {}
      },
      "source": [
        "##start"
      ],
      "execution_count": null,
      "outputs": []
    },
    {
      "cell_type": "code",
      "metadata": {
        "id": "OFFcVps4xLO8",
        "colab_type": "code",
        "colab": {}
      },
      "source": [
        "clean_text = tweets['clean_text'].values\n",
        "labels = tweets['target'].values"
      ],
      "execution_count": null,
      "outputs": []
    },
    {
      "cell_type": "code",
      "metadata": {
        "id": "B6A_UPybDO40",
        "colab_type": "code",
        "colab": {}
      },
      "source": [
        ""
      ],
      "execution_count": null,
      "outputs": []
    },
    {
      "cell_type": "code",
      "metadata": {
        "id": "MmgDUurexLPB",
        "colab_type": "code",
        "colab": {}
      },
      "source": [
        "X_train, X_test, y_train, y_test = train_test_split(clean_text, labels, test_size=0.20, random_state=15)\n"
      ],
      "execution_count": null,
      "outputs": []
    },
    {
      "cell_type": "code",
      "metadata": {
        "id": "9RDbA0tkDWnP",
        "colab_type": "code",
        "colab": {}
      },
      "source": [
        "X_set_test = tweets_test['clean_text'].values\n",
        " "
      ],
      "execution_count": null,
      "outputs": []
    },
    {
      "cell_type": "code",
      "metadata": {
        "id": "WcsaJr1lxLPF",
        "colab_type": "code",
        "colab": {}
      },
      "source": [
        "#Tokenizador\n",
        "tokenizer = Tokenizer()\n",
        "tokenizer.fit_on_texts(X_train)\n",
        "vocab_size = len(tokenizer.word_index) + 1"
      ],
      "execution_count": null,
      "outputs": []
    },
    {
      "cell_type": "code",
      "metadata": {
        "id": "DoL4fLO5xLPO",
        "colab_type": "code",
        "colab": {}
      },
      "source": [
        "# A secuencia de enteros\n",
        "X_train = tokenizer.texts_to_sequences(X_train)\n",
        "X_test = tokenizer.texts_to_sequences(X_test)\n"
      ],
      "execution_count": null,
      "outputs": []
    },
    {
      "cell_type": "code",
      "metadata": {
        "id": "JYvTCgaaDmBh",
        "colab_type": "code",
        "colab": {}
      },
      "source": [
        "X_set_test = tokenizer.texts_to_sequences(X_set_test)"
      ],
      "execution_count": null,
      "outputs": []
    },
    {
      "cell_type": "code",
      "metadata": {
        "id": "MBe4gEAMxLPU",
        "colab_type": "code",
        "colab": {}
      },
      "source": [
        "# Padding al final\n",
        "maxlen = 20\n",
        "X_train = pad_sequences(X_train, padding='post', maxlen=maxlen)\n",
        "X_test = pad_sequences(X_test, padding='post', maxlen=maxlen)\n"
      ],
      "execution_count": null,
      "outputs": []
    },
    {
      "cell_type": "code",
      "metadata": {
        "id": "-pUIEADqDsC4",
        "colab_type": "code",
        "colab": {}
      },
      "source": [
        "X_set_test = pad_sequences(X_set_test, padding='post', maxlen=maxlen)"
      ],
      "execution_count": null,
      "outputs": []
    },
    {
      "cell_type": "code",
      "metadata": {
        "id": "Nl4CEtNNxLPZ",
        "colab_type": "code",
        "colab": {}
      },
      "source": [
        "# # Se carga la matriz de embeddings\n",
        "# embeddings_index = dict()\n",
        "# f = open('glove.twitter.27B.100d.txt', encoding=\"utf8\")\n",
        "# for line in f:\n",
        "#     values = line.split()\n",
        "#     word = values[0]\n",
        "#     coefs = np.asarray(values[1:], dtype='float32')\n",
        "#     embeddings_index[word] = coefs\n",
        "# f.close()\n",
        "# print('Loaded %s word vectors.' % len(embeddings_index))"
      ],
      "execution_count": null,
      "outputs": []
    },
    {
      "cell_type": "code",
      "metadata": {
        "id": "UFG4srlSxLPf",
        "colab_type": "code",
        "colab": {}
      },
      "source": [
        "# # Matriz de embedding con palabras del set de train\n",
        "# embedding_matrix = np.zeros((vocab_size, 100))\n",
        "# for word, i in tokenizer.word_index.items():\n",
        "#     embedding_vector = embeddings_index.get(word)\n",
        "#     if embedding_vector is not None:\n",
        "#         embedding_matrix[i] = embedding_vector"
      ],
      "execution_count": null,
      "outputs": []
    },
    {
      "cell_type": "code",
      "metadata": {
        "id": "8xRdIWQdxLPj",
        "colab_type": "code",
        "colab": {
          "base_uri": "https://localhost:8080/",
          "height": 558
        },
        "outputId": "e0afaaa7-e88f-41a7-86a3-d44d6e4473a2"
      },
      "source": [
        "!pip install gensim\n",
        "from gensim.models import KeyedVectors\n",
        "!wget -P /root/input/ -c \"https://s3.amazonaws.com/dl4j-distribution/GoogleNews-vectors-negative300.bin.gz\"\n",
        "EMBEDDING_FILE = '/root/input/GoogleNews-vectors-negative300.bin.gz' # from above\n"
      ],
      "execution_count": null,
      "outputs": [
        {
          "output_type": "stream",
          "text": [
            "Requirement already satisfied: gensim in /usr/local/lib/python3.6/dist-packages (3.6.0)\n",
            "Requirement already satisfied: smart-open>=1.2.1 in /usr/local/lib/python3.6/dist-packages (from gensim) (2.1.0)\n",
            "Requirement already satisfied: numpy>=1.11.3 in /usr/local/lib/python3.6/dist-packages (from gensim) (1.18.5)\n",
            "Requirement already satisfied: scipy>=0.18.1 in /usr/local/lib/python3.6/dist-packages (from gensim) (1.4.1)\n",
            "Requirement already satisfied: six>=1.5.0 in /usr/local/lib/python3.6/dist-packages (from gensim) (1.15.0)\n",
            "Requirement already satisfied: boto3 in /usr/local/lib/python3.6/dist-packages (from smart-open>=1.2.1->gensim) (1.14.24)\n",
            "Requirement already satisfied: requests in /usr/local/lib/python3.6/dist-packages (from smart-open>=1.2.1->gensim) (2.23.0)\n",
            "Requirement already satisfied: boto in /usr/local/lib/python3.6/dist-packages (from smart-open>=1.2.1->gensim) (2.49.0)\n",
            "Requirement already satisfied: jmespath<1.0.0,>=0.7.1 in /usr/local/lib/python3.6/dist-packages (from boto3->smart-open>=1.2.1->gensim) (0.10.0)\n",
            "Requirement already satisfied: s3transfer<0.4.0,>=0.3.0 in /usr/local/lib/python3.6/dist-packages (from boto3->smart-open>=1.2.1->gensim) (0.3.3)\n",
            "Requirement already satisfied: botocore<1.18.0,>=1.17.24 in /usr/local/lib/python3.6/dist-packages (from boto3->smart-open>=1.2.1->gensim) (1.17.24)\n",
            "Requirement already satisfied: idna<3,>=2.5 in /usr/local/lib/python3.6/dist-packages (from requests->smart-open>=1.2.1->gensim) (2.10)\n",
            "Requirement already satisfied: urllib3!=1.25.0,!=1.25.1,<1.26,>=1.21.1 in /usr/local/lib/python3.6/dist-packages (from requests->smart-open>=1.2.1->gensim) (1.24.3)\n",
            "Requirement already satisfied: chardet<4,>=3.0.2 in /usr/local/lib/python3.6/dist-packages (from requests->smart-open>=1.2.1->gensim) (3.0.4)\n",
            "Requirement already satisfied: certifi>=2017.4.17 in /usr/local/lib/python3.6/dist-packages (from requests->smart-open>=1.2.1->gensim) (2020.6.20)\n",
            "Requirement already satisfied: docutils<0.16,>=0.10 in /usr/local/lib/python3.6/dist-packages (from botocore<1.18.0,>=1.17.24->boto3->smart-open>=1.2.1->gensim) (0.15.2)\n",
            "Requirement already satisfied: python-dateutil<3.0.0,>=2.1 in /usr/local/lib/python3.6/dist-packages (from botocore<1.18.0,>=1.17.24->boto3->smart-open>=1.2.1->gensim) (2.8.1)\n",
            "--2020-07-29 19:33:43--  https://s3.amazonaws.com/dl4j-distribution/GoogleNews-vectors-negative300.bin.gz\n",
            "Resolving s3.amazonaws.com (s3.amazonaws.com)... 52.216.86.61\n",
            "Connecting to s3.amazonaws.com (s3.amazonaws.com)|52.216.86.61|:443... connected.\n",
            "HTTP request sent, awaiting response... 200 OK\n",
            "Length: 1647046227 (1.5G) [application/x-gzip]\n",
            "Saving to: ‘/root/input/GoogleNews-vectors-negative300.bin.gz’\n",
            "\n",
            "GoogleNews-vectors- 100%[===================>]   1.53G  24.9MB/s    in 26s     \n",
            "\n",
            "2020-07-29 19:34:09 (61.5 MB/s) - ‘/root/input/GoogleNews-vectors-negative300.bin.gz’ saved [1647046227/1647046227]\n",
            "\n"
          ],
          "name": "stdout"
        },
        {
          "output_type": "stream",
          "text": [
            "/usr/local/lib/python3.6/dist-packages/smart_open/smart_open_lib.py:254: UserWarning: This function is deprecated, use smart_open.open instead. See the migration notes for details: https://github.com/RaRe-Technologies/smart_open/blob/master/README.rst#migrating-to-the-new-open-function\n",
            "  'See the migration notes for details: %s' % _MIGRATION_NOTES_URL\n"
          ],
          "name": "stderr"
        }
      ]
    },
    {
      "cell_type": "code",
      "metadata": {
        "id": "07Y8WMK8FpXD",
        "colab_type": "code",
        "colab": {
          "base_uri": "https://localhost:8080/",
          "height": 72
        },
        "outputId": "6d720f44-b596-4281-e236-e6719300b142"
      },
      "source": [
        "word2vec = KeyedVectors.load_word2vec_format(EMBEDDING_FILE, binary=True)\n"
      ],
      "execution_count": null,
      "outputs": [
        {
          "output_type": "stream",
          "text": [
            "/usr/local/lib/python3.6/dist-packages/smart_open/smart_open_lib.py:254: UserWarning: This function is deprecated, use smart_open.open instead. See the migration notes for details: https://github.com/RaRe-Technologies/smart_open/blob/master/README.rst#migrating-to-the-new-open-function\n",
            "  'See the migration notes for details: %s' % _MIGRATION_NOTES_URL\n"
          ],
          "name": "stderr"
        }
      ]
    },
    {
      "cell_type": "code",
      "metadata": {
        "id": "e1eK01gqGcHW",
        "colab_type": "code",
        "colab": {}
      },
      "source": [
        "word_vectors=word2vec"
      ],
      "execution_count": null,
      "outputs": []
    },
    {
      "cell_type": "code",
      "metadata": {
        "id": "y2tuEbiZxLPn",
        "colab_type": "code",
        "colab": {}
      },
      "source": [
        "embedding_matrix = np.zeros((vocab_size, 300))\n",
        "for word, i in tokenizer.word_index.items():\n",
        "    try:\n",
        "        embedding_vector = word_vectors[word]\n",
        "        embedding_matrix[i] = embedding_vector\n",
        "    except KeyError:\n",
        "        continue\n",
        "\n",
        "    \n",
        "del(word_vectors)"
      ],
      "execution_count": null,
      "outputs": []
    },
    {
      "cell_type": "markdown",
      "metadata": {
        "id": "ew9rgXVYxLPt",
        "colab_type": "text"
      },
      "source": [
        "CNN"
      ]
    },
    {
      "cell_type": "code",
      "metadata": {
        "id": "UAIZv42rxLPu",
        "colab_type": "code",
        "colab": {
          "base_uri": "https://localhost:8080/",
          "height": 34
        },
        "outputId": "f2ef1525-29ee-406b-8ca2-0781dc78d71f"
      },
      "source": [
        "X_train.shape"
      ],
      "execution_count": null,
      "outputs": [
        {
          "output_type": "execute_result",
          "data": {
            "text/plain": [
              "(6090, 20)"
            ]
          },
          "metadata": {
            "tags": []
          },
          "execution_count": 111
        }
      ]
    },
    {
      "cell_type": "code",
      "metadata": {
        "id": "Ogt8zW2LxLPx",
        "colab_type": "code",
        "colab": {}
      },
      "source": [
        ""
      ],
      "execution_count": null,
      "outputs": []
    },
    {
      "cell_type": "code",
      "metadata": {
        "id": "lCUkZfuZxLP1",
        "colab_type": "code",
        "colab": {}
      },
      "source": [
        "input_shape = (X_train.shape[0],X_train.shape[1])\n",
        "model = Sequential()\n",
        "\n",
        "embedding_layer = Embedding(vocab_size, 300, weights=[embedding_matrix], input_length=maxlen , trainable=False)\n",
        "model.add(embedding_layer)\n",
        "model.add(Conv1D(512, 2, activation='relu'))\n",
        "model.add(GlobalMaxPooling1D())\n",
        "model.add(Dense(1, activation='sigmoid'))"
      ],
      "execution_count": null,
      "outputs": []
    },
    {
      "cell_type": "code",
      "metadata": {
        "id": "GOgo5YicxLP6",
        "colab_type": "code",
        "colab": {}
      },
      "source": [
        "model.compile(optimizer='adam', loss='binary_crossentropy', metrics=['accuracy'])"
      ],
      "execution_count": null,
      "outputs": []
    },
    {
      "cell_type": "code",
      "metadata": {
        "scrolled": true,
        "id": "NfGBNk5ExLQA",
        "colab_type": "code",
        "colab": {
          "base_uri": "https://localhost:8080/",
          "height": 312
        },
        "outputId": "b4ec7c2b-a6e3-4fb4-c2b2-850578c600d0"
      },
      "source": [
        "print(model.summary())"
      ],
      "execution_count": null,
      "outputs": [
        {
          "output_type": "stream",
          "text": [
            "Model: \"sequential_3\"\n",
            "_________________________________________________________________\n",
            "Layer (type)                 Output Shape              Param #   \n",
            "=================================================================\n",
            "embedding_3 (Embedding)      (None, 20, 300)           5857200   \n",
            "_________________________________________________________________\n",
            "conv1d_2 (Conv1D)            (None, 19, 512)           307712    \n",
            "_________________________________________________________________\n",
            "global_max_pooling1d_2 (Glob (None, 512)               0         \n",
            "_________________________________________________________________\n",
            "dense_2 (Dense)              (None, 1)                 513       \n",
            "=================================================================\n",
            "Total params: 6,165,425\n",
            "Trainable params: 308,225\n",
            "Non-trainable params: 5,857,200\n",
            "_________________________________________________________________\n",
            "None\n"
          ],
          "name": "stdout"
        }
      ]
    },
    {
      "cell_type": "code",
      "metadata": {
        "id": "m7BaJnV-xLQE",
        "colab_type": "code",
        "colab": {
          "base_uri": "https://localhost:8080/",
          "height": 156
        },
        "outputId": "b4d70267-b943-4992-bb6e-cdf93cfa6be0"
      },
      "source": [
        "history = model.fit(X_train, y_train, batch_size=64, epochs=3, verbose=1, validation_split=0.2)\n",
        "\n",
        "loss, accuracy = model.evaluate(X_test, y_test, verbose=1)"
      ],
      "execution_count": null,
      "outputs": [
        {
          "output_type": "stream",
          "text": [
            "Train on 4872 samples, validate on 1218 samples\n",
            "Epoch 1/3\n",
            "4872/4872 [==============================] - 3s 708us/step - loss: 0.4932 - accuracy: 0.7736 - val_loss: 0.4499 - val_accuracy: 0.8079\n",
            "Epoch 2/3\n",
            "4872/4872 [==============================] - 3s 696us/step - loss: 0.3747 - accuracy: 0.8450 - val_loss: 0.4247 - val_accuracy: 0.8186\n",
            "Epoch 3/3\n",
            "4872/4872 [==============================] - 3s 699us/step - loss: 0.3178 - accuracy: 0.8752 - val_loss: 0.4390 - val_accuracy: 0.8021\n",
            "1523/1523 [==============================] - 0s 280us/step\n"
          ],
          "name": "stdout"
        }
      ]
    },
    {
      "cell_type": "code",
      "metadata": {
        "id": "kElSByV2xLQJ",
        "colab_type": "code",
        "colab": {
          "base_uri": "https://localhost:8080/",
          "height": 52
        },
        "outputId": "64af2f02-4e7f-43ee-9078-1ddd9b2d8a07"
      },
      "source": [
        "print(f'Loss: {loss}')\n",
        "print(f'Accuracy: {accuracy}')"
      ],
      "execution_count": null,
      "outputs": [
        {
          "output_type": "stream",
          "text": [
            "Loss: 0.44108236546353613\n",
            "Accuracy: 0.7957977652549744\n"
          ],
          "name": "stdout"
        }
      ]
    },
    {
      "cell_type": "code",
      "metadata": {
        "id": "TqV9xovwxLQO",
        "colab_type": "code",
        "colab": {
          "base_uri": "https://localhost:8080/",
          "height": 282
        },
        "outputId": "25beb53f-aa4f-499f-e74d-5fc77ba11940"
      },
      "source": [
        "plt.style.use('ggplot')\n",
        "\n",
        "def plot_history(history):\n",
        "    acc = history.history['accuracy']\n",
        "    val_acc = history.history['val_accuracy']\n",
        "    loss = history.history['loss']\n",
        "    val_loss = history.history['val_loss']\n",
        "    x = range(1, len(acc) + 1)\n",
        "    \n",
        "    plt.figure(figsize=(12, 4))\n",
        "    plt.subplot(1, 2, 1)\n",
        "    plt.plot(x, acc, 'b', label='Training acc')\n",
        "    plt.plot(x, val_acc, 'r', label='Validation acc')\n",
        "    plt.title('Accuracy')\n",
        "    plt.legend()\n",
        "    plt.subplot(1, 2, 2)\n",
        "    plt.plot(x, loss, 'b', label='Training loss')\n",
        "    plt.plot(x, val_loss, 'r', label='Validation loss')\n",
        "    plt.title('Loss')\n",
        "    plt.legend()\n",
        "\n",
        "plot_history(history)"
      ],
      "execution_count": null,
      "outputs": [
        {
          "output_type": "display_data",
          "data": {
            "image/png": "[encoded data removed]",
            "text/plain": [
              "<Figure size 864x288 with 2 Axes>"
            ]
          },
          "metadata": {
            "tags": []
          }
        }
      ]
    },
    {
      "cell_type": "code",
      "metadata": {
        "id": "9hSefeAwxLQU",
        "colab_type": "code",
        "colab": {
          "base_uri": "https://localhost:8080/",
          "height": 139
        },
        "outputId": "cb7f3f45-0212-4c2c-9440-858a7782cbec"
      },
      "source": [
        "#Set de validación\n",
        "preds = model.predict(X_test)\n",
        "preds = preds >= 0.5\n",
        "preds"
      ],
      "execution_count": null,
      "outputs": [
        {
          "output_type": "execute_result",
          "data": {
            "text/plain": [
              "array([[False],\n",
              "       [ True],\n",
              "       [False],\n",
              "       ...,\n",
              "       [False],\n",
              "       [False],\n",
              "       [False]])"
            ]
          },
          "metadata": {
            "tags": []
          },
          "execution_count": 118
        }
      ]
    },
    {
      "cell_type": "code",
      "metadata": {
        "id": "4BcoQJDhncPR",
        "colab_type": "code",
        "colab": {}
      },
      "source": [
        "def formar_csv:\n",
        "    #Set de validación\n",
        "  preds = model.predict(X_test)\n",
        "  preds = preds >= 0.5\n",
        "  preds\n",
        "  sumision=pd.DataFrame( 1 if (preds==True) elif 0)\n",
        "  submission=pd.DataFrame( preds.astype(int) )\n",
        "  submission.columns=['target']\n",
        "  submission['id']=test_3['id']\n",
        "  df=submission[['id','target']]\n",
        "  from google.colab import files\n",
        "  df.to_csv('datacnn.csv',header=True,index=False) \n",
        "  files.download('datacnn.csv')\n",
        "\n",
        "\n",
        "f1score = f1_score(y_test, preds)\n",
        "print(f'F1 score: {f1score}')"
      ],
      "execution_count": null,
      "outputs": []
    },
    {
      "cell_type": "code",
      "metadata": {
        "id": "BD9pOZqgxLQY",
        "colab_type": "code",
        "colab": {
          "base_uri": "https://localhost:8080/",
          "height": 34
        },
        "outputId": "03cabbcb-b286-4164-c837-396c2f7b7e68"
      },
      "source": [
        "f1score = f1_score(y_test, preds)\n",
        "print(f'F1 score: {f1score}')"
      ],
      "execution_count": null,
      "outputs": [
        {
          "output_type": "stream",
          "text": [
            "F1 score: 0.7638572513287774\n"
          ],
          "name": "stdout"
        }
      ]
    },
    {
      "cell_type": "code",
      "metadata": {
        "id": "VOATTJ_PxLQc",
        "colab_type": "code",
        "colab": {
          "base_uri": "https://localhost:8080/",
          "height": 133
        },
        "outputId": "6ff30fc5-e8e1-4f40-bee7-bfdb378bf645"
      },
      "source": [
        "sumision=pd.DataFrame( 1 if (preds==True) elif 0)"
      ],
      "execution_count": null,
      "outputs": [
        {
          "output_type": "error",
          "ename": "SyntaxError",
          "evalue": "ignored",
          "traceback": [
            "\u001b[0;36m  File \u001b[0;32m\"<ipython-input-131-57fb9e56ee57>\"\u001b[0;36m, line \u001b[0;32m1\u001b[0m\n\u001b[0;31m    sumision=pd.DataFrame( 1 if (preds==True) elif 0)\u001b[0m\n\u001b[0m                                                 ^\u001b[0m\n\u001b[0;31mSyntaxError\u001b[0m\u001b[0;31m:\u001b[0m invalid syntax\n"
          ]
        }
      ]
    },
    {
      "cell_type": "code",
      "metadata": {
        "id": "48IrJxOGlzZt",
        "colab_type": "code",
        "colab": {}
      },
      "source": [
        "submission=pd.DataFrame( preds.astype(int) )\n",
        "submission.columns=['target']"
      ],
      "execution_count": null,
      "outputs": []
    },
    {
      "cell_type": "code",
      "metadata": {
        "id": "h-GXmwmZqWfF",
        "colab_type": "code",
        "colab": {
          "base_uri": "https://localhost:8080/",
          "height": 34
        },
        "outputId": "3aef1b83-b7b3-45eb-dbd0-38f480070644"
      },
      "source": [
        "len(submission)"
      ],
      "execution_count": null,
      "outputs": [
        {
          "output_type": "execute_result",
          "data": {
            "text/plain": [
              "3263"
            ]
          },
          "metadata": {
            "tags": []
          },
          "execution_count": 154
        }
      ]
    },
    {
      "cell_type": "code",
      "metadata": {
        "id": "IDZeJCTHqoRS",
        "colab_type": "code",
        "colab": {}
      },
      "source": [
        "submission['id']=test_3['id']"
      ],
      "execution_count": null,
      "outputs": []
    },
    {
      "cell_type": "code",
      "metadata": {
        "id": "GFAyuE1UrJQJ",
        "colab_type": "code",
        "colab": {
          "base_uri": "https://localhost:8080/",
          "height": 34
        },
        "outputId": "01020295-1448-43d0-c050-354295d5ed7f"
      },
      "source": [
        "df=submission[['id','target']]\n",
        "df.shape"
      ],
      "execution_count": null,
      "outputs": [
        {
          "output_type": "execute_result",
          "data": {
            "text/plain": [
              "(3263, 2)"
            ]
          },
          "metadata": {
            "tags": []
          },
          "execution_count": 165
        }
      ]
    },
    {
      "cell_type": "code",
      "metadata": {
        "id": "7Qm7ZqeOmWyx",
        "colab_type": "code",
        "colab": {
          "base_uri": "https://localhost:8080/",
          "height": 17
        },
        "outputId": "34062f4a-5e87-4534-ea98-679e597602e4"
      },
      "source": [
        "from google.colab import files\n",
        "df.to_csv('datacnn.csv',header=True,index=False) \n",
        "files.download('datacnn.csv')"
      ],
      "execution_count": null,
      "outputs": [
        {
          "output_type": "display_data",
          "data": {
            "application/javascript": [
              "\n",
              "    async function download(id, filename, size) {\n",
              "      if (!google.colab.kernel.accessAllowed) {\n",
              "        return;\n",
              "      }\n",
              "      const div = document.createElement('div');\n",
              "      const label = document.createElement('label');\n",
              "      label.textContent = `Downloading \"${filename}\": `;\n",
              "      div.appendChild(label);\n",
              "      const progress = document.createElement('progress');\n",
              "      progress.max = size;\n",
              "      div.appendChild(progress);\n",
              "      document.body.appendChild(div);\n",
              "\n",
              "      const buffers = [];\n",
              "      let downloaded = 0;\n",
              "\n",
              "      const channel = await google.colab.kernel.comms.open(id);\n",
              "      // Send a message to notify the kernel that we're ready.\n",
              "      channel.send({})\n",
              "\n",
              "      for await (const message of channel.messages) {\n",
              "        // Send a message to notify the kernel that we're ready.\n",
              "        channel.send({})\n",
              "        if (message.buffers) {\n",
              "          for (const buffer of message.buffers) {\n",
              "            buffers.push(buffer);\n",
              "            downloaded += buffer.byteLength;\n",
              "            progress.value = downloaded;\n",
              "          }\n",
              "        }\n",
              "      }\n",
              "      const blob = new Blob(buffers, {type: 'application/binary'});\n",
              "      const a = document.createElement('a');\n",
              "      a.href = window.URL.createObjectURL(blob);\n",
              "      a.download = filename;\n",
              "      div.appendChild(a);\n",
              "      a.click();\n",
              "      div.remove();\n",
              "    }\n",
              "  "
            ],
            "text/plain": [
              "<IPython.core.display.Javascript object>"
            ]
          },
          "metadata": {
            "tags": []
          }
        },
        {
          "output_type": "display_data",
          "data": {
            "application/javascript": [
              "download(\"download_d64d489b-3631-4930-bce1-d20e5df3515c\", \"datacnn.csv\", 22746)"
            ],
            "text/plain": [
              "<IPython.core.display.Javascript object>"
            ]
          },
          "metadata": {
            "tags": []
          }
        }
      ]
    },
    {
      "cell_type": "code",
      "metadata": {
        "id": "d92h0xYVmIPw",
        "colab_type": "code",
        "colab": {}
      },
      "source": [
        "submission['id'] = tweets_test['id']"
      ],
      "execution_count": null,
      "outputs": []
    },
    {
      "cell_type": "code",
      "metadata": {
        "id": "xAWLhBC-xLQf",
        "colab_type": "code",
        "colab": {}
      },
      "source": [
        "submission=submission[['id','target']]"
      ],
      "execution_count": null,
      "outputs": []
    },
    {
      "cell_type": "code",
      "metadata": {
        "id": "yoUFO4WOxLQi",
        "colab_type": "code",
        "colab": {
          "base_uri": "https://localhost:8080/",
          "height": 175
        },
        "outputId": "38516fc5-a0d0-482a-966a-36a21075307c"
      },
      "source": [
        "submission.head(4)"
      ],
      "execution_count": null,
      "outputs": [
        {
          "output_type": "execute_result",
          "data": {
            "text/html": [
              "<div>\n",
              "<style scoped>\n",
              "    .dataframe tbody tr th:only-of-type {\n",
              "        vertical-align: middle;\n",
              "    }\n",
              "\n",
              "    .dataframe tbody tr th {\n",
              "        vertical-align: top;\n",
              "    }\n",
              "\n",
              "    .dataframe thead th {\n",
              "        text-align: right;\n",
              "    }\n",
              "</style>\n",
              "<table border=\"1\" class=\"dataframe\">\n",
              "  <thead>\n",
              "    <tr style=\"text-align: right;\">\n",
              "      <th></th>\n",
              "      <th>id</th>\n",
              "      <th>target</th>\n",
              "    </tr>\n",
              "  </thead>\n",
              "  <tbody>\n",
              "    <tr>\n",
              "      <th>0</th>\n",
              "      <td>46</td>\n",
              "      <td>0</td>\n",
              "    </tr>\n",
              "    <tr>\n",
              "      <th>1</th>\n",
              "      <td>47</td>\n",
              "      <td>1</td>\n",
              "    </tr>\n",
              "    <tr>\n",
              "      <th>2</th>\n",
              "      <td>51</td>\n",
              "      <td>0</td>\n",
              "    </tr>\n",
              "    <tr>\n",
              "      <th>3</th>\n",
              "      <td>58</td>\n",
              "      <td>0</td>\n",
              "    </tr>\n",
              "  </tbody>\n",
              "</table>\n",
              "</div>"
            ],
            "text/plain": [
              "   id  target\n",
              "0  46       0\n",
              "1  47       1\n",
              "2  51       0\n",
              "3  58       0"
            ]
          },
          "metadata": {
            "tags": []
          },
          "execution_count": 143
        }
      ]
    },
    {
      "cell_type": "code",
      "metadata": {
        "id": "UQrCYl5rn_2r",
        "colab_type": "code",
        "colab": {
          "base_uri": "https://localhost:8080/",
          "height": 17
        },
        "outputId": "161c9d0d-21e3-4172-85fe-350223a96db2"
      },
      "source": [
        "from google.colab import files\n",
        "submission.to_csv('datacnn.csv',header=True,index=False) \n",
        "files.download('datacnn.csv')"
      ],
      "execution_count": null,
      "outputs": [
        {
          "output_type": "display_data",
          "data": {
            "application/javascript": [
              "\n",
              "    async function download(id, filename, size) {\n",
              "      if (!google.colab.kernel.accessAllowed) {\n",
              "        return;\n",
              "      }\n",
              "      const div = document.createElement('div');\n",
              "      const label = document.createElement('label');\n",
              "      label.textContent = `Downloading \"${filename}\": `;\n",
              "      div.appendChild(label);\n",
              "      const progress = document.createElement('progress');\n",
              "      progress.max = size;\n",
              "      div.appendChild(progress);\n",
              "      document.body.appendChild(div);\n",
              "\n",
              "      const buffers = [];\n",
              "      let downloaded = 0;\n",
              "\n",
              "      const channel = await google.colab.kernel.comms.open(id);\n",
              "      // Send a message to notify the kernel that we're ready.\n",
              "      channel.send({})\n",
              "\n",
              "      for await (const message of channel.messages) {\n",
              "        // Send a message to notify the kernel that we're ready.\n",
              "        channel.send({})\n",
              "        if (message.buffers) {\n",
              "          for (const buffer of message.buffers) {\n",
              "            buffers.push(buffer);\n",
              "            downloaded += buffer.byteLength;\n",
              "            progress.value = downloaded;\n",
              "          }\n",
              "        }\n",
              "      }\n",
              "      const blob = new Blob(buffers, {type: 'application/binary'});\n",
              "      const a = document.createElement('a');\n",
              "      a.href = window.URL.createObjectURL(blob);\n",
              "      a.download = filename;\n",
              "      div.appendChild(a);\n",
              "      a.click();\n",
              "      div.remove();\n",
              "    }\n",
              "  "
            ],
            "text/plain": [
              "<IPython.core.display.Javascript object>"
            ]
          },
          "metadata": {
            "tags": []
          }
        },
        {
          "output_type": "display_data",
          "data": {
            "application/javascript": [
              "download(\"download_e02a2210-478e-413a-8ae4-c413617f0497\", \"datacnn.csv\", 10467)"
            ],
            "text/plain": [
              "<IPython.core.display.Javascript object>"
            ]
          },
          "metadata": {
            "tags": []
          }
        }
      ]
    },
    {
      "cell_type": "code",
      "metadata": {
        "id": "4iB0cGVOpD31",
        "colab_type": "code",
        "colab": {
          "base_uri": "https://localhost:8080/",
          "height": 69
        },
        "outputId": "817e3fa7-2213-4deb-dad4-62cded7fcd0b"
      },
      "source": [
        "submission.count()"
      ],
      "execution_count": null,
      "outputs": [
        {
          "output_type": "execute_result",
          "data": {
            "text/plain": [
              "id        1523\n",
              "target    1523\n",
              "dtype: int64"
            ]
          },
          "metadata": {
            "tags": []
          },
          "execution_count": 145
        }
      ]
    },
    {
      "cell_type": "code",
      "metadata": {
        "id": "E-PKFR-1xLQl",
        "colab_type": "code",
        "colab": {}
      },
      "source": [
        "submission.to_csv(path_or_buf='submissionxgb.csv',header=True,index=False)"
      ],
      "execution_count": null,
      "outputs": []
    },
    {
      "cell_type": "code",
      "metadata": {
        "id": "K9nVml32xLQo",
        "colab_type": "code",
        "colab": {}
      },
      "source": [
        ""
      ],
      "execution_count": null,
      "outputs": []
    },
    {
      "cell_type": "code",
      "metadata": {
        "id": "0rLZ3kPIxLQs",
        "colab_type": "code",
        "colab": {
          "base_uri": "https://localhost:8080/",
          "height": 139
        },
        "outputId": "9fa2a3ed-21e9-4596-93cb-1b5fda128838"
      },
      "source": [
        "#Set de test\n",
        "preds = model.predict(X_set_test)\n",
        "preds = (preds >= 0.5).astype(int)\n",
        "preds"
      ],
      "execution_count": null,
      "outputs": [
        {
          "output_type": "execute_result",
          "data": {
            "text/plain": [
              "array([[1],\n",
              "       [0],\n",
              "       [1],\n",
              "       ...,\n",
              "       [1],\n",
              "       [1],\n",
              "       [1]])"
            ]
          },
          "metadata": {
            "tags": []
          },
          "execution_count": 146
        }
      ]
    },
    {
      "cell_type": "code",
      "metadata": {
        "id": "5opVYKN8pNsF",
        "colab_type": "code",
        "colab": {
          "base_uri": "https://localhost:8080/",
          "height": 34
        },
        "outputId": "758872c9-c76d-474c-86bd-645ee76781cb"
      },
      "source": [
        "len(preds)"
      ],
      "execution_count": null,
      "outputs": [
        {
          "output_type": "execute_result",
          "data": {
            "text/plain": [
              "3263"
            ]
          },
          "metadata": {
            "tags": []
          },
          "execution_count": 148
        }
      ]
    },
    {
      "cell_type": "code",
      "metadata": {
        "id": "gLO-kQMcxLQx",
        "colab_type": "code",
        "colab": {},
        "outputId": "263b9072-9351-4864-caf8-ff02566d0040"
      },
      "source": [
        "preds.shape"
      ],
      "execution_count": null,
      "outputs": [
        {
          "output_type": "execute_result",
          "data": {
            "text/plain": [
              "(3263, 1)"
            ]
          },
          "metadata": {
            "tags": []
          },
          "execution_count": 93
        }
      ]
    },
    {
      "cell_type": "code",
      "metadata": {
        "id": "5cyU7zCXxLQ0",
        "colab_type": "code",
        "colab": {}
      },
      "source": [
        "tweets_test['target'] = preds\n",
        "submission = tweets_test.loc[:,['id','target']]\n",
        "submission.to_csv(path_or_buf='submissioncnnw2v.csv',header=True,index=False)"
      ],
      "execution_count": null,
      "outputs": []
    },
    {
      "cell_type": "code",
      "metadata": {
        "id": "RKbVU3U-xLQ7",
        "colab_type": "code",
        "colab": {
          "base_uri": "https://localhost:8080/",
          "height": 34
        },
        "outputId": "8fb46eef-f45b-4cc8-9616-bf52dfae1ac6"
      },
      "source": [
        "len(submission)"
      ],
      "execution_count": null,
      "outputs": [
        {
          "output_type": "execute_result",
          "data": {
            "text/plain": [
              "1523"
            ]
          },
          "metadata": {
            "tags": []
          },
          "execution_count": 152
        }
      ]
    },
    {
      "cell_type": "code",
      "metadata": {
        "id": "7e1v2wyJxLQ-",
        "colab_type": "code",
        "colab": {}
      },
      "source": [
        "#Promedio\n",
        "preds_xgb = pd.read_csv('submissionxgb.csv')['target']\n",
        "preds_tfidf = pd.read_csv('submission.csv')['target']"
      ],
      "execution_count": null,
      "outputs": []
    },
    {
      "cell_type": "code",
      "metadata": {
        "id": "lZ103eSnxLRB",
        "colab_type": "code",
        "colab": {}
      },
      "source": [
        "avg = (tweets_test['target'] + preds_tfidf + preds_xgb)/3\n",
        "avg = (avg > 0.5).astype(int)"
      ],
      "execution_count": null,
      "outputs": []
    },
    {
      "cell_type": "code",
      "metadata": {
        "id": "m2ubIEaexLRE",
        "colab_type": "code",
        "colab": {}
      },
      "source": [
        "tweets_test['target'] = avg\n",
        "submission = tweets_test.loc[:,['id','target']]\n",
        "submission.to_csv(path_or_buf='submissionavgcnnw2vtfidfxgb.csv',header=True,index=False)"
      ],
      "execution_count": null,
      "outputs": []
    },
    {
      "cell_type": "code",
      "metadata": {
        "id": "7utVpTx5xLRI",
        "colab_type": "code",
        "colab": {}
      },
      "source": [
        ""
      ],
      "execution_count": null,
      "outputs": []
    }
  ]
}
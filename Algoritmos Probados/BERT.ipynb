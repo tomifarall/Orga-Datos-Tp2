{
 "cells": [
  {
   "cell_type": "code",
   "execution_count": 2,
   "metadata": {},
   "outputs": [],
   "source": [
    "#!pip install bert-for-tf2\n",
    "#!pip install sentencepiece\n",
    "\n",
    "import numpy as np\n",
    "import pandas as pd\n",
    "\n",
    "from sklearn.model_selection import train_test_split\n",
    "\n",
    "import tensorflow as tf\n",
    "\n",
    "from numpy import loadtxt\n",
    "\n",
    "import tensorflow.keras.backend as K \n",
    "\n",
    "from tensorflow.keras.optimizers import Adam\n",
    "from tensorflow.keras.models import Model\n",
    "from tensorflow.keras import regularizers\n",
    "from tensorflow.keras.callbacks import ModelCheckpoint\n",
    "from tensorflow.keras.utils import to_categorical\n",
    "import tensorflow.keras.backend as K"
   ]
  },
  {
   "cell_type": "code",
   "execution_count": 3,
   "metadata": {},
   "outputs": [],
   "source": [
    "from sklearn.model_selection import train_test_split\n",
    "from sklearn.linear_model import LogisticRegression\n",
    "from sklearn.model_selection import GridSearchCV\n",
    "from sklearn.model_selection import cross_val_score\n",
    "from sklearn.preprocessing import StandardScaler"
   ]
  },
  {
   "cell_type": "code",
   "execution_count": 4,
   "metadata": {},
   "outputs": [],
   "source": [
    "import numpy as np\n",
    "import pandas as pd\n",
    "import string\n",
    "\n",
    "import transformers as ppb\n",
    "import torch\n",
    "\n",
    "from sklearn.model_selection import train_test_split\n",
    "from sklearn.preprocessing import StandardScaler\n",
    "from sklearn.metrics import accuracy_score, confusion_matrix, f1_score\n",
    "from sklearn.model_selection import GridSearchCV\n",
    "from sklearn.model_selection import cross_val_score\n",
    "\n",
    "import tensorflow as tf\n",
    "from tensorflow import keras\n",
    "from tensorflow.keras.layers import Dense, Input, Dropout, Flatten"
   ]
  },
  {
   "cell_type": "code",
   "execution_count": 5,
   "metadata": {},
   "outputs": [],
   "source": [
    "import nltk\n",
    "from nltk.tokenize import word_tokenize\n",
    "from nltk.tokenize import PunktSentenceTokenizer\n",
    "from nltk.corpus import stopwords\n",
    "from nltk.stem.wordnet import WordNetLemmatizer\n",
    "import re as re"
   ]
  },
  {
   "cell_type": "markdown",
   "metadata": {},
   "source": []
  },
  {
   "cell_type": "code",
   "execution_count": 6,
   "metadata": {},
   "outputs": [],
   "source": [
    "train_data = pd.read_csv(\"train.csv\")\n",
    "test_data = pd.read_csv(\"test.csv\")"
   ]
  },
  {
   "cell_type": "code",
   "execution_count": 7,
   "metadata": {},
   "outputs": [],
   "source": [
    "train_data['keyword'].fillna('no keyword', inplace = True) \n",
    "train_data['keyword'] = train_data['keyword'].str.replace('%20', ' ')\n",
    "train_data['location'].fillna('no location', inplace = True)\n",
    "train_data.drop(['id'],1,inplace = True)"
   ]
  },
  {
   "cell_type": "code",
   "execution_count": 8,
   "metadata": {},
   "outputs": [],
   "source": [
    "test_data['keyword'].fillna('no keyword', inplace = True)\n",
    "test_data['keyword'] = train_data['keyword'].str.replace('%20', ' ')\n",
    "test_data['location'].fillna('no location', inplace = True)"
   ]
  },
  {
   "cell_type": "code",
   "execution_count": 9,
   "metadata": {},
   "outputs": [],
   "source": [
    "#FUNCIONES UTILES\n",
    "\n",
    "def only_letters(tweet):\n",
    "    tweet = re.sub(r'http\\S*', '', tweet)\n",
    "    tweet = re.sub(r'[^a-z\\s]', '', tweet)\n",
    "    return tweet\n",
    "\n",
    "stop_words=set(stopwords.words(\"english\"))\n",
    "\n",
    "def filter_stopwords(tokenized_text):\n",
    "    filtered_words=[]\n",
    "    for w in tokenized_text:\n",
    "        if w not in stop_words:\n",
    "            filtered_words.append(w)\n",
    "    return filtered_words\n",
    "\n",
    "lemmatizer = WordNetLemmatizer()\n",
    "\n",
    "def lemmatize_tweet(tweet):\n",
    "    lemmatized_words = []\n",
    "    for word in tweet:\n",
    "        lemmatized_words.append(lemmatizer.lemmatize(word))\n",
    "    return lemmatized_words\n",
    "\n",
    "def transform_to_text(tweet_words):\n",
    "    return \" \".join(tweet_words)\n",
    "\n",
    "custom_sent_tokenizer = PunktSentenceTokenizer()\n",
    "\n",
    "def process_content(sentence):\n",
    "    tokenized = custom_sent_tokenizer.tokenize(sentence)\n",
    "    words_tagged = []\n",
    "    for i in tokenized:\n",
    "        words = nltk.word_tokenize(i)\n",
    "        tagged = nltk.pos_tag(words)\n",
    "        for word in tagged:\n",
    "            words_tagged.append(word)\n",
    "            \n",
    "    return words_tagged\n",
    "\n",
    "#Cleaning text\n",
    "\n",
    "train_data['clean_text'] = train_data['text'].str.lower()\n",
    "test_data['clean_text'] = test_data['text'].str.lower()\n",
    "\n",
    "train_data['clean_text'] = train_data['clean_text'].apply(only_letters)\n",
    "test_data['clean_text'] = test_data['clean_text'].apply(only_letters)   \n",
    "\n",
    "#Tokenización\n",
    "\n",
    "train_data['clean_text'] = train_data['clean_text'].apply(word_tokenize)\n",
    "test_data['clean_text'] = test_data['clean_text'].apply(word_tokenize)\n",
    "\n",
    "#Remove stopwords\n",
    "\n",
    "train_data['clean_text'] = train_data['clean_text'].apply(filter_stopwords)\n",
    "test_data['clean_text'] = test_data['clean_text'].apply(filter_stopwords)\n",
    "\n",
    "#Lemmatization                                                                       \n",
    "\n",
    "train_data['clean_text'] = train_data['clean_text'].apply(lemmatize_tweet)\n",
    "test_data['clean_text'] = test_data['clean_text'].apply(lemmatize_tweet)\n",
    "\n",
    "#Transform to text\n",
    "train_data['clean_text'] = train_data['clean_text'].apply(transform_to_text)\n",
    "test_data['clean_text'] = test_data['clean_text'].apply(transform_to_text)\n",
    "\n",
    "test_data\n",
    "#Part of speech tagging\n",
    "\n",
    "train_data['tagged_text']= train_data['text'].apply(process_content)\n",
    "train_data['tagged_clean_text']= train_data['clean_text'].apply(process_content)\n",
    "\n",
    "test_data['tagged_text']= test_data['text'].apply(process_content)\n",
    "test_data['tagged_clean_text']= test_data['clean_text'].apply(process_content)"
   ]
  },
  {
   "cell_type": "code",
   "execution_count": 10,
   "metadata": {},
   "outputs": [],
   "source": [
    "def count_Nouns(list):\n",
    "    nouns = 0\n",
    "    for word,tag in list:\n",
    "        if tag[0] == 'N':\n",
    "            nouns += 1\n",
    "        else:\n",
    "            continue\n",
    "    return nouns\n",
    "\n",
    "def count_Adjetives(list):\n",
    "    adjetives = 0\n",
    "    for word,tag in list:\n",
    "        if tag[0] == 'J':\n",
    "            adjetives += 1\n",
    "        else:\n",
    "            continue\n",
    "    return adjetives\n",
    "\n",
    "def count_Verbs(list):\n",
    "    verbs = 0\n",
    "    for word,tag in list:\n",
    "        if tag[0] == 'V':\n",
    "            verbs += 1\n",
    "        else:\n",
    "            continue\n",
    "    return verbs \n",
    "\n",
    "\n",
    "# word_count\n",
    "train_data['word_count'] = train_data['text'].apply(lambda x: len(str(x).split()))\n",
    "test_data['word_count'] = test_data['text'].apply(lambda x: len(str(x).split()))\n",
    "\n",
    "# unique_word_count\n",
    "train_data['unique_word_count'] = train_data['text'].apply(lambda x: len(set(str(x).split())))\n",
    "test_data['unique_word_count'] = test_data['text'].apply(lambda x: len(set(str(x).split())))\n",
    "\n",
    "# stop_word_count\n",
    "train_data['stop_word_count'] = train_data['text'].apply(lambda x: len([w for w in str(x).lower().split() if w in stop_words]))\n",
    "test_data['stop_word_count'] = test_data['text'].apply(lambda x: len([w for w in str(x).lower().split() if w in stop_words]))\n",
    "\n",
    "# url_count\n",
    "train_data['url_count'] = train_data['text'].apply(lambda x: len([w for w in str(x).lower().split() if 'http' in w or 'https' in w]))\n",
    "test_data['url_count'] = test_data['text'].apply(lambda x: len([w for w in str(x).lower().split() if 'http' in w or 'https' in w]))\n",
    "\n",
    "# mean_word_length\n",
    "train_data['mean_word_length'] = train_data['text'].apply(lambda x: np.mean([len(w) for w in str(x).split()]))\n",
    "test_data['mean_word_length'] = test_data['text'].apply(lambda x: np.mean([len(w) for w in str(x).split()]))\n",
    "\n",
    "# length\n",
    "train_data['tweet_length'] = train_data['text'].apply(lambda x: len(str(x)))\n",
    "test_data['tweet_length'] = test_data['text'].apply(lambda x: len(str(x)))\n",
    "\n",
    "# punctuation_count\n",
    "train_data['punctuation_count'] = train_data['text'].apply(lambda x: len([c for c in str(x) if c in string.punctuation]))\n",
    "test_data['punctuation_count'] = test_data['text'].apply(lambda x: len([c for c in str(x) if c in string.punctuation]))\n",
    "\n",
    "# hashtag_count\n",
    "train_data['hashtag_count'] = train_data['text'].apply(lambda x: len([c for c in str(x) if c == '#']))\n",
    "test_data['hashtag_count'] = test_data['text'].apply(lambda x: len([c for c in str(x) if c == '#']))\n",
    "\n",
    "# mention_count\n",
    "train_data['mention_count'] = train_data['text'].apply(lambda x: len([c for c in str(x) if c == '@']))\n",
    "test_data['mention_count'] = test_data['text'].apply(lambda x: len([c for c in str(x) if c == '@']))\n",
    "\n",
    "#noun_count\n",
    "train_data['noun_count'] = train_data['tagged_text'].apply(count_Nouns)\n",
    "test_data['noun_count'] = test_data['tagged_text'].apply(count_Nouns)\n",
    "\n",
    "\n",
    "#verb_count\n",
    "train_data['verb_count'] = train_data['tagged_text'].apply(count_Verbs)\n",
    "test_data['verb_count'] = test_data['tagged_text'].apply(count_Verbs)\n",
    "\n",
    "#adjetives_count\n",
    "train_data['adjetives_count'] = train_data['tagged_text'].apply(count_Adjetives)\n",
    "test_data['adjetives_count'] = test_data['tagged_text'].apply(count_Adjetives)\n"
   ]
  },
  {
   "cell_type": "markdown",
   "metadata": {},
   "source": [
    "### Cargamos el modelo: Pre-trained BERT \n"
   ]
  },
  {
   "cell_type": "code",
   "execution_count": 11,
   "metadata": {},
   "outputs": [
    {
     "name": "stderr",
     "output_type": "stream",
     "text": [
      "100%|██████████| 433/433 [00:00<00:00, 166862.70B/s]\n",
      "100%|██████████| 440473133/440473133 [02:19<00:00, 3159652.46B/s]\n"
     ]
    }
   ],
   "source": [
    "#DistilBERT:\n",
    "#model_class, tokenizer_class, pretrained_weights = (ppb.DistilBertModel, ppb.DistilBertTokenizer, 'distilbert-base-uncased')\n",
    "\n",
    "#BERT: \n",
    "model_class, tokenizer_class, pretrained_weights = (ppb.BertModel, ppb.BertTokenizer, 'bert-base-uncased')\n",
    "\n",
    "# Cargo pretrained model/tokenizer\n",
    "tokenizer = tokenizer_class.from_pretrained(pretrained_weights)\n",
    "model = model_class.from_pretrained(pretrained_weights)"
   ]
  },
  {
   "cell_type": "code",
   "execution_count": 12,
   "metadata": {},
   "outputs": [],
   "source": []
  },
  {
   "cell_type": "code",
   "execution_count": 12,
   "metadata": {},
   "outputs": [],
   "source": [
    "#Usamos el tokenizador de BERT para dividir los tweets en tokens\n",
    "\n",
    "tokenized = train_data['text'].apply((lambda x: tokenizer.encode(x, add_special_tokens=True)))\n",
    "#tokenized = train_data['clean_text'].apply((lambda x: tokenizer.encode(x, add_special_tokens=True)))\n",
    "\n",
    "tokenized_test = test_data['text'].apply((lambda x: tokenizer.encode(x, add_special_tokens=True)))\n",
    "#tokenized_test = test_data['clean_text'].apply((lambda x: tokenizer.encode(x, add_special_tokens=True)))"
   ]
  },
  {
   "cell_type": "code",
   "execution_count": 13,
   "metadata": {},
   "outputs": [],
   "source": [
    "#Necesitamos que todos los vectores tengan el mismo tamaño por lo que les ponemos \n",
    "#un padding para que BERT pueda interpretarlos\n",
    "\n",
    "#TRAIN\n",
    "max_len = 0\n",
    "for i in tokenized.values:\n",
    "    if len(i) > max_len:\n",
    "        max_len = len(i)\n",
    "\n",
    "padded = np.array([i + [0]*(max_len-len(i)) for i in tokenized.values])\n",
    "\n",
    "#TEST\n",
    "max_len_test = 0\n",
    "for i in tokenized_test.values:\n",
    "    if len(i) > max_len_test:\n",
    "        max_len_test = len(i)\n",
    "\n",
    "padded_test = np.array([i + [0]*(max_len_test-len(i)) for i in tokenized_test.values])"
   ]
  },
  {
   "cell_type": "code",
   "execution_count": 14,
   "metadata": {},
   "outputs": [
    {
     "data": {
      "text/plain": [
       "(7613, 84)"
      ]
     },
     "execution_count": 14,
     "metadata": {},
     "output_type": "execute_result"
    }
   ],
   "source": [
    "np.array(padded).shape"
   ]
  },
  {
   "cell_type": "code",
   "execution_count": 15,
   "metadata": {},
   "outputs": [
    {
     "data": {
      "text/plain": [
       "(3263, 73)"
      ]
     },
     "execution_count": 15,
     "metadata": {},
     "output_type": "execute_result"
    }
   ],
   "source": [
    "np.array(padded_test).shape"
   ]
  },
  {
   "cell_type": "code",
   "execution_count": 16,
   "metadata": {},
   "outputs": [
    {
     "data": {
      "text/plain": [
       "(7613, 84)"
      ]
     },
     "execution_count": 16,
     "metadata": {},
     "output_type": "execute_result"
    }
   ],
   "source": [
    "#Si le mandamos directamente los vectores con el padding realizado BERT puede confundirse\n",
    "# Necesitamos pasarle otra variable que le diga a nuestro modelo el padding que agregamos cuando procesa el input.\n",
    "\n",
    "attention_mask = np.where(padded != 0, 1, 0)\n",
    "attention_mask.shape"
   ]
  },
  {
   "cell_type": "code",
   "execution_count": 17,
   "metadata": {},
   "outputs": [
    {
     "data": {
      "text/plain": [
       "(3263, 73)"
      ]
     },
     "execution_count": 17,
     "metadata": {},
     "output_type": "execute_result"
    }
   ],
   "source": [
    "attention_mask_test = np.where(padded_test != 0, 1, 0) \n",
    "attention_mask_test.shape"
   ]
  },
  {
   "cell_type": "code",
   "execution_count": 19,
   "metadata": {},
   "outputs": [],
   "source": [
    "#Creamos el tensor para pasarle al modelo de bert\n",
    "input_ids = torch.tensor(padded)  \n",
    "attention_mask = torch.tensor(attention_mask)\n",
    "\n",
    "with torch.no_grad():\n",
    "    last_hidden_states = model(input_ids, attention_mask=attention_mask)\n",
    "    \n",
    "#last_hidden_states es una tupla con la forma: numero de rows, mayor numero de tokens en una secuencia, \n",
    "# numero de \"hidden units\" en el modelo de BERT (en nuestro caso 768)\n"
   ]
  },
  {
   "cell_type": "code",
   "execution_count": null,
   "metadata": {},
   "outputs": [],
   "source": [
    "input_ids_test = torch.tensor(padded_test)  \n",
    "attention_mask_test = torch.tensor(attention_mask_test)\n",
    "\n",
    "with torch.no_grad():\n",
    "    last_hidden_states_test = model(input_ids_test, attention_mask=attention_mask_test)"
   ]
  },
  {
   "cell_type": "code",
   "execution_count": 52,
   "metadata": {},
   "outputs": [],
   "source": [
    "#Para clasificar los tweets solo nos interesa del output el [CLS] Token, por lo que seleccionamos la primera posición\n",
    "#de todos los tweets y nos quedamos tambien con los \"hidden unit outputs\"\n",
    "\n",
    "features = last_hidden_states[0][:,0,:].numpy()\n",
    "features_test = last_hidden_states_test[0][:,0,:].numpy()\n",
    "\n",
    "# Ahora features es un array de 2 dimensiones que contienen los embeddings de todas los tweets del data set.\n"
   ]
  },
  {
   "cell_type": "code",
   "execution_count": null,
   "metadata": {},
   "outputs": [],
   "source": []
  },
  {
   "cell_type": "code",
   "execution_count": 53,
   "metadata": {},
   "outputs": [
    {
     "data": {
      "text/plain": [
       "7613"
      ]
     },
     "execution_count": 53,
     "metadata": {},
     "output_type": "execute_result"
    }
   ],
   "source": [
    "len(features)\n"
   ]
  },
  {
   "cell_type": "code",
   "execution_count": null,
   "metadata": {},
   "outputs": [],
   "source": [
    "len(features_test)"
   ]
  },
  {
   "cell_type": "code",
   "execution_count": 54,
   "metadata": {},
   "outputs": [],
   "source": [
    "X_train, X_test, y_train, y_test = train_test_split(features, train_data['target'].values, test_size=0.20, random_state=42)"
   ]
  },
  {
   "cell_type": "markdown",
   "metadata": {},
   "source": [
    "## Red neuronal"
   ]
  },
  {
   "cell_type": "code",
   "execution_count": 43,
   "metadata": {},
   "outputs": [
    {
     "name": "stdout",
     "output_type": "stream",
     "text": [
      "Train on 6090 samples\n",
      "Epoch 1/12\n",
      "6090/6090 [==============================] - 2s 301us/sample - loss: 0.4697 - accuracy: 0.7780 - f1_m: 0.6828 - precision_m: 0.7808 - recall_m: 0.6615\n",
      "Epoch 2/12\n",
      "6090/6090 [==============================] - 1s 191us/sample - loss: 0.4232 - accuracy: 0.8087 - f1_m: 0.7247 - precision_m: 0.8342 - recall_m: 0.6846\n",
      "Epoch 3/12\n",
      "6090/6090 [==============================] - 1s 191us/sample - loss: 0.4169 - accuracy: 0.8108 - f1_m: 0.7304 - precision_m: 0.8248 - recall_m: 0.7007\n",
      "Epoch 4/12\n",
      "6090/6090 [==============================] - 1s 191us/sample - loss: 0.4105 - accuracy: 0.8174 - f1_m: 0.7359 - precision_m: 0.8354 - recall_m: 0.6984\n",
      "Epoch 5/12\n",
      "6090/6090 [==============================] - 1s 192us/sample - loss: 0.4034 - accuracy: 0.8215 - f1_m: 0.7466 - precision_m: 0.8449 - recall_m: 0.7141\n",
      "Epoch 6/12\n",
      "6090/6090 [==============================] - 1s 219us/sample - loss: 0.3983 - accuracy: 0.8222 - f1_m: 0.7438 - precision_m: 0.8483 - recall_m: 0.7058\n",
      "Epoch 7/12\n",
      "6090/6090 [==============================] - 1s 239us/sample - loss: 0.3970 - accuracy: 0.8240 - f1_m: 0.7472 - precision_m: 0.8448 - recall_m: 0.7100\n",
      "Epoch 8/12\n",
      "6090/6090 [==============================] - 1s 230us/sample - loss: 0.3935 - accuracy: 0.8240 - f1_m: 0.7419 - precision_m: 0.8520 - recall_m: 0.7040\n",
      "Epoch 9/12\n",
      "6090/6090 [==============================] - 1s 237us/sample - loss: 0.3867 - accuracy: 0.8271 - f1_m: 0.7536 - precision_m: 0.8572 - recall_m: 0.7159\n",
      "Epoch 10/12\n",
      "6090/6090 [==============================] - 1s 224us/sample - loss: 0.3823 - accuracy: 0.8291 - f1_m: 0.7573 - precision_m: 0.8627 - recall_m: 0.7186\n",
      "Epoch 11/12\n",
      "6090/6090 [==============================] - 1s 219us/sample - loss: 0.3831 - accuracy: 0.8322 - f1_m: 0.7565 - precision_m: 0.8599 - recall_m: 0.7205\n",
      "Epoch 12/12\n",
      "6090/6090 [==============================] - 1s 220us/sample - loss: 0.3777 - accuracy: 0.8302 - f1_m: 0.7550 - precision_m: 0.8592 - recall_m: 0.7172\n"
     ]
    },
    {
     "data": {
      "text/plain": [
       "<tensorflow.python.keras.callbacks.History at 0x7fae4e6c1b90>"
      ]
     },
     "execution_count": 43,
     "metadata": {},
     "output_type": "execute_result"
    }
   ],
   "source": [
    "def recall_m(y_true, y_pred):\n",
    "    true_positives = K.sum(K.round(K.clip(y_true * y_pred, 0, 1)))\n",
    "    possible_positives = K.sum(K.round(K.clip(y_true, 0, 1)))\n",
    "    recall = true_positives / (possible_positives + K.epsilon())\n",
    "    return recall\n",
    "\n",
    "def precision_m(y_true, y_pred):\n",
    "    true_positives = K.sum(K.round(K.clip(y_true * y_pred, 0, 1)))\n",
    "    predicted_positives = K.sum(K.round(K.clip(y_pred, 0, 1)))\n",
    "    precision = true_positives / (predicted_positives + K.epsilon())\n",
    "    return precision\n",
    "\n",
    "def f1_m(y_true, y_pred):\n",
    "    precision = precision_m(y_true, y_pred)\n",
    "    recall = recall_m(y_true, y_pred)\n",
    "    return 2*((precision*recall)/(precision+recall+K.epsilon()))\n",
    "\n",
    "\n",
    "# define the keras model\n",
    "model = keras.Sequential()\n",
    "model.add(keras.layers.Dense(12, input_dim=768, activation='relu'))\n",
    "#model.add(Flatten())\n",
    "model.add(keras.layers.Dense(128, activation='relu'))\n",
    "#model.add(Dropout(0.5))\n",
    "model.add(keras.layers.Dense(1, activation='sigmoid'))\n",
    "# compile the keras model\n",
    "model.compile(loss='binary_crossentropy', optimizer='adam', metrics=['accuracy',f1_m,precision_m, recall_m])\n",
    "# fit the keras model on the dataset\n",
    "model.fit(X_train, y_train, epochs=12, batch_size=10)"
   ]
  },
  {
   "cell_type": "code",
   "execution_count": 44,
   "metadata": {},
   "outputs": [
    {
     "name": "stdout",
     "output_type": "stream",
     "text": [
      "\r",
      "1523/1 [==========================================================================================================================================================================================================================================================================================================================================================================================================================================================================================================================================================================================================================================================================================================================================================================================================================================================================================================================================================================================================================================================================================================================================================================================================================================================================================================================================================================================================================================================================================================================================================================================================================================================================================================================================================================================================================================================================================================================================================================================================================================================================================================================================================================================================================================================================================================================================================================================================================================================================================================================================================================================================================================================================================================================================================================================================================================================================================================================================================================================================================================================================================================================================================================================================================================================================================================================================================================================================================================================================================================================================================================================================================================================================================================================================================================================================================================================================================================================================================================================================================================================================================================================================================================================================================================================================================================================================================================================================================================================================================================================================================================================================================================================================================================================================================================================================================================================================================================================================================================================================================================================================================================================================================================================================================================================================================================================================================================================================================================================================================================================================================================================================================================================================================================================================================================================================================================================================================================================================================================================================================================================================================================================================================================================================================================================================================================================================================================================================================================================================================================================================================================================================================================================================================================================================================================================================================================================================================================================================================================================================================================================================================================================================================================================================================================================================================================================================================================================================================================================================================================================================================================================================================================================================================================================================================================================================================================================================================================================================================================================================================================================================================================================================================================================================================================================================================================================================================================================================================================================================================================================================================================================================================================================================================================================================================================================================================================================================================================================================================================================================================================================================================================================================================================================================================================================================================================================================================================================================================================================================================================================================================================================================================================================================================================================================================================================================================================================================================================================================================================================================================================================================================================================================================================================================================================================================================================================================================================================================================================================================================================================================================================================================================================================================================================================================================================================================================================================================================================================================================================================================================================================================================================================================================================================================================================================================================================================================================================================================================================================================================================================================================================================================================================================================================================================================================================================================================================================================================================================================================================================================================================================================================================================================================================================================================================================================================================================================================================================================================================================================================================================================================================================================================================================================================================================================================================================================================================================================================================================================================================================================================================================================================================================================================================================================================================================================================================================================================================================================================================================================================================================================================================================================================================================================================================================================================================================================================================================================================================================================================================================================================================================================================================================================================================================================================================================================================================================================================================================================================================================================================================================================================================================================================================================================================================================================================================================================================================================================================================================================================================================================================================================================================================================================================================================================================================================================================================================================================================================================================================================================================================================================================================================================================================================================================================================================================================================================================================================================================================================================================================================================================================================================================================================================================================================================================================================================================================================================================================================================================================================================================================================================================================================================================================================================================================================================================================================================================================================================================================================================================================================================================================================================================================================================================================================================================================================================================================================================================================================================================================================================================================================================================================================================================================================================================================================================================================================================================================================================================================================================================================================================================================================================================================================================================================================================================================================================================================================================================================================================================================================================================================================================================================================================================================================================================================================================================================================================================================================================================================================================================================================================================================================================================================================================================================================================================================================================================================================================================================================================================================================================================================================================================================================================================================================================================================================================================================================================================================================================================================================================================================================================================================================================================================================================================================================================================================================================================================================================================================================================================================================================================================================================================================================================================================================================================================================================================================================================================================================================================================================================================================================================================================================================================================================================================================================================================================================================================================================================================================================================================================================================================================================================================================================================================================================================================================================================================================================================================================================================================================================================================================================================================================================================================================================================================================================================================================================================================================================================================================================================================================================================================================================================================================================================================================================================================================================================================================================================================================================================================================================================================================================================================================================================================================================================================================================================================================================================================================================================================================================================================================================================================================================================================================================================================================================================================================================================================================================================================================================================================================================================================================================================================================================================================================================================================================================================================================================================================================================================================================================================================================================================================================================================================================================================================================================================================================================================================================================================================================================================================================================================================================================================================================================================================================================================================================================================================================================================================================================================================================================================================================================================================================================================================================================================================================================================================================================================================================================================================================================================================================================================================================================================================================================================================================================================================================================================================================================================================================================================================================================================================================================================================================================================================================================================================================================================================================================================================================================================================================================================================================================================================================================================================================================================================================================================================================================================================================================================================================================================================================================================================================================================================================================================================================================================================================================================================================================================================================================================================================================================================================================================================================================================================================================================================================================================================================================================================================================================================================================================================================================================================================================================================================================================================================================================================================================================================================================================================================================================================================================================================================================================================================================================================================================================================================================================================================================================================================================================================================================================================================================================================================================================================================================================================================================================================================================================================================================================================================================================================================================================================================================================================================================================================================================================================================================================================================================================================================================================================================================================================================================================================================================================================================================================================================================================================================================================================================================================================================================================================================================================================================================================================================================================================================================================================================================================================================================================================================================================================================================================================================================================================================================================================================================================================================================================================================================================================================================================================================================================================================================================================================================================================================================================================================================================================================================================================================================================================================================================================================================================================================================================================================================================================================================================================================================================================================================================================================================================================================================================================================================================================================================================================================================================================================================================================================================================================================================================================================================================================================================================================================================================================================================================================================================================================================================================================================================================================================================================================================================================================================================================================================================================================================================================================================================================================================================================================================================================================================================================================================================================================================================================================================================================================================================================================================================================================================================================================================================================================================================================================================================================================================================================================================================================================================================================================================================================================================================================================================================================================================================================================================================================================================================================================================================================================================================================================================================================================================================================================================================================================================================================================================================================================================================================================================================================================================================================================================================================================================================================================================================================================================================================================================================================================================================================================================================================================================================================================================================================================================================================================================================================================================================================================================================================================================================================================================================================================================================================================================================================================================================================================================================================================================================================================================================================================================================================================================================================================================================================================================================================================================================================================================================================================================================================================================================================================================================================================================================================================================================================================================================================================================================================================================================================================================================================================================================================================================================================================================================================================================================================================================================================================================================================================================================================================================================================================================================================================================================================================================================================================================================================================================================================================================================================================================================================================================================================================================================================================================================================================================================================================================================================================================================================================================================================================================================================================================================================================================================================================================================================================================================================================================================================================================================================================================================================================================================================================================================================================================================================================================================================================================================================================================================================================================================================================================================================================================================================================================================================================================================================================================================================================================================================================================================================================================================================================================================================================================================================================================================================================================================================================================================================================================================================================================================================================================================================================================================================================================================================================================================================================================================================================================================================================================================================================================================================================================================================================================================================================================================================================================================================================================================================================================================================================================================================================================================================================================================================================================================================================================================================================================================================================================================================================================================================================================================================================================================================================================================================================================================================================================================================================================================================================================================================================================================================================================================================================================================================================================================================================================================================================================================================================================================================================================================================================================================================================================================================================================================================================================================================================================================================================================================================================================================================================================================================================================================================================================================================================================================================================================================================================================================================================================================================================================================================================================================================================================================================================================================================================================================================================================================================================================================================================================================================================================================================================================================================================================================================================================================================================================================================================================================================================================================================================================================================================================================================================================================================================================================================================================================================================================================================================================================================================================================================================================================================================================================================================================================================================================================================================================================================================================================================================================================================================================================================================================================================================================================] - 0s 207us/sample - loss: 0.4215 - accuracy: 0.8280 - f1_m: 0.7802 - precision_m: 0.8418 - recall_m: 0.7403\n"
     ]
    },
    {
     "name": "stdout",
     "output_type": "stream",
     "text": [
      "Accuracy: 82.80\n",
      "f1: 78.02\n"
     ]
    }
   ],
   "source": [
    "# evaluate the keras model\n",
    "loss, accuracy, f1_score, precision, recall = model.evaluate(X_test, y_test)\n",
    "print('Accuracy: %.2f' % (accuracy*100))\n",
    "print('f1: %.2f' % (f1_score*100))"
   ]
  },
  {
   "cell_type": "code",
   "execution_count": null,
   "metadata": {},
   "outputs": [],
   "source": [
    "predictions = model.predict_classes(features_test)"
   ]
  },
  {
   "cell_type": "code",
   "execution_count": null,
   "metadata": {},
   "outputs": [],
   "source": [
    "test_data['target'] = predictions.astype(int)\n",
    "submission = test_data.loc[:,['id','target']]\n",
    "len(submission)\n",
    "submission.to_csv(path_or_buf='submissionDEEPLEARNING+BERT.csv',header=True,index=False)"
   ]
  },
  {
   "cell_type": "code",
   "execution_count": null,
   "metadata": {},
   "outputs": [],
   "source": [
    "#Distribución de las predicciones \n",
    "\n",
    "submission['target'].value_counts()"
   ]
  },
  {
   "cell_type": "markdown",
   "metadata": {},
   "source": [
    "## XGBOOST"
   ]
  },
  {
   "cell_type": "code",
   "execution_count": null,
   "metadata": {},
   "outputs": [],
   "source": [
    "import xgboost as xgb\n",
    "\n",
    "\n",
    "clf = xgb.XGBClassifier(max_depth=200, n_estimators=400, subsample=1, learning_rate=0.07, reg_lambda=0.1, reg_alpha=0.1,\\\n",
    "                       gamma=1)\n",
    "\n",
    "clf.fit(X_train, y_train)\n",
    "\n",
    "predictions = clf.predict(X_test)"
   ]
  },
  {
   "cell_type": "code",
   "execution_count": null,
   "metadata": {},
   "outputs": [],
   "source": [
    "from sklearn.metrics import f1_score\n",
    "f1score = f1_score(y_test, predictions)\n",
    "print(f'Counts model score: {f1score*100}%')"
   ]
  },
  {
   "cell_type": "code",
   "execution_count": null,
   "metadata": {},
   "outputs": [],
   "source": [
    "predictions = clf.predict(features_test)"
   ]
  },
  {
   "cell_type": "code",
   "execution_count": null,
   "metadata": {},
   "outputs": [],
   "source": [
    "test_data['target'] = predictions.astype(int)\n",
    "submission = test_data.loc[:,['id','target']]\n",
    "len(submission)\n",
    "submission.to_csv(path_or_buf='submissionXGB+BERT.csv',header=True,index=False)"
   ]
  },
  {
   "cell_type": "code",
   "execution_count": null,
   "metadata": {},
   "outputs": [],
   "source": [
    "#Distribución de las predicciones \n",
    "submission['target'].value_counts()"
   ]
  },
  {
   "cell_type": "markdown",
   "metadata": {},
   "source": [
    "## Ensamble de modelos "
   ]
  },
  {
   "cell_type": "code",
   "execution_count": null,
   "metadata": {},
   "outputs": [],
   "source": [
    "preds_xgb = pd.read_csv('submissionXGB+BERT.csv')['target']\n",
    "preds_deep = pd.read_csv('submissionDEEPLEARNINGBERT.csv')['target']"
   ]
  },
  {
   "cell_type": "code",
   "execution_count": null,
   "metadata": {},
   "outputs": [],
   "source": [
    "avg = (preds_deep + preds_xgb)/2\n",
    "avg = (avg >= 0.5).astype(int)\n",
    "\n",
    "test_data['target'] = avg\n",
    "submission = test_data.loc[:,['id','target']]\n",
    "submission.to_csv(path_or_buf='submissionavgdeep-xgb.csv',header=True,index=False)\n"
   ]
  },
  {
   "cell_type": "code",
   "execution_count": null,
   "metadata": {},
   "outputs": [],
   "source": [
    "#Distribución de las predicciones \n",
    "\n",
    "submission['target'].value_counts()"
   ]
  }
 ],
 "metadata": {
  "kernelspec": {
   "display_name": "Python 3.7 (tensorflow)",
   "language": "python",
   "name": "tensorflow"
  },
  "language_info": {
   "codemirror_mode": {
    "name": "ipython",
    "version": 3
   },
   "file_extension": ".py",
   "mimetype": "text/x-python",
   "name": "python",
   "nbconvert_exporter": "python",
   "pygments_lexer": "ipython3",
   "version": "3.7.7"
  }
 },
 "nbformat": 4,
 "nbformat_minor": 4
}
